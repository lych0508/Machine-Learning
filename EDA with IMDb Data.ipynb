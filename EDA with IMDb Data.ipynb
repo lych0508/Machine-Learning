{
  "nbformat": 4,
  "nbformat_minor": 0,
  "metadata": {
    "colab": {
      "name": "HW2Li-Yichen.ipynb",
      "version": "0.3.2",
      "provenance": [],
      "collapsed_sections": []
    },
    "kernelspec": {
      "display_name": "Python 3",
      "language": "python",
      "name": "python3"
    }
  },
  "cells": [
    {
      "cell_type": "markdown",
      "metadata": {
        "id": "ZN3dOqS_Yiqg",
        "colab_type": "text"
      },
      "source": [
        "\n",
        "\n",
        "# HW 2: Analyzing IMDb Data\n",
        "\n",
        "---"
      ]
    },
    {
      "cell_type": "markdown",
      "metadata": {
        "id": "eiOFMQhrYiqi",
        "colab_type": "text"
      },
      "source": [
        "For project two, you will complete a serious of exercises exploring movie rating data from IMDb.\n",
        "\n",
        "For these exercises, you will be conducting basic exploratory data analysis on IMDB's movie data, looking to answer such questions as:\n",
        "\n",
        "What is the average rating per genre?\n",
        "How many different actors are in a movie?\n",
        "\n",
        "This process will help you practice your data analysis skills while becoming comfortable with Pandas."
      ]
    },
    {
      "cell_type": "markdown",
      "metadata": {
        "id": "evywzmz4brZ-",
        "colab_type": "text"
      },
      "source": [
        "The csv data can be downloaded from https://drive.google.com/open?id=12oQVUx8gGsdruEi4iJB-KFvxLt3znK-l for your offline use purpose"
      ]
    },
    {
      "cell_type": "markdown",
      "metadata": {
        "id": "O0iJJPsKYiql",
        "colab_type": "text"
      },
      "source": [
        "## Part 1"
      ]
    },
    {
      "cell_type": "code",
      "metadata": {
        "id": "ZxEcPzUOYiqn",
        "colab_type": "code",
        "colab": {}
      },
      "source": [
        "import pandas as pd\n",
        "import matplotlib.pyplot as plt\n",
        "import scipy.stats as stats\n",
        "import seaborn as sns\n",
        "import numpy as np\n",
        "import matplotlib.pyplot as plt\n",
        "\n",
        "sns.set_style('darkgrid')\n",
        "%config InlineBackend.figure_format = 'retina'\n",
        "%matplotlib inline\n",
        "\n"
      ],
      "execution_count": 0,
      "outputs": []
    },
    {
      "cell_type": "code",
      "metadata": {
        "id": "tlYBlIJqZ5E7",
        "colab_type": "code",
        "outputId": "78de9df5-b819-4c4a-f390-443fff424f8f",
        "colab": {
          "base_uri": "https://localhost:8080/",
          "height": 51
        }
      },
      "source": [
        "#1 Code to read csv file into colaboratory:\n",
        "!pip install -U -q PyDrive\n",
        "from pydrive.auth import GoogleAuth\n",
        "from pydrive.drive import GoogleDrive\n",
        "from google.colab import auth\n",
        "from oauth2client.client import GoogleCredentials\n",
        "\n",
        "# 1. Authenticate and create the PyDrive client.\n",
        "auth.authenticate_user()\n",
        "gauth = GoogleAuth()\n",
        "gauth.credentials = GoogleCredentials.get_application_default()\n",
        "drive = GoogleDrive(gauth)"
      ],
      "execution_count": 0,
      "outputs": [
        {
          "output_type": "stream",
          "text": [
            "\u001b[?25l\r\u001b[K    1% |▎                               | 10kB 21.7MB/s eta 0:00:01\r\u001b[K    2% |▋                               | 20kB 3.2MB/s eta 0:00:01\r\u001b[K    3% |█                               | 30kB 4.7MB/s eta 0:00:01\r\u001b[K    4% |█▎                              | 40kB 3.0MB/s eta 0:00:01\r\u001b[K    5% |█▋                              | 51kB 3.6MB/s eta 0:00:01\r\u001b[K    6% |██                              | 61kB 4.3MB/s eta 0:00:01\r\u001b[K    7% |██▎                             | 71kB 4.9MB/s eta 0:00:01\r\u001b[K    8% |██▋                             | 81kB 5.5MB/s eta 0:00:01\r\u001b[K    9% |███                             | 92kB 6.1MB/s eta 0:00:01\r\u001b[K    10% |███▎                            | 102kB 4.8MB/s eta 0:00:01\r\u001b[K    11% |███▋                            | 112kB 4.9MB/s eta 0:00:01\r\u001b[K    12% |████                            | 122kB 6.6MB/s eta 0:00:01\r\u001b[K    13% |████▎                           | 133kB 6.6MB/s eta 0:00:01\r\u001b[K    14% |████▋                           | 143kB 12.2MB/s eta 0:00:01\r\u001b[K    15% |█████                           | 153kB 12.3MB/s eta 0:00:01\r\u001b[K    16% |█████▎                          | 163kB 12.3MB/s eta 0:00:01\r\u001b[K    17% |█████▋                          | 174kB 12.3MB/s eta 0:00:01\r\u001b[K    18% |██████                          | 184kB 12.4MB/s eta 0:00:01\r\u001b[K    19% |██████▎                         | 194kB 12.4MB/s eta 0:00:01\r\u001b[K    20% |██████▋                         | 204kB 41.5MB/s eta 0:00:01\r\u001b[K    21% |███████                         | 215kB 14.4MB/s eta 0:00:01\r\u001b[K    22% |███████▎                        | 225kB 14.2MB/s eta 0:00:01\r\u001b[K    23% |███████▋                        | 235kB 14.4MB/s eta 0:00:01\r\u001b[K    24% |████████                        | 245kB 14.3MB/s eta 0:00:01\r\u001b[K    25% |████████▎                       | 256kB 14.3MB/s eta 0:00:01\r\u001b[K    26% |████████▋                       | 266kB 13.8MB/s eta 0:00:01\r\u001b[K    27% |█████████                       | 276kB 14.1MB/s eta 0:00:01\r\u001b[K    29% |█████████▎                      | 286kB 14.1MB/s eta 0:00:01\r\u001b[K    30% |█████████▋                      | 296kB 14.0MB/s eta 0:00:01\r\u001b[K    31% |██████████                      | 307kB 14.6MB/s eta 0:00:01\r\u001b[K    32% |██████████▎                     | 317kB 46.2MB/s eta 0:00:01\r\u001b[K    33% |██████████▋                     | 327kB 48.8MB/s eta 0:00:01\r\u001b[K    34% |███████████                     | 337kB 49.3MB/s eta 0:00:01\r\u001b[K    35% |███████████▎                    | 348kB 44.4MB/s eta 0:00:01\r\u001b[K    36% |███████████▋                    | 358kB 45.0MB/s eta 0:00:01\r\u001b[K    37% |████████████                    | 368kB 51.3MB/s eta 0:00:01\r\u001b[K    38% |████████████▎                   | 378kB 51.5MB/s eta 0:00:01\r\u001b[K    39% |████████████▋                   | 389kB 52.7MB/s eta 0:00:01\r\u001b[K    40% |█████████████                   | 399kB 18.2MB/s eta 0:00:01\r\u001b[K    41% |█████████████▎                  | 409kB 17.9MB/s eta 0:00:01\r\u001b[K    42% |█████████████▋                  | 419kB 17.8MB/s eta 0:00:01\r\u001b[K    43% |██████████████                  | 430kB 17.6MB/s eta 0:00:01\r\u001b[K    44% |██████████████▎                 | 440kB 17.6MB/s eta 0:00:01\r\u001b[K    45% |██████████████▋                 | 450kB 18.1MB/s eta 0:00:01\r\u001b[K    46% |███████████████                 | 460kB 18.0MB/s eta 0:00:01\r\u001b[K    47% |███████████████▎                | 471kB 18.0MB/s eta 0:00:01\r\u001b[K    48% |███████████████▋                | 481kB 18.0MB/s eta 0:00:01\r\u001b[K    49% |████████████████                | 491kB 18.0MB/s eta 0:00:01\r\u001b[K    50% |████████████████▎               | 501kB 52.0MB/s eta 0:00:01\r\u001b[K    51% |████████████████▋               | 512kB 50.3MB/s eta 0:00:01\r\u001b[K    52% |█████████████████               | 522kB 51.4MB/s eta 0:00:01\r\u001b[K    53% |█████████████████▎              | 532kB 53.9MB/s eta 0:00:01\r\u001b[K    54% |█████████████████▋              | 542kB 53.8MB/s eta 0:00:01\r\u001b[K    55% |██████████████████              | 552kB 58.8MB/s eta 0:00:01\r\u001b[K    57% |██████████████████▎             | 563kB 59.4MB/s eta 0:00:01\r\u001b[K    58% |██████████████████▋             | 573kB 57.9MB/s eta 0:00:01\r\u001b[K    59% |███████████████████             | 583kB 57.1MB/s eta 0:00:01\r\u001b[K    60% |███████████████████▎            | 593kB 56.2MB/s eta 0:00:01\r\u001b[K    61% |███████████████████▋            | 604kB 56.1MB/s eta 0:00:01\r\u001b[K    62% |████████████████████            | 614kB 61.9MB/s eta 0:00:01\r\u001b[K    63% |████████████████████▎           | 624kB 62.2MB/s eta 0:00:01\r\u001b[K    64% |████████████████████▋           | 634kB 62.0MB/s eta 0:00:01\r\u001b[K    65% |█████████████████████           | 645kB 61.0MB/s eta 0:00:01\r\u001b[K    66% |█████████████████████▎          | 655kB 59.5MB/s eta 0:00:01\r\u001b[K    67% |█████████████████████▋          | 665kB 45.3MB/s eta 0:00:01\r\u001b[K    68% |██████████████████████          | 675kB 25.2MB/s eta 0:00:01\r\u001b[K    69% |██████████████████████▎         | 686kB 24.2MB/s eta 0:00:01\r\u001b[K    70% |██████████████████████▋         | 696kB 24.0MB/s eta 0:00:01\r\u001b[K    71% |███████████████████████         | 706kB 23.7MB/s eta 0:00:01\r\u001b[K    72% |███████████████████████▎        | 716kB 23.7MB/s eta 0:00:01\r\u001b[K    73% |███████████████████████▋        | 727kB 23.7MB/s eta 0:00:01\r\u001b[K    74% |████████████████████████        | 737kB 23.7MB/s eta 0:00:01\r\u001b[K    75% |████████████████████████▎       | 747kB 23.8MB/s eta 0:00:01\r\u001b[K    76% |████████████████████████▋       | 757kB 23.8MB/s eta 0:00:01\r\u001b[K    77% |████████████████████████▉       | 768kB 27.2MB/s eta 0:00:01\r\u001b[K    78% |█████████████████████████▏      | 778kB 52.1MB/s eta 0:00:01\r\u001b[K    79% |█████████████████████████▌      | 788kB 56.0MB/s eta 0:00:01\r\u001b[K    80% |█████████████████████████▉      | 798kB 57.2MB/s eta 0:00:01\r\u001b[K    81% |██████████████████████████▏     | 808kB 58.0MB/s eta 0:00:01\r\u001b[K    82% |██████████████████████████▌     | 819kB 57.9MB/s eta 0:00:01\r\u001b[K    83% |██████████████████████████▉     | 829kB 59.0MB/s eta 0:00:01\r\u001b[K    85% |███████████████████████████▏    | 839kB 58.7MB/s eta 0:00:01\r\u001b[K    86% |███████████████████████████▌    | 849kB 58.1MB/s eta 0:00:01\r\u001b[K    87% |███████████████████████████▉    | 860kB 51.3MB/s eta 0:00:01\r\u001b[K    88% |████████████████████████████▏   | 870kB 51.2MB/s eta 0:00:01\r\u001b[K    89% |████████████████████████████▌   | 880kB 52.8MB/s eta 0:00:01\r\u001b[K    90% |████████████████████████████▉   | 890kB 54.0MB/s eta 0:00:01\r\u001b[K    91% |█████████████████████████████▏  | 901kB 54.1MB/s eta 0:00:01\r\u001b[K    92% |█████████████████████████████▌  | 911kB 54.5MB/s eta 0:00:01\r\u001b[K    93% |█████████████████████████████▉  | 921kB 54.9MB/s eta 0:00:01\r\u001b[K    94% |██████████████████████████████▏ | 931kB 55.2MB/s eta 0:00:01\r\u001b[K    95% |██████████████████████████████▌ | 942kB 55.7MB/s eta 0:00:01\r\u001b[K    96% |██████████████████████████████▉ | 952kB 54.6MB/s eta 0:00:01\r\u001b[K    97% |███████████████████████████████▏| 962kB 63.3MB/s eta 0:00:01\r\u001b[K    98% |███████████████████████████████▌| 972kB 63.4MB/s eta 0:00:01\r\u001b[K    99% |███████████████████████████████▉| 983kB 62.3MB/s eta 0:00:01\r\u001b[K    100% |████████████████████████████████| 993kB 20.1MB/s \n",
            "\u001b[?25h  Building wheel for PyDrive (setup.py) ... \u001b[?25ldone\n",
            "\u001b[?25h"
          ],
          "name": "stdout"
        }
      ]
    },
    {
      "cell_type": "code",
      "metadata": {
        "id": "1zVBMWX7Z564",
        "colab_type": "code",
        "colab": {}
      },
      "source": [
        "#2. Get the file\n",
        "#make sure you upload all your data files to your Google drive and change share->Advanced->change->anyone with the link can view\n",
        "downloaded = drive.CreateFile({'id':'12oQVUx8gGsdruEi4iJB-KFvxLt3znK-l'}) # replace the id with id of file you want to access\n",
        "downloaded.GetContentFile('imdb_1000.csv') "
      ],
      "execution_count": 0,
      "outputs": []
    },
    {
      "cell_type": "markdown",
      "metadata": {
        "id": "4XGbDoh0Yiqu",
        "colab_type": "text"
      },
      "source": [
        "#### Read in 'imdb_1000.csv' and store it in a DataFrame named movies."
      ]
    },
    {
      "cell_type": "code",
      "metadata": {
        "id": "SMeS0mAnYiqw",
        "colab_type": "code",
        "outputId": "e0c6385f-5526-45d7-ea33-a107c67a2f8a",
        "colab": {
          "base_uri": "https://localhost:8080/",
          "height": 204
        }
      },
      "source": [
        "movies = pd.read_csv('imdb_1000.csv')\n",
        "movies.head()"
      ],
      "execution_count": 0,
      "outputs": [
        {
          "output_type": "execute_result",
          "data": {
            "text/html": [
              "<div>\n",
              "<style scoped>\n",
              "    .dataframe tbody tr th:only-of-type {\n",
              "        vertical-align: middle;\n",
              "    }\n",
              "\n",
              "    .dataframe tbody tr th {\n",
              "        vertical-align: top;\n",
              "    }\n",
              "\n",
              "    .dataframe thead th {\n",
              "        text-align: right;\n",
              "    }\n",
              "</style>\n",
              "<table border=\"1\" class=\"dataframe\">\n",
              "  <thead>\n",
              "    <tr style=\"text-align: right;\">\n",
              "      <th></th>\n",
              "      <th>star_rating</th>\n",
              "      <th>title</th>\n",
              "      <th>content_rating</th>\n",
              "      <th>genre</th>\n",
              "      <th>duration</th>\n",
              "      <th>actors_list</th>\n",
              "    </tr>\n",
              "  </thead>\n",
              "  <tbody>\n",
              "    <tr>\n",
              "      <th>0</th>\n",
              "      <td>9.3</td>\n",
              "      <td>The Shawshank Redemption</td>\n",
              "      <td>R</td>\n",
              "      <td>Crime</td>\n",
              "      <td>142</td>\n",
              "      <td>[u'Tim Robbins', u'Morgan Freeman', u'Bob Gunt...</td>\n",
              "    </tr>\n",
              "    <tr>\n",
              "      <th>1</th>\n",
              "      <td>9.2</td>\n",
              "      <td>The Godfather</td>\n",
              "      <td>R</td>\n",
              "      <td>Crime</td>\n",
              "      <td>175</td>\n",
              "      <td>[u'Marlon Brando', u'Al Pacino', u'James Caan']</td>\n",
              "    </tr>\n",
              "    <tr>\n",
              "      <th>2</th>\n",
              "      <td>9.1</td>\n",
              "      <td>The Godfather: Part II</td>\n",
              "      <td>R</td>\n",
              "      <td>Crime</td>\n",
              "      <td>200</td>\n",
              "      <td>[u'Al Pacino', u'Robert De Niro', u'Robert Duv...</td>\n",
              "    </tr>\n",
              "    <tr>\n",
              "      <th>3</th>\n",
              "      <td>9.0</td>\n",
              "      <td>The Dark Knight</td>\n",
              "      <td>PG-13</td>\n",
              "      <td>Action</td>\n",
              "      <td>152</td>\n",
              "      <td>[u'Christian Bale', u'Heath Ledger', u'Aaron E...</td>\n",
              "    </tr>\n",
              "    <tr>\n",
              "      <th>4</th>\n",
              "      <td>8.9</td>\n",
              "      <td>Pulp Fiction</td>\n",
              "      <td>R</td>\n",
              "      <td>Crime</td>\n",
              "      <td>154</td>\n",
              "      <td>[u'John Travolta', u'Uma Thurman', u'Samuel L....</td>\n",
              "    </tr>\n",
              "  </tbody>\n",
              "</table>\n",
              "</div>"
            ],
            "text/plain": [
              "   star_rating                     title content_rating   genre  duration  \\\n",
              "0          9.3  The Shawshank Redemption              R   Crime       142   \n",
              "1          9.2             The Godfather              R   Crime       175   \n",
              "2          9.1    The Godfather: Part II              R   Crime       200   \n",
              "3          9.0           The Dark Knight          PG-13  Action       152   \n",
              "4          8.9              Pulp Fiction              R   Crime       154   \n",
              "\n",
              "                                         actors_list  \n",
              "0  [u'Tim Robbins', u'Morgan Freeman', u'Bob Gunt...  \n",
              "1    [u'Marlon Brando', u'Al Pacino', u'James Caan']  \n",
              "2  [u'Al Pacino', u'Robert De Niro', u'Robert Duv...  \n",
              "3  [u'Christian Bale', u'Heath Ledger', u'Aaron E...  \n",
              "4  [u'John Travolta', u'Uma Thurman', u'Samuel L....  "
            ]
          },
          "metadata": {
            "tags": []
          },
          "execution_count": 4
        }
      ]
    },
    {
      "cell_type": "code",
      "metadata": {
        "id": "pQpCfxjZQ2AJ",
        "colab_type": "code",
        "outputId": "a48265f7-a30a-4219-e47b-338021741f2d",
        "colab": {
          "base_uri": "https://localhost:8080/",
          "height": 204
        }
      },
      "source": [
        "movies.info()"
      ],
      "execution_count": 0,
      "outputs": [
        {
          "output_type": "stream",
          "text": [
            "<class 'pandas.core.frame.DataFrame'>\n",
            "RangeIndex: 979 entries, 0 to 978\n",
            "Data columns (total 6 columns):\n",
            "star_rating       979 non-null float64\n",
            "title             979 non-null object\n",
            "content_rating    979 non-null object\n",
            "genre             979 non-null object\n",
            "duration          979 non-null int64\n",
            "actors_list       979 non-null object\n",
            "dtypes: float64(1), int64(1), object(4)\n",
            "memory usage: 46.0+ KB\n"
          ],
          "name": "stdout"
        }
      ]
    },
    {
      "cell_type": "code",
      "metadata": {
        "id": "EbFW8RgXS8UR",
        "colab_type": "code",
        "outputId": "a27143d5-07c0-42fc-e208-8d306d5103ee",
        "colab": {
          "base_uri": "https://localhost:8080/",
          "height": 80
        }
      },
      "source": [
        "movies.iloc[1:2,1:3]"
      ],
      "execution_count": 0,
      "outputs": [
        {
          "output_type": "execute_result",
          "data": {
            "text/html": [
              "<div>\n",
              "<style scoped>\n",
              "    .dataframe tbody tr th:only-of-type {\n",
              "        vertical-align: middle;\n",
              "    }\n",
              "\n",
              "    .dataframe tbody tr th {\n",
              "        vertical-align: top;\n",
              "    }\n",
              "\n",
              "    .dataframe thead th {\n",
              "        text-align: right;\n",
              "    }\n",
              "</style>\n",
              "<table border=\"1\" class=\"dataframe\">\n",
              "  <thead>\n",
              "    <tr style=\"text-align: right;\">\n",
              "      <th></th>\n",
              "      <th>title</th>\n",
              "      <th>content_rating</th>\n",
              "    </tr>\n",
              "  </thead>\n",
              "  <tbody>\n",
              "    <tr>\n",
              "      <th>1</th>\n",
              "      <td>The Godfather</td>\n",
              "      <td>R</td>\n",
              "    </tr>\n",
              "  </tbody>\n",
              "</table>\n",
              "</div>"
            ],
            "text/plain": [
              "           title content_rating\n",
              "1  The Godfather              R"
            ]
          },
          "metadata": {
            "tags": []
          },
          "execution_count": 42
        }
      ]
    },
    {
      "cell_type": "code",
      "metadata": {
        "id": "LuYkV-rXU2fj",
        "colab_type": "code",
        "outputId": "49192a72-ac83-4261-9378-26c83cb80ed9",
        "colab": {
          "base_uri": "https://localhost:8080/",
          "height": 1071
        }
      },
      "source": [
        "movies.loc[:,'title']"
      ],
      "execution_count": 0,
      "outputs": [
        {
          "output_type": "execute_result",
          "data": {
            "text/plain": [
              "0                               The Shawshank Redemption\n",
              "1                                          The Godfather\n",
              "2                                 The Godfather: Part II\n",
              "3                                        The Dark Knight\n",
              "4                                           Pulp Fiction\n",
              "5                                           12 Angry Men\n",
              "6                         The Good, the Bad and the Ugly\n",
              "7          The Lord of the Rings: The Return of the King\n",
              "8                                       Schindler's List\n",
              "9                                             Fight Club\n",
              "10     The Lord of the Rings: The Fellowship of the Ring\n",
              "11                                             Inception\n",
              "12        Star Wars: Episode V - The Empire Strikes Back\n",
              "13                                          Forrest Gump\n",
              "14                 The Lord of the Rings: The Two Towers\n",
              "15                                          Interstellar\n",
              "16                       One Flew Over the Cuckoo's Nest\n",
              "17                                         Seven Samurai\n",
              "18                                            Goodfellas\n",
              "19                                             Star Wars\n",
              "20                                            The Matrix\n",
              "21                                           City of God\n",
              "22                                 It's a Wonderful Life\n",
              "23                                    The Usual Suspects\n",
              "24                                                 Se7en\n",
              "25                                     Life Is Beautiful\n",
              "26                          Once Upon a Time in the West\n",
              "27                              The Silence of the Lambs\n",
              "28                                Leon: The Professional\n",
              "29                                           City Lights\n",
              "                             ...                        \n",
              "949                                           Home Alone\n",
              "950                                                Bound\n",
              "951                                        Sleepy Hollow\n",
              "952                                         Pirate Radio\n",
              "953                                The NeverEnding Story\n",
              "954                                                X-Men\n",
              "955                                     Zero Dark Thirty\n",
              "956                             Manhattan Murder Mystery\n",
              "957                          National Lampoon's Vacation\n",
              "958                                   My Sister's Keeper\n",
              "959                                 Deconstructing Harry\n",
              "960                                     The Way Way Back\n",
              "961                                               Capote\n",
              "962                                   Driving Miss Daisy\n",
              "963                                      La Femme Nikita\n",
              "964                                              Lincoln\n",
              "965                                            Limitless\n",
              "966                                   The Simpsons Movie\n",
              "967                                             The Rock\n",
              "968                                  The English Patient\n",
              "969                                  Law Abiding Citizen\n",
              "970                                          Wonder Boys\n",
              "971                                   Death at a Funeral\n",
              "972                                       Blue Valentine\n",
              "973                                The Cider House Rules\n",
              "974                                              Tootsie\n",
              "975                          Back to the Future Part III\n",
              "976      Master and Commander: The Far Side of the World\n",
              "977                                          Poltergeist\n",
              "978                                          Wall Street\n",
              "Name: title, Length: 979, dtype: object"
            ]
          },
          "metadata": {
            "tags": []
          },
          "execution_count": 48
        }
      ]
    },
    {
      "cell_type": "markdown",
      "metadata": {
        "id": "bt_YG5t2Yiq3",
        "colab_type": "text"
      },
      "source": [
        "#### Check the number of rows and columns."
      ]
    },
    {
      "cell_type": "code",
      "metadata": {
        "id": "QaRrROi2Yiq5",
        "colab_type": "code",
        "outputId": "d060e02b-f9f5-4eaf-c1e6-58cbaca4b4e6",
        "colab": {
          "base_uri": "https://localhost:8080/",
          "height": 34
        }
      },
      "source": [
        "# Answer:\n",
        "movies.shape"
      ],
      "execution_count": 0,
      "outputs": [
        {
          "output_type": "execute_result",
          "data": {
            "text/plain": [
              "(979, 6)"
            ]
          },
          "metadata": {
            "tags": []
          },
          "execution_count": 5
        }
      ]
    },
    {
      "cell_type": "markdown",
      "metadata": {
        "id": "QI-5ZNRZYiq_",
        "colab_type": "text"
      },
      "source": [
        "#### Check the data type of each column."
      ]
    },
    {
      "cell_type": "code",
      "metadata": {
        "id": "8OcFfpDGYirA",
        "colab_type": "code",
        "outputId": "3757300f-3820-4a33-a6a0-d67d464581b5",
        "colab": {
          "base_uri": "https://localhost:8080/",
          "height": 136
        }
      },
      "source": [
        "# Answer:\n",
        "movies.dtypes"
      ],
      "execution_count": 0,
      "outputs": [
        {
          "output_type": "execute_result",
          "data": {
            "text/plain": [
              "star_rating       float64\n",
              "title              object\n",
              "content_rating     object\n",
              "genre              object\n",
              "duration            int64\n",
              "actors_list        object\n",
              "dtype: object"
            ]
          },
          "metadata": {
            "tags": []
          },
          "execution_count": 6
        }
      ]
    },
    {
      "cell_type": "markdown",
      "metadata": {
        "id": "XM4tTDGgYirG",
        "colab_type": "text"
      },
      "source": [
        "#### Calculate the average movie duration."
      ]
    },
    {
      "cell_type": "code",
      "metadata": {
        "id": "6wR0wQypYirH",
        "colab_type": "code",
        "outputId": "4144956f-ede8-4243-f629-8fd45adb6255",
        "colab": {
          "base_uri": "https://localhost:8080/",
          "height": 34
        }
      },
      "source": [
        "# Answer:\n",
        "movies['duration'].mean()"
      ],
      "execution_count": 0,
      "outputs": [
        {
          "output_type": "execute_result",
          "data": {
            "text/plain": [
              "120.97957099080695"
            ]
          },
          "metadata": {
            "tags": []
          },
          "execution_count": 7
        }
      ]
    },
    {
      "cell_type": "markdown",
      "metadata": {
        "id": "P7E8jto5YirN",
        "colab_type": "text"
      },
      "source": [
        "#### Sort the DataFrame by duration to find the shortest and longest movies."
      ]
    },
    {
      "cell_type": "code",
      "metadata": {
        "id": "BKYAHPQyYirT",
        "colab_type": "code",
        "outputId": "70ee0a66-4229-413a-b3b0-0fbb4b7f26c6",
        "colab": {
          "base_uri": "https://localhost:8080/",
          "height": 190
        }
      },
      "source": [
        "# Answer:\n",
        "longest_index = movies.duration.argmin() # or dataframe.column.idxmax()\n",
        "movies.iloc[longest_index]\n"
      ],
      "execution_count": 0,
      "outputs": [
        {
          "output_type": "stream",
          "text": [
            "/usr/local/lib/python3.6/dist-packages/ipykernel_launcher.py:1: FutureWarning: 'argmin' is deprecated. Use 'idxmin' instead. The behavior of 'argmin' will be corrected to return the positional minimum in the future. Use 'series.values.argmin' to get the position of the minimum now.\n",
            "  \"\"\"Entry point for launching an IPython kernel.\n"
          ],
          "name": "stderr"
        },
        {
          "output_type": "execute_result",
          "data": {
            "text/plain": [
              "star_rating                                                       8\n",
              "title                                                        Freaks\n",
              "content_rating                                              UNRATED\n",
              "genre                                                         Drama\n",
              "duration                                                         64\n",
              "actors_list       [u'Wallace Ford', u'Leila Hyams', u'Olga Bacla...\n",
              "Name: 389, dtype: object"
            ]
          },
          "metadata": {
            "tags": []
          },
          "execution_count": 50
        }
      ]
    },
    {
      "cell_type": "code",
      "metadata": {
        "id": "OEcpFbeBOIiu",
        "colab_type": "code",
        "outputId": "75d41e74-4e94-4d13-cf35-6d3ae4c43b4f",
        "colab": {
          "base_uri": "https://localhost:8080/",
          "height": 190
        }
      },
      "source": [
        "longest_index = movies.duration.argmax() \n",
        "movies.iloc[longest_index]"
      ],
      "execution_count": 0,
      "outputs": [
        {
          "output_type": "stream",
          "text": [
            "/usr/local/lib/python3.6/dist-packages/ipykernel_launcher.py:1: FutureWarning: 'argmax' is deprecated. Use 'idxmax' instead. The behavior of 'argmax' will be corrected to return the positional maximum in the future. Use 'series.values.argmax' to get the position of the maximum now.\n",
            "  \"\"\"Entry point for launching an IPython kernel.\n"
          ],
          "name": "stderr"
        },
        {
          "output_type": "execute_result",
          "data": {
            "text/plain": [
              "star_rating                                                     7.8\n",
              "title                                                        Hamlet\n",
              "content_rating                                                PG-13\n",
              "genre                                                         Drama\n",
              "duration                                                        242\n",
              "actors_list       [u'Kenneth Branagh', u'Julie Christie', u'Dere...\n",
              "Name: 476, dtype: object"
            ]
          },
          "metadata": {
            "tags": []
          },
          "execution_count": 9
        }
      ]
    },
    {
      "cell_type": "markdown",
      "metadata": {
        "id": "dH8rYbcfYirb",
        "colab_type": "text"
      },
      "source": [
        "#### Create a histogram of duration, choosing an \"appropriate\" number of bins."
      ]
    },
    {
      "cell_type": "code",
      "metadata": {
        "id": "064QKOVfYire",
        "colab_type": "code",
        "outputId": "1acaef70-8cc1-40a6-b286-5a0c263f2206",
        "colab": {
          "base_uri": "https://localhost:8080/",
          "height": 282
        }
      },
      "source": [
        "# Answer:\n",
        "#20 bins for 1000 numbers\n",
        "movies.duration.hist(bins=20)"
      ],
      "execution_count": 0,
      "outputs": [
        {
          "output_type": "execute_result",
          "data": {
            "text/plain": [
              "<matplotlib.axes._subplots.AxesSubplot at 0x7f7b697db2e8>"
            ]
          },
          "metadata": {
            "tags": []
          },
          "execution_count": 10
        },
        {
          "output_type": "display_data",
          "data": {
            "image/png": "[encoded data removed]",
            "text/plain": [
              "<Figure size 432x288 with 1 Axes>"
            ]
          },
          "metadata": {
            "tags": [],
            "image/png": {
              "width": 379,
              "height": 248
            }
          }
        }
      ]
    },
    {
      "cell_type": "markdown",
      "metadata": {
        "id": "LuHaMK26Yirl",
        "colab_type": "text"
      },
      "source": [
        "#### Use a box plot to display that same data."
      ]
    },
    {
      "cell_type": "code",
      "metadata": {
        "id": "u5LtAvdIYirm",
        "colab_type": "code",
        "outputId": "f26ffa7d-0c0f-4631-9c68-5c0ff4fedf1a",
        "colab": {
          "base_uri": "https://localhost:8080/",
          "height": 285
        }
      },
      "source": [
        "# Answer:\n",
        "\n",
        "movies.duration.plot(kind='box')"
      ],
      "execution_count": 0,
      "outputs": [
        {
          "output_type": "execute_result",
          "data": {
            "text/plain": [
              "<matplotlib.axes._subplots.AxesSubplot at 0x7f7b696f5f60>"
            ]
          },
          "metadata": {
            "tags": []
          },
          "execution_count": 11
        },
        {
          "output_type": "display_data",
          "data": {
            "image/png": "[encoded data removed]",
            "text/plain": [
              "<Figure size 432x288 with 1 Axes>"
            ]
          },
          "metadata": {
            "tags": [],
            "image/png": {
              "width": 372,
              "height": 251
            }
          }
        }
      ]
    },
    {
      "cell_type": "markdown",
      "metadata": {
        "id": "CQ02aIjoYirq",
        "colab_type": "text"
      },
      "source": [
        "## Part 2"
      ]
    },
    {
      "cell_type": "markdown",
      "metadata": {
        "id": "5Gzfx9IPYirs",
        "colab_type": "text"
      },
      "source": [
        "#### Count how many movies have each of the content ratings."
      ]
    },
    {
      "cell_type": "code",
      "metadata": {
        "id": "81BeJBTXYirt",
        "colab_type": "code",
        "outputId": "22e54164-82e9-4bcb-ebcd-ed9bda4ca69e",
        "colab": {
          "base_uri": "https://localhost:8080/",
          "height": 238
        }
      },
      "source": [
        "# Answer:\n",
        "movies['content_rating'].value_counts()"
      ],
      "execution_count": 0,
      "outputs": [
        {
          "output_type": "execute_result",
          "data": {
            "text/plain": [
              "R            460\n",
              "PG-13        189\n",
              "PG           123\n",
              "NOT RATED     65\n",
              "APPROVED      47\n",
              "UNRATED       38\n",
              "G             32\n",
              "NC-17          7\n",
              "PASSED         7\n",
              "X              4\n",
              "GP             3\n",
              "TV-MA          1\n",
              "Name: content_rating, dtype: int64"
            ]
          },
          "metadata": {
            "tags": []
          },
          "execution_count": 12
        }
      ]
    },
    {
      "cell_type": "markdown",
      "metadata": {
        "id": "WH6SKpmQYiry",
        "colab_type": "text"
      },
      "source": [
        "#### Use a visualization to display that same data, including a title and x and y labels."
      ]
    },
    {
      "cell_type": "code",
      "metadata": {
        "id": "Dpycq14rYir0",
        "colab_type": "code",
        "outputId": "776531d6-8332-449f-c820-9809f2fa6c35",
        "colab": {
          "base_uri": "https://localhost:8080/",
          "height": 359
        }
      },
      "source": [
        "# Answer:\n",
        "content_rating_count=movies['content_rating'].value_counts()\n",
        "content_rating=content_rating_count.plot(kind='bar', title='content rating')\n",
        "content_rating.set_xlabel(\"content rating\")\n",
        "content_rating.set_ylabel(\"Total Numbers\")"
      ],
      "execution_count": 0,
      "outputs": [
        {
          "output_type": "execute_result",
          "data": {
            "text/plain": [
              "Text(0, 0.5, 'Total Numbers')"
            ]
          },
          "metadata": {
            "tags": []
          },
          "execution_count": 13
        },
        {
          "output_type": "display_data",
          "data": {
            "image/png": "[encoded data removed]",
            "text/plain": [
              "<Figure size 432x288 with 1 Axes>"
            ]
          },
          "metadata": {
            "tags": [],
            "image/png": {
              "width": 387,
              "height": 325
            }
          }
        }
      ]
    },
    {
      "cell_type": "markdown",
      "metadata": {
        "id": "1x8vQD_QYir4",
        "colab_type": "text"
      },
      "source": [
        "#### Convert the following content ratings to \"UNRATED\": NOT RATED, APPROVED, PASSED, GP."
      ]
    },
    {
      "cell_type": "code",
      "metadata": {
        "id": "j5HkOPsLYir5",
        "colab_type": "code",
        "outputId": "68c98979-41be-4f88-c25d-4f52670473b5",
        "colab": {
          "base_uri": "https://localhost:8080/",
          "height": 170
        }
      },
      "source": [
        "# Answer:\n",
        "movies.replace({'NOT RATED':'UNRATED','APPROVED':'UNRATED','PASSED':'UNRATED','GP':'UNRATED'}, inplace=True)\n",
        "movies['content_rating'].value_counts()"
      ],
      "execution_count": 0,
      "outputs": [
        {
          "output_type": "execute_result",
          "data": {
            "text/plain": [
              "R          460\n",
              "PG-13      189\n",
              "UNRATED    160\n",
              "PG         123\n",
              "G           32\n",
              "NC-17        7\n",
              "X            4\n",
              "TV-MA        1\n",
              "Name: content_rating, dtype: int64"
            ]
          },
          "metadata": {
            "tags": []
          },
          "execution_count": 14
        }
      ]
    },
    {
      "cell_type": "markdown",
      "metadata": {
        "id": "kFCIiwbAYir-",
        "colab_type": "text"
      },
      "source": [
        "#### Convert the following content ratings to \"NC-17\": X, TV-MA."
      ]
    },
    {
      "cell_type": "code",
      "metadata": {
        "id": "nI7W0y6nYisA",
        "colab_type": "code",
        "outputId": "7701380a-bf63-4f48-f89d-6b2f363628a7",
        "colab": {
          "base_uri": "https://localhost:8080/",
          "height": 136
        }
      },
      "source": [
        "# Answer:\n",
        "movies.replace({'X':'NC-17','TV-MA':'NC-17'},inplace=True)\n",
        "movies['content_rating'].value_counts()"
      ],
      "execution_count": 0,
      "outputs": [
        {
          "output_type": "execute_result",
          "data": {
            "text/plain": [
              "R          460\n",
              "PG-13      189\n",
              "UNRATED    160\n",
              "PG         123\n",
              "G           32\n",
              "NC-17       12\n",
              "Name: content_rating, dtype: int64"
            ]
          },
          "metadata": {
            "tags": []
          },
          "execution_count": 15
        }
      ]
    },
    {
      "cell_type": "markdown",
      "metadata": {
        "id": "aGDFNU7OYisF",
        "colab_type": "text"
      },
      "source": [
        "#### Count the number of missing values in each column."
      ]
    },
    {
      "cell_type": "code",
      "metadata": {
        "id": "Kzid35PcYisH",
        "colab_type": "code",
        "outputId": "d8818a4b-b797-42e8-88cd-fe09cf996da9",
        "colab": {
          "base_uri": "https://localhost:8080/",
          "height": 136
        }
      },
      "source": [
        "# Answer:\n",
        "movies.isnull().sum()"
      ],
      "execution_count": 0,
      "outputs": [
        {
          "output_type": "execute_result",
          "data": {
            "text/plain": [
              "star_rating       0\n",
              "title             0\n",
              "content_rating    3\n",
              "genre             0\n",
              "duration          0\n",
              "actors_list       0\n",
              "dtype: int64"
            ]
          },
          "metadata": {
            "tags": []
          },
          "execution_count": 16
        }
      ]
    },
    {
      "cell_type": "markdown",
      "metadata": {
        "id": "i0Q_A-2bYisV",
        "colab_type": "text"
      },
      "source": [
        "#### If there are missing values: examine them, then fill them in with \"reasonable\" values."
      ]
    },
    {
      "cell_type": "code",
      "metadata": {
        "id": "WH_fng5PYisX",
        "colab_type": "code",
        "colab": {}
      },
      "source": [
        "# Answer:\n",
        "#First, I find the three movies which content_rating is null\n",
        "movies[movies.content_rating.isnull()]\n",
        "movies.content_rating.fillna('UNRATED', inplace=True)"
      ],
      "execution_count": 0,
      "outputs": []
    },
    {
      "cell_type": "code",
      "metadata": {
        "id": "-b1BdzkRwxZ5",
        "colab_type": "code",
        "outputId": "0c4552a5-81e6-47e2-eb28-505c8cf8d219",
        "colab": {
          "base_uri": "https://localhost:8080/",
          "height": 136
        }
      },
      "source": [
        "#I use .ilo to check if the missing value is updated \n",
        "movies.iloc[187]"
      ],
      "execution_count": 0,
      "outputs": [
        {
          "output_type": "execute_result",
          "data": {
            "text/plain": [
              "star_rating                                                     8.2\n",
              "title                            Butch Cassidy and the Sundance Kid\n",
              "content_rating                                              UNRATED\n",
              "genre                                                     Biography\n",
              "duration                                                        110\n",
              "actors_list       [u'Paul Newman', u'Robert Redford', u'Katharin...\n",
              "Name: 187, dtype: object"
            ]
          },
          "metadata": {
            "tags": []
          },
          "execution_count": 18
        }
      ]
    },
    {
      "cell_type": "code",
      "metadata": {
        "id": "yznsN4HPwxp-",
        "colab_type": "code",
        "outputId": "24511da3-26aa-4f93-bcad-f82262c28b87",
        "colab": {
          "base_uri": "https://localhost:8080/",
          "height": 136
        }
      },
      "source": [
        "movies.iloc[649]"
      ],
      "execution_count": 0,
      "outputs": [
        {
          "output_type": "execute_result",
          "data": {
            "text/plain": [
              "star_rating                                                     7.7\n",
              "title                                             Where Eagles Dare\n",
              "content_rating                                              UNRATED\n",
              "genre                                                        Action\n",
              "duration                                                        158\n",
              "actors_list       [u'Richard Burton', u'Clint Eastwood', u'Mary ...\n",
              "Name: 649, dtype: object"
            ]
          },
          "metadata": {
            "tags": []
          },
          "execution_count": 19
        }
      ]
    },
    {
      "cell_type": "code",
      "metadata": {
        "id": "YPYhp7nxwx2G",
        "colab_type": "code",
        "outputId": "262a9a63-ee43-4d8e-9704-e2cf6268cc9a",
        "colab": {
          "base_uri": "https://localhost:8080/",
          "height": 136
        }
      },
      "source": [
        "movies.iloc[936]"
      ],
      "execution_count": 0,
      "outputs": [
        {
          "output_type": "execute_result",
          "data": {
            "text/plain": [
              "star_rating                                                   7.4\n",
              "title                                                   True Grit\n",
              "content_rating                                            UNRATED\n",
              "genre                                                   Adventure\n",
              "duration                                                      128\n",
              "actors_list       [u'John Wayne', u'Kim Darby', u'Glen Campbell']\n",
              "Name: 936, dtype: object"
            ]
          },
          "metadata": {
            "tags": []
          },
          "execution_count": 20
        }
      ]
    },
    {
      "cell_type": "markdown",
      "metadata": {
        "id": "eR4R_o7zYisd",
        "colab_type": "text"
      },
      "source": [
        "#### Calculate the average star rating for movies 2 hours or longer, and compare that with the average star rating for movies shorter than 2 hours."
      ]
    },
    {
      "cell_type": "code",
      "metadata": {
        "id": "U6QhE3yGOyYs",
        "colab_type": "code",
        "outputId": "7a5eb346-3e5b-47c7-ba6a-7a1f6758df17",
        "colab": {
          "base_uri": "https://localhost:8080/",
          "height": 111
        }
      },
      "source": [
        "movies.head(2)"
      ],
      "execution_count": 0,
      "outputs": [
        {
          "output_type": "execute_result",
          "data": {
            "text/html": [
              "<div>\n",
              "<style scoped>\n",
              "    .dataframe tbody tr th:only-of-type {\n",
              "        vertical-align: middle;\n",
              "    }\n",
              "\n",
              "    .dataframe tbody tr th {\n",
              "        vertical-align: top;\n",
              "    }\n",
              "\n",
              "    .dataframe thead th {\n",
              "        text-align: right;\n",
              "    }\n",
              "</style>\n",
              "<table border=\"1\" class=\"dataframe\">\n",
              "  <thead>\n",
              "    <tr style=\"text-align: right;\">\n",
              "      <th></th>\n",
              "      <th>star_rating</th>\n",
              "      <th>title</th>\n",
              "      <th>content_rating</th>\n",
              "      <th>genre</th>\n",
              "      <th>duration</th>\n",
              "      <th>actors_list</th>\n",
              "    </tr>\n",
              "  </thead>\n",
              "  <tbody>\n",
              "    <tr>\n",
              "      <th>0</th>\n",
              "      <td>9.3</td>\n",
              "      <td>The Shawshank Redemption</td>\n",
              "      <td>R</td>\n",
              "      <td>Crime</td>\n",
              "      <td>142</td>\n",
              "      <td>[u'Tim Robbins', u'Morgan Freeman', u'Bob Gunt...</td>\n",
              "    </tr>\n",
              "    <tr>\n",
              "      <th>1</th>\n",
              "      <td>9.2</td>\n",
              "      <td>The Godfather</td>\n",
              "      <td>R</td>\n",
              "      <td>Crime</td>\n",
              "      <td>175</td>\n",
              "      <td>[u'Marlon Brando', u'Al Pacino', u'James Caan']</td>\n",
              "    </tr>\n",
              "  </tbody>\n",
              "</table>\n",
              "</div>"
            ],
            "text/plain": [
              "   star_rating                     title content_rating  genre  duration  \\\n",
              "0          9.3  The Shawshank Redemption              R  Crime       142   \n",
              "1          9.2             The Godfather              R  Crime       175   \n",
              "\n",
              "                                         actors_list  \n",
              "0  [u'Tim Robbins', u'Morgan Freeman', u'Bob Gunt...  \n",
              "1    [u'Marlon Brando', u'Al Pacino', u'James Caan']  "
            ]
          },
          "metadata": {
            "tags": []
          },
          "execution_count": 21
        }
      ]
    },
    {
      "cell_type": "code",
      "metadata": {
        "id": "_B-Q3YHKYisf",
        "colab_type": "code",
        "outputId": "8c7e193a-f696-4ff9-a5b0-a7f1f38c872e",
        "colab": {
          "base_uri": "https://localhost:8080/",
          "height": 34
        }
      },
      "source": [
        "# Answer:\n",
        "movies[movies.duration>=120].star_rating.mean()\n"
      ],
      "execution_count": 0,
      "outputs": [
        {
          "output_type": "execute_result",
          "data": {
            "text/plain": [
              "7.948898678414082"
            ]
          },
          "metadata": {
            "tags": []
          },
          "execution_count": 22
        }
      ]
    },
    {
      "cell_type": "code",
      "metadata": {
        "id": "O67EK5hg6ZYU",
        "colab_type": "code",
        "outputId": "d497e3de-5b0f-4ced-8c1e-5ef9d3b33e90",
        "colab": {
          "base_uri": "https://localhost:8080/",
          "height": 34
        }
      },
      "source": [
        "movies[movies.duration<120].star_rating.mean()"
      ],
      "execution_count": 0,
      "outputs": [
        {
          "output_type": "execute_result",
          "data": {
            "text/plain": [
              "7.838666666666657"
            ]
          },
          "metadata": {
            "tags": []
          },
          "execution_count": 23
        }
      ]
    },
    {
      "cell_type": "markdown",
      "metadata": {
        "id": "ZUnHNptCYisj",
        "colab_type": "text"
      },
      "source": [
        "#### Use a visualization to detect whether there is a relationship between duration and star rating."
      ]
    },
    {
      "cell_type": "code",
      "metadata": {
        "id": "074B3BBaYisl",
        "colab_type": "code",
        "outputId": "3f98ea12-896f-437e-e616-657436768deb",
        "colab": {
          "base_uri": "https://localhost:8080/",
          "height": 282
        }
      },
      "source": [
        "# Answer\n",
        "sns.heatmap(movies[['duration','star_rating']].corr())"
      ],
      "execution_count": 0,
      "outputs": [
        {
          "output_type": "execute_result",
          "data": {
            "text/plain": [
              "<matplotlib.axes._subplots.AxesSubplot at 0x7f7b6733f048>"
            ]
          },
          "metadata": {
            "tags": []
          },
          "execution_count": 24
        },
        {
          "output_type": "display_data",
          "data": {
            "image/png": "[encoded data removed]",
            "text/plain": [
              "<Figure size 432x288 with 2 Axes>"
            ]
          },
          "metadata": {
            "tags": [],
            "image/png": {
              "width": 352,
              "height": 248
            }
          }
        }
      ]
    },
    {
      "cell_type": "markdown",
      "metadata": {
        "id": "cnoiIGWmYisq",
        "colab_type": "text"
      },
      "source": [
        "#### Calculate the average duration for each genre."
      ]
    },
    {
      "cell_type": "code",
      "metadata": {
        "id": "qeZ7suYUYisr",
        "colab_type": "code",
        "outputId": "edd7369a-0765-425b-b50e-3bbd153c2e1d",
        "colab": {
          "base_uri": "https://localhost:8080/",
          "height": 323
        }
      },
      "source": [
        "# Answer:\n",
        "movies.groupby('genre').duration.mean()"
      ],
      "execution_count": 0,
      "outputs": [
        {
          "output_type": "execute_result",
          "data": {
            "text/plain": [
              "genre\n",
              "Action       126.485294\n",
              "Adventure    134.840000\n",
              "Animation     96.596774\n",
              "Biography    131.844156\n",
              "Comedy       107.602564\n",
              "Crime        122.298387\n",
              "Drama        126.539568\n",
              "Family       107.500000\n",
              "Fantasy      112.000000\n",
              "Film-Noir     97.333333\n",
              "History       66.000000\n",
              "Horror       102.517241\n",
              "Mystery      115.625000\n",
              "Sci-Fi       109.000000\n",
              "Thriller     114.200000\n",
              "Western      136.666667\n",
              "Name: duration, dtype: float64"
            ]
          },
          "metadata": {
            "tags": []
          },
          "execution_count": 25
        }
      ]
    },
    {
      "cell_type": "markdown",
      "metadata": {
        "id": "wiDs-fnxYisy",
        "colab_type": "text"
      },
      "source": [
        "## Part 3"
      ]
    },
    {
      "cell_type": "markdown",
      "metadata": {
        "id": "r0Y61PEdYis0",
        "colab_type": "text"
      },
      "source": [
        "#### Visualize the relationship between content rating and duration."
      ]
    },
    {
      "cell_type": "code",
      "metadata": {
        "id": "CK19qLKeYis3",
        "colab_type": "code",
        "outputId": "1003348f-1696-471d-fc15-3792c1b06ee2",
        "colab": {
          "base_uri": "https://localhost:8080/",
          "height": 488
        }
      },
      "source": [
        "# Answer:\n",
        "movies.boxplot(column='duration', by='content_rating')\n",
        "movies.head()"
      ],
      "execution_count": 0,
      "outputs": [
        {
          "output_type": "execute_result",
          "data": {
            "text/html": [
              "<div>\n",
              "<style scoped>\n",
              "    .dataframe tbody tr th:only-of-type {\n",
              "        vertical-align: middle;\n",
              "    }\n",
              "\n",
              "    .dataframe tbody tr th {\n",
              "        vertical-align: top;\n",
              "    }\n",
              "\n",
              "    .dataframe thead th {\n",
              "        text-align: right;\n",
              "    }\n",
              "</style>\n",
              "<table border=\"1\" class=\"dataframe\">\n",
              "  <thead>\n",
              "    <tr style=\"text-align: right;\">\n",
              "      <th></th>\n",
              "      <th>star_rating</th>\n",
              "      <th>title</th>\n",
              "      <th>content_rating</th>\n",
              "      <th>genre</th>\n",
              "      <th>duration</th>\n",
              "      <th>actors_list</th>\n",
              "    </tr>\n",
              "  </thead>\n",
              "  <tbody>\n",
              "    <tr>\n",
              "      <th>0</th>\n",
              "      <td>9.3</td>\n",
              "      <td>The Shawshank Redemption</td>\n",
              "      <td>R</td>\n",
              "      <td>Crime</td>\n",
              "      <td>142</td>\n",
              "      <td>[u'Tim Robbins', u'Morgan Freeman', u'Bob Gunt...</td>\n",
              "    </tr>\n",
              "    <tr>\n",
              "      <th>1</th>\n",
              "      <td>9.2</td>\n",
              "      <td>The Godfather</td>\n",
              "      <td>R</td>\n",
              "      <td>Crime</td>\n",
              "      <td>175</td>\n",
              "      <td>[u'Marlon Brando', u'Al Pacino', u'James Caan']</td>\n",
              "    </tr>\n",
              "    <tr>\n",
              "      <th>2</th>\n",
              "      <td>9.1</td>\n",
              "      <td>The Godfather: Part II</td>\n",
              "      <td>R</td>\n",
              "      <td>Crime</td>\n",
              "      <td>200</td>\n",
              "      <td>[u'Al Pacino', u'Robert De Niro', u'Robert Duv...</td>\n",
              "    </tr>\n",
              "    <tr>\n",
              "      <th>3</th>\n",
              "      <td>9.0</td>\n",
              "      <td>The Dark Knight</td>\n",
              "      <td>PG-13</td>\n",
              "      <td>Action</td>\n",
              "      <td>152</td>\n",
              "      <td>[u'Christian Bale', u'Heath Ledger', u'Aaron E...</td>\n",
              "    </tr>\n",
              "    <tr>\n",
              "      <th>4</th>\n",
              "      <td>8.9</td>\n",
              "      <td>Pulp Fiction</td>\n",
              "      <td>R</td>\n",
              "      <td>Crime</td>\n",
              "      <td>154</td>\n",
              "      <td>[u'John Travolta', u'Uma Thurman', u'Samuel L....</td>\n",
              "    </tr>\n",
              "  </tbody>\n",
              "</table>\n",
              "</div>"
            ],
            "text/plain": [
              "   star_rating                     title content_rating   genre  duration  \\\n",
              "0          9.3  The Shawshank Redemption              R   Crime       142   \n",
              "1          9.2             The Godfather              R   Crime       175   \n",
              "2          9.1    The Godfather: Part II              R   Crime       200   \n",
              "3          9.0           The Dark Knight          PG-13  Action       152   \n",
              "4          8.9              Pulp Fiction              R   Crime       154   \n",
              "\n",
              "                                         actors_list  \n",
              "0  [u'Tim Robbins', u'Morgan Freeman', u'Bob Gunt...  \n",
              "1    [u'Marlon Brando', u'Al Pacino', u'James Caan']  \n",
              "2  [u'Al Pacino', u'Robert De Niro', u'Robert Duv...  \n",
              "3  [u'Christian Bale', u'Heath Ledger', u'Aaron E...  \n",
              "4  [u'John Travolta', u'Uma Thurman', u'Samuel L....  "
            ]
          },
          "metadata": {
            "tags": []
          },
          "execution_count": 26
        },
        {
          "output_type": "display_data",
          "data": {
            "image/png": "[encoded data removed]",
            "text/plain": [
              "<Figure size 432x288 with 1 Axes>"
            ]
          },
          "metadata": {
            "tags": [],
            "image/png": {
              "width": 383,
              "height": 284
            }
          }
        }
      ]
    },
    {
      "cell_type": "markdown",
      "metadata": {
        "id": "y6Y0Zhv2Yis_",
        "colab_type": "text"
      },
      "source": [
        "#### Determine the top rated movie (by star rating) for each genre."
      ]
    },
    {
      "cell_type": "code",
      "metadata": {
        "id": "CMddj3HWYitA",
        "colab_type": "code",
        "outputId": "07894277-89b2-4e1d-df96-966234200924",
        "colab": {
          "base_uri": "https://localhost:8080/",
          "height": 323
        }
      },
      "source": [
        "# Answer:\n",
        "movies.sort_values('star_rating', ascending=False).groupby('genre').title.first()"
      ],
      "execution_count": 0,
      "outputs": [
        {
          "output_type": "execute_result",
          "data": {
            "text/plain": [
              "genre\n",
              "Action                                     The Dark Knight\n",
              "Adventure    The Lord of the Rings: The Return of the King\n",
              "Animation                                    Spirited Away\n",
              "Biography                                 Schindler's List\n",
              "Comedy                                        Modern Times\n",
              "Crime                             The Shawshank Redemption\n",
              "Drama                                         12 Angry Men\n",
              "Family                          E.T. the Extra-Terrestrial\n",
              "Fantasy                          The City of Lost Children\n",
              "Film-Noir                                    The Third Man\n",
              "History                                Battleship Potemkin\n",
              "Horror                                              Psycho\n",
              "Mystery                                        Rear Window\n",
              "Sci-Fi                                        Blade Runner\n",
              "Thriller                                 Shadow of a Doubt\n",
              "Western                     The Good, the Bad and the Ugly\n",
              "Name: title, dtype: object"
            ]
          },
          "metadata": {
            "tags": []
          },
          "execution_count": 27
        }
      ]
    },
    {
      "cell_type": "markdown",
      "metadata": {
        "id": "FBbofnNuYitE",
        "colab_type": "text"
      },
      "source": [
        "#### Check if there are multiple movies with the same title, and if so, determine if they are actually duplicates."
      ]
    },
    {
      "cell_type": "code",
      "metadata": {
        "id": "jz92U13EYitF",
        "colab_type": "code",
        "outputId": "988d477e-59d3-4fa3-a861-7abf137fd17b",
        "colab": {
          "base_uri": "https://localhost:8080/",
          "height": 297
        }
      },
      "source": [
        "# Answer:\n",
        "#find the movies with dupulicated title \n",
        "dupli_titles=movies[movies.duplicated('title')].title\n",
        "#check if they are actually duplicates\n",
        "movies[movies.title.isin(dupli_titles)]"
      ],
      "execution_count": 0,
      "outputs": [
        {
          "output_type": "execute_result",
          "data": {
            "text/html": [
              "<div>\n",
              "<style scoped>\n",
              "    .dataframe tbody tr th:only-of-type {\n",
              "        vertical-align: middle;\n",
              "    }\n",
              "\n",
              "    .dataframe tbody tr th {\n",
              "        vertical-align: top;\n",
              "    }\n",
              "\n",
              "    .dataframe thead th {\n",
              "        text-align: right;\n",
              "    }\n",
              "</style>\n",
              "<table border=\"1\" class=\"dataframe\">\n",
              "  <thead>\n",
              "    <tr style=\"text-align: right;\">\n",
              "      <th></th>\n",
              "      <th>star_rating</th>\n",
              "      <th>title</th>\n",
              "      <th>content_rating</th>\n",
              "      <th>genre</th>\n",
              "      <th>duration</th>\n",
              "      <th>actors_list</th>\n",
              "    </tr>\n",
              "  </thead>\n",
              "  <tbody>\n",
              "    <tr>\n",
              "      <th>466</th>\n",
              "      <td>7.9</td>\n",
              "      <td>The Girl with the Dragon Tattoo</td>\n",
              "      <td>R</td>\n",
              "      <td>Crime</td>\n",
              "      <td>158</td>\n",
              "      <td>[u'Daniel Craig', u'Rooney Mara', u'Christophe...</td>\n",
              "    </tr>\n",
              "    <tr>\n",
              "      <th>482</th>\n",
              "      <td>7.8</td>\n",
              "      <td>The Girl with the Dragon Tattoo</td>\n",
              "      <td>R</td>\n",
              "      <td>Crime</td>\n",
              "      <td>152</td>\n",
              "      <td>[u'Michael Nyqvist', u'Noomi Rapace', u'Ewa Fr...</td>\n",
              "    </tr>\n",
              "    <tr>\n",
              "      <th>662</th>\n",
              "      <td>7.7</td>\n",
              "      <td>True Grit</td>\n",
              "      <td>PG-13</td>\n",
              "      <td>Adventure</td>\n",
              "      <td>110</td>\n",
              "      <td>[u'Jeff Bridges', u'Matt Damon', u'Hailee Stei...</td>\n",
              "    </tr>\n",
              "    <tr>\n",
              "      <th>678</th>\n",
              "      <td>7.7</td>\n",
              "      <td>Les Miserables</td>\n",
              "      <td>PG-13</td>\n",
              "      <td>Drama</td>\n",
              "      <td>158</td>\n",
              "      <td>[u'Hugh Jackman', u'Russell Crowe', u'Anne Hat...</td>\n",
              "    </tr>\n",
              "    <tr>\n",
              "      <th>703</th>\n",
              "      <td>7.6</td>\n",
              "      <td>Dracula</td>\n",
              "      <td>UNRATED</td>\n",
              "      <td>Horror</td>\n",
              "      <td>85</td>\n",
              "      <td>[u'Bela Lugosi', u'Helen Chandler', u'David Ma...</td>\n",
              "    </tr>\n",
              "    <tr>\n",
              "      <th>905</th>\n",
              "      <td>7.5</td>\n",
              "      <td>Dracula</td>\n",
              "      <td>R</td>\n",
              "      <td>Horror</td>\n",
              "      <td>128</td>\n",
              "      <td>[u'Gary Oldman', u'Winona Ryder', u'Anthony Ho...</td>\n",
              "    </tr>\n",
              "    <tr>\n",
              "      <th>924</th>\n",
              "      <td>7.5</td>\n",
              "      <td>Les Miserables</td>\n",
              "      <td>PG-13</td>\n",
              "      <td>Crime</td>\n",
              "      <td>134</td>\n",
              "      <td>[u'Liam Neeson', u'Geoffrey Rush', u'Uma Thurm...</td>\n",
              "    </tr>\n",
              "    <tr>\n",
              "      <th>936</th>\n",
              "      <td>7.4</td>\n",
              "      <td>True Grit</td>\n",
              "      <td>UNRATED</td>\n",
              "      <td>Adventure</td>\n",
              "      <td>128</td>\n",
              "      <td>[u'John Wayne', u'Kim Darby', u'Glen Campbell']</td>\n",
              "    </tr>\n",
              "  </tbody>\n",
              "</table>\n",
              "</div>"
            ],
            "text/plain": [
              "     star_rating                            title content_rating      genre  \\\n",
              "466          7.9  The Girl with the Dragon Tattoo              R      Crime   \n",
              "482          7.8  The Girl with the Dragon Tattoo              R      Crime   \n",
              "662          7.7                        True Grit          PG-13  Adventure   \n",
              "678          7.7                   Les Miserables          PG-13      Drama   \n",
              "703          7.6                          Dracula        UNRATED     Horror   \n",
              "905          7.5                          Dracula              R     Horror   \n",
              "924          7.5                   Les Miserables          PG-13      Crime   \n",
              "936          7.4                        True Grit        UNRATED  Adventure   \n",
              "\n",
              "     duration                                        actors_list  \n",
              "466       158  [u'Daniel Craig', u'Rooney Mara', u'Christophe...  \n",
              "482       152  [u'Michael Nyqvist', u'Noomi Rapace', u'Ewa Fr...  \n",
              "662       110  [u'Jeff Bridges', u'Matt Damon', u'Hailee Stei...  \n",
              "678       158  [u'Hugh Jackman', u'Russell Crowe', u'Anne Hat...  \n",
              "703        85  [u'Bela Lugosi', u'Helen Chandler', u'David Ma...  \n",
              "905       128  [u'Gary Oldman', u'Winona Ryder', u'Anthony Ho...  \n",
              "924       134  [u'Liam Neeson', u'Geoffrey Rush', u'Uma Thurm...  \n",
              "936       128    [u'John Wayne', u'Kim Darby', u'Glen Campbell']  "
            ]
          },
          "metadata": {
            "tags": []
          },
          "execution_count": 28
        }
      ]
    },
    {
      "cell_type": "markdown",
      "metadata": {
        "id": "-kAtf7-9YitJ",
        "colab_type": "text"
      },
      "source": [
        "#### Calculate the average star rating for each genre, but only include genres with at least 10 movies\n"
      ]
    },
    {
      "cell_type": "markdown",
      "metadata": {
        "id": "mKnozXvsYitK",
        "colab_type": "text"
      },
      "source": [
        "#### Option 1: manually create a list of relevant genres, then filter using that list"
      ]
    },
    {
      "cell_type": "code",
      "metadata": {
        "id": "XxmqcBFRYitL",
        "colab_type": "code",
        "outputId": "0c331193-b54c-43db-dabf-a3fde20bff3d",
        "colab": {
          "base_uri": "https://localhost:8080/",
          "height": 204
        }
      },
      "source": [
        "# Answer:\n",
        "#count the number of movies by genre\n",
        "movies.genre.value_counts()\n",
        "#manually create a list of genres with at least 10 movies\n",
        "Top_genres = ['Drama', 'Comedy', 'Action', 'Crime', 'Biography', 'Adventure', 'Animation', 'Horror', 'Mystery']\n",
        "#find the movies which are in Top_genres list. Group them by genre. Then find the star rating mean.\n",
        "movies[movies.genre.isin(Top_genres)].groupby('genre').star_rating.mean()"
      ],
      "execution_count": 0,
      "outputs": [
        {
          "output_type": "execute_result",
          "data": {
            "text/plain": [
              "genre\n",
              "Action       7.884559\n",
              "Adventure    7.933333\n",
              "Animation    7.914516\n",
              "Biography    7.862338\n",
              "Comedy       7.822436\n",
              "Crime        7.916935\n",
              "Drama        7.902518\n",
              "Horror       7.806897\n",
              "Mystery      7.975000\n",
              "Name: star_rating, dtype: float64"
            ]
          },
          "metadata": {
            "tags": []
          },
          "execution_count": 29
        }
      ]
    },
    {
      "cell_type": "markdown",
      "metadata": {
        "id": "80SKmOflYitP",
        "colab_type": "text"
      },
      "source": [
        "#### Option 2: automatically create a list of relevant genres by saving the value_counts and then filtering"
      ]
    },
    {
      "cell_type": "code",
      "metadata": {
        "id": "Y-dgM5zKYitR",
        "colab_type": "code",
        "outputId": "17808764-e886-4b01-cb34-7089a2710d46",
        "colab": {
          "base_uri": "https://localhost:8080/",
          "height": 204
        }
      },
      "source": [
        "# Answer:\n",
        "#count the number of movies by genre\n",
        "genre_counts = movies.genre.value_counts()\n",
        "#automatically create a list of relevant genres using index\n",
        "top_genres = genre_counts[genre_counts >= 10].index\n",
        "#find the movies which are in Top_genres list. Group them by genre. Then find the star rating mean.\n",
        "movies[movies.genre.isin(top_genres)].groupby('genre').star_rating.mean()\n"
      ],
      "execution_count": 0,
      "outputs": [
        {
          "output_type": "execute_result",
          "data": {
            "text/plain": [
              "genre\n",
              "Action       7.884559\n",
              "Adventure    7.933333\n",
              "Animation    7.914516\n",
              "Biography    7.862338\n",
              "Comedy       7.822436\n",
              "Crime        7.916935\n",
              "Drama        7.902518\n",
              "Horror       7.806897\n",
              "Mystery      7.975000\n",
              "Name: star_rating, dtype: float64"
            ]
          },
          "metadata": {
            "tags": []
          },
          "execution_count": 30
        }
      ]
    },
    {
      "cell_type": "markdown",
      "metadata": {
        "id": "4eBYGJgmYitU",
        "colab_type": "text"
      },
      "source": [
        "#### Option 3: calculate the average star rating for all genres, then filter using a boolean Series"
      ]
    },
    {
      "cell_type": "code",
      "metadata": {
        "id": "M0WjHr28YitW",
        "colab_type": "code",
        "outputId": "4160361a-cdfc-4bcd-d006-5b6b0a68184a",
        "colab": {
          "base_uri": "https://localhost:8080/",
          "height": 204
        }
      },
      "source": [
        "# Answer:\n",
        "\n",
        "movies.groupby('genre').star_rating.mean()[movies.genre.value_counts() >= 10]"
      ],
      "execution_count": 0,
      "outputs": [
        {
          "output_type": "execute_result",
          "data": {
            "text/plain": [
              "genre\n",
              "Action       7.884559\n",
              "Adventure    7.933333\n",
              "Animation    7.914516\n",
              "Biography    7.862338\n",
              "Comedy       7.822436\n",
              "Crime        7.916935\n",
              "Drama        7.902518\n",
              "Horror       7.806897\n",
              "Mystery      7.975000\n",
              "Name: star_rating, dtype: float64"
            ]
          },
          "metadata": {
            "tags": []
          },
          "execution_count": 31
        }
      ]
    },
    {
      "cell_type": "markdown",
      "metadata": {
        "id": "Gs0i-u13YitZ",
        "colab_type": "text"
      },
      "source": [
        "#### Option 4: aggregate by count and mean, then filter using the count"
      ]
    },
    {
      "cell_type": "code",
      "metadata": {
        "id": "Xo_pVaBlYitb",
        "colab_type": "code",
        "outputId": "cc062f80-9ee4-4ca3-c374-a7304f1b568f",
        "colab": {
          "base_uri": "https://localhost:8080/",
          "height": 359
        }
      },
      "source": [
        "# Answer:\n",
        "#calculate the mean and count\n",
        "genre_ratings = movies.groupby('genre').star_rating.agg(['count', 'mean'])\n",
        "#filter the count\n",
        "genre_ratings[genre_ratings['count'] >= 10]"
      ],
      "execution_count": 0,
      "outputs": [
        {
          "output_type": "execute_result",
          "data": {
            "text/html": [
              "<div>\n",
              "<style scoped>\n",
              "    .dataframe tbody tr th:only-of-type {\n",
              "        vertical-align: middle;\n",
              "    }\n",
              "\n",
              "    .dataframe tbody tr th {\n",
              "        vertical-align: top;\n",
              "    }\n",
              "\n",
              "    .dataframe thead th {\n",
              "        text-align: right;\n",
              "    }\n",
              "</style>\n",
              "<table border=\"1\" class=\"dataframe\">\n",
              "  <thead>\n",
              "    <tr style=\"text-align: right;\">\n",
              "      <th></th>\n",
              "      <th>count</th>\n",
              "      <th>mean</th>\n",
              "    </tr>\n",
              "    <tr>\n",
              "      <th>genre</th>\n",
              "      <th></th>\n",
              "      <th></th>\n",
              "    </tr>\n",
              "  </thead>\n",
              "  <tbody>\n",
              "    <tr>\n",
              "      <th>Action</th>\n",
              "      <td>136</td>\n",
              "      <td>7.884559</td>\n",
              "    </tr>\n",
              "    <tr>\n",
              "      <th>Adventure</th>\n",
              "      <td>75</td>\n",
              "      <td>7.933333</td>\n",
              "    </tr>\n",
              "    <tr>\n",
              "      <th>Animation</th>\n",
              "      <td>62</td>\n",
              "      <td>7.914516</td>\n",
              "    </tr>\n",
              "    <tr>\n",
              "      <th>Biography</th>\n",
              "      <td>77</td>\n",
              "      <td>7.862338</td>\n",
              "    </tr>\n",
              "    <tr>\n",
              "      <th>Comedy</th>\n",
              "      <td>156</td>\n",
              "      <td>7.822436</td>\n",
              "    </tr>\n",
              "    <tr>\n",
              "      <th>Crime</th>\n",
              "      <td>124</td>\n",
              "      <td>7.916935</td>\n",
              "    </tr>\n",
              "    <tr>\n",
              "      <th>Drama</th>\n",
              "      <td>278</td>\n",
              "      <td>7.902518</td>\n",
              "    </tr>\n",
              "    <tr>\n",
              "      <th>Horror</th>\n",
              "      <td>29</td>\n",
              "      <td>7.806897</td>\n",
              "    </tr>\n",
              "    <tr>\n",
              "      <th>Mystery</th>\n",
              "      <td>16</td>\n",
              "      <td>7.975000</td>\n",
              "    </tr>\n",
              "  </tbody>\n",
              "</table>\n",
              "</div>"
            ],
            "text/plain": [
              "           count      mean\n",
              "genre                     \n",
              "Action       136  7.884559\n",
              "Adventure     75  7.933333\n",
              "Animation     62  7.914516\n",
              "Biography     77  7.862338\n",
              "Comedy       156  7.822436\n",
              "Crime        124  7.916935\n",
              "Drama        278  7.902518\n",
              "Horror        29  7.806897\n",
              "Mystery       16  7.975000"
            ]
          },
          "metadata": {
            "tags": []
          },
          "execution_count": 32
        }
      ]
    },
    {
      "cell_type": "markdown",
      "metadata": {
        "id": "r4sm_BuHYitf",
        "colab_type": "text"
      },
      "source": [
        "## Bonus"
      ]
    },
    {
      "cell_type": "markdown",
      "metadata": {
        "id": "HzWm7dMCYitg",
        "colab_type": "text"
      },
      "source": [
        "#### Figure out something \"interesting\" using the actors data!"
      ]
    },
    {
      "cell_type": "code",
      "metadata": {
        "id": "9k6nvvHRYith",
        "colab_type": "code",
        "outputId": "b8268393-8f68-46ea-b1fb-761730454e71",
        "colab": {
          "base_uri": "https://localhost:8080/",
          "height": 17034
        }
      },
      "source": [
        "#Find how many movies are performed by each actor\n",
        "#clean the data\n",
        "def clean(string):\n",
        "    return string.replace(\"[\",\"\").replace(\"]\",\"\").replace(\"u'\",\"\").replace(\"',\",\",\")[:-1]\n",
        "#Apply that function to every entry    \n",
        "movies_series = movies['actors_list'].apply(clean)\n",
        "#Declare a list to store the split values\n",
        "actors_list = []\n",
        "for movie_actors in movies_series:\n",
        "    actors_list.append([e.strip() for e in movie_actors.split(',')])\n",
        "#Declare a dictionary and see if the actor name key exist and then count accordingly.\n",
        "actor_dict = {}\n",
        "for actor in actors_list:\n",
        "    for a in actor:\n",
        "      #if the actor's name is in the dictionary, the counting number plus 1\n",
        "        if a in actor_dict:\n",
        "            actor_dict[a] +=1\n",
        "      #if the actor's name is not in the dictionary, the counting number shows 1\n",
        "        else:\n",
        "            actor_dict[a] = 1\n",
        "\n",
        "actor_dict"
      ],
      "execution_count": 0,
      "outputs": [
        {
          "output_type": "execute_result",
          "data": {
            "text/plain": [
              "{'Tim Robbins': 5,\n",
              " 'Morgan Freeman': 8,\n",
              " 'Bob Gunton': 1,\n",
              " 'Marlon Brando': 4,\n",
              " 'Al Pacino': 13,\n",
              " 'James Caan': 2,\n",
              " 'Robert De Niro': 18,\n",
              " 'Robert Duvall': 7,\n",
              " 'Christian Bale': 11,\n",
              " 'Heath Ledger': 2,\n",
              " 'Aaron Eckhart': 2,\n",
              " 'John Travolta': 1,\n",
              " 'Uma Thurman': 5,\n",
              " 'Samuel L. Jackson': 6,\n",
              " 'Henry Fonda': 3,\n",
              " 'Lee J. Cobb': 2,\n",
              " 'Martin Balsam': 1,\n",
              " 'Clint Eastwood': 14,\n",
              " 'Eli Wallach': 1,\n",
              " 'Lee Van Cleef': 2,\n",
              " 'Elijah Wood': 5,\n",
              " 'Viggo Mortensen': 4,\n",
              " 'Ian McKellen': 8,\n",
              " 'Liam Neeson': 5,\n",
              " 'Ralph Fiennes': 7,\n",
              " 'Ben Kingsley': 4,\n",
              " 'Brad Pitt': 14,\n",
              " 'Edward Norton': 7,\n",
              " 'Helena Bonham Carter': 4,\n",
              " 'Orlando Bloom': 2,\n",
              " 'Leonardo DiCaprio': 11,\n",
              " 'Joseph Gordon-Levitt': 6,\n",
              " 'Ellen Page': 2,\n",
              " 'Mark Hamill': 3,\n",
              " 'Harrison Ford': 10,\n",
              " 'Carrie Fisher': 4,\n",
              " 'Tom Hanks': 14,\n",
              " 'Robin Wright': 3,\n",
              " 'Gary Sinise': 2,\n",
              " 'Matthew McConaughey': 4,\n",
              " 'Anne Hathaway': 3,\n",
              " 'Jessica Chastain': 3,\n",
              " 'Jack Nicholson': 9,\n",
              " 'Louise Fletcher': 1,\n",
              " 'Michael Berryman': 1,\n",
              " 'Toshir\\\\xf4 Mifune': 3,\n",
              " 'Takashi Shimura': 2,\n",
              " 'Keiko Tsushima': 1,\n",
              " 'Ray Liotta': 2,\n",
              " 'Joe Pesci': 5,\n",
              " 'Keanu Reeves': 3,\n",
              " 'Laurence Fishburne': 2,\n",
              " 'Carrie-Anne Moss': 2,\n",
              " 'Alexandre Rodrigues': 1,\n",
              " 'Matheus Nachtergaele': 1,\n",
              " 'Leandro Firmino': 1,\n",
              " 'James Stewart': 10,\n",
              " 'Donna Reed': 1,\n",
              " 'Lionel Barrymore': 1,\n",
              " 'Kevin Spacey': 6,\n",
              " 'Gabriel Byrne': 2,\n",
              " 'Chazz Palminteri': 3,\n",
              " 'Roberto Benigni': 2,\n",
              " 'Nicoletta Braschi': 1,\n",
              " 'Giorgio Cantarini': 1,\n",
              " 'Charles Bronson': 3,\n",
              " 'Claudia Cardinale': 2,\n",
              " 'Jodie Foster': 4,\n",
              " 'Anthony Hopkins': 6,\n",
              " 'Lawrence A. Bonney': 1,\n",
              " 'Jean Reno': 2,\n",
              " 'Gary Oldman': 5,\n",
              " 'Natalie Portman': 5,\n",
              " 'Charles Chaplin': 5,\n",
              " 'Virginia Cherrill': 1,\n",
              " 'Florence Lee': 1,\n",
              " 'Daveigh Chase': 1,\n",
              " 'Suzanne Pleshette': 2,\n",
              " 'Miyu Irino': 1,\n",
              " 'Fran\\\\xe7ois Cluzet': 2,\n",
              " 'Omar Sy': 1,\n",
              " 'Anne Le Ny': 1,\n",
              " 'Humphrey Bogart': 7,\n",
              " 'Ingrid Bergman': 3,\n",
              " 'Paul Henreid': 1,\n",
              " 'Miles Teller': 1,\n",
              " 'J.K. Simmons': 1,\n",
              " 'Melissa Benoist': 1,\n",
              " 'Edward Furlong': 2,\n",
              " 'u\"Beverly D\\'Angelo': 1,\n",
              " 'Paulette Goddard': 2,\n",
              " 'Henry Bergman': 1,\n",
              " 'Matt Damon': 8,\n",
              " 'Tom Sizemore': 2,\n",
              " 'Karen Allen': 2,\n",
              " 'Paul Freeman': 1,\n",
              " 'Grace Kelly': 4,\n",
              " 'Wendell Corey': 1,\n",
              " 'Anthony Perkins': 1,\n",
              " 'Janet Leigh': 3,\n",
              " 'Vera Miles': 3,\n",
              " 'Michael Clarke Duncan': 1,\n",
              " 'David Morse': 2,\n",
              " 'William Holden': 6,\n",
              " 'Gloria Swanson': 1,\n",
              " 'Erich von Stroheim': 1,\n",
              " 'Adrien Brody': 2,\n",
              " 'Thomas Kretschmann': 1,\n",
              " 'Frank Finlay': 1,\n",
              " 'Tom Hardy': 2,\n",
              " 'Russell Crowe': 9,\n",
              " 'Joaquin Phoenix': 4,\n",
              " 'Connie Nielsen': 1,\n",
              " 'Arnold Schwarzenegger': 4,\n",
              " 'Linda Hamilton': 2,\n",
              " 'Guy Pearce': 5,\n",
              " 'Joe Pantoliano': 2,\n",
              " 'Darsheel Safary': 1,\n",
              " 'Aamir Khan': 5,\n",
              " 'Tanay Chheda': 1,\n",
              " 'Peter Sellers': 3,\n",
              " 'George C. Scott': 2,\n",
              " 'Sterling Hayden': 2,\n",
              " 'Philippe Noiret': 1,\n",
              " 'Enzo Cannavale': 1,\n",
              " 'Antonella Attili': 1,\n",
              " 'Martin Sheen': 2,\n",
              " 'Jack Oakie': 1,\n",
              " 'Hugh Jackman': 6,\n",
              " 'Scarlett Johansson': 7,\n",
              " 'Michael J. Fox': 3,\n",
              " 'Christopher Lloyd': 4,\n",
              " 'Lea Thompson': 2,\n",
              " 'Matthew Broderick': 3,\n",
              " 'Jeremy Irons': 3,\n",
              " 'James Earl Jones': 2,\n",
              " 'Ulrich M\\\\xfche': 2,\n",
              " 'Martina Gedeck': 1,\n",
              " 'Sebastian Koch': 2,\n",
              " 'Sigourney Weaver': 5,\n",
              " 'Tom Skerritt': 2,\n",
              " 'John Hurt': 2,\n",
              " 'Kirk Douglas': 2,\n",
              " 'Ralph Meeker': 1,\n",
              " 'Adolphe Menj': 1,\n",
              " 'Jamie Foxx': 4,\n",
              " 'Christoph Waltz': 1,\n",
              " 'Madhavan': 1,\n",
              " 'Mona Singh': 1,\n",
              " 'Tsutomu Tatsumi': 1,\n",
              " 'Ayano Shiraishi': 1,\n",
              " 'Akemi Yamaguchi': 1,\n",
              " 'Shelley Duvall': 1,\n",
              " 'Danny Lloyd': 1,\n",
              " 'Peter Lorre': 1,\n",
              " 'Ellen Widmann': 1,\n",
              " 'Inge Landgut': 1,\n",
              " 'Ben Burtt': 1,\n",
              " 'Elissa Knight': 1,\n",
              " 'Jeff Garlin': 1,\n",
              " 'Tyrone Power': 1,\n",
              " 'Marlene Dietrich': 1,\n",
              " 'Charles Laughton': 1,\n",
              " 'Sunil Dutt': 1,\n",
              " 'Sanjay Dutt': 1,\n",
              " 'Arshad Warsi': 1,\n",
              " 'Annette Bening': 1,\n",
              " 'Thora Birch': 2,\n",
              " 'J\\\\xfcrgen Prochnow': 1,\n",
              " 'Herbert Gr\\\\xf6nemeyer': 1,\n",
              " 'Klaus Wennemann': 1,\n",
              " 'Y\\\\xf4ji Matsuda': 1,\n",
              " 'Yuriko Ishida': 1,\n",
              " 'Y\\\\xfbko Tanaka': 1,\n",
              " 'Audrey Tauto': 2,\n",
              " 'Mathieu Kassovitz': 1,\n",
              " 'Rufus': 1,\n",
              " 'Cary Grant': 8,\n",
              " 'Eva Marie Saint': 1,\n",
              " 'James Mason': 2,\n",
              " 'Soha Ali Khan': 1,\n",
              " 'Siddharth': 1,\n",
              " 'Peyman Moaadi': 1,\n",
              " 'Leila Hatami': 1,\n",
              " 'Sareh Bayat': 1,\n",
              " 'Orson Welles': 3,\n",
              " 'Joseph Cotten': 3,\n",
              " 'Dorothy Comingore': 1,\n",
              " 'Michael Biehn': 3,\n",
              " 'Carrie Henn': 1,\n",
              " 'Kim Novak': 1,\n",
              " 'Barbara Bel Geddes': 1,\n",
              " 'Min-sik Choi': 3,\n",
              " 'Ji-tae Y': 1,\n",
              " 'Hye-jeong Kang': 1,\n",
              " 'James Woods': 1,\n",
              " 'Elizabeth McGovern': 1,\n",
              " 'Fred MacMurray': 2,\n",
              " 'Barbara Stanwyck': 1,\n",
              " 'Edward G. Robinson': 2,\n",
              " 'Tim Allen': 3,\n",
              " 'Joan Cusack': 2,\n",
              " 'Mel Gibson': 4,\n",
              " 'Sophie Marcea': 1,\n",
              " 'Patrick McGoohan': 2,\n",
              " 'Gregory Peck': 4,\n",
              " 'John Megna': 1,\n",
              " 'Frank Overton': 1,\n",
              " 'Ellen Burstyn': 2,\n",
              " 'Jared Leto': 4,\n",
              " 'Jennifer Connelly': 7,\n",
              " 'u\"Peter O\\'Toole\"': 1,\n",
              " 'Alec Guinness': 2,\n",
              " 'Anthony Quinn': 2,\n",
              " 'Malcolm McDowell': 1,\n",
              " 'Patrick Magee': 2,\n",
              " 'Michael Bates': 1,\n",
              " 'Lamberto Maggiorani': 1,\n",
              " 'Enzo Staiola': 1,\n",
              " 'Lianella Carell': 1,\n",
              " 'Edna Purviance': 1,\n",
              " 'Jackie Coogan': 1,\n",
              " 'Shah Rukh Khan': 3,\n",
              " 'Gayatri Joshi': 1,\n",
              " 'Kishori Balal': 1,\n",
              " 'Harvey Keitel': 5,\n",
              " 'Tim Roth': 3,\n",
              " 'Michael Madsen': 3,\n",
              " 'Jim Carrey': 3,\n",
              " 'Kate Winslet': 8,\n",
              " 'Tom Wilkinson': 2,\n",
              " 'Cybill Shepherd': 2,\n",
              " 'Kajol': 2,\n",
              " 'Amrish Puri': 1,\n",
              " 'Gene Kelly': 1,\n",
              " 'u\"Donald O\\'Connor\"': 1,\n",
              " 'Debbie Reynolds': 1,\n",
              " 'Bette Davis': 2,\n",
              " 'Anne Baxter': 2,\n",
              " 'George Sanders': 2,\n",
              " 'Eijir\\\\xf4 T\\\\xf4no': 1,\n",
              " 'Tatsuya Nakadai': 2,\n",
              " 'Paul Newman': 5,\n",
              " 'Robert Redford': 5,\n",
              " 'Robert Shaw': 3,\n",
              " 'Machiko Ky\\\\xf4': 1,\n",
              " 'Masayuki Mori': 1,\n",
              " 'F. Murray Abraham': 2,\n",
              " 'Tom Hulce': 2,\n",
              " 'Elizabeth Berridge': 1,\n",
              " 'Walter Huston': 1,\n",
              " 'Tim Holt': 1,\n",
              " 'Graham Chapman': 2,\n",
              " 'John Cleese': 4,\n",
              " 'Eric Idle': 2,\n",
              " 'Matthew Modine': 1,\n",
              " 'R. Lee Ermey': 1,\n",
              " 'u\"Vincent D\\'Onofrio': 1,\n",
              " 'Jack Lemmon': 4,\n",
              " 'Shirley MacLaine': 3,\n",
              " 'Nobuo Kaneko': 1,\n",
              " 'u\"Shin\\'ichi Himori': 1,\n",
              " 'Alida Valli': 1,\n",
              " 'Jason Statham': 1,\n",
              " 'Benicio Del Toro': 4,\n",
              " 'Gian Maria Volont\\\\xe9': 2,\n",
              " 'Brigitte Helm': 1,\n",
              " 'Alfred Abel': 1,\n",
              " 'Gustav Fr\\\\xf6hlich': 1,\n",
              " 'Saif Ali Khan': 1,\n",
              " 'Akshaye Khanna': 1,\n",
              " 'Keir Dullea': 1,\n",
              " 'Gary Lockwood': 1,\n",
              " 'William Sylvester': 1,\n",
              " 'Marilyn Monroe': 1,\n",
              " 'Tony Curtis': 1,\n",
              " 'Michael Caine': 8,\n",
              " 'Ken Watanabe': 3,\n",
              " 'Diane Kruger': 2,\n",
              " 'Eli Roth': 1,\n",
              " 'Michelle Pfeiffer': 3,\n",
              " 'Steven Bauer': 1,\n",
              " 'Jean Arthur': 2,\n",
              " 'Claude Rains': 2,\n",
              " 'Don Rickles': 2,\n",
              " 'Sean Connery': 9,\n",
              " 'Alison Doody': 1,\n",
              " 'Gene Hackman': 6,\n",
              " 'Steve McQueen': 4,\n",
              " 'James Garner': 2,\n",
              " 'Richard Attenborough': 1,\n",
              " 'Mads Mikkelsen': 3,\n",
              " 'Thomas Bo Larsen': 2,\n",
              " 'Annika Wedderkopp': 1,\n",
              " 'Karl Malden': 2,\n",
              " 'Buster Keaton': 1,\n",
              " 'Marion Mack': 1,\n",
              " 'Glen Cavender': 1,\n",
              " 'Cathy Moriarty': 1,\n",
              " 'Bruno Ganz': 3,\n",
              " 'Alexandra Maria Lara': 1,\n",
              " 'Ulrich Matthes': 1,\n",
              " 'Edward Asner': 1,\n",
              " 'Jordan Nagai': 1,\n",
              " 'John Ratzenberger': 1,\n",
              " 'Victor Sj\\\\xf6str\\\\xf6m': 1,\n",
              " 'Bibi Andersson': 2,\n",
              " 'Ingrid Thulin': 1,\n",
              " 'Mack Swain': 1,\n",
              " 'Tom Murray': 1,\n",
              " 'Akira Terao': 1,\n",
              " 'Jinpachi Ne': 1,\n",
              " 'Faye Dunaway': 4,\n",
              " 'John Huston': 1,\n",
              " 'Hitoshi Takagi': 1,\n",
              " 'Noriko Hidaka': 1,\n",
              " 'Chika Sakamoto': 1,\n",
              " 'Spencer Tracy': 3,\n",
              " 'Burt Lancaster': 2,\n",
              " 'Richard Widmark': 1,\n",
              " 'Ranbir Kapoor': 1,\n",
              " 'Priyanka Chopra': 1,\n",
              " 'Ileana': 1,\n",
              " 'Max von Sydow': 2,\n",
              " 'Gunnar Bj\\\\xf6rnstrand': 1,\n",
              " 'Bengt Ekerot': 1,\n",
              " 'Val Kilmer': 3,\n",
              " 'Ivana Baquero': 1,\n",
              " 'Ariadna Gil': 1,\n",
              " 'Sergi L\\\\xf3pez': 1,\n",
              " 'Jack Hawkins': 3,\n",
              " 'Bruce Willis': 8,\n",
              " 'Alan Rickman': 3,\n",
              " 'Bonnie Bedelia': 1,\n",
              " 'Robin Williams': 5,\n",
              " 'Ben Affleck': 4,\n",
              " 'Yves Montand': 1,\n",
              " 'Charles Vanel': 1,\n",
              " 'Peter van Eyck': 1,\n",
              " 'Ricardo Dar\\\\xedn': 2,\n",
              " 'Soledad Villamil': 1,\n",
              " 'Pablo Rago': 1,\n",
              " 'Gracy Singh': 1,\n",
              " 'Rachel Shelley': 1,\n",
              " 'Jonah Hill': 3,\n",
              " 'Margot Robbie': 1,\n",
              " 'Clark Gable': 2,\n",
              " 'Claudette Colbert': 1,\n",
              " 'Walter Connolly': 1,\n",
              " 'Rutger Hauer': 1,\n",
              " 'Sean Young': 1,\n",
              " 'Nick Nolte': 2,\n",
              " 'Joel Edgerton': 2,\n",
              " 'Chieko Baish\\\\xf4': 1,\n",
              " 'Takuya Kimura': 1,\n",
              " 'Tatsuya Gash\\\\xfbin': 1,\n",
              " 'Anne Bancroft': 2,\n",
              " 'Laurence Olivier': 4,\n",
              " 'Joan Fontaine': 1,\n",
              " 'Lubna Azabal': 1,\n",
              " 'M\\\\xe9lissa D\\\\xe9sormeaux-Poulin': 1,\n",
              " 'Maxim Gaudette': 1,\n",
              " 'Jason Flemyng': 1,\n",
              " 'Dexter Fletcher': 1,\n",
              " 'Nick Moran': 1,\n",
              " 'Hugo Weaving': 2,\n",
              " 'Rupert Graves': 1,\n",
              " 'Jeff Bridges': 4,\n",
              " 'John Goodman': 6,\n",
              " 'Julianne Moore': 10,\n",
              " 'George Kennedy': 1,\n",
              " 'Strother Martin': 1,\n",
              " 'Dar\\\\xedo Grandinetti': 2,\n",
              " 'Mar\\\\xeda Marull': 1,\n",
              " 'M\\\\xf3nica Villa': 1,\n",
              " 'Sharon Stone': 2,\n",
              " 'Vivien Leigh': 2,\n",
              " 'Thomas Mitchell': 2,\n",
              " 'Rosamund Pike': 1,\n",
              " 'Neil Patrick Harris': 1,\n",
              " 'Fredric March': 1,\n",
              " 'Dana Andrews': 2,\n",
              " 'Myrna Loy': 1,\n",
              " 'Jay Baruchel': 2,\n",
              " 'Gerard Butler': 4,\n",
              " 'Christopher Mintz-Plasse': 2,\n",
              " 'Simone Signoret': 1,\n",
              " 'V\\\\xe9ra Clouzot': 1,\n",
              " 'Paul Meurisse': 1,\n",
              " 'Bee Vang': 1,\n",
              " 'Christopher Carley': 1,\n",
              " 'Daniel Br\\\\xfchl': 2,\n",
              " 'Chris Hemsworth': 1,\n",
              " 'Olivia Wilde': 1,\n",
              " 'Emile Hirsch': 3,\n",
              " 'Vince Vaughn': 1,\n",
              " 'Catherine Keener': 3,\n",
              " 'Tae-hyun Cha': 1,\n",
              " 'Gianna Jun': 1,\n",
              " 'In-mun Kim': 1,\n",
              " 'Christopher Walken': 3,\n",
              " 'John Cazale': 3,\n",
              " 'Toni Collette': 4,\n",
              " 'Philip Seymour Hoffman': 5,\n",
              " 'Eric Bana': 2,\n",
              " 'Richard Gere': 3,\n",
              " 'Joan Allen': 5,\n",
              " 'Cary-Hiroyuki Tagawa': 1,\n",
              " 'Mary Astor': 1,\n",
              " 'Gladys George': 1,\n",
              " 'Ed Harris': 9,\n",
              " 'Ray Milland': 1,\n",
              " 'Robert Cummings': 1,\n",
              " 'Ewan McGregor': 6,\n",
              " 'Ewen Bremner': 2,\n",
              " 'Jonny Lee Miller': 1,\n",
              " 'Dong-gun Jang': 1,\n",
              " 'Bin Won': 2,\n",
              " 'Eun-ju Lee': 1,\n",
              " 'Liv Ullmann': 1,\n",
              " 'Margaretha Krook': 1,\n",
              " 'Charlton Heston': 4,\n",
              " 'William H. Macy': 1,\n",
              " 'Frances McDormand': 5,\n",
              " 'Steve Buscemi': 2,\n",
              " 'Robert Downey Jr.': 8,\n",
              " 'Chris Evans': 2,\n",
              " 'Jean-Pierre L\\\\xe9aud': 1,\n",
              " 'Albert R\\\\xe9my': 1,\n",
              " 'Claire Maurier': 1,\n",
              " 'Cary Elwes': 3,\n",
              " 'Mandy Patinkin': 1,\n",
              " 'Don Cheadle': 3,\n",
              " 'Sophie Okonedo': 1,\n",
              " 'Alisa Freyndlikh': 1,\n",
              " 'Aleksandr Kaydanovskiy': 1,\n",
              " 'Anatoliy Solonitsyn': 1,\n",
              " 'Brahim Hadjadj': 1,\n",
              " 'Jean Martin': 1,\n",
              " 'Yacef Saadi': 1,\n",
              " 'Predrag Manojlovic': 1,\n",
              " 'Lazar Ristovski': 1,\n",
              " 'Mirjana Jokovic': 1,\n",
              " 'Bertil Guve': 1,\n",
              " 'Pernilla Allwin': 1,\n",
              " 'Kristina Adolphson': 1,\n",
              " 'Peter Finch': 1,\n",
              " 'Kurt Russell': 4,\n",
              " 'Wilford Brimley': 1,\n",
              " 'Keith David': 1,\n",
              " 'Katharine Ross': 2,\n",
              " 'Jane Darwell': 1,\n",
              " 'John Carradine': 1,\n",
              " 'Bajram Severdzan': 1,\n",
              " 'Srdjan Todorovic': 1,\n",
              " 'Branka Katic': 1,\n",
              " 'Michael Palin': 1,\n",
              " 'Haley Joel Osment': 2,\n",
              " 'Albert Brooks': 1,\n",
              " 'Ellen DeGeneres': 1,\n",
              " 'Alexander Gould': 1,\n",
              " 'Sumi Shimamoto': 1,\n",
              " 'Mahito Tsujimura': 1,\n",
              " 'Hisako Ky\\\\xf4da': 1,\n",
              " 'Colin Firth': 3,\n",
              " 'Taron Egerton': 1,\n",
              " 'Charlie Sheen': 2,\n",
              " 'Tom Berenger': 1,\n",
              " 'Willem Dafoe': 5,\n",
              " 'Chris Pratt': 3,\n",
              " 'Vin Diesel': 2,\n",
              " 'Bradley Cooper': 4,\n",
              " 'Daniel Day-Lewis': 6,\n",
              " 'Pete Postlethwaite': 1,\n",
              " 'Alison Crosbie': 1,\n",
              " 'David Carradine': 2,\n",
              " 'Daryl Hannah': 1,\n",
              " 'Tommy Lee Jones': 3,\n",
              " 'Javier Bardem': 4,\n",
              " 'Josh Brolin': 3,\n",
              " 'Alain Delon': 1,\n",
              " 'Nathalie Delon': 1,\n",
              " 'Fran\\\\xe7ois P\\\\xe9rier': 1,\n",
              " 'Chiwetel Ejiofor': 4,\n",
              " 'Michael Kenneth Williams': 1,\n",
              " 'Michael Fassbender': 2,\n",
              " 'Pruitt Taylor Vince': 1,\n",
              " 'Bill Nunn': 1,\n",
              " 'Marcello Mastroianni': 2,\n",
              " 'Anouk Aim\\\\xe9e': 2,\n",
              " 'Stephen Boyd': 1,\n",
              " 'Emilio Echevarr\\\\xeda': 1,\n",
              " 'Gael Garc\\\\xeda Bernal': 5,\n",
              " 'Goya Toledo': 1,\n",
              " 'Wil Wheaton': 1,\n",
              " 'River Phoenix': 1,\n",
              " 'Corey Feldman': 1,\n",
              " 'Joan Crawford': 1,\n",
              " 'Victor Buono': 1,\n",
              " 'Woody Allen': 6,\n",
              " 'Diane Keaton': 4,\n",
              " 'Tony Roberts': 1,\n",
              " 'Benedict Cumberbatch': 1,\n",
              " 'Keira Knightley': 4,\n",
              " 'Matthew Goode': 2,\n",
              " 'Gene Tierney': 1,\n",
              " 'Clifton Webb': 1,\n",
              " 'Masahiro Motoki': 1,\n",
              " 'Ry\\\\xf4ko Hirosue': 1,\n",
              " 'Tsutomu Yamazaki': 1,\n",
              " 'Andy La': 1,\n",
              " 'Tony Chiu Wai Leung': 7,\n",
              " 'Anthony Chau-Sang Wong': 1,\n",
              " 'Paul Dano': 1,\n",
              " 'Ciar\\\\xe1n Hinds': 2,\n",
              " 'Mathieu Amalric': 2,\n",
              " 'Giulietta Masina': 1,\n",
              " 'Richard Basehart': 1,\n",
              " 'Mickey Rourke': 2,\n",
              " 'Clive Owen': 3,\n",
              " 'Kang-ho Song': 2,\n",
              " 'Sang-kyung Kim': 1,\n",
              " 'Roe-ha Kim': 1,\n",
              " 'Jake Gyllenhaal': 8,\n",
              " 'Jena Malone': 1,\n",
              " 'Mary McDonnell': 2,\n",
              " 'Elizabeth Taylor': 2,\n",
              " 'Richard Burton': 3,\n",
              " 'George Segal': 1,\n",
              " 'John Gielgud': 1,\n",
              " 'Candice Bergen': 1,\n",
              " 'Natalya Bondarchuk': 1,\n",
              " 'Donatas Banionis': 1,\n",
              " 'J\\\\xfcri J\\\\xe4rvet': 1,\n",
              " 'Daniel Radcliffe': 7,\n",
              " 'Emma Watson': 7,\n",
              " 'Rupert Grint': 7,\n",
              " 'Harry Dean Stanton': 1,\n",
              " 'Nastassja Kinski': 1,\n",
              " 'Dean Stockwell': 1,\n",
              " 'Judy Garland': 1,\n",
              " 'Frank Morgan': 1,\n",
              " 'Ray Bolger': 1,\n",
              " 'Seung-yeon Lee': 1,\n",
              " 'Hyun-kyoon Lee': 1,\n",
              " 'Hyuk-ho Kwon': 1,\n",
              " 'Ellar Coltrane': 1,\n",
              " 'Patricia Arquette': 3,\n",
              " 'Ethan Hawke': 9,\n",
              " 'Hilary Swank': 3,\n",
              " 'Timothy Bottoms': 1,\n",
              " 'Farley Granger': 2,\n",
              " 'Robert Walker': 1,\n",
              " 'Ruth Roman': 1,\n",
              " 'Burl Ives': 1,\n",
              " 'Anita Ekberg': 1,\n",
              " 'Brigitte Lin': 1,\n",
              " 'Takeshi Kaneshiro': 2,\n",
              " 'Robert Mitchum': 1,\n",
              " 'Shelley Winters': 2,\n",
              " 'Lillian Gish': 1,\n",
              " 'Vincent Cassel': 2,\n",
              " 'Hubert Kound\\\\xe9': 2,\n",
              " 'Sa\\\\xefd Taghmaoui': 1,\n",
              " 'Donnie Yen': 2,\n",
              " 'Simon Yam': 1,\n",
              " 'Siu-Wong Fan': 1,\n",
              " 'Gary Cooper': 1,\n",
              " 'Julie Delpy': 5,\n",
              " 'Andrea Eckert': 1,\n",
              " 'Wagner Moura': 2,\n",
              " 'Irandhir Santos': 1,\n",
              " 'Andr\\\\xe9 Ramiro': 2,\n",
              " '\\\\xc9dgar Ram\\\\xedrez': 1,\n",
              " 'Anna Paquin': 1,\n",
              " 'James Van Der Beek': 1,\n",
              " 'Cloris Leachman': 1,\n",
              " 'Ulrich Thomsen': 2,\n",
              " 'Henning Moritzen': 1,\n",
              " 'Ki-duk Kim': 1,\n",
              " 'Yeong-su Oh': 1,\n",
              " 'Jong-ho Kim': 1,\n",
              " 'Emily Mortimer': 2,\n",
              " 'Mark Ruffalo': 3,\n",
              " 'u\"Ryan O\\'Neal\"': 2,\n",
              " 'Marisa Berenson': 1,\n",
              " 'Don Taylor': 1,\n",
              " 'Otto Preminger': 1,\n",
              " 'Ir\\\\xe8ne Jacob': 1,\n",
              " 'Jean-Louis Trintignant': 2,\n",
              " 'Fr\\\\xe9d\\\\xe9rique Feder': 1,\n",
              " 'Patrick Stewart': 4,\n",
              " 'Alec Cawthorne': 1,\n",
              " 'Maggie Cheung': 2,\n",
              " 'Ping Lam S': 1,\n",
              " 'John Wayne': 6,\n",
              " 'Priscilla Lane': 1,\n",
              " 'Raymond Massey': 2,\n",
              " 'Lauren Bacall': 3,\n",
              " 'John Ridgely': 1,\n",
              " 'Audrey Hepburn': 5,\n",
              " 'Eddie Albert': 1,\n",
              " 'Katharine Hepburn': 4,\n",
              " 'Nozomu Sasaki': 1,\n",
              " 'Mami Koyama': 1,\n",
              " 'Mitsuo Iwata': 1,\n",
              " 'Lee Remick': 2,\n",
              " 'Ben Gazzara': 2,\n",
              " 'Werner Krauss': 1,\n",
              " 'Conrad Veidt': 1,\n",
              " 'Friedrich Feher': 1,\n",
              " 'Emma Stone': 2,\n",
              " 'Viola Davis': 2,\n",
              " 'Octavia Spencer': 2,\n",
              " 'Bel\\\\xe9n Rueda': 2,\n",
              " 'Lola Due\\\\xf1as': 2,\n",
              " 'Caio Junqueira': 1,\n",
              " 'Jackie Gleason': 1,\n",
              " 'Piper Laurie': 1,\n",
              " 'Dean Martin': 1,\n",
              " 'Ricky Nelson': 1,\n",
              " 'Madeleine Stowe': 2,\n",
              " 'Josephine Hull': 1,\n",
              " 'Peggy Dow': 1,\n",
              " 'Peter Billingsley': 1,\n",
              " 'Melinda Dillon': 1,\n",
              " 'Darren McGavin': 1,\n",
              " 'Roy Scheider': 3,\n",
              " 'Richard Dreyfuss': 3,\n",
              " 'Iko Uwais': 2,\n",
              " 'Yayan Ruhian': 1,\n",
              " 'Arifin Putra': 1,\n",
              " 'Sylvester Stallone': 2,\n",
              " 'Talia Shire': 1,\n",
              " 'Burt Young': 1,\n",
              " 'Solveig Dommartin': 1,\n",
              " 'Otto Sander': 1,\n",
              " 'Johnny Depp': 12,\n",
              " 'Geoffrey Rush': 7,\n",
              " 'Coleen Gray': 1,\n",
              " 'Vince Edwards': 1,\n",
              " 'Dustin Hoffman': 11,\n",
              " 'Victor Jory': 1,\n",
              " 'Bill Murray': 5,\n",
              " 'Andie MacDowell': 2,\n",
              " 'Chris Elliott': 1,\n",
              " 'Marianne Koch': 1,\n",
              " 'Billy Crystal': 2,\n",
              " 'Mary Gibbs': 1,\n",
              " 'Penelope Allen': 1,\n",
              " 'Logan Lerman': 2,\n",
              " 'Ezra Miller': 2,\n",
              " 'Gene Wilder': 4,\n",
              " 'Madeline Kahn': 1,\n",
              " 'Marty Feldman': 1,\n",
              " 'Ruth Gordon': 2,\n",
              " 'Bud Cort': 1,\n",
              " 'Vivian Pickles': 1,\n",
              " 'Vernon Dobtcheff': 1,\n",
              " 'Kim Hunter': 2,\n",
              " 'Charles Ruggles': 1,\n",
              " 'Emmanuelle Seigner': 1,\n",
              " 'Marie-Jos\\\\xe9e Croze': 3,\n",
              " 'Rosalind Russell': 1,\n",
              " 'Ralph Bellamy': 2,\n",
              " 'Billy Bob Thornton': 3,\n",
              " 'Dwight Yoakam': 2,\n",
              " 'J.T. Walsh': 1,\n",
              " 'Lew Ayres': 1,\n",
              " 'Louis Wolheim': 1,\n",
              " 'John Wray': 1,\n",
              " 'Vladimir Garin': 1,\n",
              " 'Ivan Dobronravov': 1,\n",
              " 'Konstantin Lavronenko': 1,\n",
              " 'Frank Sinatra': 1,\n",
              " 'Laurence Harvey': 1,\n",
              " 'Groucho Marx': 1,\n",
              " 'Harpo Marx': 1,\n",
              " 'Chico Marx': 1,\n",
              " 'u\"Paige O\\'Hara\"': 1,\n",
              " 'Robby Benson': 1,\n",
              " 'Richard White': 1,\n",
              " 'Laura Linney': 3,\n",
              " 'Ernest Borgnine': 2,\n",
              " 'Robert Ryan': 2,\n",
              " 'John Dall': 1,\n",
              " 'Sam Neill': 2,\n",
              " 'Laura Dern': 3,\n",
              " 'Jeff Goldblum': 2,\n",
              " 'Nicole Kidman': 4,\n",
              " 'Paul Bettany': 2,\n",
              " 'Paul Walker': 2,\n",
              " 'Dwayne Johnson': 1,\n",
              " 'Stephen Young': 1,\n",
              " 'Danny Elfman': 1,\n",
              " 'Chris Sarandon': 1,\n",
              " 'u\"Catherine O\\'Hara': 2,\n",
              " 'Melvyn Douglas': 1,\n",
              " 'Chiara Mastroianni': 1,\n",
              " 'Catherine Deneuve': 4,\n",
              " 'Gena Rowlands': 3,\n",
              " 'Rob Reiner': 1,\n",
              " 'Michael McKean': 1,\n",
              " 'Christopher Guest': 1,\n",
              " 'James Dean': 2,\n",
              " 'Julie Harris': 1,\n",
              " 'Bob Geldof': 1,\n",
              " 'Christine Hargreaves': 1,\n",
              " 'James Laurenson': 1,\n",
              " 'Djimon Hounso': 1,\n",
              " 'Albert Finney': 2,\n",
              " 'Billy Crudup': 2,\n",
              " 'Dev Patel': 1,\n",
              " 'Freida Pinto': 2,\n",
              " 'Saurabh Shukla': 1,\n",
              " 'Chris Pine': 2,\n",
              " 'Zachary Quinto': 2,\n",
              " 'Simon Pegg': 3,\n",
              " 'Richard Farnsworth': 2,\n",
              " 'Sissy Spacek': 3,\n",
              " 'Jane Galloway Heitz': 1,\n",
              " 'Martin Landa': 2,\n",
              " 'Bill Bernstein': 1,\n",
              " 'Walter Matth': 1,\n",
              " 'Kevin Costner': 6,\n",
              " 'David Emge': 1,\n",
              " 'Ken Foree': 1,\n",
              " 'Scott H. Reiniger': 1,\n",
              " 'Tom Cruise': 8,\n",
              " 'Jason Robards': 1,\n",
              " 'Mariel Hemingway': 1,\n",
              " 'Fernanda Montenegro': 1,\n",
              " 'Vin\\\\xedcius de Oliveira': 1,\n",
              " 'Mar\\\\xedlia P\\\\xeara': 1,\n",
              " 'Jonathan Pryce': 1,\n",
              " 'Kim Greist': 1,\n",
              " 'Linda Blair': 1,\n",
              " 'Amy Adams': 3,\n",
              " 'Bj\\\\xf6rk': 1,\n",
              " 'Valeria Golino': 1,\n",
              " 'Rosario Flores': 1,\n",
              " 'Javier C\\\\xe1mara': 2,\n",
              " 'Errol Flynn': 1,\n",
              " 'Olivia de Havilland': 1,\n",
              " 'Basil Rathbone': 1,\n",
              " 'Klaus Kinski': 1,\n",
              " 'Ruy Guerra': 1,\n",
              " 'Helena Rojo': 1,\n",
              " 'Sidney Poitier': 2,\n",
              " 'Rod Steiger': 1,\n",
              " 'Warren Oates': 2,\n",
              " 'Max Schreck': 1,\n",
              " 'Greta Schr\\\\xf6der': 1,\n",
              " 'Ruth Landshoff': 1,\n",
              " 'Mila Kunis': 1,\n",
              " 'Brad Garrett': 1,\n",
              " 'Lou Romano': 1,\n",
              " 'Patton Oswalt': 1,\n",
              " 'Jeffrey Hunter': 1,\n",
              " 'Brie Larson': 1,\n",
              " 'Frantz Turner': 1,\n",
              " 'John Gallagher Jr.': 1,\n",
              " 'Omar Sharif': 1,\n",
              " 'Julie Christie': 3,\n",
              " 'Geraldine Chaplin': 2,\n",
              " 'Suraj Sharma': 1,\n",
              " 'Irrfan Khan': 1,\n",
              " 'Adil Hussain': 1,\n",
              " 'Jack Warden': 1,\n",
              " 'Aleksandr Antonov': 1,\n",
              " 'Vladimir Barsky': 1,\n",
              " 'Grigori Aleksandrov': 1,\n",
              " 'Graham Greene': 1,\n",
              " 'Ren\\\\xe9e Zellweger': 1,\n",
              " 'Craig Bierko': 1,\n",
              " 'Robert Sean Leonard': 1,\n",
              " 'Atsuko Tanaka': 1,\n",
              " 'Iemasa Kayumi': 1,\n",
              " 'Akio \\\\xd4tsuka': 1,\n",
              " 'Birol \\\\xdcnel': 1,\n",
              " 'Sibel Kekilli': 1,\n",
              " 'G\\\\xfcven Kira\\\\xe7': 1,\n",
              " 'Branko Djuric': 1,\n",
              " 'Rene Bitorajac': 1,\n",
              " 'Filip Sovagovic': 1,\n",
              " 'Jennifer Garner': 2,\n",
              " 'Brooke Adams': 1,\n",
              " 'Sam Shepard': 3,\n",
              " 'Julie Andrews': 2,\n",
              " 'Christopher Plummer': 4,\n",
              " 'Eleanor Parker': 1,\n",
              " 'Sharlto Copley': 1,\n",
              " 'David James': 1,\n",
              " 'Jason Cope': 1,\n",
              " 'Teresa Wright': 1,\n",
              " 'Macdonald Carey': 1,\n",
              " 'Colin Clive': 2,\n",
              " 'Mae Clarke': 1,\n",
              " 'Boris Karloff': 2,\n",
              " 'Nick Frost': 3,\n",
              " 'Kate Ashfield': 1,\n",
              " 'Duane Jones': 1,\n",
              " 'u\"Judith O\\'Dea\"': 1,\n",
              " 'Karl Hardman': 1,\n",
              " 'Timothy Spall': 1,\n",
              " 'Brenda Blethyn': 3,\n",
              " 'Phyllis Logan': 1,\n",
              " 'Jean Dujardin': 1,\n",
              " 'B\\\\xe9r\\\\xe9nice Bejo': 2,\n",
              " 'Scott Weinger': 1,\n",
              " 'Linda Larkin': 1,\n",
              " 'Margaret Lockwood': 1,\n",
              " 'Michael Redgrave': 1,\n",
              " 'Paul Lukas': 1,\n",
              " 'Martin Freeman': 4,\n",
              " 'Richard Armitage': 3,\n",
              " 'K\\\\xe5re Hedebrant': 1,\n",
              " 'Lina Leandersson': 1,\n",
              " 'Per Ragnar': 1,\n",
              " 'Topol': 1,\n",
              " 'Norma Crane': 1,\n",
              " 'Leonard Frey': 1,\n",
              " 'Juliette Binoche': 2,\n",
              " 'Zbigniew Zamachowski': 2,\n",
              " 'Mia Farrow': 4,\n",
              " 'John Cassavetes': 1,\n",
              " 'Sean Penn': 8,\n",
              " 'Kevin Bacon': 4,\n",
              " 'Nathan Fillion': 1,\n",
              " 'Gina Torres': 1,\n",
              " 'Magali No\\\\xebl': 1,\n",
              " 'Bruno Zanin': 1,\n",
              " 'Pupella Maggio': 1,\n",
              " 'Roddy McDowall': 1,\n",
              " 'Christian Slater': 2,\n",
              " 'Dennis Hopper': 3,\n",
              " 'Dianne Wiest': 3,\n",
              " 'Sam Rockwell': 1,\n",
              " 'Dominique McElligott': 1,\n",
              " 'Seamus Davey-Fitzpatrick': 1,\n",
              " 'Sheetal Menon': 1,\n",
              " 'u\"Chris O\\'Donnell\"': 1,\n",
              " 'James Rebhorn': 1,\n",
              " 'Naomi Watts': 5,\n",
              " 'Laura Harring': 1,\n",
              " 'Justin Theroux': 2,\n",
              " 'Fay Wray': 1,\n",
              " 'Robert Armstrong': 1,\n",
              " 'Bruce Cabot': 1,\n",
              " 'Shailene Woodley': 1,\n",
              " 'Ansel Elgort': 1,\n",
              " 'Nat Wolff': 1,\n",
              " 'Craig T. Nelson': 2,\n",
              " 'Holly Hunter': 3,\n",
              " 'Winona Ryder': 3,\n",
              " 'Daniel Craig': 4,\n",
              " 'Eva Green': 1,\n",
              " 'Judi Dench': 3,\n",
              " 'Cate Blanchett': 7,\n",
              " 'Colin Farrell': 2,\n",
              " 'Brendan Gleeson': 2,\n",
              " 'Jean-Paul Belmondo': 1,\n",
              " 'Jean Seberg': 1,\n",
              " 'Daniel Boulanger': 1,\n",
              " 'Jean Simmons': 1,\n",
              " 'Eli Marienthal': 1,\n",
              " 'Harry Connick Jr.': 1,\n",
              " 'Jennifer Aniston': 2,\n",
              " 'Jon Voight': 2,\n",
              " 'Sylvia Miles': 1,\n",
              " 'John Belushi': 2,\n",
              " 'Dan Aykroyd': 4,\n",
              " 'Cab Calloway': 1,\n",
              " 'Wallace Ford': 1,\n",
              " 'Leila Hyams': 1,\n",
              " 'Olga Baclanova': 1,\n",
              " 'Kazunari Ninomiya': 1,\n",
              " 'Tsuyoshi Ihara': 1,\n",
              " 'Emily Blunt': 2,\n",
              " 'Bill Paxton': 4,\n",
              " 'Denzel Washington': 10,\n",
              " 'Robert Morley': 1,\n",
              " 'Michael Keaton': 3,\n",
              " 'Zach Galifianakis': 2,\n",
              " 'Ryan Potter': 1,\n",
              " 'Scott Adsit': 1,\n",
              " 'Jamie Chung': 1,\n",
              " 'Patrick Fugit': 1,\n",
              " 'Kate Hudson': 1,\n",
              " 'Rachel McAdams': 4,\n",
              " 'Allen Garfield': 1,\n",
              " 'Emilio Estevez': 1,\n",
              " 'Judd Nelson': 1,\n",
              " 'Molly Ringwald': 1,\n",
              " 'Will Smith': 2,\n",
              " 'Thandie Newton': 2,\n",
              " 'Jaden Smith': 1,\n",
              " 'Yun-Fat Chow': 3,\n",
              " 'Danny Lee': 1,\n",
              " 'Sally Yeh': 1,\n",
              " 'Glen Hansard': 1,\n",
              " 'Mark\\\\xe9ta Irglov\\\\xe1': 1,\n",
              " 'Hugh Walsh': 1,\n",
              " 'Jet Li': 2,\n",
              " 'Emma Thompson': 5,\n",
              " 'John Haycraft': 1,\n",
              " 'Elsa Lanchester': 1,\n",
              " 'Marisa Tomei': 2,\n",
              " 'Evan Rachel Wood': 2,\n",
              " 'Rene Russo': 1,\n",
              " 'Sandra Bullock': 3,\n",
              " 'George Clooney': 6,\n",
              " 'Teresa Mo': 1,\n",
              " 'Warren Beatty': 1,\n",
              " 'Michael J. Pollard': 1,\n",
              " 'Franka Potente': 4,\n",
              " 'Chris Cooper': 3,\n",
              " 'Gast\\\\xf3n Pauls': 1,\n",
              " 'Leticia Br\\\\xe9dice': 1,\n",
              " 'Sam Waterston': 1,\n",
              " 'Haing S. Ngor': 1,\n",
              " 'John Malkovich': 4,\n",
              " 'Cecilia Roth': 1,\n",
              " 'Marisa Paredes': 2,\n",
              " 'Candela Pe\\\\xf1a': 1,\n",
              " 'Beau Billingslea': 1,\n",
              " 'Melissa Fahn': 1,\n",
              " 'Nicholas Guest': 1,\n",
              " 'Sarah Jessica Parker': 1,\n",
              " 'Claire Trevor': 1,\n",
              " 'Andy Devine': 1,\n",
              " 'Sondra Locke': 1,\n",
              " 'Chief Dan George': 1,\n",
              " 'Scott Glenn': 3,\n",
              " 'Tahar Rahim': 2,\n",
              " 'Niels Arestrup': 1,\n",
              " 'Adel Bencherif': 1,\n",
              " 'Anamaria Marinca': 1,\n",
              " 'Vlad Ivanov': 1,\n",
              " 'Laura Vasil': 1,\n",
              " 'Ali Mosaffa': 1,\n",
              " 'Lee Pace': 1,\n",
              " 'Catinca Untar': 1,\n",
              " 'Justine Waddell': 1,\n",
              " 'Emily Watson': 4,\n",
              " 'Stellan Skarsg\\\\xe5rd': 1,\n",
              " 'Katrin Cartlidge': 1,\n",
              " 'Sarah Polley': 1,\n",
              " 'Sam Worthington': 1,\n",
              " 'Zoe Saldana': 2,\n",
              " 'Gwyneth Paltrow': 2,\n",
              " 'Terrence Howard': 1,\n",
              " 'Danny Aiello': 3,\n",
              " 'Ossie Davis': 1,\n",
              " 'Ruby Dee': 1,\n",
              " 'Penelope Ann Miller': 1,\n",
              " 'Michelle Yeoh': 1,\n",
              " 'Ziyi Zhang': 3,\n",
              " 'Oksana Akinshina': 1,\n",
              " 'Artyom Bogucharskiy': 1,\n",
              " 'Pavel Ponomaryov': 1,\n",
              " 'G\\\\xe9rard Jugnot': 1,\n",
              " 'Fran\\\\xe7ois Berl\\\\xe9and': 1,\n",
              " 'Jean-Baptiste Maunier': 1,\n",
              " 'Sean Patrick Flanery': 1,\n",
              " 'Norman Reedus': 1,\n",
              " 'John Turturro': 4,\n",
              " 'Reese Witherspoon': 1,\n",
              " 'Ginnifer Goodwin': 1,\n",
              " 'Mike Myers': 1,\n",
              " 'Eddie Murphy': 3,\n",
              " 'Cameron Diaz': 4,\n",
              " 'Rex Harrison': 1,\n",
              " 'Stanley Holloway': 1,\n",
              " 'Yul Brynner': 2,\n",
              " 'Mark Wahlberg': 3,\n",
              " 'Barkhad Abdi': 1,\n",
              " 'Barkhad Abdirahman': 1,\n",
              " 'Liza Minnelli': 1,\n",
              " 'Michael York': 1,\n",
              " 'Helmut Griem': 1,\n",
              " 'Donald Pleasence': 1,\n",
              " 'Jamie Lee Curtis': 2,\n",
              " 'Tony Moran': 1,\n",
              " 'Brenda Fricker': 1,\n",
              " 'Alison Whelan': 1,\n",
              " 'Edmund Gwenn': 1,\n",
              " 'u\"Maureen O\\'Hara\"': 1,\n",
              " 'John Payne': 1,\n",
              " 'Sae-ron Kim': 1,\n",
              " 'Tae-hoon Kim': 1,\n",
              " 'Riisa Naka': 1,\n",
              " 'Takuya Ishida': 1,\n",
              " 'Mitsutaka Itakura': 1,\n",
              " 'Steve Carell': 5,\n",
              " 'Greg Kinnear': 2,\n",
              " 'Maggie Grace': 1,\n",
              " 'Famke Janssen': 1,\n",
              " 'L\\\\xe9a Seydoux': 1,\n",
              " 'Ad\\\\xe8le Exarchopoulos': 1,\n",
              " ...}"
            ]
          },
          "metadata": {
            "tags": []
          },
          "execution_count": 33
        }
      ]
    }
  ]
}
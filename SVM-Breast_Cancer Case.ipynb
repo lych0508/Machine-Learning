{
  "nbformat": 4,
  "nbformat_minor": 0,
  "metadata": {
    "colab": {
      "name": "HW6Li-Yichen.ipynb",
      "version": "0.3.2",
      "provenance": [],
      "collapsed_sections": []
    },
    "kernelspec": {
      "display_name": "Python 3",
      "language": "python",
      "name": "python3"
    }
  },
  "cells": [
    {
      "cell_type": "markdown",
      "metadata": {
        "id": "EylHuuC3mcRw",
        "colab_type": "text"
      },
      "source": [
        "# HW #6: Evaluating SVM\n",
        "---\n",
        "\n",
        "In this HW, you'll explore several data sets with SVM classifiers and compare them to logistic regression classifiers.  \n",
        "\n",
        "Use markdown cells to explain your observation.  \n",
        "\n",
        "We will use two data sets:\n",
        "\n",
        "**Breast Cancer**\n",
        "\n",
        "    breast_cancer.csv\n",
        "\n",
        "**Car Evaluation**\n",
        "\n",
        "    car.csv\n"
      ]
    },
    {
      "cell_type": "code",
      "metadata": {
        "id": "m5WZZiXzmcRx",
        "colab_type": "code",
        "colab": {}
      },
      "source": [
        "import pandas as pd\n",
        "import numpy as np\n",
        "import matplotlib.pyplot as plt\n",
        "import seaborn as sns\n",
        "\n",
        "from sklearn.svm import SVC\n",
        "from sklearn.linear_model import LogisticRegression\n",
        "from sklearn import linear_model, datasets\n",
        "from sklearn.model_selection import cross_val_score\n",
        "from sklearn.metrics import confusion_matrix\n",
        "\n",
        "plt.style.use('fivethirtyeight')\n",
        "\n",
        "from ipywidgets import *\n",
        "from IPython.display import display\n",
        "\n",
        "%matplotlib inline\n",
        "%config InlineBackend.figure_format = 'retina'"
      ],
      "execution_count": 0,
      "outputs": []
    },
    {
      "cell_type": "code",
      "metadata": {
        "colab_type": "code",
        "id": "1WbzJM4cYp1I",
        "colab": {}
      },
      "source": [
        "#1 Code to read csv file into colaboratory:\n",
        "!pip install -U -q PyDrive\n",
        "from pydrive.auth import GoogleAuth\n",
        "from pydrive.drive import GoogleDrive\n",
        "from google.colab import auth\n",
        "from oauth2client.client import GoogleCredentials\n",
        "\n",
        "# 1. Authenticate and create the PyDrive client.\n",
        "auth.authenticate_user()\n",
        "gauth = GoogleAuth()\n",
        "gauth.credentials = GoogleCredentials.get_application_default()\n",
        "drive = GoogleDrive(gauth)"
      ],
      "execution_count": 0,
      "outputs": []
    },
    {
      "cell_type": "code",
      "metadata": {
        "colab_type": "code",
        "id": "ubjxW9IrYrMG",
        "colab": {}
      },
      "source": [
        "#2. Get the file\n",
        "#make sure you upload all your data files to your Google drive and change share->Advanced->change->anyone with the link can view\n",
        "downloaded = drive.CreateFile({'id':'1kxV5c1FgaUM-KFoHVAM7-np6LnpIFZxQ'}) # replace the id with id of file you want to access\n",
        "downloaded.GetContentFile('breast_cancer.csv')\n",
        "\n",
        "\n",
        "downloaded = drive.CreateFile({'id':'1ILf9_rzNvU9ip4_tyQx3oVSrMciMg_sm'}) # replace the id with id of file you want to access\n",
        "downloaded.GetContentFile('car.csv')"
      ],
      "execution_count": 0,
      "outputs": []
    },
    {
      "cell_type": "markdown",
      "metadata": {
        "id": "xHmLV-HumcRz",
        "colab_type": "text"
      },
      "source": [
        "### 1) Load the breast cancer data.\n",
        "\n",
        "- Are there any missing values? If so, impute or clean the data set.\n",
        "- Select a classification target and predictors."
      ]
    },
    {
      "cell_type": "code",
      "metadata": {
        "id": "RvUhHjvemcR0",
        "colab_type": "code",
        "colab": {}
      },
      "source": [
        "df = pd.read_csv('breast_cancer.csv', na_values='?')"
      ],
      "execution_count": 0,
      "outputs": []
    },
    {
      "cell_type": "code",
      "metadata": {
        "id": "GBJIiLYMmcR2",
        "colab_type": "code",
        "outputId": "0e43469e-dc3d-44ce-8c99-2d1bb0f32278",
        "colab": {
          "base_uri": "https://localhost:8080/",
          "height": 224
        }
      },
      "source": [
        "# A:\n",
        "df.head()"
      ],
      "execution_count": 0,
      "outputs": [
        {
          "output_type": "execute_result",
          "data": {
            "text/html": [
              "<div>\n",
              "<style scoped>\n",
              "    .dataframe tbody tr th:only-of-type {\n",
              "        vertical-align: middle;\n",
              "    }\n",
              "\n",
              "    .dataframe tbody tr th {\n",
              "        vertical-align: top;\n",
              "    }\n",
              "\n",
              "    .dataframe thead th {\n",
              "        text-align: right;\n",
              "    }\n",
              "</style>\n",
              "<table border=\"1\" class=\"dataframe\">\n",
              "  <thead>\n",
              "    <tr style=\"text-align: right;\">\n",
              "      <th></th>\n",
              "      <th>Sample_code_number</th>\n",
              "      <th>Clump_Thickness</th>\n",
              "      <th>Uniformity_of_Cell_Size</th>\n",
              "      <th>Uniformity_of_Cell_Shape</th>\n",
              "      <th>Marginal_Adhesion</th>\n",
              "      <th>Single_Epithelial_Cell_Size</th>\n",
              "      <th>Bare_Nuclei</th>\n",
              "      <th>Bland_Chromatin</th>\n",
              "      <th>Normal_Nucleoli</th>\n",
              "      <th>Mitoses</th>\n",
              "      <th>Class</th>\n",
              "    </tr>\n",
              "  </thead>\n",
              "  <tbody>\n",
              "    <tr>\n",
              "      <th>0</th>\n",
              "      <td>1000025</td>\n",
              "      <td>5</td>\n",
              "      <td>1</td>\n",
              "      <td>1</td>\n",
              "      <td>1</td>\n",
              "      <td>2</td>\n",
              "      <td>1.0</td>\n",
              "      <td>3</td>\n",
              "      <td>1</td>\n",
              "      <td>1</td>\n",
              "      <td>2</td>\n",
              "    </tr>\n",
              "    <tr>\n",
              "      <th>1</th>\n",
              "      <td>1002945</td>\n",
              "      <td>5</td>\n",
              "      <td>4</td>\n",
              "      <td>4</td>\n",
              "      <td>5</td>\n",
              "      <td>7</td>\n",
              "      <td>10.0</td>\n",
              "      <td>3</td>\n",
              "      <td>2</td>\n",
              "      <td>1</td>\n",
              "      <td>2</td>\n",
              "    </tr>\n",
              "    <tr>\n",
              "      <th>2</th>\n",
              "      <td>1015425</td>\n",
              "      <td>3</td>\n",
              "      <td>1</td>\n",
              "      <td>1</td>\n",
              "      <td>1</td>\n",
              "      <td>2</td>\n",
              "      <td>2.0</td>\n",
              "      <td>3</td>\n",
              "      <td>1</td>\n",
              "      <td>1</td>\n",
              "      <td>2</td>\n",
              "    </tr>\n",
              "    <tr>\n",
              "      <th>3</th>\n",
              "      <td>1016277</td>\n",
              "      <td>6</td>\n",
              "      <td>8</td>\n",
              "      <td>8</td>\n",
              "      <td>1</td>\n",
              "      <td>3</td>\n",
              "      <td>4.0</td>\n",
              "      <td>3</td>\n",
              "      <td>7</td>\n",
              "      <td>1</td>\n",
              "      <td>2</td>\n",
              "    </tr>\n",
              "    <tr>\n",
              "      <th>4</th>\n",
              "      <td>1017023</td>\n",
              "      <td>4</td>\n",
              "      <td>1</td>\n",
              "      <td>1</td>\n",
              "      <td>3</td>\n",
              "      <td>2</td>\n",
              "      <td>1.0</td>\n",
              "      <td>3</td>\n",
              "      <td>1</td>\n",
              "      <td>1</td>\n",
              "      <td>2</td>\n",
              "    </tr>\n",
              "  </tbody>\n",
              "</table>\n",
              "</div>"
            ],
            "text/plain": [
              "   Sample_code_number  Clump_Thickness  Uniformity_of_Cell_Size  \\\n",
              "0             1000025                5                        1   \n",
              "1             1002945                5                        4   \n",
              "2             1015425                3                        1   \n",
              "3             1016277                6                        8   \n",
              "4             1017023                4                        1   \n",
              "\n",
              "   Uniformity_of_Cell_Shape  Marginal_Adhesion  Single_Epithelial_Cell_Size  \\\n",
              "0                         1                  1                            2   \n",
              "1                         4                  5                            7   \n",
              "2                         1                  1                            2   \n",
              "3                         8                  1                            3   \n",
              "4                         1                  3                            2   \n",
              "\n",
              "   Bare_Nuclei  Bland_Chromatin  Normal_Nucleoli  Mitoses  Class  \n",
              "0          1.0                3                1        1      2  \n",
              "1         10.0                3                2        1      2  \n",
              "2          2.0                3                1        1      2  \n",
              "3          4.0                3                7        1      2  \n",
              "4          1.0                3                1        1      2  "
            ]
          },
          "metadata": {
            "tags": []
          },
          "execution_count": 5
        }
      ]
    },
    {
      "cell_type": "code",
      "metadata": {
        "id": "AqtIEjvbR84P",
        "colab_type": "code",
        "outputId": "d3e31f63-e6e4-4ccb-d633-30e35afe573e",
        "colab": {
          "base_uri": "https://localhost:8080/",
          "height": 289
        }
      },
      "source": [
        "df.info()"
      ],
      "execution_count": 0,
      "outputs": [
        {
          "output_type": "stream",
          "text": [
            "<class 'pandas.core.frame.DataFrame'>\n",
            "RangeIndex: 699 entries, 0 to 698\n",
            "Data columns (total 11 columns):\n",
            "Sample_code_number             699 non-null int64\n",
            "Clump_Thickness                699 non-null int64\n",
            "Uniformity_of_Cell_Size        699 non-null int64\n",
            "Uniformity_of_Cell_Shape       699 non-null int64\n",
            "Marginal_Adhesion              699 non-null int64\n",
            "Single_Epithelial_Cell_Size    699 non-null int64\n",
            "Bare_Nuclei                    683 non-null float64\n",
            "Bland_Chromatin                699 non-null int64\n",
            "Normal_Nucleoli                699 non-null int64\n",
            "Mitoses                        699 non-null int64\n",
            "Class                          699 non-null int64\n",
            "dtypes: float64(1), int64(10)\n",
            "memory usage: 60.1 KB\n"
          ],
          "name": "stdout"
        }
      ]
    },
    {
      "cell_type": "code",
      "metadata": {
        "id": "iQE6b_2XMPhE",
        "colab_type": "code",
        "outputId": "7112f85c-c198-4cf9-8b01-e83ddc21f5c2",
        "colab": {
          "base_uri": "https://localhost:8080/",
          "height": 221
        }
      },
      "source": [
        "#check if the dataframe has null value\n",
        "df.isnull().sum()"
      ],
      "execution_count": 0,
      "outputs": [
        {
          "output_type": "execute_result",
          "data": {
            "text/plain": [
              "Sample_code_number              0\n",
              "Clump_Thickness                 0\n",
              "Uniformity_of_Cell_Size         0\n",
              "Uniformity_of_Cell_Shape        0\n",
              "Marginal_Adhesion               0\n",
              "Single_Epithelial_Cell_Size     0\n",
              "Bare_Nuclei                    16\n",
              "Bland_Chromatin                 0\n",
              "Normal_Nucleoli                 0\n",
              "Mitoses                         0\n",
              "Class                           0\n",
              "dtype: int64"
            ]
          },
          "metadata": {
            "tags": []
          },
          "execution_count": 7
        }
      ]
    },
    {
      "cell_type": "markdown",
      "metadata": {
        "id": "zQ2CubMdMkOG",
        "colab_type": "text"
      },
      "source": [
        "**df has null values in Bare_Nuclei column**"
      ]
    },
    {
      "cell_type": "code",
      "metadata": {
        "id": "DIsdCCQ7OR2i",
        "colab_type": "code",
        "outputId": "2520cbee-9189-4459-b9ab-ddfd7675d1e7",
        "colab": {
          "base_uri": "https://localhost:8080/",
          "height": 565
        }
      },
      "source": [
        "#find all missing values\n",
        "df[df.Bare_Nuclei.isnull()]"
      ],
      "execution_count": 0,
      "outputs": [
        {
          "output_type": "execute_result",
          "data": {
            "text/html": [
              "<div>\n",
              "<style scoped>\n",
              "    .dataframe tbody tr th:only-of-type {\n",
              "        vertical-align: middle;\n",
              "    }\n",
              "\n",
              "    .dataframe tbody tr th {\n",
              "        vertical-align: top;\n",
              "    }\n",
              "\n",
              "    .dataframe thead th {\n",
              "        text-align: right;\n",
              "    }\n",
              "</style>\n",
              "<table border=\"1\" class=\"dataframe\">\n",
              "  <thead>\n",
              "    <tr style=\"text-align: right;\">\n",
              "      <th></th>\n",
              "      <th>Sample_code_number</th>\n",
              "      <th>Clump_Thickness</th>\n",
              "      <th>Uniformity_of_Cell_Size</th>\n",
              "      <th>Uniformity_of_Cell_Shape</th>\n",
              "      <th>Marginal_Adhesion</th>\n",
              "      <th>Single_Epithelial_Cell_Size</th>\n",
              "      <th>Bare_Nuclei</th>\n",
              "      <th>Bland_Chromatin</th>\n",
              "      <th>Normal_Nucleoli</th>\n",
              "      <th>Mitoses</th>\n",
              "      <th>Class</th>\n",
              "    </tr>\n",
              "  </thead>\n",
              "  <tbody>\n",
              "    <tr>\n",
              "      <th>23</th>\n",
              "      <td>1057013</td>\n",
              "      <td>8</td>\n",
              "      <td>4</td>\n",
              "      <td>5</td>\n",
              "      <td>1</td>\n",
              "      <td>2</td>\n",
              "      <td>NaN</td>\n",
              "      <td>7</td>\n",
              "      <td>3</td>\n",
              "      <td>1</td>\n",
              "      <td>4</td>\n",
              "    </tr>\n",
              "    <tr>\n",
              "      <th>40</th>\n",
              "      <td>1096800</td>\n",
              "      <td>6</td>\n",
              "      <td>6</td>\n",
              "      <td>6</td>\n",
              "      <td>9</td>\n",
              "      <td>6</td>\n",
              "      <td>NaN</td>\n",
              "      <td>7</td>\n",
              "      <td>8</td>\n",
              "      <td>1</td>\n",
              "      <td>2</td>\n",
              "    </tr>\n",
              "    <tr>\n",
              "      <th>139</th>\n",
              "      <td>1183246</td>\n",
              "      <td>1</td>\n",
              "      <td>1</td>\n",
              "      <td>1</td>\n",
              "      <td>1</td>\n",
              "      <td>1</td>\n",
              "      <td>NaN</td>\n",
              "      <td>2</td>\n",
              "      <td>1</td>\n",
              "      <td>1</td>\n",
              "      <td>2</td>\n",
              "    </tr>\n",
              "    <tr>\n",
              "      <th>145</th>\n",
              "      <td>1184840</td>\n",
              "      <td>1</td>\n",
              "      <td>1</td>\n",
              "      <td>3</td>\n",
              "      <td>1</td>\n",
              "      <td>2</td>\n",
              "      <td>NaN</td>\n",
              "      <td>2</td>\n",
              "      <td>1</td>\n",
              "      <td>1</td>\n",
              "      <td>2</td>\n",
              "    </tr>\n",
              "    <tr>\n",
              "      <th>158</th>\n",
              "      <td>1193683</td>\n",
              "      <td>1</td>\n",
              "      <td>1</td>\n",
              "      <td>2</td>\n",
              "      <td>1</td>\n",
              "      <td>3</td>\n",
              "      <td>NaN</td>\n",
              "      <td>1</td>\n",
              "      <td>1</td>\n",
              "      <td>1</td>\n",
              "      <td>2</td>\n",
              "    </tr>\n",
              "    <tr>\n",
              "      <th>164</th>\n",
              "      <td>1197510</td>\n",
              "      <td>5</td>\n",
              "      <td>1</td>\n",
              "      <td>1</td>\n",
              "      <td>1</td>\n",
              "      <td>2</td>\n",
              "      <td>NaN</td>\n",
              "      <td>3</td>\n",
              "      <td>1</td>\n",
              "      <td>1</td>\n",
              "      <td>2</td>\n",
              "    </tr>\n",
              "    <tr>\n",
              "      <th>235</th>\n",
              "      <td>1241232</td>\n",
              "      <td>3</td>\n",
              "      <td>1</td>\n",
              "      <td>4</td>\n",
              "      <td>1</td>\n",
              "      <td>2</td>\n",
              "      <td>NaN</td>\n",
              "      <td>3</td>\n",
              "      <td>1</td>\n",
              "      <td>1</td>\n",
              "      <td>2</td>\n",
              "    </tr>\n",
              "    <tr>\n",
              "      <th>249</th>\n",
              "      <td>169356</td>\n",
              "      <td>3</td>\n",
              "      <td>1</td>\n",
              "      <td>1</td>\n",
              "      <td>1</td>\n",
              "      <td>2</td>\n",
              "      <td>NaN</td>\n",
              "      <td>3</td>\n",
              "      <td>1</td>\n",
              "      <td>1</td>\n",
              "      <td>2</td>\n",
              "    </tr>\n",
              "    <tr>\n",
              "      <th>275</th>\n",
              "      <td>432809</td>\n",
              "      <td>3</td>\n",
              "      <td>1</td>\n",
              "      <td>3</td>\n",
              "      <td>1</td>\n",
              "      <td>2</td>\n",
              "      <td>NaN</td>\n",
              "      <td>2</td>\n",
              "      <td>1</td>\n",
              "      <td>1</td>\n",
              "      <td>2</td>\n",
              "    </tr>\n",
              "    <tr>\n",
              "      <th>292</th>\n",
              "      <td>563649</td>\n",
              "      <td>8</td>\n",
              "      <td>8</td>\n",
              "      <td>8</td>\n",
              "      <td>1</td>\n",
              "      <td>2</td>\n",
              "      <td>NaN</td>\n",
              "      <td>6</td>\n",
              "      <td>10</td>\n",
              "      <td>1</td>\n",
              "      <td>4</td>\n",
              "    </tr>\n",
              "    <tr>\n",
              "      <th>294</th>\n",
              "      <td>606140</td>\n",
              "      <td>1</td>\n",
              "      <td>1</td>\n",
              "      <td>1</td>\n",
              "      <td>1</td>\n",
              "      <td>2</td>\n",
              "      <td>NaN</td>\n",
              "      <td>2</td>\n",
              "      <td>1</td>\n",
              "      <td>1</td>\n",
              "      <td>2</td>\n",
              "    </tr>\n",
              "    <tr>\n",
              "      <th>297</th>\n",
              "      <td>61634</td>\n",
              "      <td>5</td>\n",
              "      <td>4</td>\n",
              "      <td>3</td>\n",
              "      <td>1</td>\n",
              "      <td>2</td>\n",
              "      <td>NaN</td>\n",
              "      <td>2</td>\n",
              "      <td>3</td>\n",
              "      <td>1</td>\n",
              "      <td>2</td>\n",
              "    </tr>\n",
              "    <tr>\n",
              "      <th>315</th>\n",
              "      <td>704168</td>\n",
              "      <td>4</td>\n",
              "      <td>6</td>\n",
              "      <td>5</td>\n",
              "      <td>6</td>\n",
              "      <td>7</td>\n",
              "      <td>NaN</td>\n",
              "      <td>4</td>\n",
              "      <td>9</td>\n",
              "      <td>1</td>\n",
              "      <td>2</td>\n",
              "    </tr>\n",
              "    <tr>\n",
              "      <th>321</th>\n",
              "      <td>733639</td>\n",
              "      <td>3</td>\n",
              "      <td>1</td>\n",
              "      <td>1</td>\n",
              "      <td>1</td>\n",
              "      <td>2</td>\n",
              "      <td>NaN</td>\n",
              "      <td>3</td>\n",
              "      <td>1</td>\n",
              "      <td>1</td>\n",
              "      <td>2</td>\n",
              "    </tr>\n",
              "    <tr>\n",
              "      <th>411</th>\n",
              "      <td>1238464</td>\n",
              "      <td>1</td>\n",
              "      <td>1</td>\n",
              "      <td>1</td>\n",
              "      <td>1</td>\n",
              "      <td>1</td>\n",
              "      <td>NaN</td>\n",
              "      <td>2</td>\n",
              "      <td>1</td>\n",
              "      <td>1</td>\n",
              "      <td>2</td>\n",
              "    </tr>\n",
              "    <tr>\n",
              "      <th>617</th>\n",
              "      <td>1057067</td>\n",
              "      <td>1</td>\n",
              "      <td>1</td>\n",
              "      <td>1</td>\n",
              "      <td>1</td>\n",
              "      <td>1</td>\n",
              "      <td>NaN</td>\n",
              "      <td>1</td>\n",
              "      <td>1</td>\n",
              "      <td>1</td>\n",
              "      <td>2</td>\n",
              "    </tr>\n",
              "  </tbody>\n",
              "</table>\n",
              "</div>"
            ],
            "text/plain": [
              "     Sample_code_number  Clump_Thickness  Uniformity_of_Cell_Size  \\\n",
              "23              1057013                8                        4   \n",
              "40              1096800                6                        6   \n",
              "139             1183246                1                        1   \n",
              "145             1184840                1                        1   \n",
              "158             1193683                1                        1   \n",
              "164             1197510                5                        1   \n",
              "235             1241232                3                        1   \n",
              "249              169356                3                        1   \n",
              "275              432809                3                        1   \n",
              "292              563649                8                        8   \n",
              "294              606140                1                        1   \n",
              "297               61634                5                        4   \n",
              "315              704168                4                        6   \n",
              "321              733639                3                        1   \n",
              "411             1238464                1                        1   \n",
              "617             1057067                1                        1   \n",
              "\n",
              "     Uniformity_of_Cell_Shape  Marginal_Adhesion  Single_Epithelial_Cell_Size  \\\n",
              "23                          5                  1                            2   \n",
              "40                          6                  9                            6   \n",
              "139                         1                  1                            1   \n",
              "145                         3                  1                            2   \n",
              "158                         2                  1                            3   \n",
              "164                         1                  1                            2   \n",
              "235                         4                  1                            2   \n",
              "249                         1                  1                            2   \n",
              "275                         3                  1                            2   \n",
              "292                         8                  1                            2   \n",
              "294                         1                  1                            2   \n",
              "297                         3                  1                            2   \n",
              "315                         5                  6                            7   \n",
              "321                         1                  1                            2   \n",
              "411                         1                  1                            1   \n",
              "617                         1                  1                            1   \n",
              "\n",
              "     Bare_Nuclei  Bland_Chromatin  Normal_Nucleoli  Mitoses  Class  \n",
              "23           NaN                7                3        1      4  \n",
              "40           NaN                7                8        1      2  \n",
              "139          NaN                2                1        1      2  \n",
              "145          NaN                2                1        1      2  \n",
              "158          NaN                1                1        1      2  \n",
              "164          NaN                3                1        1      2  \n",
              "235          NaN                3                1        1      2  \n",
              "249          NaN                3                1        1      2  \n",
              "275          NaN                2                1        1      2  \n",
              "292          NaN                6               10        1      4  \n",
              "294          NaN                2                1        1      2  \n",
              "297          NaN                2                3        1      2  \n",
              "315          NaN                4                9        1      2  \n",
              "321          NaN                3                1        1      2  \n",
              "411          NaN                2                1        1      2  \n",
              "617          NaN                1                1        1      2  "
            ]
          },
          "metadata": {
            "tags": []
          },
          "execution_count": 8
        }
      ]
    },
    {
      "cell_type": "code",
      "metadata": {
        "id": "WzOncp0nQAp0",
        "colab_type": "code",
        "outputId": "85a08b51-bc38-450e-98a3-ee9679b0431c",
        "colab": {
          "base_uri": "https://localhost:8080/",
          "height": 204
        }
      },
      "source": [
        "#check values in Bare_Nuclei column\n",
        "df.Bare_Nuclei.value_counts()"
      ],
      "execution_count": 0,
      "outputs": [
        {
          "output_type": "execute_result",
          "data": {
            "text/plain": [
              "1.0     402\n",
              "10.0    132\n",
              "5.0      30\n",
              "2.0      30\n",
              "3.0      28\n",
              "8.0      21\n",
              "4.0      19\n",
              "9.0       9\n",
              "7.0       8\n",
              "6.0       4\n",
              "Name: Bare_Nuclei, dtype: int64"
            ]
          },
          "metadata": {
            "tags": []
          },
          "execution_count": 9
        }
      ]
    },
    {
      "cell_type": "markdown",
      "metadata": {
        "id": "FaS5o0ydU-Mq",
        "colab_type": "text"
      },
      "source": [
        "Since it is hard to assign a value to the NaN value, I decide to drop them."
      ]
    },
    {
      "cell_type": "code",
      "metadata": {
        "id": "CioCZ-TFRoTB",
        "colab_type": "code",
        "colab": {}
      },
      "source": [
        "df=df.dropna()"
      ],
      "execution_count": 0,
      "outputs": []
    },
    {
      "cell_type": "markdown",
      "metadata": {
        "id": "Y608YT_WVh9G",
        "colab_type": "text"
      },
      "source": [
        "**Then I begin to select a classification target and predictors.**\n",
        "\n",
        "\n",
        "**First, I check the values of Class Column**"
      ]
    },
    {
      "cell_type": "code",
      "metadata": {
        "id": "iqSZ4LeASPXa",
        "colab_type": "code",
        "outputId": "b9cd2cb4-ca6d-4822-c976-bebab06bfeda",
        "colab": {
          "base_uri": "https://localhost:8080/",
          "height": 68
        }
      },
      "source": [
        "df.Class.value_counts()"
      ],
      "execution_count": 0,
      "outputs": [
        {
          "output_type": "execute_result",
          "data": {
            "text/plain": [
              "2    444\n",
              "4    239\n",
              "Name: Class, dtype: int64"
            ]
          },
          "metadata": {
            "tags": []
          },
          "execution_count": 11
        }
      ]
    },
    {
      "cell_type": "markdown",
      "metadata": {
        "id": "nCOKw0w9V-fE",
        "colab_type": "text"
      },
      "source": [
        "**I convert the vaules in target to 0/1 **"
      ]
    },
    {
      "cell_type": "code",
      "metadata": {
        "id": "YRzM1-j6WtrX",
        "colab_type": "code",
        "outputId": "5169bec5-6c1f-4ba9-aac3-1a934c8aa96e",
        "colab": {
          "base_uri": "https://localhost:8080/",
          "height": 68
        }
      },
      "source": [
        "df['Class'].replace({2:0, 4:1}, inplace=True)\n",
        "df.Class.value_counts()"
      ],
      "execution_count": 0,
      "outputs": [
        {
          "output_type": "execute_result",
          "data": {
            "text/plain": [
              "0    444\n",
              "1    239\n",
              "Name: Class, dtype: int64"
            ]
          },
          "metadata": {
            "tags": []
          },
          "execution_count": 12
        }
      ]
    },
    {
      "cell_type": "markdown",
      "metadata": {
        "id": "t9wEOnxzZHTJ",
        "colab_type": "text"
      },
      "source": [
        "**Then, I want to check the features' correlations to the target \"Class\"**"
      ]
    },
    {
      "cell_type": "code",
      "metadata": {
        "id": "inMvD4UEX41j",
        "colab_type": "code",
        "outputId": "265725a3-659d-411c-fd7c-6270a257a209",
        "colab": {
          "base_uri": "https://localhost:8080/",
          "height": 204
        }
      },
      "source": [
        "df.corr().abs().Class.sort_values(ascending=False)[1:]"
      ],
      "execution_count": 0,
      "outputs": [
        {
          "output_type": "execute_result",
          "data": {
            "text/plain": [
              "Bare_Nuclei                    0.822696\n",
              "Uniformity_of_Cell_Shape       0.821891\n",
              "Uniformity_of_Cell_Size        0.820801\n",
              "Bland_Chromatin                0.758228\n",
              "Normal_Nucleoli                0.718677\n",
              "Clump_Thickness                0.714790\n",
              "Marginal_Adhesion              0.706294\n",
              "Single_Epithelial_Cell_Size    0.690958\n",
              "Mitoses                        0.423448\n",
              "Sample_code_number             0.084701\n",
              "Name: Class, dtype: float64"
            ]
          },
          "metadata": {
            "tags": []
          },
          "execution_count": 13
        }
      ]
    },
    {
      "cell_type": "code",
      "metadata": {
        "id": "2RykeGp6ZsTs",
        "colab_type": "code",
        "outputId": "8b81dd08-a313-4faf-e18a-bf2869f3d0f9",
        "colab": {
          "base_uri": "https://localhost:8080/",
          "height": 398
        }
      },
      "source": [
        "sns.heatmap(df.corr().abs())"
      ],
      "execution_count": 0,
      "outputs": [
        {
          "output_type": "execute_result",
          "data": {
            "text/plain": [
              "<matplotlib.axes._subplots.AxesSubplot at 0x7f052b94ba58>"
            ]
          },
          "metadata": {
            "tags": []
          },
          "execution_count": 14
        },
        {
          "output_type": "display_data",
          "data": {
            "image/png": "[encoded data removed]",
            "text/plain": [
              "<Figure size 432x288 with 2 Axes>"
            ]
          },
          "metadata": {
            "tags": [],
            "image/png": {
              "width": 494,
              "height": 364
            }
          }
        }
      ]
    },
    {
      "cell_type": "markdown",
      "metadata": {
        "id": "DMx6-gpJZGsd",
        "colab_type": "text"
      },
      "source": [
        "**The correlation shows only Sample_code_number has little relationship with the target \"Class\". Therefore, I choose all features except \"Sample_code_number\" as predictor.**"
      ]
    },
    {
      "cell_type": "markdown",
      "metadata": {
        "id": "tavuEjVpa7RL",
        "colab_type": "text"
      },
      "source": [
        "**Create a feature matrix X a series y**"
      ]
    },
    {
      "cell_type": "code",
      "metadata": {
        "id": "cAQuX_tJaWF7",
        "colab_type": "code",
        "colab": {}
      },
      "source": [
        "y=df['Class']\n",
        "X = df.iloc[:,1:9]"
      ],
      "execution_count": 0,
      "outputs": []
    },
    {
      "cell_type": "markdown",
      "metadata": {
        "id": "-TEYtmNDmcR4",
        "colab_type": "text"
      },
      "source": [
        "### 2) Build an SVM classifier on the data.\n",
        "\n",
        "For details on the SVM classifier, [click here](http://scikit-learn.org/stable/modules/generated/sklearn.svm.SVC.html).\n",
        "\n",
        "- Initialize and train a linear SVM. What's the average accuracy score with a five-fold cross-validation?\n",
        "- Repeat using a radial basis function (RBF) classifier. Compare the scores. Which one is better?\n",
        "- Print a confusion matrix and classification report for your best model using training and testing data.\n",
        "\n",
        "**[View Classification report and Confusion matrix coding example here](http://joshlawman.com/metrics-classification-report-breakdown-precision-recall-f1/)**"
      ]
    },
    {
      "cell_type": "markdown",
      "metadata": {
        "id": "CvMFjoWAemnH",
        "colab_type": "text"
      },
      "source": [
        "**Initialize and train a linear SVM. What's the average accuracy score with a five-fold cross-validation?**"
      ]
    },
    {
      "cell_type": "code",
      "metadata": {
        "id": "7h_AWHQGtI4E",
        "colab_type": "code",
        "colab": {}
      },
      "source": [
        "from sklearn.model_selection import cross_val_score, StratifiedKFold, KFold\n",
        "kf = KFold(n_splits=5,shuffle=True)"
      ],
      "execution_count": 0,
      "outputs": []
    },
    {
      "cell_type": "code",
      "metadata": {
        "id": "XsR5iveXfmYk",
        "colab_type": "code",
        "outputId": "0a7adeed-5713-4d28-e10b-59fdaa2252c9",
        "colab": {
          "base_uri": "https://localhost:8080/",
          "height": 34
        }
      },
      "source": [
        "svc = SVC(kernel = 'linear')        # linear\n",
        "print( \"SVM with linear kernel:\",cross_val_score(svc, X, y, cv=kf, scoring='accuracy').mean())"
      ],
      "execution_count": 0,
      "outputs": [
        {
          "output_type": "stream",
          "text": [
            "SVM with linear kernel: 0.9707385143838557\n"
          ],
          "name": "stdout"
        }
      ]
    },
    {
      "cell_type": "markdown",
      "metadata": {
        "id": "lKkE7SK-iGsU",
        "colab_type": "text"
      },
      "source": [
        "Repeat using a radial basis function (RBF) classifier. Compare the scores. Which one is better?"
      ]
    },
    {
      "cell_type": "code",
      "metadata": {
        "id": "qDhBfs_WiJb4",
        "colab_type": "code",
        "outputId": "a0709c98-25fd-4f3d-f7d7-c1ebe870b026",
        "colab": {
          "base_uri": "https://localhost:8080/",
          "height": 34
        }
      },
      "source": [
        "rbf_svc = SVC(kernel = 'rbf', gamma='auto', C=1)           # rbf\n",
        "\n",
        "\n",
        "#Establish true y values\n",
        "#y_true1 = y_train\n",
        "kf = KFold(n_splits=5)\n",
        "print(\"SVM with rbf kernel:\",cross_val_score(rbf_svc, X, y, cv=kf, scoring='accuracy').mean())"
      ],
      "execution_count": 0,
      "outputs": [
        {
          "output_type": "stream",
          "text": [
            "SVM with rbf kernel: 0.9561292400171748\n"
          ],
          "name": "stdout"
        }
      ]
    },
    {
      "cell_type": "markdown",
      "metadata": {
        "id": "N4UzLzilijkb",
        "colab_type": "text"
      },
      "source": [
        "**SVM with Linear is better**"
      ]
    },
    {
      "cell_type": "code",
      "metadata": {
        "id": "CvkUFZljadAl",
        "colab_type": "code",
        "outputId": "9af38c11-3530-4a5e-e4e9-f0a278650f6b",
        "colab": {
          "base_uri": "https://localhost:8080/",
          "height": 51
        }
      },
      "source": [
        "from sklearn.model_selection import train_test_split\n",
        "X_train, X_test, y_train, y_test = train_test_split(X, y, test_size=0.3)\n",
        "print (X_train.shape, y_train.shape)\n",
        "print (X_test.shape, y_test.shape)"
      ],
      "execution_count": 0,
      "outputs": [
        {
          "output_type": "stream",
          "text": [
            "(478, 8) (478,)\n",
            "(205, 8) (205,)\n"
          ],
          "name": "stdout"
        }
      ]
    },
    {
      "cell_type": "code",
      "metadata": {
        "id": "6FZ-mPNrmcR5",
        "colab_type": "code",
        "colab": {}
      },
      "source": [
        "# A:\n",
        "#Create instance of Support Vector Classifier\n",
        "svc = SVC(kernel = 'linear')\n",
        "\n",
        "#Fit estimator to 70% of the data\n",
        "svc.fit(X_train, y_train)\n",
        "\n",
        "#Predict final 30%\n",
        "y_pred = svc.predict(X_test)\n",
        "\n",
        "#Establish true y values\n",
        "y_true = y_test\n"
      ],
      "execution_count": 0,
      "outputs": []
    },
    {
      "cell_type": "markdown",
      "metadata": {
        "id": "rMTHJ4Ibi7jT",
        "colab_type": "text"
      },
      "source": [
        "**Print a confusion matrix and classification report for your best model using training and testing data.**\n"
      ]
    },
    {
      "cell_type": "code",
      "metadata": {
        "id": "jya0vJh9j1lP",
        "colab_type": "code",
        "outputId": "3995f2a0-cc67-4c1d-f496-df0061f30d7b",
        "colab": {
          "base_uri": "https://localhost:8080/",
          "height": 68
        }
      },
      "source": [
        "confusion_df = pd.DataFrame(confusion_matrix(y_true,y_pred),\n",
        "             columns=[\"Predicted Class \" + str(class_name) for class_name in [0,1]],\n",
        "             index = [\"Class \" + str(class_name) for class_name in [0,1]])\n",
        "\n",
        "print(confusion_df)"
      ],
      "execution_count": 0,
      "outputs": [
        {
          "output_type": "stream",
          "text": [
            "         Predicted Class 0  Predicted Class 1\n",
            "Class 0                132                  4\n",
            "Class 1                  1                 68\n"
          ],
          "name": "stdout"
        }
      ]
    },
    {
      "cell_type": "code",
      "metadata": {
        "id": "2IbxXtTLkmEX",
        "colab_type": "code",
        "outputId": "6f7d0e13-6782-4136-a6a1-28c694046b74",
        "colab": {
          "base_uri": "https://localhost:8080/",
          "height": 170
        }
      },
      "source": [
        "from sklearn.metrics import classification_report\n",
        "\n",
        "print(classification_report(y_true,y_pred))"
      ],
      "execution_count": 0,
      "outputs": [
        {
          "output_type": "stream",
          "text": [
            "              precision    recall  f1-score   support\n",
            "\n",
            "           0       0.99      0.97      0.98       136\n",
            "           1       0.94      0.99      0.96        69\n",
            "\n",
            "   micro avg       0.98      0.98      0.98       205\n",
            "   macro avg       0.97      0.98      0.97       205\n",
            "weighted avg       0.98      0.98      0.98       205\n",
            "\n"
          ],
          "name": "stdout"
        }
      ]
    },
    {
      "cell_type": "markdown",
      "metadata": {
        "id": "OirS8-2RmcR_",
        "colab_type": "text"
      },
      "source": [
        "#### 2.A) Are there more false positives or false negatives? Is this good or bad?"
      ]
    },
    {
      "cell_type": "markdown",
      "metadata": {
        "id": "28p7cAHtlyXd",
        "colab_type": "text"
      },
      "source": [
        "**There are 4 false positive and 1 false negative. The precision rate 94.4 is % and the recall rate is 98.5%. Therefore, I think it is good**"
      ]
    },
    {
      "cell_type": "markdown",
      "metadata": {
        "id": "07kc10K0mcSB",
        "colab_type": "text"
      },
      "source": [
        "### 3) Compare SVM and logistic regression using cars' dataset.\n",
        "\n",
        "You should work on the following:\n",
        "\n",
        "- With default hyperparameters, compare the performance of SVM vs. Logistic Regression\n",
        "- What choice of kernel would give SVM the best performance\n",
        "\n",
        "Use the following to discuss performance\n",
        "- The mean value of cross-validate scores.\n",
        "- Examine confusion matrices and classification reports.\n"
      ]
    },
    {
      "cell_type": "code",
      "metadata": {
        "id": "NfF4PqSRmcSC",
        "colab_type": "code",
        "outputId": "ecae53bf-84d7-49e6-8efb-f58fb5c271c7",
        "colab": {
          "base_uri": "https://localhost:8080/",
          "height": 204
        }
      },
      "source": [
        "car = pd.read_csv('car.csv')\n",
        "car.head()"
      ],
      "execution_count": 0,
      "outputs": [
        {
          "output_type": "execute_result",
          "data": {
            "text/html": [
              "<div>\n",
              "<style scoped>\n",
              "    .dataframe tbody tr th:only-of-type {\n",
              "        vertical-align: middle;\n",
              "    }\n",
              "\n",
              "    .dataframe tbody tr th {\n",
              "        vertical-align: top;\n",
              "    }\n",
              "\n",
              "    .dataframe thead th {\n",
              "        text-align: right;\n",
              "    }\n",
              "</style>\n",
              "<table border=\"1\" class=\"dataframe\">\n",
              "  <thead>\n",
              "    <tr style=\"text-align: right;\">\n",
              "      <th></th>\n",
              "      <th>buying</th>\n",
              "      <th>maint</th>\n",
              "      <th>doors</th>\n",
              "      <th>persons</th>\n",
              "      <th>lug_boot</th>\n",
              "      <th>safety</th>\n",
              "      <th>acceptability</th>\n",
              "    </tr>\n",
              "  </thead>\n",
              "  <tbody>\n",
              "    <tr>\n",
              "      <th>0</th>\n",
              "      <td>vhigh</td>\n",
              "      <td>vhigh</td>\n",
              "      <td>2</td>\n",
              "      <td>2</td>\n",
              "      <td>small</td>\n",
              "      <td>low</td>\n",
              "      <td>unacc</td>\n",
              "    </tr>\n",
              "    <tr>\n",
              "      <th>1</th>\n",
              "      <td>vhigh</td>\n",
              "      <td>vhigh</td>\n",
              "      <td>2</td>\n",
              "      <td>2</td>\n",
              "      <td>small</td>\n",
              "      <td>med</td>\n",
              "      <td>unacc</td>\n",
              "    </tr>\n",
              "    <tr>\n",
              "      <th>2</th>\n",
              "      <td>vhigh</td>\n",
              "      <td>vhigh</td>\n",
              "      <td>2</td>\n",
              "      <td>2</td>\n",
              "      <td>small</td>\n",
              "      <td>high</td>\n",
              "      <td>unacc</td>\n",
              "    </tr>\n",
              "    <tr>\n",
              "      <th>3</th>\n",
              "      <td>vhigh</td>\n",
              "      <td>vhigh</td>\n",
              "      <td>2</td>\n",
              "      <td>2</td>\n",
              "      <td>med</td>\n",
              "      <td>low</td>\n",
              "      <td>unacc</td>\n",
              "    </tr>\n",
              "    <tr>\n",
              "      <th>4</th>\n",
              "      <td>vhigh</td>\n",
              "      <td>vhigh</td>\n",
              "      <td>2</td>\n",
              "      <td>2</td>\n",
              "      <td>med</td>\n",
              "      <td>med</td>\n",
              "      <td>unacc</td>\n",
              "    </tr>\n",
              "  </tbody>\n",
              "</table>\n",
              "</div>"
            ],
            "text/plain": [
              "  buying  maint doors persons lug_boot safety acceptability\n",
              "0  vhigh  vhigh     2       2    small    low         unacc\n",
              "1  vhigh  vhigh     2       2    small    med         unacc\n",
              "2  vhigh  vhigh     2       2    small   high         unacc\n",
              "3  vhigh  vhigh     2       2      med    low         unacc\n",
              "4  vhigh  vhigh     2       2      med    med         unacc"
            ]
          },
          "metadata": {
            "tags": []
          },
          "execution_count": 23
        }
      ]
    },
    {
      "cell_type": "code",
      "metadata": {
        "id": "Zip0FwDOoELn",
        "colab_type": "code",
        "outputId": "b046f63b-b630-4a3d-9932-ed9776e5d11b",
        "colab": {
          "base_uri": "https://localhost:8080/",
          "height": 221
        }
      },
      "source": [
        "car.info()"
      ],
      "execution_count": 0,
      "outputs": [
        {
          "output_type": "stream",
          "text": [
            "<class 'pandas.core.frame.DataFrame'>\n",
            "RangeIndex: 1728 entries, 0 to 1727\n",
            "Data columns (total 7 columns):\n",
            "buying           1728 non-null object\n",
            "maint            1728 non-null object\n",
            "doors            1728 non-null object\n",
            "persons          1728 non-null object\n",
            "lug_boot         1728 non-null object\n",
            "safety           1728 non-null object\n",
            "acceptability    1728 non-null object\n",
            "dtypes: object(7)\n",
            "memory usage: 94.6+ KB\n"
          ],
          "name": "stdout"
        }
      ]
    },
    {
      "cell_type": "code",
      "metadata": {
        "id": "nXlqwp8wHWGf",
        "colab_type": "code",
        "outputId": "5c89926b-10f7-4425-e099-9aa16289ee23",
        "colab": {
          "base_uri": "https://localhost:8080/",
          "height": 253
        }
      },
      "source": [
        "from sklearn.preprocessing import LabelEncoder\n",
        "y1 = LabelEncoder().fit_transform(car['acceptability'])\n",
        "X1 = pd.get_dummies(car.drop('acceptability', axis=1))\n",
        "X1.head()"
      ],
      "execution_count": 0,
      "outputs": [
        {
          "output_type": "execute_result",
          "data": {
            "text/html": [
              "<div>\n",
              "<style scoped>\n",
              "    .dataframe tbody tr th:only-of-type {\n",
              "        vertical-align: middle;\n",
              "    }\n",
              "\n",
              "    .dataframe tbody tr th {\n",
              "        vertical-align: top;\n",
              "    }\n",
              "\n",
              "    .dataframe thead th {\n",
              "        text-align: right;\n",
              "    }\n",
              "</style>\n",
              "<table border=\"1\" class=\"dataframe\">\n",
              "  <thead>\n",
              "    <tr style=\"text-align: right;\">\n",
              "      <th></th>\n",
              "      <th>buying_high</th>\n",
              "      <th>buying_low</th>\n",
              "      <th>buying_med</th>\n",
              "      <th>buying_vhigh</th>\n",
              "      <th>maint_high</th>\n",
              "      <th>maint_low</th>\n",
              "      <th>maint_med</th>\n",
              "      <th>maint_vhigh</th>\n",
              "      <th>doors_2</th>\n",
              "      <th>doors_3</th>\n",
              "      <th>...</th>\n",
              "      <th>doors_5more</th>\n",
              "      <th>persons_2</th>\n",
              "      <th>persons_4</th>\n",
              "      <th>persons_more</th>\n",
              "      <th>lug_boot_big</th>\n",
              "      <th>lug_boot_med</th>\n",
              "      <th>lug_boot_small</th>\n",
              "      <th>safety_high</th>\n",
              "      <th>safety_low</th>\n",
              "      <th>safety_med</th>\n",
              "    </tr>\n",
              "  </thead>\n",
              "  <tbody>\n",
              "    <tr>\n",
              "      <th>0</th>\n",
              "      <td>0</td>\n",
              "      <td>0</td>\n",
              "      <td>0</td>\n",
              "      <td>1</td>\n",
              "      <td>0</td>\n",
              "      <td>0</td>\n",
              "      <td>0</td>\n",
              "      <td>1</td>\n",
              "      <td>1</td>\n",
              "      <td>0</td>\n",
              "      <td>...</td>\n",
              "      <td>0</td>\n",
              "      <td>1</td>\n",
              "      <td>0</td>\n",
              "      <td>0</td>\n",
              "      <td>0</td>\n",
              "      <td>0</td>\n",
              "      <td>1</td>\n",
              "      <td>0</td>\n",
              "      <td>1</td>\n",
              "      <td>0</td>\n",
              "    </tr>\n",
              "    <tr>\n",
              "      <th>1</th>\n",
              "      <td>0</td>\n",
              "      <td>0</td>\n",
              "      <td>0</td>\n",
              "      <td>1</td>\n",
              "      <td>0</td>\n",
              "      <td>0</td>\n",
              "      <td>0</td>\n",
              "      <td>1</td>\n",
              "      <td>1</td>\n",
              "      <td>0</td>\n",
              "      <td>...</td>\n",
              "      <td>0</td>\n",
              "      <td>1</td>\n",
              "      <td>0</td>\n",
              "      <td>0</td>\n",
              "      <td>0</td>\n",
              "      <td>0</td>\n",
              "      <td>1</td>\n",
              "      <td>0</td>\n",
              "      <td>0</td>\n",
              "      <td>1</td>\n",
              "    </tr>\n",
              "    <tr>\n",
              "      <th>2</th>\n",
              "      <td>0</td>\n",
              "      <td>0</td>\n",
              "      <td>0</td>\n",
              "      <td>1</td>\n",
              "      <td>0</td>\n",
              "      <td>0</td>\n",
              "      <td>0</td>\n",
              "      <td>1</td>\n",
              "      <td>1</td>\n",
              "      <td>0</td>\n",
              "      <td>...</td>\n",
              "      <td>0</td>\n",
              "      <td>1</td>\n",
              "      <td>0</td>\n",
              "      <td>0</td>\n",
              "      <td>0</td>\n",
              "      <td>0</td>\n",
              "      <td>1</td>\n",
              "      <td>1</td>\n",
              "      <td>0</td>\n",
              "      <td>0</td>\n",
              "    </tr>\n",
              "    <tr>\n",
              "      <th>3</th>\n",
              "      <td>0</td>\n",
              "      <td>0</td>\n",
              "      <td>0</td>\n",
              "      <td>1</td>\n",
              "      <td>0</td>\n",
              "      <td>0</td>\n",
              "      <td>0</td>\n",
              "      <td>1</td>\n",
              "      <td>1</td>\n",
              "      <td>0</td>\n",
              "      <td>...</td>\n",
              "      <td>0</td>\n",
              "      <td>1</td>\n",
              "      <td>0</td>\n",
              "      <td>0</td>\n",
              "      <td>0</td>\n",
              "      <td>1</td>\n",
              "      <td>0</td>\n",
              "      <td>0</td>\n",
              "      <td>1</td>\n",
              "      <td>0</td>\n",
              "    </tr>\n",
              "    <tr>\n",
              "      <th>4</th>\n",
              "      <td>0</td>\n",
              "      <td>0</td>\n",
              "      <td>0</td>\n",
              "      <td>1</td>\n",
              "      <td>0</td>\n",
              "      <td>0</td>\n",
              "      <td>0</td>\n",
              "      <td>1</td>\n",
              "      <td>1</td>\n",
              "      <td>0</td>\n",
              "      <td>...</td>\n",
              "      <td>0</td>\n",
              "      <td>1</td>\n",
              "      <td>0</td>\n",
              "      <td>0</td>\n",
              "      <td>0</td>\n",
              "      <td>1</td>\n",
              "      <td>0</td>\n",
              "      <td>0</td>\n",
              "      <td>0</td>\n",
              "      <td>1</td>\n",
              "    </tr>\n",
              "  </tbody>\n",
              "</table>\n",
              "<p>5 rows × 21 columns</p>\n",
              "</div>"
            ],
            "text/plain": [
              "   buying_high  buying_low  buying_med  buying_vhigh  maint_high  maint_low  \\\n",
              "0            0           0           0             1           0          0   \n",
              "1            0           0           0             1           0          0   \n",
              "2            0           0           0             1           0          0   \n",
              "3            0           0           0             1           0          0   \n",
              "4            0           0           0             1           0          0   \n",
              "\n",
              "   maint_med  maint_vhigh  doors_2  doors_3     ...      doors_5more  \\\n",
              "0          0            1        1        0     ...                0   \n",
              "1          0            1        1        0     ...                0   \n",
              "2          0            1        1        0     ...                0   \n",
              "3          0            1        1        0     ...                0   \n",
              "4          0            1        1        0     ...                0   \n",
              "\n",
              "   persons_2  persons_4  persons_more  lug_boot_big  lug_boot_med  \\\n",
              "0          1          0             0             0             0   \n",
              "1          1          0             0             0             0   \n",
              "2          1          0             0             0             0   \n",
              "3          1          0             0             0             1   \n",
              "4          1          0             0             0             1   \n",
              "\n",
              "   lug_boot_small  safety_high  safety_low  safety_med  \n",
              "0               1            0           1           0  \n",
              "1               1            0           0           1  \n",
              "2               1            1           0           0  \n",
              "3               0            0           1           0  \n",
              "4               0            0           0           1  \n",
              "\n",
              "[5 rows x 21 columns]"
            ]
          },
          "metadata": {
            "tags": []
          },
          "execution_count": 25
        }
      ]
    },
    {
      "cell_type": "code",
      "metadata": {
        "id": "Zw_RRiQEEVk0",
        "colab_type": "code",
        "outputId": "31c838c0-062d-4b4d-bd2b-e754abccb910",
        "colab": {
          "base_uri": "https://localhost:8080/",
          "height": 204
        }
      },
      "source": [
        "y1_df=pd.DataFrame(y1, columns=['acceptability'])\n",
        "y1_df.head()\n",
        "\n"
      ],
      "execution_count": 0,
      "outputs": [
        {
          "output_type": "execute_result",
          "data": {
            "text/html": [
              "<div>\n",
              "<style scoped>\n",
              "    .dataframe tbody tr th:only-of-type {\n",
              "        vertical-align: middle;\n",
              "    }\n",
              "\n",
              "    .dataframe tbody tr th {\n",
              "        vertical-align: top;\n",
              "    }\n",
              "\n",
              "    .dataframe thead th {\n",
              "        text-align: right;\n",
              "    }\n",
              "</style>\n",
              "<table border=\"1\" class=\"dataframe\">\n",
              "  <thead>\n",
              "    <tr style=\"text-align: right;\">\n",
              "      <th></th>\n",
              "      <th>acceptability</th>\n",
              "    </tr>\n",
              "  </thead>\n",
              "  <tbody>\n",
              "    <tr>\n",
              "      <th>0</th>\n",
              "      <td>2</td>\n",
              "    </tr>\n",
              "    <tr>\n",
              "      <th>1</th>\n",
              "      <td>2</td>\n",
              "    </tr>\n",
              "    <tr>\n",
              "      <th>2</th>\n",
              "      <td>2</td>\n",
              "    </tr>\n",
              "    <tr>\n",
              "      <th>3</th>\n",
              "      <td>2</td>\n",
              "    </tr>\n",
              "    <tr>\n",
              "      <th>4</th>\n",
              "      <td>2</td>\n",
              "    </tr>\n",
              "  </tbody>\n",
              "</table>\n",
              "</div>"
            ],
            "text/plain": [
              "   acceptability\n",
              "0              2\n",
              "1              2\n",
              "2              2\n",
              "3              2\n",
              "4              2"
            ]
          },
          "metadata": {
            "tags": []
          },
          "execution_count": 26
        }
      ]
    },
    {
      "cell_type": "code",
      "metadata": {
        "id": "jZpUIRhNEfyx",
        "colab_type": "code",
        "outputId": "7da7a9b9-fef9-4269-f83f-bc578adf1363",
        "colab": {
          "base_uri": "https://localhost:8080/",
          "height": 253
        }
      },
      "source": [
        "car1 = pd.concat([X1, y1_df], axis=1)\n",
        "car1.head()"
      ],
      "execution_count": 0,
      "outputs": [
        {
          "output_type": "execute_result",
          "data": {
            "text/html": [
              "<div>\n",
              "<style scoped>\n",
              "    .dataframe tbody tr th:only-of-type {\n",
              "        vertical-align: middle;\n",
              "    }\n",
              "\n",
              "    .dataframe tbody tr th {\n",
              "        vertical-align: top;\n",
              "    }\n",
              "\n",
              "    .dataframe thead th {\n",
              "        text-align: right;\n",
              "    }\n",
              "</style>\n",
              "<table border=\"1\" class=\"dataframe\">\n",
              "  <thead>\n",
              "    <tr style=\"text-align: right;\">\n",
              "      <th></th>\n",
              "      <th>buying_high</th>\n",
              "      <th>buying_low</th>\n",
              "      <th>buying_med</th>\n",
              "      <th>buying_vhigh</th>\n",
              "      <th>maint_high</th>\n",
              "      <th>maint_low</th>\n",
              "      <th>maint_med</th>\n",
              "      <th>maint_vhigh</th>\n",
              "      <th>doors_2</th>\n",
              "      <th>doors_3</th>\n",
              "      <th>...</th>\n",
              "      <th>persons_2</th>\n",
              "      <th>persons_4</th>\n",
              "      <th>persons_more</th>\n",
              "      <th>lug_boot_big</th>\n",
              "      <th>lug_boot_med</th>\n",
              "      <th>lug_boot_small</th>\n",
              "      <th>safety_high</th>\n",
              "      <th>safety_low</th>\n",
              "      <th>safety_med</th>\n",
              "      <th>acceptability</th>\n",
              "    </tr>\n",
              "  </thead>\n",
              "  <tbody>\n",
              "    <tr>\n",
              "      <th>0</th>\n",
              "      <td>0</td>\n",
              "      <td>0</td>\n",
              "      <td>0</td>\n",
              "      <td>1</td>\n",
              "      <td>0</td>\n",
              "      <td>0</td>\n",
              "      <td>0</td>\n",
              "      <td>1</td>\n",
              "      <td>1</td>\n",
              "      <td>0</td>\n",
              "      <td>...</td>\n",
              "      <td>1</td>\n",
              "      <td>0</td>\n",
              "      <td>0</td>\n",
              "      <td>0</td>\n",
              "      <td>0</td>\n",
              "      <td>1</td>\n",
              "      <td>0</td>\n",
              "      <td>1</td>\n",
              "      <td>0</td>\n",
              "      <td>2</td>\n",
              "    </tr>\n",
              "    <tr>\n",
              "      <th>1</th>\n",
              "      <td>0</td>\n",
              "      <td>0</td>\n",
              "      <td>0</td>\n",
              "      <td>1</td>\n",
              "      <td>0</td>\n",
              "      <td>0</td>\n",
              "      <td>0</td>\n",
              "      <td>1</td>\n",
              "      <td>1</td>\n",
              "      <td>0</td>\n",
              "      <td>...</td>\n",
              "      <td>1</td>\n",
              "      <td>0</td>\n",
              "      <td>0</td>\n",
              "      <td>0</td>\n",
              "      <td>0</td>\n",
              "      <td>1</td>\n",
              "      <td>0</td>\n",
              "      <td>0</td>\n",
              "      <td>1</td>\n",
              "      <td>2</td>\n",
              "    </tr>\n",
              "    <tr>\n",
              "      <th>2</th>\n",
              "      <td>0</td>\n",
              "      <td>0</td>\n",
              "      <td>0</td>\n",
              "      <td>1</td>\n",
              "      <td>0</td>\n",
              "      <td>0</td>\n",
              "      <td>0</td>\n",
              "      <td>1</td>\n",
              "      <td>1</td>\n",
              "      <td>0</td>\n",
              "      <td>...</td>\n",
              "      <td>1</td>\n",
              "      <td>0</td>\n",
              "      <td>0</td>\n",
              "      <td>0</td>\n",
              "      <td>0</td>\n",
              "      <td>1</td>\n",
              "      <td>1</td>\n",
              "      <td>0</td>\n",
              "      <td>0</td>\n",
              "      <td>2</td>\n",
              "    </tr>\n",
              "    <tr>\n",
              "      <th>3</th>\n",
              "      <td>0</td>\n",
              "      <td>0</td>\n",
              "      <td>0</td>\n",
              "      <td>1</td>\n",
              "      <td>0</td>\n",
              "      <td>0</td>\n",
              "      <td>0</td>\n",
              "      <td>1</td>\n",
              "      <td>1</td>\n",
              "      <td>0</td>\n",
              "      <td>...</td>\n",
              "      <td>1</td>\n",
              "      <td>0</td>\n",
              "      <td>0</td>\n",
              "      <td>0</td>\n",
              "      <td>1</td>\n",
              "      <td>0</td>\n",
              "      <td>0</td>\n",
              "      <td>1</td>\n",
              "      <td>0</td>\n",
              "      <td>2</td>\n",
              "    </tr>\n",
              "    <tr>\n",
              "      <th>4</th>\n",
              "      <td>0</td>\n",
              "      <td>0</td>\n",
              "      <td>0</td>\n",
              "      <td>1</td>\n",
              "      <td>0</td>\n",
              "      <td>0</td>\n",
              "      <td>0</td>\n",
              "      <td>1</td>\n",
              "      <td>1</td>\n",
              "      <td>0</td>\n",
              "      <td>...</td>\n",
              "      <td>1</td>\n",
              "      <td>0</td>\n",
              "      <td>0</td>\n",
              "      <td>0</td>\n",
              "      <td>1</td>\n",
              "      <td>0</td>\n",
              "      <td>0</td>\n",
              "      <td>0</td>\n",
              "      <td>1</td>\n",
              "      <td>2</td>\n",
              "    </tr>\n",
              "  </tbody>\n",
              "</table>\n",
              "<p>5 rows × 22 columns</p>\n",
              "</div>"
            ],
            "text/plain": [
              "   buying_high  buying_low  buying_med  buying_vhigh  maint_high  maint_low  \\\n",
              "0            0           0           0             1           0          0   \n",
              "1            0           0           0             1           0          0   \n",
              "2            0           0           0             1           0          0   \n",
              "3            0           0           0             1           0          0   \n",
              "4            0           0           0             1           0          0   \n",
              "\n",
              "   maint_med  maint_vhigh  doors_2  doors_3      ...        persons_2  \\\n",
              "0          0            1        1        0      ...                1   \n",
              "1          0            1        1        0      ...                1   \n",
              "2          0            1        1        0      ...                1   \n",
              "3          0            1        1        0      ...                1   \n",
              "4          0            1        1        0      ...                1   \n",
              "\n",
              "   persons_4  persons_more  lug_boot_big  lug_boot_med  lug_boot_small  \\\n",
              "0          0             0             0             0               1   \n",
              "1          0             0             0             0               1   \n",
              "2          0             0             0             0               1   \n",
              "3          0             0             0             1               0   \n",
              "4          0             0             0             1               0   \n",
              "\n",
              "   safety_high  safety_low  safety_med  acceptability  \n",
              "0            0           1           0              2  \n",
              "1            0           0           1              2  \n",
              "2            1           0           0              2  \n",
              "3            0           1           0              2  \n",
              "4            0           0           1              2  \n",
              "\n",
              "[5 rows x 22 columns]"
            ]
          },
          "metadata": {
            "tags": []
          },
          "execution_count": 27
        }
      ]
    },
    {
      "cell_type": "markdown",
      "metadata": {
        "id": "tmMn1qvcnRyT",
        "colab_type": "text"
      },
      "source": [
        "**With default hyperparameters, compare the performance of SVM vs. Logistic Regression**"
      ]
    },
    {
      "cell_type": "code",
      "metadata": {
        "id": "wAo0KaX_rZK2",
        "colab_type": "code",
        "colab": {}
      },
      "source": [
        "from sklearn.model_selection import cross_val_score, StratifiedKFold, KFold\n",
        "kf = KFold(n_splits=5,shuffle=True)"
      ],
      "execution_count": 0,
      "outputs": []
    },
    {
      "cell_type": "code",
      "metadata": {
        "id": "DH2YgnERmcSF",
        "colab_type": "code",
        "outputId": "8b1c5967-861b-4fc5-e12e-1185504e434e",
        "colab": {
          "base_uri": "https://localhost:8080/",
          "height": 394
        }
      },
      "source": [
        " # A:\n",
        "logreg = LogisticRegression()\n",
        "print(\"Logistic Regression:\",cross_val_score(logreg, X1, y1, cv=kf, scoring='accuracy').mean())"
      ],
      "execution_count": 0,
      "outputs": [
        {
          "output_type": "stream",
          "text": [
            "Logistic Regression: 0.8813520985172154\n"
          ],
          "name": "stdout"
        },
        {
          "output_type": "stream",
          "text": [
            "/usr/local/lib/python3.6/dist-packages/sklearn/linear_model/logistic.py:433: FutureWarning: Default solver will be changed to 'lbfgs' in 0.22. Specify a solver to silence this warning.\n",
            "  FutureWarning)\n",
            "/usr/local/lib/python3.6/dist-packages/sklearn/linear_model/logistic.py:460: FutureWarning: Default multi_class will be changed to 'auto' in 0.22. Specify the multi_class option to silence this warning.\n",
            "  \"this warning.\", FutureWarning)\n",
            "/usr/local/lib/python3.6/dist-packages/sklearn/linear_model/logistic.py:433: FutureWarning: Default solver will be changed to 'lbfgs' in 0.22. Specify a solver to silence this warning.\n",
            "  FutureWarning)\n",
            "/usr/local/lib/python3.6/dist-packages/sklearn/linear_model/logistic.py:460: FutureWarning: Default multi_class will be changed to 'auto' in 0.22. Specify the multi_class option to silence this warning.\n",
            "  \"this warning.\", FutureWarning)\n",
            "/usr/local/lib/python3.6/dist-packages/sklearn/linear_model/logistic.py:433: FutureWarning: Default solver will be changed to 'lbfgs' in 0.22. Specify a solver to silence this warning.\n",
            "  FutureWarning)\n",
            "/usr/local/lib/python3.6/dist-packages/sklearn/linear_model/logistic.py:460: FutureWarning: Default multi_class will be changed to 'auto' in 0.22. Specify the multi_class option to silence this warning.\n",
            "  \"this warning.\", FutureWarning)\n",
            "/usr/local/lib/python3.6/dist-packages/sklearn/linear_model/logistic.py:433: FutureWarning: Default solver will be changed to 'lbfgs' in 0.22. Specify a solver to silence this warning.\n",
            "  FutureWarning)\n",
            "/usr/local/lib/python3.6/dist-packages/sklearn/linear_model/logistic.py:460: FutureWarning: Default multi_class will be changed to 'auto' in 0.22. Specify the multi_class option to silence this warning.\n",
            "  \"this warning.\", FutureWarning)\n",
            "/usr/local/lib/python3.6/dist-packages/sklearn/linear_model/logistic.py:433: FutureWarning: Default solver will be changed to 'lbfgs' in 0.22. Specify a solver to silence this warning.\n",
            "  FutureWarning)\n",
            "/usr/local/lib/python3.6/dist-packages/sklearn/linear_model/logistic.py:460: FutureWarning: Default multi_class will be changed to 'auto' in 0.22. Specify the multi_class option to silence this warning.\n",
            "  \"this warning.\", FutureWarning)\n"
          ],
          "name": "stderr"
        }
      ]
    },
    {
      "cell_type": "code",
      "metadata": {
        "id": "XGiIK-unLSIC",
        "colab_type": "code",
        "outputId": "b98c603c-c9b0-435a-cba4-cc531d77d5a2",
        "colab": {
          "base_uri": "https://localhost:8080/",
          "height": 34
        }
      },
      "source": [
        "svc = SVC(gamma='auto')        \n",
        "print( \"SVM is:\",cross_val_score(svc, X1, y1, cv=kf, scoring='accuracy').mean())"
      ],
      "execution_count": 0,
      "outputs": [
        {
          "output_type": "stream",
          "text": [
            "SVM is: 0.9068241601742482\n"
          ],
          "name": "stdout"
        }
      ]
    },
    {
      "cell_type": "markdown",
      "metadata": {
        "id": "vOYs6R53LfUU",
        "colab_type": "text"
      },
      "source": [
        "**Therefore, SVM is better than Logistic Regression**"
      ]
    },
    {
      "cell_type": "markdown",
      "metadata": {
        "id": "93B1lhVML0-V",
        "colab_type": "text"
      },
      "source": [
        "**What choice of kernel would give SVM the best performance**"
      ]
    },
    {
      "cell_type": "code",
      "metadata": {
        "id": "vngN2wS1L3J_",
        "colab_type": "code",
        "outputId": "6d22f690-7637-4c61-c1e4-b281a3539a60",
        "colab": {
          "base_uri": "https://localhost:8080/",
          "height": 68
        }
      },
      "source": [
        "svc_linear = SVC(kernel = 'linear', gamma='auto')        # linear\n",
        "print( \"SVM with linear kernel:\",cross_val_score(svc_linear, X1, y1, cv=kf, scoring='accuracy').mean())\n",
        "\n",
        "\n",
        "poly_svc = SVC(kernel = 'poly', degree = 3, gamma='auto')       #  polys\n",
        "print(\"SVM with poly kernel:\",cross_val_score(poly_svc, X1, y1, cv=kf, scoring='accuracy').mean())\n",
        "\n",
        "rbf_svc = SVC(kernel = 'rbf', C=1, gamma='auto')           # rbf\n",
        "print(\"SVM with rbf kernel:\",cross_val_score(rbf_svc, X1, y1, cv=kf, scoring='accuracy').mean())"
      ],
      "execution_count": 0,
      "outputs": [
        {
          "output_type": "stream",
          "text": [
            "SVM with linear kernel: 0.9357577280723801\n",
            "SVM with poly kernel: 0.7002446175756052\n",
            "SVM with rbf kernel: 0.9074005193934823\n"
          ],
          "name": "stdout"
        }
      ]
    },
    {
      "cell_type": "markdown",
      "metadata": {
        "id": "9EhrwHbOMk5e",
        "colab_type": "text"
      },
      "source": [
        "**SVM with linear kernel is 0.933 **\n",
        "\n",
        "**SVM with poly kernel: 0.7002**\n",
        "\n",
        "**SVM with rbf kernel: 0.905**\n",
        "\n",
        "**Therefore, SVM with linear kernel is the best performance**"
      ]
    },
    {
      "cell_type": "markdown",
      "metadata": {
        "id": "53v7HAM0N41R",
        "colab_type": "text"
      },
      "source": [
        "**Examine confusion matrices and classification reports.**"
      ]
    },
    {
      "cell_type": "code",
      "metadata": {
        "id": "31ejuQ-lxkZb",
        "colab_type": "code",
        "outputId": "5e180fa5-0195-4533-82c9-bcb7b6d59549",
        "colab": {
          "base_uri": "https://localhost:8080/",
          "height": 51
        }
      },
      "source": [
        "from sklearn.model_selection import train_test_split\n",
        "X1_train, X1_test, y1_train, y1_test = train_test_split(X1, y1, test_size=0.3)\n",
        "print (X1_train.shape, y1_train.shape)\n",
        "print (X1_test.shape, y1_test.shape)"
      ],
      "execution_count": 0,
      "outputs": [
        {
          "output_type": "stream",
          "text": [
            "(1209, 21) (1209,)\n",
            "(519, 21) (519,)\n"
          ],
          "name": "stdout"
        }
      ]
    },
    {
      "cell_type": "code",
      "metadata": {
        "id": "Usr29uQ6uuHV",
        "colab_type": "code",
        "outputId": "b27620ab-2542-4705-e381-8853b3efaa57",
        "colab": {
          "base_uri": "https://localhost:8080/",
          "height": 139
        }
      },
      "source": [
        "# A:\n",
        "#Create instance of Support Vector Classifier\n",
        "svc = SVC()  \n",
        "#Fit estimator to 70% of the data\n",
        "svc.fit(X1_train, y1_train)\n",
        "logreg.fit(X1_train, y1_train)\n",
        "svc_linear.fit(X1_train, y1_train)\n",
        "poly_svc.fit(X1_train, y1_train)\n",
        "rbf_svc.fit(X1_train, y1_train)\n",
        "#Predict final 30%\n",
        "y_pred_svc = svc.predict(X1_test)\n",
        "y_pred_lr = logreg.predict(X1_test)\n",
        "y_pred_linear= svc_linear.predict(X1_test)\n",
        "y_pred_poly = poly_svc.predict(X1_test)\n",
        "y_pred_rbf = rbf_svc.predict(X1_test)\n",
        "#Establish true y values\n",
        "y1_true = y1_test"
      ],
      "execution_count": 0,
      "outputs": [
        {
          "output_type": "stream",
          "text": [
            "/usr/local/lib/python3.6/dist-packages/sklearn/svm/base.py:196: FutureWarning: The default value of gamma will change from 'auto' to 'scale' in version 0.22 to account better for unscaled features. Set gamma explicitly to 'auto' or 'scale' to avoid this warning.\n",
            "  \"avoid this warning.\", FutureWarning)\n",
            "/usr/local/lib/python3.6/dist-packages/sklearn/linear_model/logistic.py:433: FutureWarning: Default solver will be changed to 'lbfgs' in 0.22. Specify a solver to silence this warning.\n",
            "  FutureWarning)\n",
            "/usr/local/lib/python3.6/dist-packages/sklearn/linear_model/logistic.py:460: FutureWarning: Default multi_class will be changed to 'auto' in 0.22. Specify the multi_class option to silence this warning.\n",
            "  \"this warning.\", FutureWarning)\n"
          ],
          "name": "stderr"
        }
      ]
    },
    {
      "cell_type": "markdown",
      "metadata": {
        "id": "6lduDvuG1QUa",
        "colab_type": "text"
      },
      "source": [
        "**Confusion matrix for SVM:**"
      ]
    },
    {
      "cell_type": "code",
      "metadata": {
        "id": "pMtQ2j9HONO_",
        "colab_type": "code",
        "outputId": "8c2f7521-72bc-4089-f702-72c38383874b",
        "colab": {
          "base_uri": "https://localhost:8080/",
          "height": 204
        }
      },
      "source": [
        "confusion_df = pd.DataFrame(confusion_matrix(y1_true,y_pred_svc),\n",
        "             columns=[\"Predicted Class \" + str(class_name) for class_name in [0,1, 2, 3]],\n",
        "             index = [\"Class \" + str(class_name) for class_name in [0,1, 2, 3]])\n",
        "\n",
        "print(confusion_df)"
      ],
      "execution_count": 0,
      "outputs": [
        {
          "output_type": "stream",
          "text": [
            "         Predicted Class 0  Predicted Class 1  Predicted Class 2  \\\n",
            "Class 0                109                  0                  0   \n",
            "Class 1                 11                  3                  0   \n",
            "Class 2                 26                  1                345   \n",
            "Class 3                 15                  0                  0   \n",
            "\n",
            "         Predicted Class 3  \n",
            "Class 0                  0  \n",
            "Class 1                  1  \n",
            "Class 2                  0  \n",
            "Class 3                  8  \n"
          ],
          "name": "stdout"
        }
      ]
    },
    {
      "cell_type": "markdown",
      "metadata": {
        "id": "DFr3am-O1U8x",
        "colab_type": "text"
      },
      "source": [
        "**Confusion matrix for Logistic Regression:**"
      ]
    },
    {
      "cell_type": "code",
      "metadata": {
        "id": "RJAnY4foz5n5",
        "colab_type": "code",
        "outputId": "c7cf0ac3-4938-48b8-fb91-64f18ee6b49c",
        "colab": {
          "base_uri": "https://localhost:8080/",
          "height": 204
        }
      },
      "source": [
        "confusion_df = pd.DataFrame(confusion_matrix(y1_true, y_pred_lr),\n",
        "             columns=[\"Predicted Class \" + str(class_name) for class_name in [0,1, 2, 3]],\n",
        "             index = [\"Class \" + str(class_name) for class_name in [0,1, 2, 3]])\n",
        "\n",
        "print(confusion_df)"
      ],
      "execution_count": 0,
      "outputs": [
        {
          "output_type": "stream",
          "text": [
            "         Predicted Class 0  Predicted Class 1  Predicted Class 2  \\\n",
            "Class 0                 90                  3                 16   \n",
            "Class 1                 11                  4                  0   \n",
            "Class 2                 19                  1                352   \n",
            "Class 3                 18                  1                  0   \n",
            "\n",
            "         Predicted Class 3  \n",
            "Class 0                  0  \n",
            "Class 1                  0  \n",
            "Class 2                  0  \n",
            "Class 3                  4  \n"
          ],
          "name": "stdout"
        }
      ]
    },
    {
      "cell_type": "markdown",
      "metadata": {
        "id": "ppllkdwz1ZAe",
        "colab_type": "text"
      },
      "source": [
        "**Confusion matrix for SVM with linear:**"
      ]
    },
    {
      "cell_type": "code",
      "metadata": {
        "id": "OstbYBqez5kS",
        "colab_type": "code",
        "outputId": "9ee21625-c4c3-4f3e-9fba-e434dfaa3522",
        "colab": {
          "base_uri": "https://localhost:8080/",
          "height": 204
        }
      },
      "source": [
        "confusion_df = pd.DataFrame(confusion_matrix(y1_true,y_pred_linear),\n",
        "             columns=[\"Predicted Class \" + str(class_name) for class_name in [0,1, 2, 3]],\n",
        "             index = [\"Class \" + str(class_name) for class_name in [0,1, 2, 3]])\n",
        "\n",
        "print(confusion_df)"
      ],
      "execution_count": 0,
      "outputs": [
        {
          "output_type": "stream",
          "text": [
            "         Predicted Class 0  Predicted Class 1  Predicted Class 2  \\\n",
            "Class 0                 93                  2                 14   \n",
            "Class 1                  2                 13                  0   \n",
            "Class 2                 14                  1                357   \n",
            "Class 3                  0                  0                  0   \n",
            "\n",
            "         Predicted Class 3  \n",
            "Class 0                  0  \n",
            "Class 1                  0  \n",
            "Class 2                  0  \n",
            "Class 3                 23  \n"
          ],
          "name": "stdout"
        }
      ]
    },
    {
      "cell_type": "markdown",
      "metadata": {
        "id": "U2QgiKRS1esv",
        "colab_type": "text"
      },
      "source": [
        "**Confusion matrix for SVM with poly:**"
      ]
    },
    {
      "cell_type": "code",
      "metadata": {
        "id": "QlO-uEoSz5fq",
        "colab_type": "code",
        "outputId": "c512a6ec-2ea3-40db-8e3e-cbb39ff0e8f1",
        "colab": {
          "base_uri": "https://localhost:8080/",
          "height": 204
        }
      },
      "source": [
        "confusion_df = pd.DataFrame(confusion_matrix(y1_true,y_pred_poly),\n",
        "             columns=[\"Predicted Class \" + str(class_name) for class_name in [0,1, 2, 3]],\n",
        "             index = [\"Class \" + str(class_name) for class_name in [0,1, 2, 3]])\n",
        "\n",
        "print(confusion_df)"
      ],
      "execution_count": 0,
      "outputs": [
        {
          "output_type": "stream",
          "text": [
            "         Predicted Class 0  Predicted Class 1  Predicted Class 2  \\\n",
            "Class 0                  0                  0                109   \n",
            "Class 1                  0                  0                 15   \n",
            "Class 2                  0                  0                372   \n",
            "Class 3                  0                  0                 23   \n",
            "\n",
            "         Predicted Class 3  \n",
            "Class 0                  0  \n",
            "Class 1                  0  \n",
            "Class 2                  0  \n",
            "Class 3                  0  \n"
          ],
          "name": "stdout"
        }
      ]
    },
    {
      "cell_type": "markdown",
      "metadata": {
        "id": "vrP9dcld1h6c",
        "colab_type": "text"
      },
      "source": [
        "**Confusion matrix for SVM with rbf:**"
      ]
    },
    {
      "cell_type": "code",
      "metadata": {
        "id": "bEjamm8Fz5WX",
        "colab_type": "code",
        "outputId": "8c1397e6-8d64-4485-8d5d-39e3b61f5afa",
        "colab": {
          "base_uri": "https://localhost:8080/",
          "height": 204
        }
      },
      "source": [
        "confusion_df = pd.DataFrame(confusion_matrix(y1_true,y_pred_rbf ),\n",
        "             columns=[\"Predicted Class \" + str(class_name) for class_name in [0,1, 2, 3]],\n",
        "             index = [\"Class \" + str(class_name) for class_name in [0,1, 2, 3]])\n",
        "\n",
        "print(confusion_df)"
      ],
      "execution_count": 0,
      "outputs": [
        {
          "output_type": "stream",
          "text": [
            "         Predicted Class 0  Predicted Class 1  Predicted Class 2  \\\n",
            "Class 0                109                  0                  0   \n",
            "Class 1                 11                  3                  0   \n",
            "Class 2                 26                  1                345   \n",
            "Class 3                 15                  0                  0   \n",
            "\n",
            "         Predicted Class 3  \n",
            "Class 0                  0  \n",
            "Class 1                  1  \n",
            "Class 2                  0  \n",
            "Class 3                  8  \n"
          ],
          "name": "stdout"
        }
      ]
    },
    {
      "cell_type": "markdown",
      "metadata": {
        "id": "on6PmlHu1mlf",
        "colab_type": "text"
      },
      "source": [
        "**Classification report for SVM:**"
      ]
    },
    {
      "cell_type": "code",
      "metadata": {
        "id": "E96WTkeYL3me",
        "colab_type": "code",
        "outputId": "11c008c1-6d41-4ed2-9acf-02161f2c08a6",
        "colab": {
          "base_uri": "https://localhost:8080/",
          "height": 204
        }
      },
      "source": [
        "print(classification_report(y1_true,y_pred_svc))"
      ],
      "execution_count": 0,
      "outputs": [
        {
          "output_type": "stream",
          "text": [
            "              precision    recall  f1-score   support\n",
            "\n",
            "           0       0.68      1.00      0.81       109\n",
            "           1       0.75      0.20      0.32        15\n",
            "           2       1.00      0.93      0.96       372\n",
            "           3       0.89      0.35      0.50        23\n",
            "\n",
            "   micro avg       0.90      0.90      0.90       519\n",
            "   macro avg       0.83      0.62      0.65       519\n",
            "weighted avg       0.92      0.90      0.89       519\n",
            "\n"
          ],
          "name": "stdout"
        }
      ]
    },
    {
      "cell_type": "code",
      "metadata": {
        "id": "DEis3yhC2LqI",
        "colab_type": "code",
        "outputId": "6c8870e1-16fd-4739-8a2e-80f7b64a1222",
        "colab": {
          "base_uri": "https://localhost:8080/",
          "height": 204
        }
      },
      "source": [
        "print(classification_report(y1_true,y_pred_lr))"
      ],
      "execution_count": 0,
      "outputs": [
        {
          "output_type": "stream",
          "text": [
            "              precision    recall  f1-score   support\n",
            "\n",
            "           0       0.65      0.83      0.73       109\n",
            "           1       0.44      0.27      0.33        15\n",
            "           2       0.96      0.95      0.95       372\n",
            "           3       1.00      0.17      0.30        23\n",
            "\n",
            "   micro avg       0.87      0.87      0.87       519\n",
            "   macro avg       0.76      0.55      0.58       519\n",
            "weighted avg       0.88      0.87      0.86       519\n",
            "\n"
          ],
          "name": "stdout"
        }
      ]
    },
    {
      "cell_type": "code",
      "metadata": {
        "id": "kn7kpLjD2MbV",
        "colab_type": "code",
        "outputId": "9b5f51da-dfc4-439e-8f33-46aba8e5e727",
        "colab": {
          "base_uri": "https://localhost:8080/",
          "height": 204
        }
      },
      "source": [
        "print(classification_report(y1_true,y_pred_linear))"
      ],
      "execution_count": 0,
      "outputs": [
        {
          "output_type": "stream",
          "text": [
            "              precision    recall  f1-score   support\n",
            "\n",
            "           0       0.85      0.85      0.85       109\n",
            "           1       0.81      0.87      0.84        15\n",
            "           2       0.96      0.96      0.96       372\n",
            "           3       1.00      1.00      1.00        23\n",
            "\n",
            "   micro avg       0.94      0.94      0.94       519\n",
            "   macro avg       0.91      0.92      0.91       519\n",
            "weighted avg       0.94      0.94      0.94       519\n",
            "\n"
          ],
          "name": "stdout"
        }
      ]
    },
    {
      "cell_type": "code",
      "metadata": {
        "id": "bNdJyxXB2MU9",
        "colab_type": "code",
        "outputId": "28e75961-ad60-42a7-e5f2-9e816648920d",
        "colab": {
          "base_uri": "https://localhost:8080/",
          "height": 258
        }
      },
      "source": [
        "print(classification_report(y1_true,y_pred_poly))"
      ],
      "execution_count": 0,
      "outputs": [
        {
          "output_type": "stream",
          "text": [
            "              precision    recall  f1-score   support\n",
            "\n",
            "           0       0.00      0.00      0.00       109\n",
            "           1       0.00      0.00      0.00        15\n",
            "           2       0.72      1.00      0.84       372\n",
            "           3       0.00      0.00      0.00        23\n",
            "\n",
            "   micro avg       0.72      0.72      0.72       519\n",
            "   macro avg       0.18      0.25      0.21       519\n",
            "weighted avg       0.51      0.72      0.60       519\n",
            "\n"
          ],
          "name": "stdout"
        },
        {
          "output_type": "stream",
          "text": [
            "/usr/local/lib/python3.6/dist-packages/sklearn/metrics/classification.py:1143: UndefinedMetricWarning: Precision and F-score are ill-defined and being set to 0.0 in labels with no predicted samples.\n",
            "  'precision', 'predicted', average, warn_for)\n"
          ],
          "name": "stderr"
        }
      ]
    },
    {
      "cell_type": "code",
      "metadata": {
        "id": "8nz9qLxX2MNV",
        "colab_type": "code",
        "outputId": "38aa0763-0546-471b-97f1-2247fc70d095",
        "colab": {
          "base_uri": "https://localhost:8080/",
          "height": 204
        }
      },
      "source": [
        "print(classification_report(y1_true,y_pred_rbf))"
      ],
      "execution_count": 0,
      "outputs": [
        {
          "output_type": "stream",
          "text": [
            "              precision    recall  f1-score   support\n",
            "\n",
            "           0       0.68      1.00      0.81       109\n",
            "           1       0.75      0.20      0.32        15\n",
            "           2       1.00      0.93      0.96       372\n",
            "           3       0.89      0.35      0.50        23\n",
            "\n",
            "   micro avg       0.90      0.90      0.90       519\n",
            "   macro avg       0.83      0.62      0.65       519\n",
            "weighted avg       0.92      0.90      0.89       519\n",
            "\n"
          ],
          "name": "stdout"
        }
      ]
    },
    {
      "cell_type": "markdown",
      "metadata": {
        "id": "XWh5M7s92qOu",
        "colab_type": "text"
      },
      "source": [
        "**Based on the confusion matrix and classification report, I found the SVM with linear model has the highest precision and recall rate, which means it perform best. It get the same conclusion with previous running**"
      ]
    }
  ]
}
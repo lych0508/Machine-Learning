{
  "nbformat": 4,
  "nbformat_minor": 0,
  "metadata": {
    "colab": {
      "name": "HW8Li-Yichen.ipynb",
      "version": "0.3.2",
      "provenance": [],
      "collapsed_sections": []
    },
    "kernelspec": {
      "display_name": "Python 3",
      "language": "python",
      "name": "python3"
    }
  },
  "cells": [
    {
      "cell_type": "markdown",
      "metadata": {
        "id": "2oJ17CN5N4n0",
        "colab_type": "text"
      },
      "source": [
        "# HW 8: Clustering by K-Means\n",
        "---"
      ]
    },
    {
      "cell_type": "code",
      "metadata": {
        "id": "_ctqbII3N4n2",
        "colab_type": "code",
        "colab": {}
      },
      "source": [
        "import pandas as pd\n",
        "from sklearn.cluster import KMeans\n",
        "import numpy as np\n",
        "from sklearn.preprocessing import StandardScaler\n",
        "import matplotlib.pyplot as plt\n",
        "plt.rcParams['font.size'] = 14\n",
        "%matplotlib inline"
      ],
      "execution_count": 0,
      "outputs": []
    },
    {
      "cell_type": "markdown",
      "metadata": {
        "id": "ZMZPikxPN4n9",
        "colab_type": "text"
      },
      "source": [
        "# Import a Beer data set to a dataframe"
      ]
    },
    {
      "cell_type": "code",
      "metadata": {
        "colab_type": "code",
        "id": "1WbzJM4cYp1I",
        "colab": {}
      },
      "source": [
        "#1 Code to read csv file into colaboratory:\n",
        "!pip install -U -q PyDrive\n",
        "from pydrive.auth import GoogleAuth\n",
        "from pydrive.drive import GoogleDrive\n",
        "from google.colab import auth\n",
        "from oauth2client.client import GoogleCredentials\n",
        "\n",
        "# 1. Authenticate and create the PyDrive client.\n",
        "auth.authenticate_user()\n",
        "gauth = GoogleAuth()\n",
        "gauth.credentials = GoogleCredentials.get_application_default()\n",
        "drive = GoogleDrive(gauth)"
      ],
      "execution_count": 0,
      "outputs": []
    },
    {
      "cell_type": "code",
      "metadata": {
        "colab_type": "code",
        "id": "ubjxW9IrYrMG",
        "colab": {}
      },
      "source": [
        "#2. Get the file\n",
        "#make sure you upload all your data files to your Google drive and change share->Advanced->change->anyone with the link can view\n",
        "downloaded = drive.CreateFile({'id':'1bjCoHPxe_96Ijoz8eCzYUikwlkPA6XDc'}) # replace the id with id of file you want to access\n",
        "downloaded.GetContentFile('beer.txt')"
      ],
      "execution_count": 0,
      "outputs": []
    },
    {
      "cell_type": "code",
      "metadata": {
        "id": "Gq-x4iKjN4n-",
        "colab_type": "code",
        "outputId": "10d87735-60b3-496f-e06d-9b28574a57d8",
        "colab": {
          "base_uri": "https://localhost:8080/",
          "height": 647
        }
      },
      "source": [
        "url = 'beer.txt'\n",
        "beer = pd.read_csv(url, sep=' ')\n",
        "beer"
      ],
      "execution_count": 0,
      "outputs": [
        {
          "output_type": "execute_result",
          "data": {
            "text/html": [
              "<div>\n",
              "<style scoped>\n",
              "    .dataframe tbody tr th:only-of-type {\n",
              "        vertical-align: middle;\n",
              "    }\n",
              "\n",
              "    .dataframe tbody tr th {\n",
              "        vertical-align: top;\n",
              "    }\n",
              "\n",
              "    .dataframe thead th {\n",
              "        text-align: right;\n",
              "    }\n",
              "</style>\n",
              "<table border=\"1\" class=\"dataframe\">\n",
              "  <thead>\n",
              "    <tr style=\"text-align: right;\">\n",
              "      <th></th>\n",
              "      <th>name</th>\n",
              "      <th>calories</th>\n",
              "      <th>sodium</th>\n",
              "      <th>alcohol</th>\n",
              "      <th>cost</th>\n",
              "    </tr>\n",
              "  </thead>\n",
              "  <tbody>\n",
              "    <tr>\n",
              "      <th>0</th>\n",
              "      <td>Budweiser</td>\n",
              "      <td>144</td>\n",
              "      <td>15</td>\n",
              "      <td>4.7</td>\n",
              "      <td>0.43</td>\n",
              "    </tr>\n",
              "    <tr>\n",
              "      <th>1</th>\n",
              "      <td>Schlitz</td>\n",
              "      <td>151</td>\n",
              "      <td>19</td>\n",
              "      <td>4.9</td>\n",
              "      <td>0.43</td>\n",
              "    </tr>\n",
              "    <tr>\n",
              "      <th>2</th>\n",
              "      <td>Lowenbrau</td>\n",
              "      <td>157</td>\n",
              "      <td>15</td>\n",
              "      <td>0.9</td>\n",
              "      <td>0.48</td>\n",
              "    </tr>\n",
              "    <tr>\n",
              "      <th>3</th>\n",
              "      <td>Kronenbourg</td>\n",
              "      <td>170</td>\n",
              "      <td>7</td>\n",
              "      <td>5.2</td>\n",
              "      <td>0.73</td>\n",
              "    </tr>\n",
              "    <tr>\n",
              "      <th>4</th>\n",
              "      <td>Heineken</td>\n",
              "      <td>152</td>\n",
              "      <td>11</td>\n",
              "      <td>5.0</td>\n",
              "      <td>0.77</td>\n",
              "    </tr>\n",
              "    <tr>\n",
              "      <th>5</th>\n",
              "      <td>Old_Milwaukee</td>\n",
              "      <td>145</td>\n",
              "      <td>23</td>\n",
              "      <td>4.6</td>\n",
              "      <td>0.28</td>\n",
              "    </tr>\n",
              "    <tr>\n",
              "      <th>6</th>\n",
              "      <td>Augsberger</td>\n",
              "      <td>175</td>\n",
              "      <td>24</td>\n",
              "      <td>5.5</td>\n",
              "      <td>0.40</td>\n",
              "    </tr>\n",
              "    <tr>\n",
              "      <th>7</th>\n",
              "      <td>Srohs_Bohemian_Style</td>\n",
              "      <td>149</td>\n",
              "      <td>27</td>\n",
              "      <td>4.7</td>\n",
              "      <td>0.42</td>\n",
              "    </tr>\n",
              "    <tr>\n",
              "      <th>8</th>\n",
              "      <td>Miller_Lite</td>\n",
              "      <td>99</td>\n",
              "      <td>10</td>\n",
              "      <td>4.3</td>\n",
              "      <td>0.43</td>\n",
              "    </tr>\n",
              "    <tr>\n",
              "      <th>9</th>\n",
              "      <td>Budweiser_Light</td>\n",
              "      <td>113</td>\n",
              "      <td>8</td>\n",
              "      <td>3.7</td>\n",
              "      <td>0.40</td>\n",
              "    </tr>\n",
              "    <tr>\n",
              "      <th>10</th>\n",
              "      <td>Coors</td>\n",
              "      <td>140</td>\n",
              "      <td>18</td>\n",
              "      <td>4.6</td>\n",
              "      <td>0.44</td>\n",
              "    </tr>\n",
              "    <tr>\n",
              "      <th>11</th>\n",
              "      <td>Coors_Light</td>\n",
              "      <td>102</td>\n",
              "      <td>15</td>\n",
              "      <td>4.1</td>\n",
              "      <td>0.46</td>\n",
              "    </tr>\n",
              "    <tr>\n",
              "      <th>12</th>\n",
              "      <td>Michelob_Light</td>\n",
              "      <td>135</td>\n",
              "      <td>11</td>\n",
              "      <td>4.2</td>\n",
              "      <td>0.50</td>\n",
              "    </tr>\n",
              "    <tr>\n",
              "      <th>13</th>\n",
              "      <td>Becks</td>\n",
              "      <td>150</td>\n",
              "      <td>19</td>\n",
              "      <td>4.7</td>\n",
              "      <td>0.76</td>\n",
              "    </tr>\n",
              "    <tr>\n",
              "      <th>14</th>\n",
              "      <td>Kirin</td>\n",
              "      <td>149</td>\n",
              "      <td>6</td>\n",
              "      <td>5.0</td>\n",
              "      <td>0.79</td>\n",
              "    </tr>\n",
              "    <tr>\n",
              "      <th>15</th>\n",
              "      <td>Pabst_Extra_Light</td>\n",
              "      <td>68</td>\n",
              "      <td>15</td>\n",
              "      <td>2.3</td>\n",
              "      <td>0.38</td>\n",
              "    </tr>\n",
              "    <tr>\n",
              "      <th>16</th>\n",
              "      <td>Hamms</td>\n",
              "      <td>139</td>\n",
              "      <td>19</td>\n",
              "      <td>4.4</td>\n",
              "      <td>0.43</td>\n",
              "    </tr>\n",
              "    <tr>\n",
              "      <th>17</th>\n",
              "      <td>Heilemans_Old_Style</td>\n",
              "      <td>144</td>\n",
              "      <td>24</td>\n",
              "      <td>4.9</td>\n",
              "      <td>0.43</td>\n",
              "    </tr>\n",
              "    <tr>\n",
              "      <th>18</th>\n",
              "      <td>Olympia_Goled_Light</td>\n",
              "      <td>72</td>\n",
              "      <td>6</td>\n",
              "      <td>2.9</td>\n",
              "      <td>0.46</td>\n",
              "    </tr>\n",
              "    <tr>\n",
              "      <th>19</th>\n",
              "      <td>Schlitz_Light</td>\n",
              "      <td>97</td>\n",
              "      <td>7</td>\n",
              "      <td>4.2</td>\n",
              "      <td>0.47</td>\n",
              "    </tr>\n",
              "  </tbody>\n",
              "</table>\n",
              "</div>"
            ],
            "text/plain": [
              "                    name  calories  sodium  alcohol  cost\n",
              "0              Budweiser       144      15      4.7  0.43\n",
              "1                Schlitz       151      19      4.9  0.43\n",
              "2              Lowenbrau       157      15      0.9  0.48\n",
              "3            Kronenbourg       170       7      5.2  0.73\n",
              "4               Heineken       152      11      5.0  0.77\n",
              "5          Old_Milwaukee       145      23      4.6  0.28\n",
              "6             Augsberger       175      24      5.5  0.40\n",
              "7   Srohs_Bohemian_Style       149      27      4.7  0.42\n",
              "8            Miller_Lite        99      10      4.3  0.43\n",
              "9        Budweiser_Light       113       8      3.7  0.40\n",
              "10                 Coors       140      18      4.6  0.44\n",
              "11           Coors_Light       102      15      4.1  0.46\n",
              "12        Michelob_Light       135      11      4.2  0.50\n",
              "13                 Becks       150      19      4.7  0.76\n",
              "14                 Kirin       149       6      5.0  0.79\n",
              "15     Pabst_Extra_Light        68      15      2.3  0.38\n",
              "16                 Hamms       139      19      4.4  0.43\n",
              "17   Heilemans_Old_Style       144      24      4.9  0.43\n",
              "18   Olympia_Goled_Light        72       6      2.9  0.46\n",
              "19         Schlitz_Light        97       7      4.2  0.47"
            ]
          },
          "metadata": {
            "tags": []
          },
          "execution_count": 134
        }
      ]
    },
    {
      "cell_type": "markdown",
      "metadata": {
        "id": "23tpz0y6N4oH",
        "colab_type": "text"
      },
      "source": [
        "#### Let's pick the feature set"
      ]
    },
    {
      "cell_type": "code",
      "metadata": {
        "id": "yzo5j0aoN4oK",
        "colab_type": "code",
        "colab": {}
      },
      "source": [
        "# Define X.\n",
        "X = beer.drop('name', axis=1)"
      ],
      "execution_count": 0,
      "outputs": []
    },
    {
      "cell_type": "markdown",
      "metadata": {
        "id": "rv5XdZnNN4oP",
        "colab_type": "text"
      },
      "source": [
        "#### Do we need to define a target called Y? Explain.\n",
        "\n",
        "**Answer:**"
      ]
    },
    {
      "cell_type": "markdown",
      "metadata": {
        "id": "2Cdwz98oENvn",
        "colab_type": "text"
      },
      "source": [
        "Comparing to Classification creating a model to prodict, clustering is finding groups that exist in the data already. Since we don't have labeled data in this dataset, we use unsuperbised methods. \n",
        "don't have \"true\" target to compare. There are no true targets to predict, we derive the likely categories from the structure in our data."
      ]
    },
    {
      "cell_type": "markdown",
      "metadata": {
        "id": "zsluTh8AN4oR",
        "colab_type": "text"
      },
      "source": [
        "## K-Means Clustering"
      ]
    },
    {
      "cell_type": "markdown",
      "metadata": {
        "id": "ylG9kU2VN4oS",
        "colab_type": "text"
      },
      "source": [
        "#### Create a K-means model with three clusters and fit it with 'X'."
      ]
    },
    {
      "cell_type": "code",
      "metadata": {
        "id": "I63pxYv3N4oU",
        "colab_type": "code",
        "outputId": "8be1fa9a-6d29-4312-8aad-4611f0ef24be",
        "colab": {
          "base_uri": "https://localhost:8080/",
          "height": 70
        }
      },
      "source": [
        "#\n",
        "from sklearn.cluster import KMeans\n",
        "model = KMeans(n_clusters=3, random_state=1)\n",
        "model.fit(X)"
      ],
      "execution_count": 0,
      "outputs": [
        {
          "output_type": "execute_result",
          "data": {
            "text/plain": [
              "KMeans(algorithm='auto', copy_x=True, init='k-means++', max_iter=300,\n",
              "    n_clusters=3, n_init=10, n_jobs=None, precompute_distances='auto',\n",
              "    random_state=1, tol=0.0001, verbose=0)"
            ]
          },
          "metadata": {
            "tags": []
          },
          "execution_count": 136
        }
      ]
    },
    {
      "cell_type": "markdown",
      "metadata": {
        "id": "LJ5rNPXYN4oY",
        "colab_type": "text"
      },
      "source": [
        "#### Review and show the cluster labels."
      ]
    },
    {
      "cell_type": "code",
      "metadata": {
        "id": "Esh_XoqNN4oa",
        "colab_type": "code",
        "outputId": "84b46ef2-20f0-4142-d05a-9237183a06eb",
        "colab": {
          "base_uri": "https://localhost:8080/",
          "height": 52
        }
      },
      "source": [
        "#\n",
        "label=model.labels_\n",
        "label"
      ],
      "execution_count": 0,
      "outputs": [
        {
          "output_type": "execute_result",
          "data": {
            "text/plain": [
              "array([0, 0, 0, 0, 0, 0, 0, 0, 1, 1, 0, 1, 0, 0, 0, 2, 0, 0, 2, 1],\n",
              "      dtype=int32)"
            ]
          },
          "metadata": {
            "tags": []
          },
          "execution_count": 137
        }
      ]
    },
    {
      "cell_type": "markdown",
      "metadata": {
        "id": "BKGmg1MzN4og",
        "colab_type": "text"
      },
      "source": [
        "#### Add the cluster labels as an additional column('cluster') in the dataframe and print out the dataframe as sorted by cluster."
      ]
    },
    {
      "cell_type": "code",
      "metadata": {
        "id": "y3JSyGGNN4ok",
        "colab_type": "code",
        "outputId": "ce617746-c660-4deb-b5f6-4d1dab2d1a11",
        "colab": {
          "base_uri": "https://localhost:8080/",
          "height": 647
        }
      },
      "source": [
        "#\n",
        "beer['cluster'] = label\n",
        "\n",
        "beer.sort_values(by = ['cluster'], ascending=False)"
      ],
      "execution_count": 0,
      "outputs": [
        {
          "output_type": "execute_result",
          "data": {
            "text/html": [
              "<div>\n",
              "<style scoped>\n",
              "    .dataframe tbody tr th:only-of-type {\n",
              "        vertical-align: middle;\n",
              "    }\n",
              "\n",
              "    .dataframe tbody tr th {\n",
              "        vertical-align: top;\n",
              "    }\n",
              "\n",
              "    .dataframe thead th {\n",
              "        text-align: right;\n",
              "    }\n",
              "</style>\n",
              "<table border=\"1\" class=\"dataframe\">\n",
              "  <thead>\n",
              "    <tr style=\"text-align: right;\">\n",
              "      <th></th>\n",
              "      <th>name</th>\n",
              "      <th>calories</th>\n",
              "      <th>sodium</th>\n",
              "      <th>alcohol</th>\n",
              "      <th>cost</th>\n",
              "      <th>cluster</th>\n",
              "    </tr>\n",
              "  </thead>\n",
              "  <tbody>\n",
              "    <tr>\n",
              "      <th>18</th>\n",
              "      <td>Olympia_Goled_Light</td>\n",
              "      <td>72</td>\n",
              "      <td>6</td>\n",
              "      <td>2.9</td>\n",
              "      <td>0.46</td>\n",
              "      <td>2</td>\n",
              "    </tr>\n",
              "    <tr>\n",
              "      <th>15</th>\n",
              "      <td>Pabst_Extra_Light</td>\n",
              "      <td>68</td>\n",
              "      <td>15</td>\n",
              "      <td>2.3</td>\n",
              "      <td>0.38</td>\n",
              "      <td>2</td>\n",
              "    </tr>\n",
              "    <tr>\n",
              "      <th>19</th>\n",
              "      <td>Schlitz_Light</td>\n",
              "      <td>97</td>\n",
              "      <td>7</td>\n",
              "      <td>4.2</td>\n",
              "      <td>0.47</td>\n",
              "      <td>1</td>\n",
              "    </tr>\n",
              "    <tr>\n",
              "      <th>11</th>\n",
              "      <td>Coors_Light</td>\n",
              "      <td>102</td>\n",
              "      <td>15</td>\n",
              "      <td>4.1</td>\n",
              "      <td>0.46</td>\n",
              "      <td>1</td>\n",
              "    </tr>\n",
              "    <tr>\n",
              "      <th>8</th>\n",
              "      <td>Miller_Lite</td>\n",
              "      <td>99</td>\n",
              "      <td>10</td>\n",
              "      <td>4.3</td>\n",
              "      <td>0.43</td>\n",
              "      <td>1</td>\n",
              "    </tr>\n",
              "    <tr>\n",
              "      <th>9</th>\n",
              "      <td>Budweiser_Light</td>\n",
              "      <td>113</td>\n",
              "      <td>8</td>\n",
              "      <td>3.7</td>\n",
              "      <td>0.40</td>\n",
              "      <td>1</td>\n",
              "    </tr>\n",
              "    <tr>\n",
              "      <th>17</th>\n",
              "      <td>Heilemans_Old_Style</td>\n",
              "      <td>144</td>\n",
              "      <td>24</td>\n",
              "      <td>4.9</td>\n",
              "      <td>0.43</td>\n",
              "      <td>0</td>\n",
              "    </tr>\n",
              "    <tr>\n",
              "      <th>16</th>\n",
              "      <td>Hamms</td>\n",
              "      <td>139</td>\n",
              "      <td>19</td>\n",
              "      <td>4.4</td>\n",
              "      <td>0.43</td>\n",
              "      <td>0</td>\n",
              "    </tr>\n",
              "    <tr>\n",
              "      <th>14</th>\n",
              "      <td>Kirin</td>\n",
              "      <td>149</td>\n",
              "      <td>6</td>\n",
              "      <td>5.0</td>\n",
              "      <td>0.79</td>\n",
              "      <td>0</td>\n",
              "    </tr>\n",
              "    <tr>\n",
              "      <th>13</th>\n",
              "      <td>Becks</td>\n",
              "      <td>150</td>\n",
              "      <td>19</td>\n",
              "      <td>4.7</td>\n",
              "      <td>0.76</td>\n",
              "      <td>0</td>\n",
              "    </tr>\n",
              "    <tr>\n",
              "      <th>12</th>\n",
              "      <td>Michelob_Light</td>\n",
              "      <td>135</td>\n",
              "      <td>11</td>\n",
              "      <td>4.2</td>\n",
              "      <td>0.50</td>\n",
              "      <td>0</td>\n",
              "    </tr>\n",
              "    <tr>\n",
              "      <th>0</th>\n",
              "      <td>Budweiser</td>\n",
              "      <td>144</td>\n",
              "      <td>15</td>\n",
              "      <td>4.7</td>\n",
              "      <td>0.43</td>\n",
              "      <td>0</td>\n",
              "    </tr>\n",
              "    <tr>\n",
              "      <th>1</th>\n",
              "      <td>Schlitz</td>\n",
              "      <td>151</td>\n",
              "      <td>19</td>\n",
              "      <td>4.9</td>\n",
              "      <td>0.43</td>\n",
              "      <td>0</td>\n",
              "    </tr>\n",
              "    <tr>\n",
              "      <th>7</th>\n",
              "      <td>Srohs_Bohemian_Style</td>\n",
              "      <td>149</td>\n",
              "      <td>27</td>\n",
              "      <td>4.7</td>\n",
              "      <td>0.42</td>\n",
              "      <td>0</td>\n",
              "    </tr>\n",
              "    <tr>\n",
              "      <th>6</th>\n",
              "      <td>Augsberger</td>\n",
              "      <td>175</td>\n",
              "      <td>24</td>\n",
              "      <td>5.5</td>\n",
              "      <td>0.40</td>\n",
              "      <td>0</td>\n",
              "    </tr>\n",
              "    <tr>\n",
              "      <th>5</th>\n",
              "      <td>Old_Milwaukee</td>\n",
              "      <td>145</td>\n",
              "      <td>23</td>\n",
              "      <td>4.6</td>\n",
              "      <td>0.28</td>\n",
              "      <td>0</td>\n",
              "    </tr>\n",
              "    <tr>\n",
              "      <th>4</th>\n",
              "      <td>Heineken</td>\n",
              "      <td>152</td>\n",
              "      <td>11</td>\n",
              "      <td>5.0</td>\n",
              "      <td>0.77</td>\n",
              "      <td>0</td>\n",
              "    </tr>\n",
              "    <tr>\n",
              "      <th>3</th>\n",
              "      <td>Kronenbourg</td>\n",
              "      <td>170</td>\n",
              "      <td>7</td>\n",
              "      <td>5.2</td>\n",
              "      <td>0.73</td>\n",
              "      <td>0</td>\n",
              "    </tr>\n",
              "    <tr>\n",
              "      <th>2</th>\n",
              "      <td>Lowenbrau</td>\n",
              "      <td>157</td>\n",
              "      <td>15</td>\n",
              "      <td>0.9</td>\n",
              "      <td>0.48</td>\n",
              "      <td>0</td>\n",
              "    </tr>\n",
              "    <tr>\n",
              "      <th>10</th>\n",
              "      <td>Coors</td>\n",
              "      <td>140</td>\n",
              "      <td>18</td>\n",
              "      <td>4.6</td>\n",
              "      <td>0.44</td>\n",
              "      <td>0</td>\n",
              "    </tr>\n",
              "  </tbody>\n",
              "</table>\n",
              "</div>"
            ],
            "text/plain": [
              "                    name  calories  sodium  alcohol  cost  cluster\n",
              "18   Olympia_Goled_Light        72       6      2.9  0.46        2\n",
              "15     Pabst_Extra_Light        68      15      2.3  0.38        2\n",
              "19         Schlitz_Light        97       7      4.2  0.47        1\n",
              "11           Coors_Light       102      15      4.1  0.46        1\n",
              "8            Miller_Lite        99      10      4.3  0.43        1\n",
              "9        Budweiser_Light       113       8      3.7  0.40        1\n",
              "17   Heilemans_Old_Style       144      24      4.9  0.43        0\n",
              "16                 Hamms       139      19      4.4  0.43        0\n",
              "14                 Kirin       149       6      5.0  0.79        0\n",
              "13                 Becks       150      19      4.7  0.76        0\n",
              "12        Michelob_Light       135      11      4.2  0.50        0\n",
              "0              Budweiser       144      15      4.7  0.43        0\n",
              "1                Schlitz       151      19      4.9  0.43        0\n",
              "7   Srohs_Bohemian_Style       149      27      4.7  0.42        0\n",
              "6             Augsberger       175      24      5.5  0.40        0\n",
              "5          Old_Milwaukee       145      23      4.6  0.28        0\n",
              "4               Heineken       152      11      5.0  0.77        0\n",
              "3            Kronenbourg       170       7      5.2  0.73        0\n",
              "2              Lowenbrau       157      15      0.9  0.48        0\n",
              "10                 Coors       140      18      4.6  0.44        0"
            ]
          },
          "metadata": {
            "tags": []
          },
          "execution_count": 138
        }
      ]
    },
    {
      "cell_type": "markdown",
      "metadata": {
        "id": "wW_fUNZfN4op",
        "colab_type": "text"
      },
      "source": [
        "#### What feature(s) do the clusters seem to be based on? Why?\n",
        "\n",
        "**Answer:** \n",
        "\n",
        "The clusters seem to be based on calories and alcohol because within each cluster, Calories value and alcohol value are close. Between different clusters, calories and alcohol values are very different."
      ]
    },
    {
      "cell_type": "markdown",
      "metadata": {
        "id": "BnUcpwq8N4or",
        "colab_type": "text"
      },
      "source": [
        "#### Show the cluster centers."
      ]
    },
    {
      "cell_type": "code",
      "metadata": {
        "id": "PoPqCulkN4ot",
        "colab_type": "code",
        "outputId": "e3c04e27-1be8-4217-a6ce-fb512169bc22",
        "colab": {
          "base_uri": "https://localhost:8080/",
          "height": 70
        }
      },
      "source": [
        "#\n",
        "model.cluster_centers_"
      ],
      "execution_count": 0,
      "outputs": [
        {
          "output_type": "execute_result",
          "data": {
            "text/plain": [
              "array([[150.        ,  17.        ,   4.52142857,   0.52071429],\n",
              "       [102.75      ,  10.        ,   4.075     ,   0.44      ],\n",
              "       [ 70.        ,  10.5       ,   2.6       ,   0.42      ]])"
            ]
          },
          "metadata": {
            "tags": []
          },
          "execution_count": 139
        }
      ]
    },
    {
      "cell_type": "markdown",
      "metadata": {
        "id": "5amcOEzyN4oy",
        "colab_type": "text"
      },
      "source": [
        "#### Calculate the mean of each feature for each cluster."
      ]
    },
    {
      "cell_type": "code",
      "metadata": {
        "id": "WeKslT-CN4oz",
        "colab_type": "code",
        "outputId": "0415dad7-9f4a-47fb-e943-3ea254fbbae5",
        "colab": {
          "base_uri": "https://localhost:8080/",
          "height": 167
        }
      },
      "source": [
        "# hint: \n",
        "# beer.groupby('cluster').mean()\n",
        "beer.groupby('cluster').mean()"
      ],
      "execution_count": 0,
      "outputs": [
        {
          "output_type": "execute_result",
          "data": {
            "text/html": [
              "<div>\n",
              "<style scoped>\n",
              "    .dataframe tbody tr th:only-of-type {\n",
              "        vertical-align: middle;\n",
              "    }\n",
              "\n",
              "    .dataframe tbody tr th {\n",
              "        vertical-align: top;\n",
              "    }\n",
              "\n",
              "    .dataframe thead th {\n",
              "        text-align: right;\n",
              "    }\n",
              "</style>\n",
              "<table border=\"1\" class=\"dataframe\">\n",
              "  <thead>\n",
              "    <tr style=\"text-align: right;\">\n",
              "      <th></th>\n",
              "      <th>calories</th>\n",
              "      <th>sodium</th>\n",
              "      <th>alcohol</th>\n",
              "      <th>cost</th>\n",
              "    </tr>\n",
              "    <tr>\n",
              "      <th>cluster</th>\n",
              "      <th></th>\n",
              "      <th></th>\n",
              "      <th></th>\n",
              "      <th></th>\n",
              "    </tr>\n",
              "  </thead>\n",
              "  <tbody>\n",
              "    <tr>\n",
              "      <th>0</th>\n",
              "      <td>150.00</td>\n",
              "      <td>17.0</td>\n",
              "      <td>4.521429</td>\n",
              "      <td>0.520714</td>\n",
              "    </tr>\n",
              "    <tr>\n",
              "      <th>1</th>\n",
              "      <td>102.75</td>\n",
              "      <td>10.0</td>\n",
              "      <td>4.075000</td>\n",
              "      <td>0.440000</td>\n",
              "    </tr>\n",
              "    <tr>\n",
              "      <th>2</th>\n",
              "      <td>70.00</td>\n",
              "      <td>10.5</td>\n",
              "      <td>2.600000</td>\n",
              "      <td>0.420000</td>\n",
              "    </tr>\n",
              "  </tbody>\n",
              "</table>\n",
              "</div>"
            ],
            "text/plain": [
              "         calories  sodium   alcohol      cost\n",
              "cluster                                      \n",
              "0          150.00    17.0  4.521429  0.520714\n",
              "1          102.75    10.0  4.075000  0.440000\n",
              "2           70.00    10.5  2.600000  0.420000"
            ]
          },
          "metadata": {
            "tags": []
          },
          "execution_count": 140
        }
      ]
    },
    {
      "cell_type": "markdown",
      "metadata": {
        "id": "j0Keval-N4o3",
        "colab_type": "text"
      },
      "source": [
        "#### Save the `mean` of cluster centers as 'centers'."
      ]
    },
    {
      "cell_type": "code",
      "metadata": {
        "id": "YdKo9vCXN4o5",
        "colab_type": "code",
        "colab": {}
      },
      "source": [
        "#\n",
        "centers = beer.groupby('cluster').mean()"
      ],
      "execution_count": 0,
      "outputs": []
    },
    {
      "cell_type": "markdown",
      "metadata": {
        "id": "ECC5pATMN4o-",
        "colab_type": "text"
      },
      "source": [
        "#### Create a \"colors\" array for plotting."
      ]
    },
    {
      "cell_type": "code",
      "metadata": {
        "id": "ivHGpVvsN4pE",
        "colab_type": "code",
        "colab": {}
      },
      "source": [
        "\n",
        "colors = np.array(['red', 'green', 'blue', 'yellow'])"
      ],
      "execution_count": 0,
      "outputs": []
    },
    {
      "cell_type": "markdown",
      "metadata": {
        "id": "oKJuOOWEN4pK",
        "colab_type": "text"
      },
      "source": [
        "#### Scatter plot of calories versus alcohol, colored by cluster (0=red, 1=green, 2=blue)."
      ]
    },
    {
      "cell_type": "code",
      "metadata": {
        "id": "JlarXtv8N4pM",
        "colab_type": "code",
        "outputId": "50f6b097-30cc-4163-a8a5-6d8b7d55f16d",
        "colab": {
          "base_uri": "https://localhost:8080/",
          "height": 296
        }
      },
      "source": [
        "#\n",
        "plt.scatter(beer.calories, beer.alcohol, c=colors[beer.cluster], s=50)\n",
        "plt.scatter(centers.calories, centers.alcohol, linewidths=3, marker='+', s=300, c='black')\n",
        "plt.xlabel('calories')\n",
        "plt.ylabel('alcohol')\n"
      ],
      "execution_count": 0,
      "outputs": [
        {
          "output_type": "execute_result",
          "data": {
            "text/plain": [
              "Text(0, 0.5, 'alcohol')"
            ]
          },
          "metadata": {
            "tags": []
          },
          "execution_count": 143
        },
        {
          "output_type": "display_data",
          "data": {
            "image/png": "[encoded data removed]",
            "text/plain": [
              "<Figure size 432x288 with 1 Axes>"
            ]
          },
          "metadata": {
            "tags": []
          }
        }
      ]
    },
    {
      "cell_type": "markdown",
      "metadata": {
        "id": "JOxABc5jN4pS",
        "colab_type": "text"
      },
      "source": [
        "#### Create a scatter plot matrix (clusters should be colored as: 0=red, 1=green, 2=blue)."
      ]
    },
    {
      "cell_type": "code",
      "metadata": {
        "id": "svQboqxUN4pU",
        "colab_type": "code",
        "outputId": "e5dedec2-dbfa-4778-a8c1-0d7d576ab12a",
        "colab": {
          "base_uri": "https://localhost:8080/",
          "height": 946
        }
      },
      "source": [
        "#\n",
        "pd.scatter_matrix(X, c=colors[beer.cluster], figsize=(10,10), s=100)"
      ],
      "execution_count": 0,
      "outputs": [
        {
          "output_type": "stream",
          "text": [
            "/usr/local/lib/python3.6/dist-packages/ipykernel_launcher.py:1: FutureWarning: pandas.scatter_matrix is deprecated. Use pandas.plotting.scatter_matrix instead\n",
            "  \"\"\"Entry point for launching an IPython kernel.\n"
          ],
          "name": "stderr"
        },
        {
          "output_type": "execute_result",
          "data": {
            "text/plain": [
              "array([[<matplotlib.axes._subplots.AxesSubplot object at 0x7f1aa8a7fd68>,\n",
              "        <matplotlib.axes._subplots.AxesSubplot object at 0x7f1aa8a52ef0>,\n",
              "        <matplotlib.axes._subplots.AxesSubplot object at 0x7f1aa89fd898>,\n",
              "        <matplotlib.axes._subplots.AxesSubplot object at 0x7f1aa8a2c240>],\n",
              "       [<matplotlib.axes._subplots.AxesSubplot object at 0x7f1aa89d3ba8>,\n",
              "        <matplotlib.axes._subplots.AxesSubplot object at 0x7f1aa897e550>,\n",
              "        <matplotlib.axes._subplots.AxesSubplot object at 0x7f1aa89a4eb8>,\n",
              "        <matplotlib.axes._subplots.AxesSubplot object at 0x7f1aa8951898>],\n",
              "       [<matplotlib.axes._subplots.AxesSubplot object at 0x7f1aa89518d0>,\n",
              "        <matplotlib.axes._subplots.AxesSubplot object at 0x7f1aa9809860>,\n",
              "        <matplotlib.axes._subplots.AxesSubplot object at 0x7f1aa98ab358>,\n",
              "        <matplotlib.axes._subplots.AxesSubplot object at 0x7f1aa986e208>],\n",
              "       [<matplotlib.axes._subplots.AxesSubplot object at 0x7f1aa98f32b0>,\n",
              "        <matplotlib.axes._subplots.AxesSubplot object at 0x7f1aa9ae6ba8>,\n",
              "        <matplotlib.axes._subplots.AxesSubplot object at 0x7f1aa9b57828>,\n",
              "        <matplotlib.axes._subplots.AxesSubplot object at 0x7f1aa9aedcc0>]],\n",
              "      dtype=object)"
            ]
          },
          "metadata": {
            "tags": []
          },
          "execution_count": 144
        },
        {
          "output_type": "display_data",
          "data": {
            "image/png": "[encoded data removed]",
            "text/plain": [
              "<Figure size 720x720 with 16 Axes>"
            ]
          },
          "metadata": {
            "tags": []
          }
        }
      ]
    },
    {
      "cell_type": "markdown",
      "metadata": {
        "id": "VGSLaVC9N4pb",
        "colab_type": "text"
      },
      "source": [
        "<a id=\"repeat-with-scaled-data\"></a>\n",
        "### Repeat With Scaled Data\n",
        "\n",
        "Unscaled features cause most algorithms to put too much weight onto one feature. We can scale our data to make sure k-means accounts for all features."
      ]
    },
    {
      "cell_type": "markdown",
      "metadata": {
        "id": "3EYAGp6qN4pe",
        "colab_type": "text"
      },
      "source": [
        "#### Use StandardScaler to scale the data X."
      ]
    },
    {
      "cell_type": "code",
      "metadata": {
        "id": "3F_ESFHzN4pk",
        "colab_type": "code",
        "outputId": "0a4187fc-9375-4e2d-e3cb-5e9aa9fe375b",
        "colab": {
          "base_uri": "https://localhost:8080/",
          "height": 87
        }
      },
      "source": [
        "#\n",
        "from sklearn.preprocessing import StandardScaler\n",
        "scaler = StandardScaler()\n",
        "X_scaled = scaler.fit_transform(X)"
      ],
      "execution_count": 0,
      "outputs": [
        {
          "output_type": "stream",
          "text": [
            "/usr/local/lib/python3.6/dist-packages/sklearn/preprocessing/data.py:645: DataConversionWarning: Data with input dtype int64, float64 were all converted to float64 by StandardScaler.\n",
            "  return self.partial_fit(X, y)\n",
            "/usr/local/lib/python3.6/dist-packages/sklearn/base.py:464: DataConversionWarning: Data with input dtype int64, float64 were all converted to float64 by StandardScaler.\n",
            "  return self.fit(X, **fit_params).transform(X)\n"
          ],
          "name": "stderr"
        }
      ]
    },
    {
      "cell_type": "code",
      "metadata": {
        "id": "EacQP209POjO",
        "colab_type": "code",
        "outputId": "310aa3e3-6ac7-4d93-b5ee-3f2d9b60e3df",
        "colab": {
          "base_uri": "https://localhost:8080/",
          "height": 372
        }
      },
      "source": [
        "X_scaled "
      ],
      "execution_count": 0,
      "outputs": [
        {
          "output_type": "execute_result",
          "data": {
            "text/plain": [
              "array([[ 0.38791334,  0.00779468,  0.43380786, -0.45682969],\n",
              "       [ 0.6250656 ,  0.63136906,  0.62241997, -0.45682969],\n",
              "       [ 0.82833896,  0.00779468, -3.14982226, -0.10269815],\n",
              "       [ 1.26876459, -1.23935408,  0.90533814,  1.66795955],\n",
              "       [ 0.65894449, -0.6157797 ,  0.71672602,  1.95126478],\n",
              "       [ 0.42179223,  1.25494344,  0.3395018 , -1.5192243 ],\n",
              "       [ 1.43815906,  1.41083704,  1.1882563 , -0.66930861],\n",
              "       [ 0.55730781,  1.87851782,  0.43380786, -0.52765599],\n",
              "       [-1.1366369 , -0.7716733 ,  0.05658363, -0.45682969],\n",
              "       [-0.66233238, -1.08346049, -0.5092527 , -0.66930861],\n",
              "       [ 0.25239776,  0.47547547,  0.3395018 , -0.38600338],\n",
              "       [-1.03500022,  0.00779468, -0.13202848, -0.24435076],\n",
              "       [ 0.08300329, -0.6157797 , -0.03772242,  0.03895447],\n",
              "       [ 0.59118671,  0.63136906,  0.43380786,  1.88043848],\n",
              "       [ 0.55730781, -1.39524768,  0.71672602,  2.0929174 ],\n",
              "       [-2.18688263,  0.00779468, -1.82953748, -0.81096123],\n",
              "       [ 0.21851887,  0.63136906,  0.15088969, -0.45682969],\n",
              "       [ 0.38791334,  1.41083704,  0.62241997, -0.45682969],\n",
              "       [-2.05136705, -1.39524768, -1.26370115, -0.24435076],\n",
              "       [-1.20439469, -1.23935408, -0.03772242, -0.17352445]])"
            ]
          },
          "metadata": {
            "tags": []
          },
          "execution_count": 127
        }
      ]
    },
    {
      "cell_type": "markdown",
      "metadata": {
        "id": "ILvdCv5IN4ps",
        "colab_type": "text"
      },
      "source": [
        "#### Show the scaled X indeed has mean and standard deviation close to 0 and 1, respectively."
      ]
    },
    {
      "cell_type": "code",
      "metadata": {
        "id": "NtA-aIAeN4pt",
        "colab_type": "code",
        "outputId": "b35be67a-4154-467d-a9ed-48e6edc647b2",
        "colab": {
          "base_uri": "https://localhost:8080/",
          "height": 52
        }
      },
      "source": [
        "#\n",
        "print('Scaled X mean:', X_scaled.mean())\n",
        "print('Scaled X standard deviation', X_scaled.std())"
      ],
      "execution_count": 0,
      "outputs": [
        {
          "output_type": "stream",
          "text": [
            "Scaled X mean: -3.8302694349567903e-16\n",
            "Scaled X standard deviation 0.9999999999999999\n"
          ],
          "name": "stdout"
        }
      ]
    },
    {
      "cell_type": "markdown",
      "metadata": {
        "id": "jFUmiIqFN4py",
        "colab_type": "text"
      },
      "source": [
        "#### Repeat K-means with three clusters on scaled data."
      ]
    },
    {
      "cell_type": "code",
      "metadata": {
        "id": "xvY-ZnsDN4p0",
        "colab_type": "code",
        "outputId": "5a61e40a-124b-440e-99ba-f57fc3d5ffbc",
        "colab": {
          "base_uri": "https://localhost:8080/",
          "height": 70
        }
      },
      "source": [
        "#\n",
        "model = KMeans(n_clusters=3, random_state=1)\n",
        "model.fit(X_scaled)"
      ],
      "execution_count": 0,
      "outputs": [
        {
          "output_type": "execute_result",
          "data": {
            "text/plain": [
              "KMeans(algorithm='auto', copy_x=True, init='k-means++', max_iter=300,\n",
              "    n_clusters=3, n_init=10, n_jobs=None, precompute_distances='auto',\n",
              "    random_state=1, tol=0.0001, verbose=0)"
            ]
          },
          "metadata": {
            "tags": []
          },
          "execution_count": 147
        }
      ]
    },
    {
      "cell_type": "markdown",
      "metadata": {
        "id": "G2Gj2aLXN4p5",
        "colab_type": "text"
      },
      "source": [
        "#### Add the cluster labels as an additional column('cluster') in the dataframe and print out the dataframe as sorted by cluster."
      ]
    },
    {
      "cell_type": "code",
      "metadata": {
        "id": "LH0cJlLBN4p7",
        "colab_type": "code",
        "outputId": "c8c579ab-dbd9-4e0d-d112-46273c0a31d5",
        "colab": {
          "base_uri": "https://localhost:8080/",
          "height": 647
        }
      },
      "source": [
        "#\n",
        "label2=model.labels_\n",
        "beer['cluster'] = label2\n",
        "beer.sort_values(by = ['cluster'], ascending=False)"
      ],
      "execution_count": 0,
      "outputs": [
        {
          "output_type": "execute_result",
          "data": {
            "text/html": [
              "<div>\n",
              "<style scoped>\n",
              "    .dataframe tbody tr th:only-of-type {\n",
              "        vertical-align: middle;\n",
              "    }\n",
              "\n",
              "    .dataframe tbody tr th {\n",
              "        vertical-align: top;\n",
              "    }\n",
              "\n",
              "    .dataframe thead th {\n",
              "        text-align: right;\n",
              "    }\n",
              "</style>\n",
              "<table border=\"1\" class=\"dataframe\">\n",
              "  <thead>\n",
              "    <tr style=\"text-align: right;\">\n",
              "      <th></th>\n",
              "      <th>name</th>\n",
              "      <th>calories</th>\n",
              "      <th>sodium</th>\n",
              "      <th>alcohol</th>\n",
              "      <th>cost</th>\n",
              "      <th>cluster</th>\n",
              "    </tr>\n",
              "  </thead>\n",
              "  <tbody>\n",
              "    <tr>\n",
              "      <th>14</th>\n",
              "      <td>Kirin</td>\n",
              "      <td>149</td>\n",
              "      <td>6</td>\n",
              "      <td>5.0</td>\n",
              "      <td>0.79</td>\n",
              "      <td>2</td>\n",
              "    </tr>\n",
              "    <tr>\n",
              "      <th>3</th>\n",
              "      <td>Kronenbourg</td>\n",
              "      <td>170</td>\n",
              "      <td>7</td>\n",
              "      <td>5.2</td>\n",
              "      <td>0.73</td>\n",
              "      <td>2</td>\n",
              "    </tr>\n",
              "    <tr>\n",
              "      <th>4</th>\n",
              "      <td>Heineken</td>\n",
              "      <td>152</td>\n",
              "      <td>11</td>\n",
              "      <td>5.0</td>\n",
              "      <td>0.77</td>\n",
              "      <td>2</td>\n",
              "    </tr>\n",
              "    <tr>\n",
              "      <th>13</th>\n",
              "      <td>Becks</td>\n",
              "      <td>150</td>\n",
              "      <td>19</td>\n",
              "      <td>4.7</td>\n",
              "      <td>0.76</td>\n",
              "      <td>2</td>\n",
              "    </tr>\n",
              "    <tr>\n",
              "      <th>19</th>\n",
              "      <td>Schlitz_Light</td>\n",
              "      <td>97</td>\n",
              "      <td>7</td>\n",
              "      <td>4.2</td>\n",
              "      <td>0.47</td>\n",
              "      <td>1</td>\n",
              "    </tr>\n",
              "    <tr>\n",
              "      <th>2</th>\n",
              "      <td>Lowenbrau</td>\n",
              "      <td>157</td>\n",
              "      <td>15</td>\n",
              "      <td>0.9</td>\n",
              "      <td>0.48</td>\n",
              "      <td>1</td>\n",
              "    </tr>\n",
              "    <tr>\n",
              "      <th>18</th>\n",
              "      <td>Olympia_Goled_Light</td>\n",
              "      <td>72</td>\n",
              "      <td>6</td>\n",
              "      <td>2.9</td>\n",
              "      <td>0.46</td>\n",
              "      <td>1</td>\n",
              "    </tr>\n",
              "    <tr>\n",
              "      <th>8</th>\n",
              "      <td>Miller_Lite</td>\n",
              "      <td>99</td>\n",
              "      <td>10</td>\n",
              "      <td>4.3</td>\n",
              "      <td>0.43</td>\n",
              "      <td>1</td>\n",
              "    </tr>\n",
              "    <tr>\n",
              "      <th>9</th>\n",
              "      <td>Budweiser_Light</td>\n",
              "      <td>113</td>\n",
              "      <td>8</td>\n",
              "      <td>3.7</td>\n",
              "      <td>0.40</td>\n",
              "      <td>1</td>\n",
              "    </tr>\n",
              "    <tr>\n",
              "      <th>15</th>\n",
              "      <td>Pabst_Extra_Light</td>\n",
              "      <td>68</td>\n",
              "      <td>15</td>\n",
              "      <td>2.3</td>\n",
              "      <td>0.38</td>\n",
              "      <td>1</td>\n",
              "    </tr>\n",
              "    <tr>\n",
              "      <th>11</th>\n",
              "      <td>Coors_Light</td>\n",
              "      <td>102</td>\n",
              "      <td>15</td>\n",
              "      <td>4.1</td>\n",
              "      <td>0.46</td>\n",
              "      <td>1</td>\n",
              "    </tr>\n",
              "    <tr>\n",
              "      <th>12</th>\n",
              "      <td>Michelob_Light</td>\n",
              "      <td>135</td>\n",
              "      <td>11</td>\n",
              "      <td>4.2</td>\n",
              "      <td>0.50</td>\n",
              "      <td>1</td>\n",
              "    </tr>\n",
              "    <tr>\n",
              "      <th>17</th>\n",
              "      <td>Heilemans_Old_Style</td>\n",
              "      <td>144</td>\n",
              "      <td>24</td>\n",
              "      <td>4.9</td>\n",
              "      <td>0.43</td>\n",
              "      <td>0</td>\n",
              "    </tr>\n",
              "    <tr>\n",
              "      <th>16</th>\n",
              "      <td>Hamms</td>\n",
              "      <td>139</td>\n",
              "      <td>19</td>\n",
              "      <td>4.4</td>\n",
              "      <td>0.43</td>\n",
              "      <td>0</td>\n",
              "    </tr>\n",
              "    <tr>\n",
              "      <th>0</th>\n",
              "      <td>Budweiser</td>\n",
              "      <td>144</td>\n",
              "      <td>15</td>\n",
              "      <td>4.7</td>\n",
              "      <td>0.43</td>\n",
              "      <td>0</td>\n",
              "    </tr>\n",
              "    <tr>\n",
              "      <th>1</th>\n",
              "      <td>Schlitz</td>\n",
              "      <td>151</td>\n",
              "      <td>19</td>\n",
              "      <td>4.9</td>\n",
              "      <td>0.43</td>\n",
              "      <td>0</td>\n",
              "    </tr>\n",
              "    <tr>\n",
              "      <th>7</th>\n",
              "      <td>Srohs_Bohemian_Style</td>\n",
              "      <td>149</td>\n",
              "      <td>27</td>\n",
              "      <td>4.7</td>\n",
              "      <td>0.42</td>\n",
              "      <td>0</td>\n",
              "    </tr>\n",
              "    <tr>\n",
              "      <th>6</th>\n",
              "      <td>Augsberger</td>\n",
              "      <td>175</td>\n",
              "      <td>24</td>\n",
              "      <td>5.5</td>\n",
              "      <td>0.40</td>\n",
              "      <td>0</td>\n",
              "    </tr>\n",
              "    <tr>\n",
              "      <th>5</th>\n",
              "      <td>Old_Milwaukee</td>\n",
              "      <td>145</td>\n",
              "      <td>23</td>\n",
              "      <td>4.6</td>\n",
              "      <td>0.28</td>\n",
              "      <td>0</td>\n",
              "    </tr>\n",
              "    <tr>\n",
              "      <th>10</th>\n",
              "      <td>Coors</td>\n",
              "      <td>140</td>\n",
              "      <td>18</td>\n",
              "      <td>4.6</td>\n",
              "      <td>0.44</td>\n",
              "      <td>0</td>\n",
              "    </tr>\n",
              "  </tbody>\n",
              "</table>\n",
              "</div>"
            ],
            "text/plain": [
              "                    name  calories  sodium  alcohol  cost  cluster\n",
              "14                 Kirin       149       6      5.0  0.79        2\n",
              "3            Kronenbourg       170       7      5.2  0.73        2\n",
              "4               Heineken       152      11      5.0  0.77        2\n",
              "13                 Becks       150      19      4.7  0.76        2\n",
              "19         Schlitz_Light        97       7      4.2  0.47        1\n",
              "2              Lowenbrau       157      15      0.9  0.48        1\n",
              "18   Olympia_Goled_Light        72       6      2.9  0.46        1\n",
              "8            Miller_Lite        99      10      4.3  0.43        1\n",
              "9        Budweiser_Light       113       8      3.7  0.40        1\n",
              "15     Pabst_Extra_Light        68      15      2.3  0.38        1\n",
              "11           Coors_Light       102      15      4.1  0.46        1\n",
              "12        Michelob_Light       135      11      4.2  0.50        1\n",
              "17   Heilemans_Old_Style       144      24      4.9  0.43        0\n",
              "16                 Hamms       139      19      4.4  0.43        0\n",
              "0              Budweiser       144      15      4.7  0.43        0\n",
              "1                Schlitz       151      19      4.9  0.43        0\n",
              "7   Srohs_Bohemian_Style       149      27      4.7  0.42        0\n",
              "6             Augsberger       175      24      5.5  0.40        0\n",
              "5          Old_Milwaukee       145      23      4.6  0.28        0\n",
              "10                 Coors       140      18      4.6  0.44        0"
            ]
          },
          "metadata": {
            "tags": []
          },
          "execution_count": 148
        }
      ]
    },
    {
      "cell_type": "markdown",
      "metadata": {
        "id": "MjrRxvO8N4qA",
        "colab_type": "text"
      },
      "source": [
        "#### What are the \"characteristics\" of each cluster?\n",
        "\n",
        "**Answer:** \n",
        "\n",
        "Cluster 0: Regular beers\n",
        "Cluster 1: Light beers (lower calorie, lower alcohol)\n",
        "Cluster 2: Expensive (high cost)"
      ]
    },
    {
      "cell_type": "markdown",
      "metadata": {
        "id": "clHgPICON4qB",
        "colab_type": "text"
      },
      "source": [
        "#### Show the cluster centers."
      ]
    },
    {
      "cell_type": "code",
      "metadata": {
        "id": "ulTobG9AN4qD",
        "colab_type": "code",
        "outputId": "9feebc93-772b-45c7-fa39-7d5b5136671d",
        "colab": {
          "base_uri": "https://localhost:8080/",
          "height": 167
        }
      },
      "source": [
        "#\n",
        "beer.groupby('cluster').mean()"
      ],
      "execution_count": 0,
      "outputs": [
        {
          "output_type": "execute_result",
          "data": {
            "text/html": [
              "<div>\n",
              "<style scoped>\n",
              "    .dataframe tbody tr th:only-of-type {\n",
              "        vertical-align: middle;\n",
              "    }\n",
              "\n",
              "    .dataframe tbody tr th {\n",
              "        vertical-align: top;\n",
              "    }\n",
              "\n",
              "    .dataframe thead th {\n",
              "        text-align: right;\n",
              "    }\n",
              "</style>\n",
              "<table border=\"1\" class=\"dataframe\">\n",
              "  <thead>\n",
              "    <tr style=\"text-align: right;\">\n",
              "      <th></th>\n",
              "      <th>calories</th>\n",
              "      <th>sodium</th>\n",
              "      <th>alcohol</th>\n",
              "      <th>cost</th>\n",
              "    </tr>\n",
              "    <tr>\n",
              "      <th>cluster</th>\n",
              "      <th></th>\n",
              "      <th></th>\n",
              "      <th></th>\n",
              "      <th></th>\n",
              "    </tr>\n",
              "  </thead>\n",
              "  <tbody>\n",
              "    <tr>\n",
              "      <th>0</th>\n",
              "      <td>148.375</td>\n",
              "      <td>21.125</td>\n",
              "      <td>4.7875</td>\n",
              "      <td>0.4075</td>\n",
              "    </tr>\n",
              "    <tr>\n",
              "      <th>1</th>\n",
              "      <td>105.375</td>\n",
              "      <td>10.875</td>\n",
              "      <td>3.3250</td>\n",
              "      <td>0.4475</td>\n",
              "    </tr>\n",
              "    <tr>\n",
              "      <th>2</th>\n",
              "      <td>155.250</td>\n",
              "      <td>10.750</td>\n",
              "      <td>4.9750</td>\n",
              "      <td>0.7625</td>\n",
              "    </tr>\n",
              "  </tbody>\n",
              "</table>\n",
              "</div>"
            ],
            "text/plain": [
              "         calories  sodium  alcohol    cost\n",
              "cluster                                   \n",
              "0         148.375  21.125   4.7875  0.4075\n",
              "1         105.375  10.875   3.3250  0.4475\n",
              "2         155.250  10.750   4.9750  0.7625"
            ]
          },
          "metadata": {
            "tags": []
          },
          "execution_count": 149
        }
      ]
    },
    {
      "cell_type": "markdown",
      "metadata": {
        "id": "tl1l5mnfN4qJ",
        "colab_type": "text"
      },
      "source": [
        "#### Create scatter plot matrix of new cluster assignments (0=red, 1=green, 2=blue)."
      ]
    },
    {
      "cell_type": "code",
      "metadata": {
        "id": "sv4Kh8FbSvXA",
        "colab_type": "code",
        "outputId": "fbcf58f5-286d-4cf2-fae3-4e869790bb44",
        "colab": {
          "base_uri": "https://localhost:8080/",
          "height": 942
        }
      },
      "source": [
        "beer_scaled = pd.DataFrame(X_scaled, columns=beer.columns[1:-1])\n",
        "pd.scatter_matrix(beer_scaled, c=colors[beer.cluster], figsize=(10,10), s=100)"
      ],
      "execution_count": 0,
      "outputs": [
        {
          "output_type": "stream",
          "text": [
            "/usr/local/lib/python3.6/dist-packages/ipykernel_launcher.py:2: FutureWarning: pandas.scatter_matrix is deprecated. Use pandas.plotting.scatter_matrix instead\n",
            "  \n"
          ],
          "name": "stderr"
        },
        {
          "output_type": "execute_result",
          "data": {
            "text/plain": [
              "array([[<matplotlib.axes._subplots.AxesSubplot object at 0x7f1aa9b6d9e8>,\n",
              "        <matplotlib.axes._subplots.AxesSubplot object at 0x7f1aa9cf67f0>,\n",
              "        <matplotlib.axes._subplots.AxesSubplot object at 0x7f1aa9ce1fd0>,\n",
              "        <matplotlib.axes._subplots.AxesSubplot object at 0x7f1aa98fd978>],\n",
              "       [<matplotlib.axes._subplots.AxesSubplot object at 0x7f1aa9bc4a90>,\n",
              "        <matplotlib.axes._subplots.AxesSubplot object at 0x7f1aad16cc88>,\n",
              "        <matplotlib.axes._subplots.AxesSubplot object at 0x7f1aa9afe630>,\n",
              "        <matplotlib.axes._subplots.AxesSubplot object at 0x7f1aa9954080>],\n",
              "       [<matplotlib.axes._subplots.AxesSubplot object at 0x7f1aa996a048>,\n",
              "        <matplotlib.axes._subplots.AxesSubplot object at 0x7f1aa9c6d2e8>,\n",
              "        <matplotlib.axes._subplots.AxesSubplot object at 0x7f1aa9c26c50>,\n",
              "        <matplotlib.axes._subplots.AxesSubplot object at 0x7f1aa9c125f8>],\n",
              "       [<matplotlib.axes._subplots.AxesSubplot object at 0x7f1aa9cb7f60>,\n",
              "        <matplotlib.axes._subplots.AxesSubplot object at 0x7f1aa99a7908>,\n",
              "        <matplotlib.axes._subplots.AxesSubplot object at 0x7f1aa99852b0>,\n",
              "        <matplotlib.axes._subplots.AxesSubplot object at 0x7f1aa9a2ac18>]],\n",
              "      dtype=object)"
            ]
          },
          "metadata": {
            "tags": []
          },
          "execution_count": 150
        },
        {
          "output_type": "display_data",
          "data": {
            "image/png": "[encoded data removed]",
            "text/plain": [
              "<Figure size 720x720 with 16 Axes>"
            ]
          },
          "metadata": {
            "tags": []
          }
        }
      ]
    },
    {
      "cell_type": "markdown",
      "metadata": {
        "id": "ZrhfG5cFN4qQ",
        "colab_type": "text"
      },
      "source": [
        "#### Do you notice any feaure(s) irrelevant in clustering assignments? How would you explain this?\n",
        "\n",
        "**Answer:**"
      ]
    },
    {
      "cell_type": "markdown",
      "metadata": {
        "id": "mshnsSMjTYxb",
        "colab_type": "text"
      },
      "source": [
        " It appears that sodium is not relevent in predicting the cluster. Perhaps sodium levels vary quite a lot amongst all types of beers and are not indicative of beer type (indeed, the sodium is quite low compared to most foods)."
      ]
    },
    {
      "cell_type": "markdown",
      "metadata": {
        "id": "U6NO0OP8N4qX",
        "colab_type": "text"
      },
      "source": [
        "####  Do you notice any feaure(s) irrelevant in clustering assignments? How would you explain this?\n",
        "\n",
        "**Answer:** It appears that `sodium` is not often useful in predicting the cluster. Perhaps sodium levels vary quite a lot amongst all types of beers and are not indicative of beer type (indeed, the sodium is quite low compared to most foods)."
      ]
    },
    {
      "cell_type": "markdown",
      "metadata": {
        "id": "v8g64XTcN4qY",
        "colab_type": "text"
      },
      "source": [
        "### Applying the elbow method to k-means\n",
        "\n",
        "The [elbow method](https://en.wikipedia.org/wiki/Elbow_method_(clustering) is one possible method to help narrow in on the ideal value of **K**. The method is built around the concept of diminishing returns where the percentage of explained variance is reviewed as a function of the number of clusters: One should choose a number of clusters where the next cluster doesn't significantly explain additional variance. \n",
        "\n",
        "[Determining the right number of clusters](https://en.wikipedia.org/wiki/Determining_the_number_of_clusters_in_a_data_set)   \n",
        "\n",
        "Try a range of K and plot both the Inertia Over K and Silhouette Over K curves."
      ]
    },
    {
      "cell_type": "code",
      "metadata": {
        "id": "O2cJHD1tZsvE",
        "colab_type": "code",
        "outputId": "9e603e6f-30ec-42bf-e111-1c8c6b6f6983",
        "colab": {
          "base_uri": "https://localhost:8080/",
          "height": 297
        }
      },
      "source": [
        "values = range(2,20)\n",
        "scores = []\n",
        "for value in values:        \n",
        "    model = KMeans(n_clusters = value)\n",
        "    #X = df[[\"x\", \"y\"]]\n",
        "    model.fit(X_scaled)\n",
        "    #scores    = \n",
        "    inertia = model.inertia_\n",
        "    scores.append({\n",
        "                    \"inertia\":    inertia,\n",
        "                    \"silhouette\": metrics.silhouette_score(X_scaled, model.labels_)\n",
        "                })\n",
        "\n",
        "eval_scores = pd.DataFrame(scores)\n",
        "eval_scores.head()\n",
        "\n",
        "fig, ax = plt.subplots(ncols=2, figsize=(10, 4))\n",
        "eval_scores[\"inertia\"].plot(ax=ax[0], title=\"Intertia Over K\")\n",
        "eval_scores[\"silhouette\"].plot(ax=ax[1], title=\"Silhouette Over K\")\n"
      ],
      "execution_count": 0,
      "outputs": [
        {
          "output_type": "execute_result",
          "data": {
            "text/plain": [
              "<matplotlib.axes._subplots.AxesSubplot at 0x7f1aa87a33c8>"
            ]
          },
          "metadata": {
            "tags": []
          },
          "execution_count": 151
        },
        {
          "output_type": "display_data",
          "data": {
            "image/png": "[encoded data removed]",
            "text/plain": [
              "<Figure size 720x288 with 2 Axes>"
            ]
          },
          "metadata": {
            "tags": []
          }
        }
      ]
    },
    {
      "cell_type": "markdown",
      "metadata": {
        "id": "jgTgZy1iN4qf",
        "colab_type": "text"
      },
      "source": [
        "#### Let's analyze the above\n",
        "\n",
        "- Do you see the **\"elbow\"**?\n",
        "\n",
        "- What's the best value of k?\n",
        "\n"
      ]
    },
    {
      "cell_type": "markdown",
      "metadata": {
        "id": "0tEfBIqjN4qh",
        "colab_type": "text"
      },
      "source": [
        "**Answer**\n",
        "\n",
        "From K=1-2, the sum of squared errors droped rapidly. AfterK = 2 and later, the additional cluster doesn't significant. \n",
        "\n",
        "The Silhouette figure shows the best value of K=2, which reaches the highest sihouette score"
      ]
    }
  ]
}
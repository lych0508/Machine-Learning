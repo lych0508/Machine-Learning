{
  "nbformat": 4,
  "nbformat_minor": 0,
  "metadata": {
    "colab": {
      "name": "HW5Li-Yichen.ipynb",
      "version": "0.3.2",
      "provenance": [],
      "collapsed_sections": []
    },
    "kernelspec": {
      "display_name": "Python 3",
      "language": "python",
      "name": "python3"
    }
  },
  "cells": [
    {
      "cell_type": "markdown",
      "metadata": {
        "id": "uZ5vbHH1d6Po",
        "colab_type": "text"
      },
      "source": [
        "# HW5: Ensemble methods and cross validation with college data\n",
        "\n",
        "Using the college statistic data to compare different ensemble methods on their performance with cross validation.\n"
      ]
    },
    {
      "cell_type": "code",
      "metadata": {
        "id": "uJRcz7cnd6Pp",
        "colab_type": "code",
        "colab": {}
      },
      "source": [
        "# import few things we will use in this exercise\n",
        "import pandas as pd\n",
        "from sklearn.model_selection import cross_val_score, StratifiedKFold\n",
        "from sklearn.preprocessing import LabelEncoder\n",
        "from sklearn.tree import DecisionTreeClassifier\n",
        "from sklearn.ensemble import RandomForestClassifier, ExtraTreesClassifier, BaggingClassifier,AdaBoostClassifier,GradientBoostingClassifier"
      ],
      "execution_count": 0,
      "outputs": []
    },
    {
      "cell_type": "code",
      "metadata": {
        "colab_type": "code",
        "id": "1WbzJM4cYp1I",
        "outputId": "f1c33e05-321a-4264-9c26-70dffbce23ae",
        "colab": {
          "base_uri": "https://localhost:8080/",
          "height": 51
        }
      },
      "source": [
        "#1 Code to read csv file into colaboratory:\n",
        "!pip install -U -q PyDrive\n",
        "from pydrive.auth import GoogleAuth\n",
        "from pydrive.drive import GoogleDrive\n",
        "from google.colab import auth\n",
        "from oauth2client.client import GoogleCredentials\n",
        "\n",
        "# 1. Authenticate and create the PyDrive client.\n",
        "auth.authenticate_user()\n",
        "gauth = GoogleAuth()\n",
        "gauth.credentials = GoogleCredentials.get_application_default()\n",
        "drive = GoogleDrive(gauth)"
      ],
      "execution_count": 0,
      "outputs": [
        {
          "output_type": "stream",
          "text": [
            "\u001b[?25l\r\u001b[K    1% |▎                               | 10kB 18.7MB/s eta 0:00:01\r\u001b[K    2% |▋                               | 20kB 1.9MB/s eta 0:00:01\r\u001b[K    3% |█                               | 30kB 2.7MB/s eta 0:00:01\r\u001b[K    4% |█▎                              | 40kB 1.8MB/s eta 0:00:01\r\u001b[K    5% |█▋                              | 51kB 2.2MB/s eta 0:00:01\r\u001b[K    6% |██                              | 61kB 2.6MB/s eta 0:00:01\r\u001b[K    7% |██▎                             | 71kB 3.0MB/s eta 0:00:01\r\u001b[K    8% |██▋                             | 81kB 3.4MB/s eta 0:00:01\r\u001b[K    9% |███                             | 92kB 3.8MB/s eta 0:00:01\r\u001b[K    10% |███▎                            | 102kB 2.9MB/s eta 0:00:01\r\u001b[K    11% |███▋                            | 112kB 3.0MB/s eta 0:00:01\r\u001b[K    12% |████                            | 122kB 4.2MB/s eta 0:00:01\r\u001b[K    13% |████▎                           | 133kB 4.2MB/s eta 0:00:01\r\u001b[K    14% |████▋                           | 143kB 7.9MB/s eta 0:00:01\r\u001b[K    15% |█████                           | 153kB 8.0MB/s eta 0:00:01\r\u001b[K    16% |█████▎                          | 163kB 8.0MB/s eta 0:00:01\r\u001b[K    17% |█████▋                          | 174kB 7.9MB/s eta 0:00:01\r\u001b[K    18% |██████                          | 184kB 7.9MB/s eta 0:00:01\r\u001b[K    19% |██████▎                         | 194kB 8.0MB/s eta 0:00:01\r\u001b[K    20% |██████▋                         | 204kB 44.1MB/s eta 0:00:01\r\u001b[K    21% |███████                         | 215kB 8.7MB/s eta 0:00:01\r\u001b[K    22% |███████▎                        | 225kB 8.7MB/s eta 0:00:01\r\u001b[K    23% |███████▋                        | 235kB 8.8MB/s eta 0:00:01\r\u001b[K    24% |████████                        | 245kB 8.8MB/s eta 0:00:01\r\u001b[K    25% |████████▎                       | 256kB 8.8MB/s eta 0:00:01\r\u001b[K    26% |████████▋                       | 266kB 8.5MB/s eta 0:00:01\r\u001b[K    27% |█████████                       | 276kB 8.7MB/s eta 0:00:01\r\u001b[K    29% |█████████▎                      | 286kB 8.8MB/s eta 0:00:01\r\u001b[K    30% |█████████▋                      | 296kB 8.7MB/s eta 0:00:01\r\u001b[K    31% |██████████                      | 307kB 8.8MB/s eta 0:00:01\r\u001b[K    32% |██████████▎                     | 317kB 50.1MB/s eta 0:00:01\r\u001b[K    33% |██████████▋                     | 327kB 50.4MB/s eta 0:00:01\r\u001b[K    34% |███████████                     | 337kB 52.0MB/s eta 0:00:01\r\u001b[K    35% |███████████▎                    | 348kB 8.9MB/s eta 0:00:01\r\u001b[K    36% |███████████▋                    | 358kB 8.8MB/s eta 0:00:01\r\u001b[K    37% |████████████                    | 368kB 9.1MB/s eta 0:00:01\r\u001b[K    38% |████████████▎                   | 378kB 9.0MB/s eta 0:00:01\r\u001b[K    39% |████████████▋                   | 389kB 9.0MB/s eta 0:00:01\r\u001b[K    40% |█████████████                   | 399kB 9.0MB/s eta 0:00:01\r\u001b[K    41% |█████████████▎                  | 409kB 8.9MB/s eta 0:00:01\r\u001b[K    42% |█████████████▋                  | 419kB 8.9MB/s eta 0:00:01\r\u001b[K    43% |██████████████                  | 430kB 9.0MB/s eta 0:00:01\r\u001b[K    44% |██████████████▎                 | 440kB 9.0MB/s eta 0:00:01\r\u001b[K    45% |██████████████▋                 | 450kB 53.1MB/s eta 0:00:01\r\u001b[K    46% |███████████████                 | 460kB 54.6MB/s eta 0:00:01\r\u001b[K    47% |███████████████▎                | 471kB 55.5MB/s eta 0:00:01\r\u001b[K    48% |███████████████▋                | 481kB 56.9MB/s eta 0:00:01\r\u001b[K    49% |████████████████                | 491kB 55.9MB/s eta 0:00:01\r\u001b[K    50% |████████████████▎               | 501kB 59.6MB/s eta 0:00:01\r\u001b[K    51% |████████████████▋               | 512kB 55.4MB/s eta 0:00:01\r\u001b[K    52% |█████████████████               | 522kB 55.3MB/s eta 0:00:01\r\u001b[K    53% |█████████████████▎              | 532kB 56.3MB/s eta 0:00:01\r\u001b[K    54% |█████████████████▋              | 542kB 55.7MB/s eta 0:00:01\r\u001b[K    55% |██████████████████              | 552kB 62.1MB/s eta 0:00:01\r\u001b[K    57% |██████████████████▎             | 563kB 62.7MB/s eta 0:00:01\r\u001b[K    58% |██████████████████▋             | 573kB 60.9MB/s eta 0:00:01\r\u001b[K    59% |███████████████████             | 583kB 60.1MB/s eta 0:00:01\r\u001b[K    60% |███████████████████▎            | 593kB 11.2MB/s eta 0:00:01\r\u001b[K    61% |███████████████████▋            | 604kB 11.1MB/s eta 0:00:01\r\u001b[K    62% |████████████████████            | 614kB 11.2MB/s eta 0:00:01\r\u001b[K    63% |████████████████████▎           | 624kB 11.2MB/s eta 0:00:01\r\u001b[K    64% |████████████████████▋           | 634kB 11.2MB/s eta 0:00:01\r\u001b[K    65% |█████████████████████           | 645kB 11.2MB/s eta 0:00:01\r\u001b[K    66% |█████████████████████▎          | 655kB 11.1MB/s eta 0:00:01\r\u001b[K    67% |█████████████████████▋          | 665kB 10.4MB/s eta 0:00:01\r\u001b[K    68% |██████████████████████          | 675kB 10.4MB/s eta 0:00:01\r\u001b[K    69% |██████████████████████▎         | 686kB 10.4MB/s eta 0:00:01\r\u001b[K    70% |██████████████████████▋         | 696kB 44.0MB/s eta 0:00:01\r\u001b[K    71% |███████████████████████         | 706kB 45.8MB/s eta 0:00:01\r\u001b[K    72% |███████████████████████▎        | 716kB 46.6MB/s eta 0:00:01\r\u001b[K    73% |███████████████████████▋        | 727kB 46.3MB/s eta 0:00:01\r\u001b[K    74% |████████████████████████        | 737kB 46.1MB/s eta 0:00:01\r\u001b[K    75% |████████████████████████▎       | 747kB 46.5MB/s eta 0:00:01\r\u001b[K    76% |████████████████████████▋       | 757kB 46.1MB/s eta 0:00:01\r\u001b[K    77% |████████████████████████▉       | 768kB 64.1MB/s eta 0:00:01\r\u001b[K    78% |█████████████████████████▏      | 778kB 64.5MB/s eta 0:00:01\r\u001b[K    79% |█████████████████████████▌      | 788kB 62.8MB/s eta 0:00:01\r\u001b[K    80% |█████████████████████████▉      | 798kB 62.5MB/s eta 0:00:01\r\u001b[K    81% |██████████████████████████▏     | 808kB 61.9MB/s eta 0:00:01\r\u001b[K    82% |██████████████████████████▌     | 819kB 60.0MB/s eta 0:00:01\r\u001b[K    83% |██████████████████████████▉     | 829kB 61.0MB/s eta 0:00:01\r\u001b[K    85% |███████████████████████████▏    | 839kB 61.5MB/s eta 0:00:01\r\u001b[K    86% |███████████████████████████▌    | 849kB 60.6MB/s eta 0:00:01\r\u001b[K    87% |███████████████████████████▉    | 860kB 53.9MB/s eta 0:00:01\r\u001b[K    88% |████████████████████████████▏   | 870kB 53.3MB/s eta 0:00:01\r\u001b[K    89% |████████████████████████████▌   | 880kB 54.3MB/s eta 0:00:01\r\u001b[K    90% |████████████████████████████▉   | 890kB 55.9MB/s eta 0:00:01\r\u001b[K    91% |█████████████████████████████▏  | 901kB 55.8MB/s eta 0:00:01\r\u001b[K    92% |█████████████████████████████▌  | 911kB 56.4MB/s eta 0:00:01\r\u001b[K    93% |█████████████████████████████▉  | 921kB 57.8MB/s eta 0:00:01\r\u001b[K    94% |██████████████████████████████▏ | 931kB 57.6MB/s eta 0:00:01\r\u001b[K    95% |██████████████████████████████▌ | 942kB 57.8MB/s eta 0:00:01\r\u001b[K    96% |██████████████████████████████▉ | 952kB 58.2MB/s eta 0:00:01\r\u001b[K    97% |███████████████████████████████▏| 962kB 67.0MB/s eta 0:00:01\r\u001b[K    98% |███████████████████████████████▌| 972kB 67.6MB/s eta 0:00:01\r\u001b[K    99% |███████████████████████████████▉| 983kB 66.2MB/s eta 0:00:01\r\u001b[K    100% |████████████████████████████████| 993kB 21.0MB/s \n",
            "\u001b[?25h  Building wheel for PyDrive (setup.py) ... \u001b[?25ldone\n",
            "\u001b[?25h"
          ],
          "name": "stdout"
        }
      ]
    },
    {
      "cell_type": "code",
      "metadata": {
        "id": "WPsLoImqCXCi",
        "colab_type": "code",
        "colab": {}
      },
      "source": [
        ""
      ],
      "execution_count": 0,
      "outputs": []
    },
    {
      "cell_type": "code",
      "metadata": {
        "colab_type": "code",
        "id": "ubjxW9IrYrMG",
        "colab": {}
      },
      "source": [
        "#2. Get the file\n",
        "#make sure you upload all your data files to your Google drive and change share->Advanced->change->anyone with the link can view\n",
        "downloaded = drive.CreateFile({'id':'185gv_hzqVvSUI_TBDINYNU6Leawu5tMo'}) # replace the id with id of file you want to access\n",
        "downloaded.GetContentFile('college.csv')"
      ],
      "execution_count": 0,
      "outputs": []
    },
    {
      "cell_type": "code",
      "metadata": {
        "id": "dxKzuHXNd6Pt",
        "colab_type": "code",
        "colab": {}
      },
      "source": [
        "# read in the data and save it in a dataframe\n",
        "col = pd.read_csv('college.csv')"
      ],
      "execution_count": 0,
      "outputs": []
    },
    {
      "cell_type": "code",
      "metadata": {
        "id": "QedE_6P_d6Px",
        "colab_type": "code",
        "outputId": "7809aed1-caff-4e10-b27e-41f97e201b1f",
        "colab": {
          "base_uri": "https://localhost:8080/",
          "height": 359
        }
      },
      "source": [
        "# Take a look and see what's in it\n",
        "col.head(10)"
      ],
      "execution_count": 0,
      "outputs": [
        {
          "output_type": "execute_result",
          "data": {
            "text/html": [
              "<div>\n",
              "<style scoped>\n",
              "    .dataframe tbody tr th:only-of-type {\n",
              "        vertical-align: middle;\n",
              "    }\n",
              "\n",
              "    .dataframe tbody tr th {\n",
              "        vertical-align: top;\n",
              "    }\n",
              "\n",
              "    .dataframe thead th {\n",
              "        text-align: right;\n",
              "    }\n",
              "</style>\n",
              "<table border=\"1\" class=\"dataframe\">\n",
              "  <thead>\n",
              "    <tr style=\"text-align: right;\">\n",
              "      <th></th>\n",
              "      <th>Unnamed: 0</th>\n",
              "      <th>Private</th>\n",
              "      <th>Apps</th>\n",
              "      <th>Accept</th>\n",
              "      <th>Enroll</th>\n",
              "      <th>Top10perc</th>\n",
              "      <th>Top25perc</th>\n",
              "      <th>F.Undergrad</th>\n",
              "      <th>P.Undergrad</th>\n",
              "      <th>Outstate</th>\n",
              "      <th>Room.Board</th>\n",
              "      <th>Books</th>\n",
              "      <th>Personal</th>\n",
              "      <th>PhD</th>\n",
              "      <th>Terminal</th>\n",
              "      <th>S.F.Ratio</th>\n",
              "      <th>perc.alumni</th>\n",
              "      <th>Expend</th>\n",
              "      <th>Grad.Rate</th>\n",
              "    </tr>\n",
              "  </thead>\n",
              "  <tbody>\n",
              "    <tr>\n",
              "      <th>0</th>\n",
              "      <td>Abilene Christian University</td>\n",
              "      <td>Yes</td>\n",
              "      <td>1660</td>\n",
              "      <td>1232</td>\n",
              "      <td>721</td>\n",
              "      <td>23</td>\n",
              "      <td>52</td>\n",
              "      <td>2885</td>\n",
              "      <td>537</td>\n",
              "      <td>7440</td>\n",
              "      <td>3300</td>\n",
              "      <td>450</td>\n",
              "      <td>2200</td>\n",
              "      <td>70</td>\n",
              "      <td>78</td>\n",
              "      <td>18.1</td>\n",
              "      <td>12</td>\n",
              "      <td>7041</td>\n",
              "      <td>60</td>\n",
              "    </tr>\n",
              "    <tr>\n",
              "      <th>1</th>\n",
              "      <td>Adelphi University</td>\n",
              "      <td>Yes</td>\n",
              "      <td>2186</td>\n",
              "      <td>1924</td>\n",
              "      <td>512</td>\n",
              "      <td>16</td>\n",
              "      <td>29</td>\n",
              "      <td>2683</td>\n",
              "      <td>1227</td>\n",
              "      <td>12280</td>\n",
              "      <td>6450</td>\n",
              "      <td>750</td>\n",
              "      <td>1500</td>\n",
              "      <td>29</td>\n",
              "      <td>30</td>\n",
              "      <td>12.2</td>\n",
              "      <td>16</td>\n",
              "      <td>10527</td>\n",
              "      <td>56</td>\n",
              "    </tr>\n",
              "    <tr>\n",
              "      <th>2</th>\n",
              "      <td>Adrian College</td>\n",
              "      <td>Yes</td>\n",
              "      <td>1428</td>\n",
              "      <td>1097</td>\n",
              "      <td>336</td>\n",
              "      <td>22</td>\n",
              "      <td>50</td>\n",
              "      <td>1036</td>\n",
              "      <td>99</td>\n",
              "      <td>11250</td>\n",
              "      <td>3750</td>\n",
              "      <td>400</td>\n",
              "      <td>1165</td>\n",
              "      <td>53</td>\n",
              "      <td>66</td>\n",
              "      <td>12.9</td>\n",
              "      <td>30</td>\n",
              "      <td>8735</td>\n",
              "      <td>54</td>\n",
              "    </tr>\n",
              "    <tr>\n",
              "      <th>3</th>\n",
              "      <td>Agnes Scott College</td>\n",
              "      <td>Yes</td>\n",
              "      <td>417</td>\n",
              "      <td>349</td>\n",
              "      <td>137</td>\n",
              "      <td>60</td>\n",
              "      <td>89</td>\n",
              "      <td>510</td>\n",
              "      <td>63</td>\n",
              "      <td>12960</td>\n",
              "      <td>5450</td>\n",
              "      <td>450</td>\n",
              "      <td>875</td>\n",
              "      <td>92</td>\n",
              "      <td>97</td>\n",
              "      <td>7.7</td>\n",
              "      <td>37</td>\n",
              "      <td>19016</td>\n",
              "      <td>59</td>\n",
              "    </tr>\n",
              "    <tr>\n",
              "      <th>4</th>\n",
              "      <td>Alaska Pacific University</td>\n",
              "      <td>Yes</td>\n",
              "      <td>193</td>\n",
              "      <td>146</td>\n",
              "      <td>55</td>\n",
              "      <td>16</td>\n",
              "      <td>44</td>\n",
              "      <td>249</td>\n",
              "      <td>869</td>\n",
              "      <td>7560</td>\n",
              "      <td>4120</td>\n",
              "      <td>800</td>\n",
              "      <td>1500</td>\n",
              "      <td>76</td>\n",
              "      <td>72</td>\n",
              "      <td>11.9</td>\n",
              "      <td>2</td>\n",
              "      <td>10922</td>\n",
              "      <td>15</td>\n",
              "    </tr>\n",
              "    <tr>\n",
              "      <th>5</th>\n",
              "      <td>Albertson College</td>\n",
              "      <td>Yes</td>\n",
              "      <td>587</td>\n",
              "      <td>479</td>\n",
              "      <td>158</td>\n",
              "      <td>38</td>\n",
              "      <td>62</td>\n",
              "      <td>678</td>\n",
              "      <td>41</td>\n",
              "      <td>13500</td>\n",
              "      <td>3335</td>\n",
              "      <td>500</td>\n",
              "      <td>675</td>\n",
              "      <td>67</td>\n",
              "      <td>73</td>\n",
              "      <td>9.4</td>\n",
              "      <td>11</td>\n",
              "      <td>9727</td>\n",
              "      <td>55</td>\n",
              "    </tr>\n",
              "    <tr>\n",
              "      <th>6</th>\n",
              "      <td>Albertus Magnus College</td>\n",
              "      <td>Yes</td>\n",
              "      <td>353</td>\n",
              "      <td>340</td>\n",
              "      <td>103</td>\n",
              "      <td>17</td>\n",
              "      <td>45</td>\n",
              "      <td>416</td>\n",
              "      <td>230</td>\n",
              "      <td>13290</td>\n",
              "      <td>5720</td>\n",
              "      <td>500</td>\n",
              "      <td>1500</td>\n",
              "      <td>90</td>\n",
              "      <td>93</td>\n",
              "      <td>11.5</td>\n",
              "      <td>26</td>\n",
              "      <td>8861</td>\n",
              "      <td>63</td>\n",
              "    </tr>\n",
              "    <tr>\n",
              "      <th>7</th>\n",
              "      <td>Albion College</td>\n",
              "      <td>Yes</td>\n",
              "      <td>1899</td>\n",
              "      <td>1720</td>\n",
              "      <td>489</td>\n",
              "      <td>37</td>\n",
              "      <td>68</td>\n",
              "      <td>1594</td>\n",
              "      <td>32</td>\n",
              "      <td>13868</td>\n",
              "      <td>4826</td>\n",
              "      <td>450</td>\n",
              "      <td>850</td>\n",
              "      <td>89</td>\n",
              "      <td>100</td>\n",
              "      <td>13.7</td>\n",
              "      <td>37</td>\n",
              "      <td>11487</td>\n",
              "      <td>73</td>\n",
              "    </tr>\n",
              "    <tr>\n",
              "      <th>8</th>\n",
              "      <td>Albright College</td>\n",
              "      <td>Yes</td>\n",
              "      <td>1038</td>\n",
              "      <td>839</td>\n",
              "      <td>227</td>\n",
              "      <td>30</td>\n",
              "      <td>63</td>\n",
              "      <td>973</td>\n",
              "      <td>306</td>\n",
              "      <td>15595</td>\n",
              "      <td>4400</td>\n",
              "      <td>300</td>\n",
              "      <td>500</td>\n",
              "      <td>79</td>\n",
              "      <td>84</td>\n",
              "      <td>11.3</td>\n",
              "      <td>23</td>\n",
              "      <td>11644</td>\n",
              "      <td>80</td>\n",
              "    </tr>\n",
              "    <tr>\n",
              "      <th>9</th>\n",
              "      <td>Alderson-Broaddus College</td>\n",
              "      <td>Yes</td>\n",
              "      <td>582</td>\n",
              "      <td>498</td>\n",
              "      <td>172</td>\n",
              "      <td>21</td>\n",
              "      <td>44</td>\n",
              "      <td>799</td>\n",
              "      <td>78</td>\n",
              "      <td>10468</td>\n",
              "      <td>3380</td>\n",
              "      <td>660</td>\n",
              "      <td>1800</td>\n",
              "      <td>40</td>\n",
              "      <td>41</td>\n",
              "      <td>11.5</td>\n",
              "      <td>15</td>\n",
              "      <td>8991</td>\n",
              "      <td>52</td>\n",
              "    </tr>\n",
              "  </tbody>\n",
              "</table>\n",
              "</div>"
            ],
            "text/plain": [
              "                     Unnamed: 0 Private  Apps  Accept  Enroll  Top10perc  \\\n",
              "0  Abilene Christian University     Yes  1660    1232     721         23   \n",
              "1            Adelphi University     Yes  2186    1924     512         16   \n",
              "2                Adrian College     Yes  1428    1097     336         22   \n",
              "3           Agnes Scott College     Yes   417     349     137         60   \n",
              "4     Alaska Pacific University     Yes   193     146      55         16   \n",
              "5             Albertson College     Yes   587     479     158         38   \n",
              "6       Albertus Magnus College     Yes   353     340     103         17   \n",
              "7                Albion College     Yes  1899    1720     489         37   \n",
              "8              Albright College     Yes  1038     839     227         30   \n",
              "9     Alderson-Broaddus College     Yes   582     498     172         21   \n",
              "\n",
              "   Top25perc  F.Undergrad  P.Undergrad  Outstate  Room.Board  Books  Personal  \\\n",
              "0         52         2885          537      7440        3300    450      2200   \n",
              "1         29         2683         1227     12280        6450    750      1500   \n",
              "2         50         1036           99     11250        3750    400      1165   \n",
              "3         89          510           63     12960        5450    450       875   \n",
              "4         44          249          869      7560        4120    800      1500   \n",
              "5         62          678           41     13500        3335    500       675   \n",
              "6         45          416          230     13290        5720    500      1500   \n",
              "7         68         1594           32     13868        4826    450       850   \n",
              "8         63          973          306     15595        4400    300       500   \n",
              "9         44          799           78     10468        3380    660      1800   \n",
              "\n",
              "   PhD  Terminal  S.F.Ratio  perc.alumni  Expend  Grad.Rate  \n",
              "0   70        78       18.1           12    7041         60  \n",
              "1   29        30       12.2           16   10527         56  \n",
              "2   53        66       12.9           30    8735         54  \n",
              "3   92        97        7.7           37   19016         59  \n",
              "4   76        72       11.9            2   10922         15  \n",
              "5   67        73        9.4           11    9727         55  \n",
              "6   90        93       11.5           26    8861         63  \n",
              "7   89       100       13.7           37   11487         73  \n",
              "8   79        84       11.3           23   11644         80  \n",
              "9   40        41       11.5           15    8991         52  "
            ]
          },
          "metadata": {
            "tags": []
          },
          "execution_count": 5
        }
      ]
    },
    {
      "cell_type": "markdown",
      "metadata": {
        "id": "FnPoU_Fxd6P0",
        "colab_type": "text"
      },
      "source": [
        "---\n",
        "## EDA: \n",
        "##### You may perform more EDA steps than the ones suggested below."
      ]
    },
    {
      "cell_type": "code",
      "metadata": {
        "id": "y0ftsJI0d6P1",
        "colab_type": "code",
        "outputId": "d90d0930-f1be-458b-e9fd-2ba120f14471",
        "colab": {
          "base_uri": "https://localhost:8080/",
          "height": 425
        }
      },
      "source": [
        "# See what kind of data format and how many are there in each column\n",
        "col.info()"
      ],
      "execution_count": 0,
      "outputs": [
        {
          "output_type": "stream",
          "text": [
            "<class 'pandas.core.frame.DataFrame'>\n",
            "RangeIndex: 777 entries, 0 to 776\n",
            "Data columns (total 19 columns):\n",
            "Unnamed: 0     777 non-null object\n",
            "Private        777 non-null object\n",
            "Apps           777 non-null int64\n",
            "Accept         777 non-null int64\n",
            "Enroll         777 non-null int64\n",
            "Top10perc      777 non-null int64\n",
            "Top25perc      777 non-null int64\n",
            "F.Undergrad    777 non-null int64\n",
            "P.Undergrad    777 non-null int64\n",
            "Outstate       777 non-null int64\n",
            "Room.Board     777 non-null int64\n",
            "Books          777 non-null int64\n",
            "Personal       777 non-null int64\n",
            "PhD            777 non-null int64\n",
            "Terminal       777 non-null int64\n",
            "S.F.Ratio      777 non-null float64\n",
            "perc.alumni    777 non-null int64\n",
            "Expend         777 non-null int64\n",
            "Grad.Rate      777 non-null int64\n",
            "dtypes: float64(1), int64(16), object(2)\n",
            "memory usage: 115.4+ KB\n"
          ],
          "name": "stdout"
        }
      ]
    },
    {
      "cell_type": "markdown",
      "metadata": {
        "id": "6sA4l-Wed6P3",
        "colab_type": "text"
      },
      "source": [
        "---\n",
        "\n",
        "#### Rename the first column name to University so it will be easier to relate."
      ]
    },
    {
      "cell_type": "code",
      "metadata": {
        "id": "Uh0uBZmKd6P4",
        "colab_type": "code",
        "outputId": "bc194197-bf3f-473a-ce61-281578b618f1",
        "colab": {
          "base_uri": "https://localhost:8080/",
          "height": 204
        }
      },
      "source": [
        "#After renaming, check to see if the column names got changed.\n",
        "col.rename(columns={'Unnamed: 0':'University'}, inplace=True)\n",
        "col.head()"
      ],
      "execution_count": 0,
      "outputs": [
        {
          "output_type": "execute_result",
          "data": {
            "text/html": [
              "<div>\n",
              "<style scoped>\n",
              "    .dataframe tbody tr th:only-of-type {\n",
              "        vertical-align: middle;\n",
              "    }\n",
              "\n",
              "    .dataframe tbody tr th {\n",
              "        vertical-align: top;\n",
              "    }\n",
              "\n",
              "    .dataframe thead th {\n",
              "        text-align: right;\n",
              "    }\n",
              "</style>\n",
              "<table border=\"1\" class=\"dataframe\">\n",
              "  <thead>\n",
              "    <tr style=\"text-align: right;\">\n",
              "      <th></th>\n",
              "      <th>University</th>\n",
              "      <th>Private</th>\n",
              "      <th>Apps</th>\n",
              "      <th>Accept</th>\n",
              "      <th>Enroll</th>\n",
              "      <th>Top10perc</th>\n",
              "      <th>Top25perc</th>\n",
              "      <th>F.Undergrad</th>\n",
              "      <th>P.Undergrad</th>\n",
              "      <th>Outstate</th>\n",
              "      <th>Room.Board</th>\n",
              "      <th>Books</th>\n",
              "      <th>Personal</th>\n",
              "      <th>PhD</th>\n",
              "      <th>Terminal</th>\n",
              "      <th>S.F.Ratio</th>\n",
              "      <th>perc.alumni</th>\n",
              "      <th>Expend</th>\n",
              "      <th>Grad.Rate</th>\n",
              "    </tr>\n",
              "  </thead>\n",
              "  <tbody>\n",
              "    <tr>\n",
              "      <th>0</th>\n",
              "      <td>Abilene Christian University</td>\n",
              "      <td>Yes</td>\n",
              "      <td>1660</td>\n",
              "      <td>1232</td>\n",
              "      <td>721</td>\n",
              "      <td>23</td>\n",
              "      <td>52</td>\n",
              "      <td>2885</td>\n",
              "      <td>537</td>\n",
              "      <td>7440</td>\n",
              "      <td>3300</td>\n",
              "      <td>450</td>\n",
              "      <td>2200</td>\n",
              "      <td>70</td>\n",
              "      <td>78</td>\n",
              "      <td>18.1</td>\n",
              "      <td>12</td>\n",
              "      <td>7041</td>\n",
              "      <td>60</td>\n",
              "    </tr>\n",
              "    <tr>\n",
              "      <th>1</th>\n",
              "      <td>Adelphi University</td>\n",
              "      <td>Yes</td>\n",
              "      <td>2186</td>\n",
              "      <td>1924</td>\n",
              "      <td>512</td>\n",
              "      <td>16</td>\n",
              "      <td>29</td>\n",
              "      <td>2683</td>\n",
              "      <td>1227</td>\n",
              "      <td>12280</td>\n",
              "      <td>6450</td>\n",
              "      <td>750</td>\n",
              "      <td>1500</td>\n",
              "      <td>29</td>\n",
              "      <td>30</td>\n",
              "      <td>12.2</td>\n",
              "      <td>16</td>\n",
              "      <td>10527</td>\n",
              "      <td>56</td>\n",
              "    </tr>\n",
              "    <tr>\n",
              "      <th>2</th>\n",
              "      <td>Adrian College</td>\n",
              "      <td>Yes</td>\n",
              "      <td>1428</td>\n",
              "      <td>1097</td>\n",
              "      <td>336</td>\n",
              "      <td>22</td>\n",
              "      <td>50</td>\n",
              "      <td>1036</td>\n",
              "      <td>99</td>\n",
              "      <td>11250</td>\n",
              "      <td>3750</td>\n",
              "      <td>400</td>\n",
              "      <td>1165</td>\n",
              "      <td>53</td>\n",
              "      <td>66</td>\n",
              "      <td>12.9</td>\n",
              "      <td>30</td>\n",
              "      <td>8735</td>\n",
              "      <td>54</td>\n",
              "    </tr>\n",
              "    <tr>\n",
              "      <th>3</th>\n",
              "      <td>Agnes Scott College</td>\n",
              "      <td>Yes</td>\n",
              "      <td>417</td>\n",
              "      <td>349</td>\n",
              "      <td>137</td>\n",
              "      <td>60</td>\n",
              "      <td>89</td>\n",
              "      <td>510</td>\n",
              "      <td>63</td>\n",
              "      <td>12960</td>\n",
              "      <td>5450</td>\n",
              "      <td>450</td>\n",
              "      <td>875</td>\n",
              "      <td>92</td>\n",
              "      <td>97</td>\n",
              "      <td>7.7</td>\n",
              "      <td>37</td>\n",
              "      <td>19016</td>\n",
              "      <td>59</td>\n",
              "    </tr>\n",
              "    <tr>\n",
              "      <th>4</th>\n",
              "      <td>Alaska Pacific University</td>\n",
              "      <td>Yes</td>\n",
              "      <td>193</td>\n",
              "      <td>146</td>\n",
              "      <td>55</td>\n",
              "      <td>16</td>\n",
              "      <td>44</td>\n",
              "      <td>249</td>\n",
              "      <td>869</td>\n",
              "      <td>7560</td>\n",
              "      <td>4120</td>\n",
              "      <td>800</td>\n",
              "      <td>1500</td>\n",
              "      <td>76</td>\n",
              "      <td>72</td>\n",
              "      <td>11.9</td>\n",
              "      <td>2</td>\n",
              "      <td>10922</td>\n",
              "      <td>15</td>\n",
              "    </tr>\n",
              "  </tbody>\n",
              "</table>\n",
              "</div>"
            ],
            "text/plain": [
              "                     University Private  Apps  Accept  Enroll  Top10perc  \\\n",
              "0  Abilene Christian University     Yes  1660    1232     721         23   \n",
              "1            Adelphi University     Yes  2186    1924     512         16   \n",
              "2                Adrian College     Yes  1428    1097     336         22   \n",
              "3           Agnes Scott College     Yes   417     349     137         60   \n",
              "4     Alaska Pacific University     Yes   193     146      55         16   \n",
              "\n",
              "   Top25perc  F.Undergrad  P.Undergrad  Outstate  Room.Board  Books  Personal  \\\n",
              "0         52         2885          537      7440        3300    450      2200   \n",
              "1         29         2683         1227     12280        6450    750      1500   \n",
              "2         50         1036           99     11250        3750    400      1165   \n",
              "3         89          510           63     12960        5450    450       875   \n",
              "4         44          249          869      7560        4120    800      1500   \n",
              "\n",
              "   PhD  Terminal  S.F.Ratio  perc.alumni  Expend  Grad.Rate  \n",
              "0   70        78       18.1           12    7041         60  \n",
              "1   29        30       12.2           16   10527         56  \n",
              "2   53        66       12.9           30    8735         54  \n",
              "3   92        97        7.7           37   19016         59  \n",
              "4   76        72       11.9            2   10922         15  "
            ]
          },
          "metadata": {
            "tags": []
          },
          "execution_count": 7
        }
      ]
    },
    {
      "cell_type": "markdown",
      "metadata": {
        "id": "m7kWdC1wd6P7",
        "colab_type": "text"
      },
      "source": [
        "#### Change yes/no to 1/0 in column 'Priviate' to get it ready for model training."
      ]
    },
    {
      "cell_type": "code",
      "metadata": {
        "id": "NzdtTbw7d6P8",
        "colab_type": "code",
        "outputId": "c56cb408-416f-43fc-fdc4-7a31032823e8",
        "colab": {
          "base_uri": "https://localhost:8080/",
          "height": 68
        }
      },
      "source": [
        "#First of all, find out how many yes and no are there in the 'Private' column.\n",
        "col['Private'].value_counts()"
      ],
      "execution_count": 0,
      "outputs": [
        {
          "output_type": "execute_result",
          "data": {
            "text/plain": [
              "Yes    565\n",
              "No     212\n",
              "Name: Private, dtype: int64"
            ]
          },
          "metadata": {
            "tags": []
          },
          "execution_count": 8
        }
      ]
    },
    {
      "cell_type": "code",
      "metadata": {
        "id": "DZLzVveYd6P_",
        "colab_type": "code",
        "outputId": "74872f74-5709-4f0e-be75-9b571498e3d6",
        "colab": {
          "base_uri": "https://localhost:8080/",
          "height": 204
        }
      },
      "source": [
        "#change yes to 1 and no to 0 in the \"Private\" column and view the changes after your action.\n",
        "col['Private'].replace({'Yes':1, 'No':0}, inplace=True)\n",
        "col.head()"
      ],
      "execution_count": 0,
      "outputs": [
        {
          "output_type": "execute_result",
          "data": {
            "text/html": [
              "<div>\n",
              "<style scoped>\n",
              "    .dataframe tbody tr th:only-of-type {\n",
              "        vertical-align: middle;\n",
              "    }\n",
              "\n",
              "    .dataframe tbody tr th {\n",
              "        vertical-align: top;\n",
              "    }\n",
              "\n",
              "    .dataframe thead th {\n",
              "        text-align: right;\n",
              "    }\n",
              "</style>\n",
              "<table border=\"1\" class=\"dataframe\">\n",
              "  <thead>\n",
              "    <tr style=\"text-align: right;\">\n",
              "      <th></th>\n",
              "      <th>University</th>\n",
              "      <th>Private</th>\n",
              "      <th>Apps</th>\n",
              "      <th>Accept</th>\n",
              "      <th>Enroll</th>\n",
              "      <th>Top10perc</th>\n",
              "      <th>Top25perc</th>\n",
              "      <th>F.Undergrad</th>\n",
              "      <th>P.Undergrad</th>\n",
              "      <th>Outstate</th>\n",
              "      <th>Room.Board</th>\n",
              "      <th>Books</th>\n",
              "      <th>Personal</th>\n",
              "      <th>PhD</th>\n",
              "      <th>Terminal</th>\n",
              "      <th>S.F.Ratio</th>\n",
              "      <th>perc.alumni</th>\n",
              "      <th>Expend</th>\n",
              "      <th>Grad.Rate</th>\n",
              "    </tr>\n",
              "  </thead>\n",
              "  <tbody>\n",
              "    <tr>\n",
              "      <th>0</th>\n",
              "      <td>Abilene Christian University</td>\n",
              "      <td>1</td>\n",
              "      <td>1660</td>\n",
              "      <td>1232</td>\n",
              "      <td>721</td>\n",
              "      <td>23</td>\n",
              "      <td>52</td>\n",
              "      <td>2885</td>\n",
              "      <td>537</td>\n",
              "      <td>7440</td>\n",
              "      <td>3300</td>\n",
              "      <td>450</td>\n",
              "      <td>2200</td>\n",
              "      <td>70</td>\n",
              "      <td>78</td>\n",
              "      <td>18.1</td>\n",
              "      <td>12</td>\n",
              "      <td>7041</td>\n",
              "      <td>60</td>\n",
              "    </tr>\n",
              "    <tr>\n",
              "      <th>1</th>\n",
              "      <td>Adelphi University</td>\n",
              "      <td>1</td>\n",
              "      <td>2186</td>\n",
              "      <td>1924</td>\n",
              "      <td>512</td>\n",
              "      <td>16</td>\n",
              "      <td>29</td>\n",
              "      <td>2683</td>\n",
              "      <td>1227</td>\n",
              "      <td>12280</td>\n",
              "      <td>6450</td>\n",
              "      <td>750</td>\n",
              "      <td>1500</td>\n",
              "      <td>29</td>\n",
              "      <td>30</td>\n",
              "      <td>12.2</td>\n",
              "      <td>16</td>\n",
              "      <td>10527</td>\n",
              "      <td>56</td>\n",
              "    </tr>\n",
              "    <tr>\n",
              "      <th>2</th>\n",
              "      <td>Adrian College</td>\n",
              "      <td>1</td>\n",
              "      <td>1428</td>\n",
              "      <td>1097</td>\n",
              "      <td>336</td>\n",
              "      <td>22</td>\n",
              "      <td>50</td>\n",
              "      <td>1036</td>\n",
              "      <td>99</td>\n",
              "      <td>11250</td>\n",
              "      <td>3750</td>\n",
              "      <td>400</td>\n",
              "      <td>1165</td>\n",
              "      <td>53</td>\n",
              "      <td>66</td>\n",
              "      <td>12.9</td>\n",
              "      <td>30</td>\n",
              "      <td>8735</td>\n",
              "      <td>54</td>\n",
              "    </tr>\n",
              "    <tr>\n",
              "      <th>3</th>\n",
              "      <td>Agnes Scott College</td>\n",
              "      <td>1</td>\n",
              "      <td>417</td>\n",
              "      <td>349</td>\n",
              "      <td>137</td>\n",
              "      <td>60</td>\n",
              "      <td>89</td>\n",
              "      <td>510</td>\n",
              "      <td>63</td>\n",
              "      <td>12960</td>\n",
              "      <td>5450</td>\n",
              "      <td>450</td>\n",
              "      <td>875</td>\n",
              "      <td>92</td>\n",
              "      <td>97</td>\n",
              "      <td>7.7</td>\n",
              "      <td>37</td>\n",
              "      <td>19016</td>\n",
              "      <td>59</td>\n",
              "    </tr>\n",
              "    <tr>\n",
              "      <th>4</th>\n",
              "      <td>Alaska Pacific University</td>\n",
              "      <td>1</td>\n",
              "      <td>193</td>\n",
              "      <td>146</td>\n",
              "      <td>55</td>\n",
              "      <td>16</td>\n",
              "      <td>44</td>\n",
              "      <td>249</td>\n",
              "      <td>869</td>\n",
              "      <td>7560</td>\n",
              "      <td>4120</td>\n",
              "      <td>800</td>\n",
              "      <td>1500</td>\n",
              "      <td>76</td>\n",
              "      <td>72</td>\n",
              "      <td>11.9</td>\n",
              "      <td>2</td>\n",
              "      <td>10922</td>\n",
              "      <td>15</td>\n",
              "    </tr>\n",
              "  </tbody>\n",
              "</table>\n",
              "</div>"
            ],
            "text/plain": [
              "                     University  Private  Apps  Accept  Enroll  Top10perc  \\\n",
              "0  Abilene Christian University        1  1660    1232     721         23   \n",
              "1            Adelphi University        1  2186    1924     512         16   \n",
              "2                Adrian College        1  1428    1097     336         22   \n",
              "3           Agnes Scott College        1   417     349     137         60   \n",
              "4     Alaska Pacific University        1   193     146      55         16   \n",
              "\n",
              "   Top25perc  F.Undergrad  P.Undergrad  Outstate  Room.Board  Books  Personal  \\\n",
              "0         52         2885          537      7440        3300    450      2200   \n",
              "1         29         2683         1227     12280        6450    750      1500   \n",
              "2         50         1036           99     11250        3750    400      1165   \n",
              "3         89          510           63     12960        5450    450       875   \n",
              "4         44          249          869      7560        4120    800      1500   \n",
              "\n",
              "   PhD  Terminal  S.F.Ratio  perc.alumni  Expend  Grad.Rate  \n",
              "0   70        78       18.1           12    7041         60  \n",
              "1   29        30       12.2           16   10527         56  \n",
              "2   53        66       12.9           30    8735         54  \n",
              "3   92        97        7.7           37   19016         59  \n",
              "4   76        72       11.9            2   10922         15  "
            ]
          },
          "metadata": {
            "tags": []
          },
          "execution_count": 9
        }
      ]
    },
    {
      "cell_type": "code",
      "metadata": {
        "id": "DDUgLyILd6QD",
        "colab_type": "code",
        "outputId": "17d2e356-c79e-4cff-bdb1-2af118c1b71b",
        "colab": {
          "base_uri": "https://localhost:8080/",
          "height": 102
        }
      },
      "source": [
        "#check to see if there are equal number of 1/0s as that in yes/no you checked earilier.\n",
        "print (col['Private'].value_counts())\n",
        "print (\"\\nYes there are equal number of 1/0s as that in yes/no.\")"
      ],
      "execution_count": 0,
      "outputs": [
        {
          "output_type": "stream",
          "text": [
            "1    565\n",
            "0    212\n",
            "Name: Private, dtype: int64\n",
            "\n",
            "Yes there are equal number of 1/0s as that in yes/no.\n"
          ],
          "name": "stdout"
        }
      ]
    },
    {
      "cell_type": "markdown",
      "metadata": {
        "id": "20VNzTnPd6QG",
        "colab_type": "text"
      },
      "source": [
        "___\n",
        "### Compare classification performance of different models with cross validation"
      ]
    },
    {
      "cell_type": "code",
      "metadata": {
        "id": "vmKf-Z0hd6QH",
        "colab_type": "code",
        "colab": {}
      },
      "source": [
        "# Assign the Private column as target y and \n",
        "#assign all columns, except University and Private, in the dataframe as X\n",
        "\n",
        "y=col['Private']\n",
        "X = col.iloc[:,2:]"
      ],
      "execution_count": 0,
      "outputs": []
    },
    {
      "cell_type": "markdown",
      "metadata": {
        "id": "aPpDcFq1d6QN",
        "colab_type": "text"
      },
      "source": [
        "### Testing the function on Decision Tree algorithm"
      ]
    },
    {
      "cell_type": "code",
      "metadata": {
        "id": "7aHVm05ld6QK",
        "colab_type": "code",
        "colab": {}
      },
      "source": [
        "\n",
        "\n",
        "\n",
        "def cross_score(model,model_name,n_splits, X, y):\n",
        "    \"\"\"\n",
        "    Function that shows performance avearge and standard deviation \n",
        "    with different models and differnt number of splits in cross validation.\n",
        "\n",
        "    Args:\n",
        "        model: machine learning model used, e.g., DecisionTreeClassifier()\n",
        "        model_name: The name of the machine learning model used, e.g., 'Decision Tree' Classifier.\n",
        "        n_splits: number of folds used in StratifiedKFold\n",
        "        X: feature data used for the model\n",
        "        y: target data used for the model\n",
        "    Returns:\n",
        "        none\n",
        "    Printout: \n",
        "        the average and the standard deviation of cross validation score \n",
        "        with 3 decimal places like the following.\n",
        "        \n",
        "        Decision Tree Classifier with 2 splits has an average score of 0.916 ± 0.038\n",
        "\n",
        "    \"\"\"\n",
        "    ### your code here ###\n",
        "  \n",
        "    cvs = StratifiedKFold(n_splits, shuffle=True)\n",
        "    s = cross_val_score(model, X, y, cv=cvs, n_jobs=-1)\n",
        "    \n",
        "    print(\"{} Classifier with {} splits has an average score of {:0.3} ± {:0.3}\".format(model_name, n_splits, s.mean().round(3), s.std().round(3)))\n",
        "   \n",
        "    return \n",
        "  \n",
        "    \n",
        "    \n",
        "  \n",
        "    "
      ],
      "execution_count": 0,
      "outputs": []
    },
    {
      "cell_type": "code",
      "metadata": {
        "id": "DqjI807cJQHr",
        "colab_type": "code",
        "outputId": "779afc4f-efaa-4bc0-f3c6-d78da541574d",
        "colab": {
          "base_uri": "https://localhost:8080/",
          "height": 34
        }
      },
      "source": [
        "cross_score(DecisionTreeClassifier(), \"Decision Tree\", 2, X, y)"
      ],
      "execution_count": 0,
      "outputs": [
        {
          "output_type": "stream",
          "text": [
            "Decision Tree Classifier with 2 splits has an average score of 0.903 ± 0.014\n"
          ],
          "name": "stdout"
        }
      ]
    },
    {
      "cell_type": "code",
      "metadata": {
        "id": "mWVQlPtAd6QO",
        "colab_type": "code",
        "colab": {}
      },
      "source": [
        "# show the  the average and the standard deviation of cross validation score \n",
        "#for splits ranging from 2 to 20\n"
      ],
      "execution_count": 0,
      "outputs": []
    },
    {
      "cell_type": "code",
      "metadata": {
        "id": "H5RgPRnOUV6E",
        "colab_type": "code",
        "outputId": "f2fa06fb-080c-4fe2-c39b-5a64c25a3d93",
        "colab": {
          "base_uri": "https://localhost:8080/",
          "height": 340
        }
      },
      "source": [
        "for i in range(2,21):\n",
        "  cross_score(DecisionTreeClassifier(), \"Decision Tree\", i, X, y)"
      ],
      "execution_count": 0,
      "outputs": [
        {
          "output_type": "stream",
          "text": [
            "Decision Tree Classifier with 2 splits has an average score of 0.902 ± 0.01\n",
            "Decision Tree Classifier with 3 splits has an average score of 0.892 ± 0.005\n",
            "Decision Tree Classifier with 4 splits has an average score of 0.898 ± 0.02\n",
            "Decision Tree Classifier with 5 splits has an average score of 0.902 ± 0.017\n",
            "Decision Tree Classifier with 6 splits has an average score of 0.9 ± 0.011\n",
            "Decision Tree Classifier with 7 splits has an average score of 0.914 ± 0.037\n",
            "Decision Tree Classifier with 8 splits has an average score of 0.907 ± 0.029\n",
            "Decision Tree Classifier with 9 splits has an average score of 0.893 ± 0.041\n",
            "Decision Tree Classifier with 10 splits has an average score of 0.904 ± 0.022\n",
            "Decision Tree Classifier with 11 splits has an average score of 0.904 ± 0.03\n",
            "Decision Tree Classifier with 12 splits has an average score of 0.907 ± 0.033\n",
            "Decision Tree Classifier with 13 splits has an average score of 0.903 ± 0.032\n",
            "Decision Tree Classifier with 14 splits has an average score of 0.901 ± 0.044\n",
            "Decision Tree Classifier with 15 splits has an average score of 0.9 ± 0.034\n",
            "Decision Tree Classifier with 16 splits has an average score of 0.911 ± 0.044\n",
            "Decision Tree Classifier with 17 splits has an average score of 0.908 ± 0.033\n",
            "Decision Tree Classifier with 18 splits has an average score of 0.897 ± 0.034\n",
            "Decision Tree Classifier with 19 splits has an average score of 0.902 ± 0.04\n",
            "Decision Tree Classifier with 20 splits has an average score of 0.911 ± 0.051\n"
          ],
          "name": "stdout"
        }
      ]
    },
    {
      "cell_type": "markdown",
      "metadata": {
        "id": "INfuLwn7d6QR",
        "colab_type": "text"
      },
      "source": [
        "#### By examining the result above, which split(s) gives you best performance?"
      ]
    },
    {
      "cell_type": "markdown",
      "metadata": {
        "id": "BARz5HPUd6QU",
        "colab_type": "text"
      },
      "source": [
        "Decision Tree Classifier with 7 splits gives the best performance, as it has the highest score."
      ]
    },
    {
      "cell_type": "markdown",
      "metadata": {
        "id": "GkuJR8Vtd6QU",
        "colab_type": "text"
      },
      "source": [
        "___\n",
        "### Comparing the mean and sd of cross validation scores subject to decision tree and ensemble methods"
      ]
    },
    {
      "cell_type": "markdown",
      "metadata": {
        "id": "58QkzH_1d6QV",
        "colab_type": "text"
      },
      "source": [
        "Use the function you created above to print out  \n",
        "the mean and sd of cross validation scores for  \n",
        "decision trees, bagging, random forest, extra trees ,\n",
        "AdaBoost, and Gradient Boosting classifiers   \n",
        "with 3 folds cross validation."
      ]
    },
    {
      "cell_type": "code",
      "metadata": {
        "id": "NVs4KK6Rd6QX",
        "colab_type": "code",
        "colab": {}
      },
      "source": [
        "n=3\n"
      ],
      "execution_count": 0,
      "outputs": []
    },
    {
      "cell_type": "code",
      "metadata": {
        "id": "T3NgVmBwOkdE",
        "colab_type": "code",
        "outputId": "70b962a3-586b-4f97-9959-a47e53f06f76",
        "colab": {
          "base_uri": "https://localhost:8080/",
          "height": 34
        }
      },
      "source": [
        "cross_score(DecisionTreeClassifier(), \"Decision Tree\", 3, X, y)"
      ],
      "execution_count": 0,
      "outputs": [
        {
          "output_type": "stream",
          "text": [
            "Decision Tree Classifier with 3 splits has an average score of 0.912 ± 0.007\n"
          ],
          "name": "stdout"
        }
      ]
    },
    {
      "cell_type": "code",
      "metadata": {
        "id": "0f_tDdMHWV0r",
        "colab_type": "code",
        "outputId": "fb45a96e-9b42-4905-a7b2-242b324e4407",
        "colab": {
          "base_uri": "https://localhost:8080/",
          "height": 34
        }
      },
      "source": [
        "cross_score(BaggingClassifier(), \"Bagging\", 3, X, y)"
      ],
      "execution_count": 0,
      "outputs": [
        {
          "output_type": "stream",
          "text": [
            "Bagging Classifier with 3 splits has an average score of 0.933 ± 0.013\n"
          ],
          "name": "stdout"
        }
      ]
    },
    {
      "cell_type": "code",
      "metadata": {
        "id": "vCtucP_LOUcr",
        "colab_type": "code",
        "outputId": "a95f7b54-eb5c-4cbb-b2bc-676b0f806231",
        "colab": {
          "base_uri": "https://localhost:8080/",
          "height": 34
        }
      },
      "source": [
        "cross_score(RandomForestClassifier(), \"Random Forest\", 3, X, y)"
      ],
      "execution_count": 0,
      "outputs": [
        {
          "output_type": "stream",
          "text": [
            "Random Forest Classifier with 3 splits has an average score of 0.933 ± 0.015\n"
          ],
          "name": "stdout"
        }
      ]
    },
    {
      "cell_type": "code",
      "metadata": {
        "id": "F_jGQ4a1OeYm",
        "colab_type": "code",
        "outputId": "56064f11-42a6-4986-edcd-dacba639f5ee",
        "colab": {
          "base_uri": "https://localhost:8080/",
          "height": 34
        }
      },
      "source": [
        "cross_score(ExtraTreesClassifier(), \"Extra Trees\", 3, X, y)"
      ],
      "execution_count": 0,
      "outputs": [
        {
          "output_type": "stream",
          "text": [
            "Extra Trees Classifier with 3 splits has an average score of 0.94 ± 0.017\n"
          ],
          "name": "stdout"
        }
      ]
    },
    {
      "cell_type": "code",
      "metadata": {
        "id": "_MvAWgvbWjaa",
        "colab_type": "code",
        "outputId": "5b3d24b9-d205-4ae8-e623-27696fa48011",
        "colab": {
          "base_uri": "https://localhost:8080/",
          "height": 34
        }
      },
      "source": [
        "cross_score(AdaBoostClassifier(), \"Ada Boost\", 3, X, y)"
      ],
      "execution_count": 0,
      "outputs": [
        {
          "output_type": "stream",
          "text": [
            "Ada Boost Classifier with 3 splits has an average score of 0.932 ± 0.014\n"
          ],
          "name": "stdout"
        }
      ]
    },
    {
      "cell_type": "code",
      "metadata": {
        "id": "57n1EBpDWoS1",
        "colab_type": "code",
        "outputId": "33358cb8-9bd7-4a0b-9434-0aadc6bd0fe7",
        "colab": {
          "base_uri": "https://localhost:8080/",
          "height": 34
        }
      },
      "source": [
        "cross_score(GradientBoostingClassifier(), \"Gradient Boosting\", 3, X, y)"
      ],
      "execution_count": 0,
      "outputs": [
        {
          "output_type": "stream",
          "text": [
            "Gradient Boosting Classifier with 3 splits has an average score of 0.947 ± 0.015\n"
          ],
          "name": "stdout"
        }
      ]
    },
    {
      "cell_type": "markdown",
      "metadata": {
        "id": "OKJZgjsgd6QZ",
        "colab_type": "text"
      },
      "source": [
        "#### Comment on the mean and the sd deviation of scores and see if they are consistent with the pros and cons of ensemble methods.   \n",
        "You may want to run few times for generalized comparision purposes."
      ]
    },
    {
      "cell_type": "markdown",
      "metadata": {
        "id": "5STQ-nscW-3V",
        "colab_type": "text"
      },
      "source": [
        "Yes, the mean and sd dev of scores are consistent with pros and cons of ensemble methods. As we go from Decision tree, to bagging, to...to Gradient Boosting, we can see as variance is reduced, the mean score is higher but stdev is also higher."
      ]
    },
    {
      "cell_type": "markdown",
      "metadata": {
        "id": "1WHVanMhd6Qa",
        "colab_type": "text"
      },
      "source": [
        "---\n",
        "\n",
        "### Print out the \"feature importances\" of this best model.\n",
        "\n",
        "The model has an attribute called `.feature_importances_` which can tell us which features were most important vs. others. It ranges from 0 to 1, with 1 being the most important.\n",
        "\n",
        "An easy way to think about the feature importance is how much that particular variable was used to make decisions. Really though, it also takes into account how much that feature contributed to splitting up the class or reducing the variance.\n",
        "\n",
        "A feature with higher feature importance reduced the criterion (impurity) more than the other features.\n",
        "\n",
        "See \n",
        "<a href=\"https://towardsdatascience.com/running-random-forests-inspect-the-feature-importances-with-this-code-2b00dd72b92e\">here </a> for more detail and coding sample."
      ]
    },
    {
      "cell_type": "code",
      "metadata": {
        "id": "x_rau26CqZLj",
        "colab_type": "code",
        "outputId": "cbe647e3-eed9-44f1-ea78-9a5d2bd2b02c",
        "colab": {
          "base_uri": "https://localhost:8080/",
          "height": 576
        }
      },
      "source": [
        "rf = GradientBoostingClassifier()\n",
        "rf.fit(X,y)\n",
        "rf.score(X, y)\n",
        "\n",
        "feature_importances = pd.DataFrame(rf.feature_importances_, \n",
        "                                   index = X.columns, \n",
        "                                   columns=\n",
        "                                   ['importance']).sort_values('importance', ascending=False)\n",
        "feature_importances"
      ],
      "execution_count": 0,
      "outputs": [
        {
          "output_type": "execute_result",
          "data": {
            "text/html": [
              "<div>\n",
              "<style scoped>\n",
              "    .dataframe tbody tr th:only-of-type {\n",
              "        vertical-align: middle;\n",
              "    }\n",
              "\n",
              "    .dataframe tbody tr th {\n",
              "        vertical-align: top;\n",
              "    }\n",
              "\n",
              "    .dataframe thead th {\n",
              "        text-align: right;\n",
              "    }\n",
              "</style>\n",
              "<table border=\"1\" class=\"dataframe\">\n",
              "  <thead>\n",
              "    <tr style=\"text-align: right;\">\n",
              "      <th></th>\n",
              "      <th>importance</th>\n",
              "    </tr>\n",
              "  </thead>\n",
              "  <tbody>\n",
              "    <tr>\n",
              "      <th>F.Undergrad</th>\n",
              "      <td>0.472114</td>\n",
              "    </tr>\n",
              "    <tr>\n",
              "      <th>Outstate</th>\n",
              "      <td>0.335670</td>\n",
              "    </tr>\n",
              "    <tr>\n",
              "      <th>P.Undergrad</th>\n",
              "      <td>0.047100</td>\n",
              "    </tr>\n",
              "    <tr>\n",
              "      <th>Room.Board</th>\n",
              "      <td>0.034928</td>\n",
              "    </tr>\n",
              "    <tr>\n",
              "      <th>perc.alumni</th>\n",
              "      <td>0.022081</td>\n",
              "    </tr>\n",
              "    <tr>\n",
              "      <th>S.F.Ratio</th>\n",
              "      <td>0.014781</td>\n",
              "    </tr>\n",
              "    <tr>\n",
              "      <th>Enroll</th>\n",
              "      <td>0.013430</td>\n",
              "    </tr>\n",
              "    <tr>\n",
              "      <th>PhD</th>\n",
              "      <td>0.011776</td>\n",
              "    </tr>\n",
              "    <tr>\n",
              "      <th>Top10perc</th>\n",
              "      <td>0.009237</td>\n",
              "    </tr>\n",
              "    <tr>\n",
              "      <th>Terminal</th>\n",
              "      <td>0.008605</td>\n",
              "    </tr>\n",
              "    <tr>\n",
              "      <th>Top25perc</th>\n",
              "      <td>0.007729</td>\n",
              "    </tr>\n",
              "    <tr>\n",
              "      <th>Grad.Rate</th>\n",
              "      <td>0.006128</td>\n",
              "    </tr>\n",
              "    <tr>\n",
              "      <th>Personal</th>\n",
              "      <td>0.005792</td>\n",
              "    </tr>\n",
              "    <tr>\n",
              "      <th>Expend</th>\n",
              "      <td>0.004512</td>\n",
              "    </tr>\n",
              "    <tr>\n",
              "      <th>Apps</th>\n",
              "      <td>0.002721</td>\n",
              "    </tr>\n",
              "    <tr>\n",
              "      <th>Accept</th>\n",
              "      <td>0.002701</td>\n",
              "    </tr>\n",
              "    <tr>\n",
              "      <th>Books</th>\n",
              "      <td>0.000694</td>\n",
              "    </tr>\n",
              "  </tbody>\n",
              "</table>\n",
              "</div>"
            ],
            "text/plain": [
              "             importance\n",
              "F.Undergrad    0.472114\n",
              "Outstate       0.335670\n",
              "P.Undergrad    0.047100\n",
              "Room.Board     0.034928\n",
              "perc.alumni    0.022081\n",
              "S.F.Ratio      0.014781\n",
              "Enroll         0.013430\n",
              "PhD            0.011776\n",
              "Top10perc      0.009237\n",
              "Terminal       0.008605\n",
              "Top25perc      0.007729\n",
              "Grad.Rate      0.006128\n",
              "Personal       0.005792\n",
              "Expend         0.004512\n",
              "Apps           0.002721\n",
              "Accept         0.002701\n",
              "Books          0.000694"
            ]
          },
          "metadata": {
            "tags": []
          },
          "execution_count": 22
        }
      ]
    },
    {
      "cell_type": "markdown",
      "metadata": {
        "id": "Gt2U0P02d6Qb",
        "colab_type": "text"
      },
      "source": [
        "#### Show, for RandomForestClassifier, the feature importances for each variable predicting private vs. not, sorted by most important feature to least."
      ]
    },
    {
      "cell_type": "code",
      "metadata": {
        "id": "TyJ49slId6Qc",
        "colab_type": "code",
        "outputId": "6cbbed5d-7c83-4262-cccf-d5a93f21d60c",
        "colab": {
          "base_uri": "https://localhost:8080/",
          "height": 610
        }
      },
      "source": [
        "rf2 = RandomForestClassifier()\n",
        "rf2.fit(X,y)\n",
        "rf2.score(X, y)\n",
        "\n",
        "feature_importances = pd.DataFrame(rf2.feature_importances_, \n",
        "                                   index = X.columns, \n",
        "                                   columns=\n",
        "                                   ['importance']).sort_values('importance', ascending=False)\n",
        "feature_importances"
      ],
      "execution_count": 0,
      "outputs": [
        {
          "output_type": "stream",
          "text": [
            "/usr/local/lib/python3.6/dist-packages/sklearn/ensemble/forest.py:246: FutureWarning: The default value of n_estimators will change from 10 in version 0.20 to 100 in 0.22.\n",
            "  \"10 in version 0.20 to 100 in 0.22.\", FutureWarning)\n"
          ],
          "name": "stderr"
        },
        {
          "output_type": "execute_result",
          "data": {
            "text/html": [
              "<div>\n",
              "<style scoped>\n",
              "    .dataframe tbody tr th:only-of-type {\n",
              "        vertical-align: middle;\n",
              "    }\n",
              "\n",
              "    .dataframe tbody tr th {\n",
              "        vertical-align: top;\n",
              "    }\n",
              "\n",
              "    .dataframe thead th {\n",
              "        text-align: right;\n",
              "    }\n",
              "</style>\n",
              "<table border=\"1\" class=\"dataframe\">\n",
              "  <thead>\n",
              "    <tr style=\"text-align: right;\">\n",
              "      <th></th>\n",
              "      <th>importance</th>\n",
              "    </tr>\n",
              "  </thead>\n",
              "  <tbody>\n",
              "    <tr>\n",
              "      <th>Outstate</th>\n",
              "      <td>0.261474</td>\n",
              "    </tr>\n",
              "    <tr>\n",
              "      <th>F.Undergrad</th>\n",
              "      <td>0.224454</td>\n",
              "    </tr>\n",
              "    <tr>\n",
              "      <th>Enroll</th>\n",
              "      <td>0.090080</td>\n",
              "    </tr>\n",
              "    <tr>\n",
              "      <th>S.F.Ratio</th>\n",
              "      <td>0.060550</td>\n",
              "    </tr>\n",
              "    <tr>\n",
              "      <th>P.Undergrad</th>\n",
              "      <td>0.052309</td>\n",
              "    </tr>\n",
              "    <tr>\n",
              "      <th>Room.Board</th>\n",
              "      <td>0.051140</td>\n",
              "    </tr>\n",
              "    <tr>\n",
              "      <th>Accept</th>\n",
              "      <td>0.042865</td>\n",
              "    </tr>\n",
              "    <tr>\n",
              "      <th>Expend</th>\n",
              "      <td>0.036072</td>\n",
              "    </tr>\n",
              "    <tr>\n",
              "      <th>Apps</th>\n",
              "      <td>0.032405</td>\n",
              "    </tr>\n",
              "    <tr>\n",
              "      <th>perc.alumni</th>\n",
              "      <td>0.027063</td>\n",
              "    </tr>\n",
              "    <tr>\n",
              "      <th>Terminal</th>\n",
              "      <td>0.023654</td>\n",
              "    </tr>\n",
              "    <tr>\n",
              "      <th>Top10perc</th>\n",
              "      <td>0.022982</td>\n",
              "    </tr>\n",
              "    <tr>\n",
              "      <th>Grad.Rate</th>\n",
              "      <td>0.019772</td>\n",
              "    </tr>\n",
              "    <tr>\n",
              "      <th>Personal</th>\n",
              "      <td>0.016426</td>\n",
              "    </tr>\n",
              "    <tr>\n",
              "      <th>Top25perc</th>\n",
              "      <td>0.014725</td>\n",
              "    </tr>\n",
              "    <tr>\n",
              "      <th>PhD</th>\n",
              "      <td>0.012902</td>\n",
              "    </tr>\n",
              "    <tr>\n",
              "      <th>Books</th>\n",
              "      <td>0.011126</td>\n",
              "    </tr>\n",
              "  </tbody>\n",
              "</table>\n",
              "</div>"
            ],
            "text/plain": [
              "             importance\n",
              "Outstate       0.261474\n",
              "F.Undergrad    0.224454\n",
              "Enroll         0.090080\n",
              "S.F.Ratio      0.060550\n",
              "P.Undergrad    0.052309\n",
              "Room.Board     0.051140\n",
              "Accept         0.042865\n",
              "Expend         0.036072\n",
              "Apps           0.032405\n",
              "perc.alumni    0.027063\n",
              "Terminal       0.023654\n",
              "Top10perc      0.022982\n",
              "Grad.Rate      0.019772\n",
              "Personal       0.016426\n",
              "Top25perc      0.014725\n",
              "PhD            0.012902\n",
              "Books          0.011126"
            ]
          },
          "metadata": {
            "tags": []
          },
          "execution_count": 23
        }
      ]
    },
    {
      "cell_type": "markdown",
      "metadata": {
        "id": "n1Aj4FV9d6Qg",
        "colab_type": "text"
      },
      "source": [
        "#### Show a ranked list of features in col dataframe that is correlated to the target column 'Private'"
      ]
    },
    {
      "cell_type": "code",
      "metadata": {
        "id": "EsKLS0ood6Qh",
        "colab_type": "code",
        "outputId": "ccc3b6cf-f446-471f-d9eb-1b6fbe0906d2",
        "colab": {
          "base_uri": "https://localhost:8080/",
          "height": 323
        }
      },
      "source": [
        "# ranked list of features in col dataframe that is correlated to the target column 'Private'\n",
        "col.corr().abs().Private.sort_values(ascending=False)[1:]"
      ],
      "execution_count": 0,
      "outputs": [
        {
          "output_type": "execute_result",
          "data": {
            "text/plain": [
              "F.Undergrad    0.615561\n",
              "Enroll         0.567908\n",
              "Outstate       0.552650\n",
              "Accept         0.475252\n",
              "S.F.Ratio      0.472205\n",
              "P.Undergrad    0.452088\n",
              "Apps           0.432095\n",
              "perc.alumni    0.414775\n",
              "Room.Board     0.340532\n",
              "Grad.Rate      0.336162\n",
              "Personal       0.304485\n",
              "Expend         0.258461\n",
              "Top10perc      0.164132\n",
              "PhD            0.156714\n",
              "Terminal       0.129620\n",
              "Top25perc      0.095752\n",
              "Books          0.018549\n",
              "Name: Private, dtype: float64"
            ]
          },
          "metadata": {
            "tags": []
          },
          "execution_count": 24
        }
      ]
    },
    {
      "cell_type": "code",
      "metadata": {
        "id": "pTLRfPbpXgWb",
        "colab_type": "code",
        "outputId": "83aeb2ad-70d6-44bc-ff7a-460da2ba8fcb",
        "colab": {
          "base_uri": "https://localhost:8080/",
          "height": 414
        }
      },
      "source": [
        "import seaborn as sns\n",
        "sns.heatmap(col.corr().abs())"
      ],
      "execution_count": 0,
      "outputs": [
        {
          "output_type": "execute_result",
          "data": {
            "text/plain": [
              "<matplotlib.axes._subplots.AxesSubplot at 0x7fd623d420b8>"
            ]
          },
          "metadata": {
            "tags": []
          },
          "execution_count": 26
        },
        {
          "output_type": "display_data",
          "data": {
            "image/png": "[encoded data removed]",
            "text/plain": [
              "<Figure size 576x396 with 2 Axes>"
            ]
          },
          "metadata": {
            "tags": []
          }
        }
      ]
    },
    {
      "cell_type": "markdown",
      "metadata": {
        "id": "x_3Bjd0wd6Qj",
        "colab_type": "text"
      },
      "source": [
        "#### Compare and comment on the feature importances and corr() lists you have above."
      ]
    },
    {
      "cell_type": "markdown",
      "metadata": {
        "id": "-yGiTcccd6Ql",
        "colab_type": "text"
      },
      "source": [
        "Provide your observation and interpretation here."
      ]
    },
    {
      "cell_type": "markdown",
      "metadata": {
        "id": "Hxf1fXDhtJOo",
        "colab_type": "text"
      },
      "source": [
        "Feature inportances list and correlation list show F.Undergrad is the highest. They are pretty consistent."
      ]
    }
  ]
}
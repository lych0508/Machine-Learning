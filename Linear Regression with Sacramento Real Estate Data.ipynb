{
  "nbformat": 4,
  "nbformat_minor": 0,
  "metadata": {
    "colab": {
      "name": "HW3Li-Yichen.ipynb",
      "version": "0.3.2",
      "provenance": [],
      "collapsed_sections": []
    },
    "kernelspec": {
      "display_name": "Python 3",
      "language": "python",
      "name": "python3"
    }
  },
  "cells": [
    {
      "cell_type": "markdown",
      "metadata": {
        "id": "5U0irMAUgyF4",
        "colab_type": "text"
      },
      "source": [
        "\n",
        "# HW3: Simple Linear Regression with Sacramento Real Estate Data\n",
        "\n",
        "---\n",
        "\n",
        "In this HW you will apply your EDA skills and practice constructing simple linear regressions using a dataset on Sacramento real estate sales.  The dataset contains information on qualities of the property, location of the property, and time of sale.\n",
        "\n",
        "**You are expected to create and enter MULTIPLE relevant cells in each part.**   \n",
        "**Explain with markdown cells any reason that support your finding or action.**   \n",
        "**Points may be deducted if no appropriate interpretation is provided.**\n",
        "\n",
        "*you may download the dataset used in this HW from here: 1RW87ZmENMHrS8K9iPPwmnHfYxmb-w0Qr*\n"
      ]
    },
    {
      "cell_type": "markdown",
      "metadata": {
        "id": "oK1Ta1TSgyF6",
        "colab_type": "text"
      },
      "source": [
        "### 1. Read in the Sacramento housing data set."
      ]
    },
    {
      "cell_type": "code",
      "metadata": {
        "colab_type": "code",
        "id": "1WbzJM4cYp1I",
        "outputId": "1b4ae1e8-39b8-48d7-82d8-7b4de85efed7",
        "colab": {
          "base_uri": "https://localhost:8080/",
          "height": 51
        }
      },
      "source": [
        "#1 Code to read csv file into colaboratory:\n",
        "!pip install -U -q PyDrive\n",
        "from pydrive.auth import GoogleAuth\n",
        "from pydrive.drive import GoogleDrive\n",
        "from google.colab import auth\n",
        "from oauth2client.client import GoogleCredentials\n",
        "\n",
        "# 1. Authenticate and create the PyDrive client.\n",
        "auth.authenticate_user()\n",
        "gauth = GoogleAuth()\n",
        "gauth.credentials = GoogleCredentials.get_application_default()\n",
        "drive = GoogleDrive(gauth)"
      ],
      "execution_count": 0,
      "outputs": [
        {
          "output_type": "stream",
          "text": [
            "\u001b[?25l\r\u001b[K    1% |▎                               | 10kB 19.5MB/s eta 0:00:01\r\u001b[K    2% |▋                               | 20kB 1.7MB/s eta 0:00:01\r\u001b[K    3% |█                               | 30kB 2.4MB/s eta 0:00:01\r\u001b[K    4% |█▎                              | 40kB 1.7MB/s eta 0:00:01\r\u001b[K    5% |█▋                              | 51kB 2.1MB/s eta 0:00:01\r\u001b[K    6% |██                              | 61kB 2.5MB/s eta 0:00:01\r\u001b[K    7% |██▎                             | 71kB 2.9MB/s eta 0:00:01\r\u001b[K    8% |██▋                             | 81kB 3.2MB/s eta 0:00:01\r\u001b[K    9% |███                             | 92kB 3.6MB/s eta 0:00:01\r\u001b[K    10% |███▎                            | 102kB 2.8MB/s eta 0:00:01\r\u001b[K    11% |███▋                            | 112kB 2.8MB/s eta 0:00:01\r\u001b[K    12% |████                            | 122kB 4.1MB/s eta 0:00:01\r\u001b[K    13% |████▎                           | 133kB 4.1MB/s eta 0:00:01\r\u001b[K    14% |████▋                           | 143kB 7.7MB/s eta 0:00:01\r\u001b[K    15% |█████                           | 153kB 7.8MB/s eta 0:00:01\r\u001b[K    16% |█████▎                          | 163kB 7.8MB/s eta 0:00:01\r\u001b[K    17% |█████▋                          | 174kB 7.8MB/s eta 0:00:01\r\u001b[K    18% |██████                          | 184kB 7.8MB/s eta 0:00:01\r\u001b[K    19% |██████▎                         | 194kB 7.8MB/s eta 0:00:01\r\u001b[K    20% |██████▋                         | 204kB 40.5MB/s eta 0:00:01\r\u001b[K    21% |███████                         | 215kB 8.4MB/s eta 0:00:01\r\u001b[K    22% |███████▎                        | 225kB 8.3MB/s eta 0:00:01\r\u001b[K    23% |███████▋                        | 235kB 8.3MB/s eta 0:00:01\r\u001b[K    24% |████████                        | 245kB 8.3MB/s eta 0:00:01\r\u001b[K    25% |████████▎                       | 256kB 8.3MB/s eta 0:00:01\r\u001b[K    26% |████████▋                       | 266kB 8.1MB/s eta 0:00:01\r\u001b[K    27% |█████████                       | 276kB 8.3MB/s eta 0:00:01\r\u001b[K    29% |█████████▎                      | 286kB 8.3MB/s eta 0:00:01\r\u001b[K    30% |█████████▋                      | 296kB 8.3MB/s eta 0:00:01\r\u001b[K    31% |██████████                      | 307kB 8.4MB/s eta 0:00:01\r\u001b[K    32% |██████████▎                     | 317kB 46.4MB/s eta 0:00:01\r\u001b[K    33% |██████████▋                     | 327kB 49.7MB/s eta 0:00:01\r\u001b[K    34% |███████████                     | 337kB 50.7MB/s eta 0:00:01\r\u001b[K    35% |███████████▎                    | 348kB 44.6MB/s eta 0:00:01\r\u001b[K    36% |███████████▋                    | 358kB 44.4MB/s eta 0:00:01\r\u001b[K    37% |████████████                    | 368kB 52.3MB/s eta 0:00:01\r\u001b[K    38% |████████████▎                   | 378kB 10.1MB/s eta 0:00:01\r\u001b[K    39% |████████████▋                   | 389kB 10.0MB/s eta 0:00:01\r\u001b[K    40% |█████████████                   | 399kB 9.9MB/s eta 0:00:01\r\u001b[K    41% |█████████████▎                  | 409kB 9.8MB/s eta 0:00:01\r\u001b[K    42% |█████████████▋                  | 419kB 9.8MB/s eta 0:00:01\r\u001b[K    43% |██████████████                  | 430kB 9.8MB/s eta 0:00:01\r\u001b[K    44% |██████████████▎                 | 440kB 9.8MB/s eta 0:00:01\r\u001b[K    45% |██████████████▋                 | 450kB 9.9MB/s eta 0:00:01\r\u001b[K    46% |███████████████                 | 460kB 9.9MB/s eta 0:00:01\r\u001b[K    47% |███████████████▎                | 471kB 9.9MB/s eta 0:00:01\r\u001b[K    48% |███████████████▋                | 481kB 46.9MB/s eta 0:00:01\r\u001b[K    49% |████████████████                | 491kB 50.6MB/s eta 0:00:01\r\u001b[K    50% |████████████████▎               | 501kB 52.3MB/s eta 0:00:01\r\u001b[K    51% |████████████████▋               | 512kB 48.8MB/s eta 0:00:01\r\u001b[K    52% |█████████████████               | 522kB 49.2MB/s eta 0:00:01\r\u001b[K    53% |█████████████████▎              | 532kB 50.6MB/s eta 0:00:01\r\u001b[K    54% |█████████████████▋              | 542kB 51.5MB/s eta 0:00:01\r\u001b[K    55% |██████████████████              | 552kB 57.8MB/s eta 0:00:01\r\u001b[K    57% |██████████████████▎             | 563kB 57.5MB/s eta 0:00:01\r\u001b[K    58% |██████████████████▋             | 573kB 56.6MB/s eta 0:00:01\r\u001b[K    59% |███████████████████             | 583kB 56.4MB/s eta 0:00:01\r\u001b[K    60% |███████████████████▎            | 593kB 55.4MB/s eta 0:00:01\r\u001b[K    61% |███████████████████▋            | 604kB 54.8MB/s eta 0:00:01\r\u001b[K    62% |████████████████████            | 614kB 61.6MB/s eta 0:00:01\r\u001b[K    63% |████████████████████▎           | 624kB 62.6MB/s eta 0:00:01\r\u001b[K    64% |████████████████████▋           | 634kB 62.4MB/s eta 0:00:01\r\u001b[K    65% |█████████████████████           | 645kB 11.6MB/s eta 0:00:01\r\u001b[K    66% |█████████████████████▎          | 655kB 11.3MB/s eta 0:00:01\r\u001b[K    67% |█████████████████████▋          | 665kB 10.6MB/s eta 0:00:01\r\u001b[K    68% |██████████████████████          | 675kB 10.6MB/s eta 0:00:01\r\u001b[K    69% |██████████████████████▎         | 686kB 10.5MB/s eta 0:00:01\r\u001b[K    70% |██████████████████████▋         | 696kB 10.6MB/s eta 0:00:01\r\u001b[K    71% |███████████████████████         | 706kB 10.6MB/s eta 0:00:01\r\u001b[K    72% |███████████████████████▎        | 716kB 10.6MB/s eta 0:00:01\r\u001b[K    73% |███████████████████████▋        | 727kB 10.6MB/s eta 0:00:01\r\u001b[K    74% |████████████████████████        | 737kB 10.6MB/s eta 0:00:01\r\u001b[K    75% |████████████████████████▎       | 747kB 41.5MB/s eta 0:00:01\r\u001b[K    76% |████████████████████████▋       | 757kB 44.6MB/s eta 0:00:01\r\u001b[K    77% |████████████████████████▉       | 768kB 60.8MB/s eta 0:00:01\r\u001b[K    78% |█████████████████████████▏      | 778kB 62.0MB/s eta 0:00:01\r\u001b[K    79% |█████████████████████████▌      | 788kB 62.5MB/s eta 0:00:01\r\u001b[K    80% |█████████████████████████▉      | 798kB 61.5MB/s eta 0:00:01\r\u001b[K    81% |██████████████████████████▏     | 808kB 60.8MB/s eta 0:00:01\r\u001b[K    82% |██████████████████████████▌     | 819kB 60.5MB/s eta 0:00:01\r\u001b[K    83% |██████████████████████████▉     | 829kB 61.0MB/s eta 0:00:01\r\u001b[K    85% |███████████████████████████▏    | 839kB 60.9MB/s eta 0:00:01\r\u001b[K    86% |███████████████████████████▌    | 849kB 60.4MB/s eta 0:00:01\r\u001b[K    87% |███████████████████████████▉    | 860kB 50.9MB/s eta 0:00:01\r\u001b[K    88% |████████████████████████████▏   | 870kB 50.6MB/s eta 0:00:01\r\u001b[K    89% |████████████████████████████▌   | 880kB 51.1MB/s eta 0:00:01\r\u001b[K    90% |████████████████████████████▉   | 890kB 51.8MB/s eta 0:00:01\r\u001b[K    91% |█████████████████████████████▏  | 901kB 52.2MB/s eta 0:00:01\r\u001b[K    92% |█████████████████████████████▌  | 911kB 52.8MB/s eta 0:00:01\r\u001b[K    93% |█████████████████████████████▉  | 921kB 52.8MB/s eta 0:00:01\r\u001b[K    94% |██████████████████████████████▏ | 931kB 52.3MB/s eta 0:00:01\r\u001b[K    95% |██████████████████████████████▌ | 942kB 52.8MB/s eta 0:00:01\r\u001b[K    96% |██████████████████████████████▉ | 952kB 53.1MB/s eta 0:00:01\r\u001b[K    97% |███████████████████████████████▏| 962kB 64.8MB/s eta 0:00:01\r\u001b[K    98% |███████████████████████████████▌| 972kB 65.5MB/s eta 0:00:01\r\u001b[K    99% |███████████████████████████████▉| 983kB 64.7MB/s eta 0:00:01\r\u001b[K    100% |████████████████████████████████| 993kB 19.6MB/s \n",
            "\u001b[?25h  Building wheel for PyDrive (setup.py) ... \u001b[?25ldone\n",
            "\u001b[?25h"
          ],
          "name": "stdout"
        }
      ]
    },
    {
      "cell_type": "code",
      "metadata": {
        "colab_type": "code",
        "id": "ubjxW9IrYrMG",
        "colab": {}
      },
      "source": [
        "#2. Get the file\n",
        "#make sure you upload all your data files to your Google drive and change share->Advanced->change->anyone with the link can view\n",
        "downloaded = drive.CreateFile({'id':'17HbHBVlcAsqs0Yi7IGnZAt5u2-sl9B7L'}) # replace the id with id of file you want to access\n",
        "downloaded.GetContentFile('drug-use-by-age.csv') \n",
        "downloaded = drive.CreateFile({'id':'1RW87ZmENMHrS8K9iPPwmnHfYxmb-w0Qr'}) # replace the id with id of file you want to access\n",
        "downloaded.GetContentFile('sacramento_real_estate_transactions.csv')\n"
      ],
      "execution_count": 0,
      "outputs": []
    },
    {
      "cell_type": "code",
      "metadata": {
        "id": "YltSaKkigyF7",
        "colab_type": "code",
        "colab": {}
      },
      "source": [
        "sac_csv = 'sacramento_real_estate_transactions.csv'"
      ],
      "execution_count": 0,
      "outputs": []
    },
    {
      "cell_type": "code",
      "metadata": {
        "id": "C0Sbc2tdgyF-",
        "colab_type": "code",
        "colab": {}
      },
      "source": [
        "import pandas as pd\n",
        "import seaborn as sns\n",
        "import matplotlib.pyplot as plt\n",
        "import numpy as np\n",
        "import scipy.stats\n",
        "\n",
        "% matplotlib inline"
      ],
      "execution_count": 0,
      "outputs": []
    },
    {
      "cell_type": "markdown",
      "metadata": {
        "id": "64FoGyiCgyGA",
        "colab_type": "text"
      },
      "source": [
        "### 2. Conduct exploratory data analysis (EDA) on this data set. \n",
        "\n",
        "**Show how you exolore this dataset     \n",
        "Explain any steps you take to clean/transform your data.   \n",
        "Do not transform your data without any reasoning.\n",
        "need to explain why you do it**"
      ]
    },
    {
      "cell_type": "code",
      "metadata": {
        "id": "ppNWv4M6gyGB",
        "colab_type": "code",
        "outputId": "34877da3-eaf8-479c-964f-bd2e6dbd4588",
        "colab": {
          "base_uri": "https://localhost:8080/",
          "height": 111
        }
      },
      "source": [
        "# A:\n",
        "# In this section, we will firstexplore the dataset, and then clean & transform the data.\n",
        "\n",
        "housing = pd.read_csv('sacramento_real_estate_transactions.csv')\n",
        "housing.head(2)"
      ],
      "execution_count": 0,
      "outputs": [
        {
          "output_type": "execute_result",
          "data": {
            "text/html": [
              "<div>\n",
              "<style scoped>\n",
              "    .dataframe tbody tr th:only-of-type {\n",
              "        vertical-align: middle;\n",
              "    }\n",
              "\n",
              "    .dataframe tbody tr th {\n",
              "        vertical-align: top;\n",
              "    }\n",
              "\n",
              "    .dataframe thead th {\n",
              "        text-align: right;\n",
              "    }\n",
              "</style>\n",
              "<table border=\"1\" class=\"dataframe\">\n",
              "  <thead>\n",
              "    <tr style=\"text-align: right;\">\n",
              "      <th></th>\n",
              "      <th>street</th>\n",
              "      <th>city</th>\n",
              "      <th>zip</th>\n",
              "      <th>state</th>\n",
              "      <th>beds</th>\n",
              "      <th>baths</th>\n",
              "      <th>sq__ft</th>\n",
              "      <th>type</th>\n",
              "      <th>sale_date</th>\n",
              "      <th>price</th>\n",
              "      <th>latitude</th>\n",
              "      <th>longitude</th>\n",
              "    </tr>\n",
              "  </thead>\n",
              "  <tbody>\n",
              "    <tr>\n",
              "      <th>0</th>\n",
              "      <td>3526 HIGH ST</td>\n",
              "      <td>SACRAMENTO</td>\n",
              "      <td>95838</td>\n",
              "      <td>CA</td>\n",
              "      <td>2</td>\n",
              "      <td>1</td>\n",
              "      <td>836</td>\n",
              "      <td>Residential</td>\n",
              "      <td>Wed May 21 00:00:00 EDT 2008</td>\n",
              "      <td>59222</td>\n",
              "      <td>38.631913</td>\n",
              "      <td>-121.434879</td>\n",
              "    </tr>\n",
              "    <tr>\n",
              "      <th>1</th>\n",
              "      <td>51 OMAHA CT</td>\n",
              "      <td>SACRAMENTO</td>\n",
              "      <td>95823</td>\n",
              "      <td>CA</td>\n",
              "      <td>3</td>\n",
              "      <td>1</td>\n",
              "      <td>1167</td>\n",
              "      <td>Residential</td>\n",
              "      <td>Wed May 21 00:00:00 EDT 2008</td>\n",
              "      <td>68212</td>\n",
              "      <td>38.478902</td>\n",
              "      <td>-121.431028</td>\n",
              "    </tr>\n",
              "  </tbody>\n",
              "</table>\n",
              "</div>"
            ],
            "text/plain": [
              "         street        city    zip state  beds  baths  sq__ft         type  \\\n",
              "0  3526 HIGH ST  SACRAMENTO  95838    CA     2      1     836  Residential   \n",
              "1   51 OMAHA CT  SACRAMENTO  95823    CA     3      1    1167  Residential   \n",
              "\n",
              "                      sale_date  price   latitude   longitude  \n",
              "0  Wed May 21 00:00:00 EDT 2008  59222  38.631913 -121.434879  \n",
              "1  Wed May 21 00:00:00 EDT 2008  68212  38.478902 -121.431028  "
            ]
          },
          "metadata": {
            "tags": []
          },
          "execution_count": 5
        }
      ]
    },
    {
      "cell_type": "markdown",
      "metadata": {
        "id": "wwfDIQtBgyOB",
        "colab_type": "text"
      },
      "source": [
        "**Check how many rows and columns in total so we know the size of the data:**"
      ]
    },
    {
      "cell_type": "code",
      "metadata": {
        "id": "Kj8CyqGqg2ym",
        "colab_type": "code",
        "outputId": "216f63fd-e3f3-427e-f4b2-31ebafce44e9",
        "colab": {
          "base_uri": "https://localhost:8080/",
          "height": 34
        }
      },
      "source": [
        "housing.shape"
      ],
      "execution_count": 0,
      "outputs": [
        {
          "output_type": "execute_result",
          "data": {
            "text/plain": [
              "(985, 12)"
            ]
          },
          "metadata": {
            "tags": []
          },
          "execution_count": 6
        }
      ]
    },
    {
      "cell_type": "markdown",
      "metadata": {
        "id": "RO6VQQWlQ9bf",
        "colab_type": "text"
      },
      "source": [
        "**Check the features in the table so we can see all the column  names:**"
      ]
    },
    {
      "cell_type": "code",
      "metadata": {
        "id": "gAQ2iPeyRDki",
        "colab_type": "code",
        "outputId": "e99ba727-fce9-483e-a4be-67213ed85188",
        "colab": {
          "base_uri": "https://localhost:8080/",
          "height": 68
        }
      },
      "source": [
        "housing.columns"
      ],
      "execution_count": 0,
      "outputs": [
        {
          "output_type": "execute_result",
          "data": {
            "text/plain": [
              "Index(['street', 'city', 'zip', 'state', 'beds', 'baths', 'sq__ft', 'type',\n",
              "       'sale_date', 'price', 'latitude', 'longitude'],\n",
              "      dtype='object')"
            ]
          },
          "metadata": {
            "tags": []
          },
          "execution_count": 7
        }
      ]
    },
    {
      "cell_type": "markdown",
      "metadata": {
        "id": "GntLgq4pQuow",
        "colab_type": "text"
      },
      "source": [
        "**Check the data type so we know how to proceed with cleaning and transforming the dataset later:**"
      ]
    },
    {
      "cell_type": "code",
      "metadata": {
        "id": "15HSMolmQoln",
        "colab_type": "code",
        "outputId": "0102b006-785c-4a12-d85e-24c29dbfd9e3",
        "colab": {
          "base_uri": "https://localhost:8080/",
          "height": 238
        }
      },
      "source": [
        "housing.dtypes"
      ],
      "execution_count": 0,
      "outputs": [
        {
          "output_type": "execute_result",
          "data": {
            "text/plain": [
              "street        object\n",
              "city          object\n",
              "zip            int64\n",
              "state         object\n",
              "beds           int64\n",
              "baths          int64\n",
              "sq__ft         int64\n",
              "type          object\n",
              "sale_date     object\n",
              "price          int64\n",
              "latitude     float64\n",
              "longitude    float64\n",
              "dtype: object"
            ]
          },
          "metadata": {
            "tags": []
          },
          "execution_count": 8
        }
      ]
    },
    {
      "cell_type": "markdown",
      "metadata": {
        "id": "pbW0j0l14own",
        "colab_type": "text"
      },
      "source": [
        "**I noticed zip is an integer but it should not be numeric. So I converted it to a string.**"
      ]
    },
    {
      "cell_type": "code",
      "metadata": {
        "id": "X_bNX6Yq48Dt",
        "colab_type": "code",
        "colab": {}
      },
      "source": [
        "#Convert zip to string\n",
        "housing['zip']=housing['zip'].astype(str)"
      ],
      "execution_count": 0,
      "outputs": []
    },
    {
      "cell_type": "markdown",
      "metadata": {
        "id": "KdS0T27rXK3E",
        "colab_type": "text"
      },
      "source": [
        "**Check for the summary statistics:**"
      ]
    },
    {
      "cell_type": "code",
      "metadata": {
        "id": "EgbJvGotQpGr",
        "colab_type": "code",
        "outputId": "fb7df552-a8fb-46ce-9eaa-b5b630968349",
        "colab": {
          "base_uri": "https://localhost:8080/",
          "height": 297
        }
      },
      "source": [
        "housing.describe()"
      ],
      "execution_count": 0,
      "outputs": [
        {
          "output_type": "execute_result",
          "data": {
            "text/html": [
              "<div>\n",
              "<style scoped>\n",
              "    .dataframe tbody tr th:only-of-type {\n",
              "        vertical-align: middle;\n",
              "    }\n",
              "\n",
              "    .dataframe tbody tr th {\n",
              "        vertical-align: top;\n",
              "    }\n",
              "\n",
              "    .dataframe thead th {\n",
              "        text-align: right;\n",
              "    }\n",
              "</style>\n",
              "<table border=\"1\" class=\"dataframe\">\n",
              "  <thead>\n",
              "    <tr style=\"text-align: right;\">\n",
              "      <th></th>\n",
              "      <th>beds</th>\n",
              "      <th>baths</th>\n",
              "      <th>sq__ft</th>\n",
              "      <th>price</th>\n",
              "      <th>latitude</th>\n",
              "      <th>longitude</th>\n",
              "    </tr>\n",
              "  </thead>\n",
              "  <tbody>\n",
              "    <tr>\n",
              "      <th>count</th>\n",
              "      <td>985.000000</td>\n",
              "      <td>985.000000</td>\n",
              "      <td>985.000000</td>\n",
              "      <td>985.000000</td>\n",
              "      <td>985.000000</td>\n",
              "      <td>985.000000</td>\n",
              "    </tr>\n",
              "    <tr>\n",
              "      <th>mean</th>\n",
              "      <td>2.911675</td>\n",
              "      <td>1.776650</td>\n",
              "      <td>1312.918782</td>\n",
              "      <td>233715.951269</td>\n",
              "      <td>38.445121</td>\n",
              "      <td>-121.193371</td>\n",
              "    </tr>\n",
              "    <tr>\n",
              "      <th>std</th>\n",
              "      <td>1.307932</td>\n",
              "      <td>0.895371</td>\n",
              "      <td>856.123224</td>\n",
              "      <td>139088.818896</td>\n",
              "      <td>5.103637</td>\n",
              "      <td>5.100670</td>\n",
              "    </tr>\n",
              "    <tr>\n",
              "      <th>min</th>\n",
              "      <td>0.000000</td>\n",
              "      <td>0.000000</td>\n",
              "      <td>-984.000000</td>\n",
              "      <td>-210944.000000</td>\n",
              "      <td>-121.503471</td>\n",
              "      <td>-121.551704</td>\n",
              "    </tr>\n",
              "    <tr>\n",
              "      <th>25%</th>\n",
              "      <td>2.000000</td>\n",
              "      <td>1.000000</td>\n",
              "      <td>950.000000</td>\n",
              "      <td>145000.000000</td>\n",
              "      <td>38.482704</td>\n",
              "      <td>-121.446119</td>\n",
              "    </tr>\n",
              "    <tr>\n",
              "      <th>50%</th>\n",
              "      <td>3.000000</td>\n",
              "      <td>2.000000</td>\n",
              "      <td>1304.000000</td>\n",
              "      <td>213750.000000</td>\n",
              "      <td>38.625932</td>\n",
              "      <td>-121.375799</td>\n",
              "    </tr>\n",
              "    <tr>\n",
              "      <th>75%</th>\n",
              "      <td>4.000000</td>\n",
              "      <td>2.000000</td>\n",
              "      <td>1718.000000</td>\n",
              "      <td>300000.000000</td>\n",
              "      <td>38.695589</td>\n",
              "      <td>-121.294893</td>\n",
              "    </tr>\n",
              "    <tr>\n",
              "      <th>max</th>\n",
              "      <td>8.000000</td>\n",
              "      <td>5.000000</td>\n",
              "      <td>5822.000000</td>\n",
              "      <td>884790.000000</td>\n",
              "      <td>39.020808</td>\n",
              "      <td>38.668433</td>\n",
              "    </tr>\n",
              "  </tbody>\n",
              "</table>\n",
              "</div>"
            ],
            "text/plain": [
              "             beds       baths       sq__ft          price    latitude  \\\n",
              "count  985.000000  985.000000   985.000000     985.000000  985.000000   \n",
              "mean     2.911675    1.776650  1312.918782  233715.951269   38.445121   \n",
              "std      1.307932    0.895371   856.123224  139088.818896    5.103637   \n",
              "min      0.000000    0.000000  -984.000000 -210944.000000 -121.503471   \n",
              "25%      2.000000    1.000000   950.000000  145000.000000   38.482704   \n",
              "50%      3.000000    2.000000  1304.000000  213750.000000   38.625932   \n",
              "75%      4.000000    2.000000  1718.000000  300000.000000   38.695589   \n",
              "max      8.000000    5.000000  5822.000000  884790.000000   39.020808   \n",
              "\n",
              "        longitude  \n",
              "count  985.000000  \n",
              "mean  -121.193371  \n",
              "std      5.100670  \n",
              "min   -121.551704  \n",
              "25%   -121.446119  \n",
              "50%   -121.375799  \n",
              "75%   -121.294893  \n",
              "max     38.668433  "
            ]
          },
          "metadata": {
            "tags": []
          },
          "execution_count": 29
        }
      ]
    },
    {
      "cell_type": "markdown",
      "metadata": {
        "id": "Zk0LMP2cdzDk",
        "colab_type": "text"
      },
      "source": [
        "**The result has some unusual data. Minimum shows there are houses with 0 beds and 0 baths. Also, there are square feet and price with negative values.**\n",
        "\n",
        "**Next, I will investigate these unusual values.**\n",
        "\n"
      ]
    },
    {
      "cell_type": "markdown",
      "metadata": {
        "id": "t8XUzqX_I01l",
        "colab_type": "text"
      },
      "source": [
        "**First I will find all beds = 0:**"
      ]
    },
    {
      "cell_type": "code",
      "metadata": {
        "id": "xjJ--Z8RQpQy",
        "colab_type": "code",
        "outputId": "d1e2ae5f-5896-4451-8c55-6e62a6cab5c5",
        "colab": {
          "base_uri": "https://localhost:8080/",
          "height": 4692
        }
      },
      "source": [
        "housing[housing['beds']==0]"
      ],
      "execution_count": 0,
      "outputs": [
        {
          "output_type": "execute_result",
          "data": {
            "text/html": [
              "<div>\n",
              "<style scoped>\n",
              "    .dataframe tbody tr th:only-of-type {\n",
              "        vertical-align: middle;\n",
              "    }\n",
              "\n",
              "    .dataframe tbody tr th {\n",
              "        vertical-align: top;\n",
              "    }\n",
              "\n",
              "    .dataframe thead th {\n",
              "        text-align: right;\n",
              "    }\n",
              "</style>\n",
              "<table border=\"1\" class=\"dataframe\">\n",
              "  <thead>\n",
              "    <tr style=\"text-align: right;\">\n",
              "      <th></th>\n",
              "      <th>street</th>\n",
              "      <th>city</th>\n",
              "      <th>zip</th>\n",
              "      <th>state</th>\n",
              "      <th>beds</th>\n",
              "      <th>baths</th>\n",
              "      <th>sq__ft</th>\n",
              "      <th>type</th>\n",
              "      <th>sale_date</th>\n",
              "      <th>price</th>\n",
              "      <th>latitude</th>\n",
              "      <th>longitude</th>\n",
              "    </tr>\n",
              "  </thead>\n",
              "  <tbody>\n",
              "    <tr>\n",
              "      <th>73</th>\n",
              "      <td>17 SERASPI CT</td>\n",
              "      <td>SACRAMENTO</td>\n",
              "      <td>95834</td>\n",
              "      <td>CA</td>\n",
              "      <td>0</td>\n",
              "      <td>0</td>\n",
              "      <td>0</td>\n",
              "      <td>Residential</td>\n",
              "      <td>Wed May 21 00:00:00 EDT 2008</td>\n",
              "      <td>206000</td>\n",
              "      <td>38.631481</td>\n",
              "      <td>-121.501880</td>\n",
              "    </tr>\n",
              "    <tr>\n",
              "      <th>89</th>\n",
              "      <td>2866 KARITSA AVE</td>\n",
              "      <td>SACRAMENTO</td>\n",
              "      <td>95833</td>\n",
              "      <td>CA</td>\n",
              "      <td>0</td>\n",
              "      <td>0</td>\n",
              "      <td>0</td>\n",
              "      <td>Residential</td>\n",
              "      <td>Wed May 21 00:00:00 EDT 2008</td>\n",
              "      <td>244500</td>\n",
              "      <td>38.626671</td>\n",
              "      <td>-121.525970</td>\n",
              "    </tr>\n",
              "    <tr>\n",
              "      <th>100</th>\n",
              "      <td>12209 CONSERVANCY WAY</td>\n",
              "      <td>RANCHO CORDOVA</td>\n",
              "      <td>95742</td>\n",
              "      <td>CA</td>\n",
              "      <td>0</td>\n",
              "      <td>0</td>\n",
              "      <td>0</td>\n",
              "      <td>Residential</td>\n",
              "      <td>Wed May 21 00:00:00 EDT 2008</td>\n",
              "      <td>263500</td>\n",
              "      <td>38.553867</td>\n",
              "      <td>-121.219141</td>\n",
              "    </tr>\n",
              "    <tr>\n",
              "      <th>121</th>\n",
              "      <td>5337 DUSTY ROSE WAY</td>\n",
              "      <td>RANCHO CORDOVA</td>\n",
              "      <td>95742</td>\n",
              "      <td>CA</td>\n",
              "      <td>0</td>\n",
              "      <td>0</td>\n",
              "      <td>0</td>\n",
              "      <td>Residential</td>\n",
              "      <td>Wed May 21 00:00:00 EDT 2008</td>\n",
              "      <td>320000</td>\n",
              "      <td>38.528575</td>\n",
              "      <td>-121.228600</td>\n",
              "    </tr>\n",
              "    <tr>\n",
              "      <th>126</th>\n",
              "      <td>2115 SMOKESTACK WAY</td>\n",
              "      <td>SACRAMENTO</td>\n",
              "      <td>95833</td>\n",
              "      <td>CA</td>\n",
              "      <td>0</td>\n",
              "      <td>0</td>\n",
              "      <td>0</td>\n",
              "      <td>Residential</td>\n",
              "      <td>Wed May 21 00:00:00 EDT 2008</td>\n",
              "      <td>339500</td>\n",
              "      <td>38.602416</td>\n",
              "      <td>-121.542965</td>\n",
              "    </tr>\n",
              "    <tr>\n",
              "      <th>133</th>\n",
              "      <td>8082 LINDA ISLE LN</td>\n",
              "      <td>SACRAMENTO</td>\n",
              "      <td>95831</td>\n",
              "      <td>CA</td>\n",
              "      <td>0</td>\n",
              "      <td>0</td>\n",
              "      <td>0</td>\n",
              "      <td>Residential</td>\n",
              "      <td>Wed May 21 00:00:00 EDT 2008</td>\n",
              "      <td>370000</td>\n",
              "      <td>38.477200</td>\n",
              "      <td>-121.521500</td>\n",
              "    </tr>\n",
              "    <tr>\n",
              "      <th>147</th>\n",
              "      <td>9278 DAIRY CT</td>\n",
              "      <td>ELK GROVE</td>\n",
              "      <td>95624</td>\n",
              "      <td>CA</td>\n",
              "      <td>0</td>\n",
              "      <td>0</td>\n",
              "      <td>0</td>\n",
              "      <td>Residential</td>\n",
              "      <td>Wed May 21 00:00:00 EDT 2008</td>\n",
              "      <td>445000</td>\n",
              "      <td>38.420338</td>\n",
              "      <td>-121.363757</td>\n",
              "    </tr>\n",
              "    <tr>\n",
              "      <th>153</th>\n",
              "      <td>868 HILDEBRAND CIR</td>\n",
              "      <td>FOLSOM</td>\n",
              "      <td>95630</td>\n",
              "      <td>CA</td>\n",
              "      <td>0</td>\n",
              "      <td>0</td>\n",
              "      <td>0</td>\n",
              "      <td>Residential</td>\n",
              "      <td>Wed May 21 00:00:00 EDT 2008</td>\n",
              "      <td>585000</td>\n",
              "      <td>38.670947</td>\n",
              "      <td>-121.097727</td>\n",
              "    </tr>\n",
              "    <tr>\n",
              "      <th>169</th>\n",
              "      <td>14788 NATCHEZ CT</td>\n",
              "      <td>RANCHO MURIETA</td>\n",
              "      <td>95683</td>\n",
              "      <td>CA</td>\n",
              "      <td>0</td>\n",
              "      <td>0</td>\n",
              "      <td>0</td>\n",
              "      <td>Residential</td>\n",
              "      <td>Tue May 20 00:00:00 EDT 2008</td>\n",
              "      <td>97750</td>\n",
              "      <td>38.492287</td>\n",
              "      <td>-121.100032</td>\n",
              "    </tr>\n",
              "    <tr>\n",
              "      <th>192</th>\n",
              "      <td>5201 LAGUNA OAKS DR Unit 126</td>\n",
              "      <td>ELK GROVE</td>\n",
              "      <td>95758</td>\n",
              "      <td>CA</td>\n",
              "      <td>0</td>\n",
              "      <td>0</td>\n",
              "      <td>0</td>\n",
              "      <td>Condo</td>\n",
              "      <td>Tue May 20 00:00:00 EDT 2008</td>\n",
              "      <td>145000</td>\n",
              "      <td>38.423251</td>\n",
              "      <td>-121.444489</td>\n",
              "    </tr>\n",
              "    <tr>\n",
              "      <th>234</th>\n",
              "      <td>3139 SPOONWOOD WAY Unit 1</td>\n",
              "      <td>SACRAMENTO</td>\n",
              "      <td>95833</td>\n",
              "      <td>CA</td>\n",
              "      <td>0</td>\n",
              "      <td>0</td>\n",
              "      <td>0</td>\n",
              "      <td>Residential</td>\n",
              "      <td>Tue May 20 00:00:00 EDT 2008</td>\n",
              "      <td>215500</td>\n",
              "      <td>38.626582</td>\n",
              "      <td>-121.521510</td>\n",
              "    </tr>\n",
              "    <tr>\n",
              "      <th>236</th>\n",
              "      <td>2340 HURLEY WAY</td>\n",
              "      <td>SACRAMENTO</td>\n",
              "      <td>95825</td>\n",
              "      <td>CA</td>\n",
              "      <td>0</td>\n",
              "      <td>0</td>\n",
              "      <td>0</td>\n",
              "      <td>Condo</td>\n",
              "      <td>Tue May 20 00:00:00 EDT 2008</td>\n",
              "      <td>225000</td>\n",
              "      <td>38.588816</td>\n",
              "      <td>-121.408549</td>\n",
              "    </tr>\n",
              "    <tr>\n",
              "      <th>248</th>\n",
              "      <td>611 BLOSSOM ROCK LN</td>\n",
              "      <td>FOLSOM</td>\n",
              "      <td>95630</td>\n",
              "      <td>CA</td>\n",
              "      <td>0</td>\n",
              "      <td>0</td>\n",
              "      <td>0</td>\n",
              "      <td>Condo</td>\n",
              "      <td>Tue May 20 00:00:00 EDT 2008</td>\n",
              "      <td>240000</td>\n",
              "      <td>38.645700</td>\n",
              "      <td>-121.119700</td>\n",
              "    </tr>\n",
              "    <tr>\n",
              "      <th>249</th>\n",
              "      <td>8830 ADUR RD</td>\n",
              "      <td>ELK GROVE</td>\n",
              "      <td>95624</td>\n",
              "      <td>CA</td>\n",
              "      <td>0</td>\n",
              "      <td>0</td>\n",
              "      <td>0</td>\n",
              "      <td>Residential</td>\n",
              "      <td>Tue May 20 00:00:00 EDT 2008</td>\n",
              "      <td>242000</td>\n",
              "      <td>38.437420</td>\n",
              "      <td>-121.372876</td>\n",
              "    </tr>\n",
              "    <tr>\n",
              "      <th>253</th>\n",
              "      <td>221 PICASSO CIR</td>\n",
              "      <td>SACRAMENTO</td>\n",
              "      <td>95835</td>\n",
              "      <td>CA</td>\n",
              "      <td>0</td>\n",
              "      <td>0</td>\n",
              "      <td>0</td>\n",
              "      <td>Residential</td>\n",
              "      <td>Tue May 20 00:00:00 EDT 2008</td>\n",
              "      <td>250000</td>\n",
              "      <td>38.676658</td>\n",
              "      <td>-121.528128</td>\n",
              "    </tr>\n",
              "    <tr>\n",
              "      <th>265</th>\n",
              "      <td>230 BANKSIDE WAY</td>\n",
              "      <td>SACRAMENTO</td>\n",
              "      <td>95835</td>\n",
              "      <td>CA</td>\n",
              "      <td>0</td>\n",
              "      <td>0</td>\n",
              "      <td>0</td>\n",
              "      <td>Residential</td>\n",
              "      <td>Tue May 20 00:00:00 EDT 2008</td>\n",
              "      <td>270000</td>\n",
              "      <td>38.676937</td>\n",
              "      <td>-121.529244</td>\n",
              "    </tr>\n",
              "    <tr>\n",
              "      <th>268</th>\n",
              "      <td>4236 ADRIATIC SEA WAY</td>\n",
              "      <td>SACRAMENTO</td>\n",
              "      <td>95834</td>\n",
              "      <td>CA</td>\n",
              "      <td>0</td>\n",
              "      <td>0</td>\n",
              "      <td>0</td>\n",
              "      <td>Residential</td>\n",
              "      <td>Tue May 20 00:00:00 EDT 2008</td>\n",
              "      <td>270000</td>\n",
              "      <td>38.647961</td>\n",
              "      <td>-121.543162</td>\n",
              "    </tr>\n",
              "    <tr>\n",
              "      <th>279</th>\n",
              "      <td>11281 STANFORD COURT LN Unit 604</td>\n",
              "      <td>GOLD RIVER</td>\n",
              "      <td>95670</td>\n",
              "      <td>CA</td>\n",
              "      <td>0</td>\n",
              "      <td>0</td>\n",
              "      <td>0</td>\n",
              "      <td>Condo</td>\n",
              "      <td>Tue May 20 00:00:00 EDT 2008</td>\n",
              "      <td>300000</td>\n",
              "      <td>38.625289</td>\n",
              "      <td>-121.260286</td>\n",
              "    </tr>\n",
              "    <tr>\n",
              "      <th>285</th>\n",
              "      <td>3224 PARKHAM DR</td>\n",
              "      <td>ROSEVILLE</td>\n",
              "      <td>95747</td>\n",
              "      <td>CA</td>\n",
              "      <td>0</td>\n",
              "      <td>0</td>\n",
              "      <td>0</td>\n",
              "      <td>Residential</td>\n",
              "      <td>Tue May 20 00:00:00 EDT 2008</td>\n",
              "      <td>306500</td>\n",
              "      <td>38.772771</td>\n",
              "      <td>-121.364877</td>\n",
              "    </tr>\n",
              "    <tr>\n",
              "      <th>286</th>\n",
              "      <td>15 VANESSA PL</td>\n",
              "      <td>SACRAMENTO</td>\n",
              "      <td>95835</td>\n",
              "      <td>CA</td>\n",
              "      <td>0</td>\n",
              "      <td>0</td>\n",
              "      <td>0</td>\n",
              "      <td>Residential</td>\n",
              "      <td>Tue May 20 00:00:00 EDT 2008</td>\n",
              "      <td>312500</td>\n",
              "      <td>38.668692</td>\n",
              "      <td>-121.545490</td>\n",
              "    </tr>\n",
              "    <tr>\n",
              "      <th>308</th>\n",
              "      <td>5404 ALMOND FALLS WAY</td>\n",
              "      <td>RANCHO CORDOVA</td>\n",
              "      <td>95742</td>\n",
              "      <td>CA</td>\n",
              "      <td>0</td>\n",
              "      <td>0</td>\n",
              "      <td>0</td>\n",
              "      <td>Residential</td>\n",
              "      <td>Tue May 20 00:00:00 EDT 2008</td>\n",
              "      <td>425000</td>\n",
              "      <td>38.527502</td>\n",
              "      <td>-121.233492</td>\n",
              "    </tr>\n",
              "    <tr>\n",
              "      <th>310</th>\n",
              "      <td>14 CASA VATONI PL</td>\n",
              "      <td>SACRAMENTO</td>\n",
              "      <td>95834</td>\n",
              "      <td>CA</td>\n",
              "      <td>0</td>\n",
              "      <td>0</td>\n",
              "      <td>0</td>\n",
              "      <td>Residential</td>\n",
              "      <td>Tue May 20 00:00:00 EDT 2008</td>\n",
              "      <td>433500</td>\n",
              "      <td>38.650221</td>\n",
              "      <td>-121.551704</td>\n",
              "    </tr>\n",
              "    <tr>\n",
              "      <th>324</th>\n",
              "      <td>201 FIRESTONE DR</td>\n",
              "      <td>ROSEVILLE</td>\n",
              "      <td>95678</td>\n",
              "      <td>CA</td>\n",
              "      <td>0</td>\n",
              "      <td>0</td>\n",
              "      <td>0</td>\n",
              "      <td>Residential</td>\n",
              "      <td>Tue May 20 00:00:00 EDT 2008</td>\n",
              "      <td>500500</td>\n",
              "      <td>38.770153</td>\n",
              "      <td>-121.300039</td>\n",
              "    </tr>\n",
              "    <tr>\n",
              "      <th>326</th>\n",
              "      <td>2733 DANA LOOP</td>\n",
              "      <td>EL DORADO HILLS</td>\n",
              "      <td>95762</td>\n",
              "      <td>CA</td>\n",
              "      <td>0</td>\n",
              "      <td>0</td>\n",
              "      <td>0</td>\n",
              "      <td>Residential</td>\n",
              "      <td>Tue May 20 00:00:00 EDT 2008</td>\n",
              "      <td>541000</td>\n",
              "      <td>38.628459</td>\n",
              "      <td>-121.055078</td>\n",
              "    </tr>\n",
              "    <tr>\n",
              "      <th>327</th>\n",
              "      <td>9741 SADDLEBRED CT</td>\n",
              "      <td>WILTON</td>\n",
              "      <td>95693</td>\n",
              "      <td>CA</td>\n",
              "      <td>0</td>\n",
              "      <td>0</td>\n",
              "      <td>0</td>\n",
              "      <td>Residential</td>\n",
              "      <td>Tue May 20 00:00:00 EDT 2008</td>\n",
              "      <td>560000</td>\n",
              "      <td>38.408841</td>\n",
              "      <td>-121.198039</td>\n",
              "    </tr>\n",
              "    <tr>\n",
              "      <th>469</th>\n",
              "      <td>8491 CRYSTAL WALK CIR</td>\n",
              "      <td>ELK GROVE</td>\n",
              "      <td>95758</td>\n",
              "      <td>CA</td>\n",
              "      <td>0</td>\n",
              "      <td>0</td>\n",
              "      <td>0</td>\n",
              "      <td>Residential</td>\n",
              "      <td>Mon May 19 00:00:00 EDT 2008</td>\n",
              "      <td>261000</td>\n",
              "      <td>38.416916</td>\n",
              "      <td>-121.407554</td>\n",
              "    </tr>\n",
              "    <tr>\n",
              "      <th>477</th>\n",
              "      <td>6286 LONETREE BLVD</td>\n",
              "      <td>ROCKLIN</td>\n",
              "      <td>95765</td>\n",
              "      <td>CA</td>\n",
              "      <td>0</td>\n",
              "      <td>0</td>\n",
              "      <td>0</td>\n",
              "      <td>Residential</td>\n",
              "      <td>Mon May 19 00:00:00 EDT 2008</td>\n",
              "      <td>274500</td>\n",
              "      <td>38.805036</td>\n",
              "      <td>-121.293608</td>\n",
              "    </tr>\n",
              "    <tr>\n",
              "      <th>494</th>\n",
              "      <td>3072 VILLAGE PLAZA DR</td>\n",
              "      <td>ROSEVILLE</td>\n",
              "      <td>95747</td>\n",
              "      <td>CA</td>\n",
              "      <td>0</td>\n",
              "      <td>0</td>\n",
              "      <td>0</td>\n",
              "      <td>Residential</td>\n",
              "      <td>Mon May 19 00:00:00 EDT 2008</td>\n",
              "      <td>307000</td>\n",
              "      <td>38.773094</td>\n",
              "      <td>-121.365905</td>\n",
              "    </tr>\n",
              "    <tr>\n",
              "      <th>503</th>\n",
              "      <td>12241 CANYONLANDS DR</td>\n",
              "      <td>RANCHO CORDOVA</td>\n",
              "      <td>95742</td>\n",
              "      <td>CA</td>\n",
              "      <td>0</td>\n",
              "      <td>0</td>\n",
              "      <td>0</td>\n",
              "      <td>Residential</td>\n",
              "      <td>Mon May 19 00:00:00 EDT 2008</td>\n",
              "      <td>331500</td>\n",
              "      <td>38.557293</td>\n",
              "      <td>-121.217611</td>\n",
              "    </tr>\n",
              "    <tr>\n",
              "      <th>505</th>\n",
              "      <td>907 RIO ROBLES AVE</td>\n",
              "      <td>SACRAMENTO</td>\n",
              "      <td>95838</td>\n",
              "      <td>CA</td>\n",
              "      <td>0</td>\n",
              "      <td>0</td>\n",
              "      <td>0</td>\n",
              "      <td>Residential</td>\n",
              "      <td>Mon May 19 00:00:00 EDT 2008</td>\n",
              "      <td>344755</td>\n",
              "      <td>38.664765</td>\n",
              "      <td>-121.445006</td>\n",
              "    </tr>\n",
              "    <tr>\n",
              "      <th>...</th>\n",
              "      <td>...</td>\n",
              "      <td>...</td>\n",
              "      <td>...</td>\n",
              "      <td>...</td>\n",
              "      <td>...</td>\n",
              "      <td>...</td>\n",
              "      <td>...</td>\n",
              "      <td>...</td>\n",
              "      <td>...</td>\n",
              "      <td>...</td>\n",
              "      <td>...</td>\n",
              "      <td>...</td>\n",
              "    </tr>\n",
              "    <tr>\n",
              "      <th>600</th>\n",
              "      <td>7 CRYSTALWOOD CIR</td>\n",
              "      <td>LINCOLN</td>\n",
              "      <td>95648</td>\n",
              "      <td>CA</td>\n",
              "      <td>0</td>\n",
              "      <td>0</td>\n",
              "      <td>0</td>\n",
              "      <td>Residential</td>\n",
              "      <td>Mon May 19 00:00:00 EDT 2008</td>\n",
              "      <td>4897</td>\n",
              "      <td>38.885962</td>\n",
              "      <td>-121.289436</td>\n",
              "    </tr>\n",
              "    <tr>\n",
              "      <th>601</th>\n",
              "      <td>7 CRYSTALWOOD CIR</td>\n",
              "      <td>LINCOLN</td>\n",
              "      <td>95648</td>\n",
              "      <td>CA</td>\n",
              "      <td>0</td>\n",
              "      <td>0</td>\n",
              "      <td>0</td>\n",
              "      <td>Residential</td>\n",
              "      <td>Mon May 19 00:00:00 EDT 2008</td>\n",
              "      <td>4897</td>\n",
              "      <td>38.885962</td>\n",
              "      <td>-121.289436</td>\n",
              "    </tr>\n",
              "    <tr>\n",
              "      <th>602</th>\n",
              "      <td>3 CRYSTALWOOD CIR</td>\n",
              "      <td>LINCOLN</td>\n",
              "      <td>95648</td>\n",
              "      <td>CA</td>\n",
              "      <td>0</td>\n",
              "      <td>0</td>\n",
              "      <td>0</td>\n",
              "      <td>Residential</td>\n",
              "      <td>Mon May 19 00:00:00 EDT 2008</td>\n",
              "      <td>4897</td>\n",
              "      <td>38.886093</td>\n",
              "      <td>-121.289584</td>\n",
              "    </tr>\n",
              "    <tr>\n",
              "      <th>604</th>\n",
              "      <td>113 RINETTI WAY</td>\n",
              "      <td>RIO LINDA</td>\n",
              "      <td>95673</td>\n",
              "      <td>CA</td>\n",
              "      <td>0</td>\n",
              "      <td>0</td>\n",
              "      <td>0</td>\n",
              "      <td>Residential</td>\n",
              "      <td>Fri May 16 00:00:00 EDT 2008</td>\n",
              "      <td>30000</td>\n",
              "      <td>38.687172</td>\n",
              "      <td>-121.463933</td>\n",
              "    </tr>\n",
              "    <tr>\n",
              "      <th>686</th>\n",
              "      <td>5890 TT TRAK</td>\n",
              "      <td>FORESTHILL</td>\n",
              "      <td>95631</td>\n",
              "      <td>CA</td>\n",
              "      <td>0</td>\n",
              "      <td>0</td>\n",
              "      <td>0</td>\n",
              "      <td>Residential</td>\n",
              "      <td>Fri May 16 00:00:00 EDT 2008</td>\n",
              "      <td>194818</td>\n",
              "      <td>39.020808</td>\n",
              "      <td>-120.821518</td>\n",
              "    </tr>\n",
              "    <tr>\n",
              "      <th>718</th>\n",
              "      <td>9967 HATHERTON WAY</td>\n",
              "      <td>ELK GROVE</td>\n",
              "      <td>95757</td>\n",
              "      <td>CA</td>\n",
              "      <td>0</td>\n",
              "      <td>0</td>\n",
              "      <td>0</td>\n",
              "      <td>Residential</td>\n",
              "      <td>Fri May 16 00:00:00 EDT 2008</td>\n",
              "      <td>222500</td>\n",
              "      <td>38.305200</td>\n",
              "      <td>-121.403300</td>\n",
              "    </tr>\n",
              "    <tr>\n",
              "      <th>737</th>\n",
              "      <td>3569 SODA WAY</td>\n",
              "      <td>SACRAMENTO</td>\n",
              "      <td>95834</td>\n",
              "      <td>CA</td>\n",
              "      <td>0</td>\n",
              "      <td>0</td>\n",
              "      <td>0</td>\n",
              "      <td>Residential</td>\n",
              "      <td>Fri May 16 00:00:00 EDT 2008</td>\n",
              "      <td>247000</td>\n",
              "      <td>38.631139</td>\n",
              "      <td>-121.501879</td>\n",
              "    </tr>\n",
              "    <tr>\n",
              "      <th>743</th>\n",
              "      <td>6288 LONETREE BLVD</td>\n",
              "      <td>ROCKLIN</td>\n",
              "      <td>95765</td>\n",
              "      <td>CA</td>\n",
              "      <td>0</td>\n",
              "      <td>0</td>\n",
              "      <td>0</td>\n",
              "      <td>Residential</td>\n",
              "      <td>Fri May 16 00:00:00 EDT 2008</td>\n",
              "      <td>250000</td>\n",
              "      <td>38.804993</td>\n",
              "      <td>-121.293609</td>\n",
              "    </tr>\n",
              "    <tr>\n",
              "      <th>754</th>\n",
              "      <td>6001 SHOO FLY RD</td>\n",
              "      <td>PLACERVILLE</td>\n",
              "      <td>95667</td>\n",
              "      <td>CA</td>\n",
              "      <td>0</td>\n",
              "      <td>0</td>\n",
              "      <td>0</td>\n",
              "      <td>Residential</td>\n",
              "      <td>Fri May 16 00:00:00 EDT 2008</td>\n",
              "      <td>270000</td>\n",
              "      <td>38.813546</td>\n",
              "      <td>-120.809254</td>\n",
              "    </tr>\n",
              "    <tr>\n",
              "      <th>755</th>\n",
              "      <td>3040 PARKHAM DR</td>\n",
              "      <td>ROSEVILLE</td>\n",
              "      <td>95747</td>\n",
              "      <td>CA</td>\n",
              "      <td>0</td>\n",
              "      <td>0</td>\n",
              "      <td>0</td>\n",
              "      <td>Residential</td>\n",
              "      <td>Fri May 16 00:00:00 EDT 2008</td>\n",
              "      <td>271000</td>\n",
              "      <td>38.770835</td>\n",
              "      <td>-121.366996</td>\n",
              "    </tr>\n",
              "    <tr>\n",
              "      <th>757</th>\n",
              "      <td>6007 MARYBELLE LN</td>\n",
              "      <td>SHINGLE SPRINGS</td>\n",
              "      <td>95682</td>\n",
              "      <td>CA</td>\n",
              "      <td>0</td>\n",
              "      <td>0</td>\n",
              "      <td>0</td>\n",
              "      <td>Unkown</td>\n",
              "      <td>Fri May 16 00:00:00 EDT 2008</td>\n",
              "      <td>275000</td>\n",
              "      <td>38.643470</td>\n",
              "      <td>-120.888183</td>\n",
              "    </tr>\n",
              "    <tr>\n",
              "      <th>774</th>\n",
              "      <td>8253 KEEGAN WAY</td>\n",
              "      <td>ELK GROVE</td>\n",
              "      <td>95624</td>\n",
              "      <td>CA</td>\n",
              "      <td>0</td>\n",
              "      <td>0</td>\n",
              "      <td>0</td>\n",
              "      <td>Residential</td>\n",
              "      <td>Fri May 16 00:00:00 EDT 2008</td>\n",
              "      <td>298000</td>\n",
              "      <td>38.446286</td>\n",
              "      <td>-121.400817</td>\n",
              "    </tr>\n",
              "    <tr>\n",
              "      <th>789</th>\n",
              "      <td>5222 COPPER SUNSET WAY</td>\n",
              "      <td>RANCHO CORDOVA</td>\n",
              "      <td>95742</td>\n",
              "      <td>CA</td>\n",
              "      <td>0</td>\n",
              "      <td>0</td>\n",
              "      <td>0</td>\n",
              "      <td>Residential</td>\n",
              "      <td>Fri May 16 00:00:00 EDT 2008</td>\n",
              "      <td>313000</td>\n",
              "      <td>38.529181</td>\n",
              "      <td>-121.224755</td>\n",
              "    </tr>\n",
              "    <tr>\n",
              "      <th>798</th>\n",
              "      <td>3232 PARKHAM DR</td>\n",
              "      <td>ROSEVILLE</td>\n",
              "      <td>95747</td>\n",
              "      <td>CA</td>\n",
              "      <td>0</td>\n",
              "      <td>0</td>\n",
              "      <td>0</td>\n",
              "      <td>Residential</td>\n",
              "      <td>Fri May 16 00:00:00 EDT 2008</td>\n",
              "      <td>325500</td>\n",
              "      <td>38.772821</td>\n",
              "      <td>-121.364821</td>\n",
              "    </tr>\n",
              "    <tr>\n",
              "      <th>819</th>\n",
              "      <td>2274 IVY BRIDGE DR</td>\n",
              "      <td>ROSEVILLE</td>\n",
              "      <td>95747</td>\n",
              "      <td>CA</td>\n",
              "      <td>0</td>\n",
              "      <td>0</td>\n",
              "      <td>0</td>\n",
              "      <td>Residential</td>\n",
              "      <td>Fri May 16 00:00:00 EDT 2008</td>\n",
              "      <td>375000</td>\n",
              "      <td>38.778561</td>\n",
              "      <td>-121.362008</td>\n",
              "    </tr>\n",
              "    <tr>\n",
              "      <th>823</th>\n",
              "      <td>201 KIRKLAND CT</td>\n",
              "      <td>LINCOLN</td>\n",
              "      <td>95648</td>\n",
              "      <td>CA</td>\n",
              "      <td>0</td>\n",
              "      <td>0</td>\n",
              "      <td>0</td>\n",
              "      <td>Residential</td>\n",
              "      <td>Fri May 16 00:00:00 EDT 2008</td>\n",
              "      <td>389000</td>\n",
              "      <td>38.867125</td>\n",
              "      <td>-121.319085</td>\n",
              "    </tr>\n",
              "    <tr>\n",
              "      <th>824</th>\n",
              "      <td>12075 APPLESBURY CT</td>\n",
              "      <td>RANCHO CORDOVA</td>\n",
              "      <td>95742</td>\n",
              "      <td>CA</td>\n",
              "      <td>0</td>\n",
              "      <td>0</td>\n",
              "      <td>0</td>\n",
              "      <td>Residential</td>\n",
              "      <td>Fri May 16 00:00:00 EDT 2008</td>\n",
              "      <td>390000</td>\n",
              "      <td>38.535700</td>\n",
              "      <td>-121.224900</td>\n",
              "    </tr>\n",
              "    <tr>\n",
              "      <th>826</th>\n",
              "      <td>5420 ALMOND FALLS WAY</td>\n",
              "      <td>RANCHO CORDOVA</td>\n",
              "      <td>95742</td>\n",
              "      <td>CA</td>\n",
              "      <td>0</td>\n",
              "      <td>0</td>\n",
              "      <td>0</td>\n",
              "      <td>Residential</td>\n",
              "      <td>Fri May 16 00:00:00 EDT 2008</td>\n",
              "      <td>396000</td>\n",
              "      <td>38.527384</td>\n",
              "      <td>-121.233531</td>\n",
              "    </tr>\n",
              "    <tr>\n",
              "      <th>828</th>\n",
              "      <td>1515 EL CAMINO VERDE DR</td>\n",
              "      <td>LINCOLN</td>\n",
              "      <td>95648</td>\n",
              "      <td>CA</td>\n",
              "      <td>0</td>\n",
              "      <td>0</td>\n",
              "      <td>0</td>\n",
              "      <td>Residential</td>\n",
              "      <td>Fri May 16 00:00:00 EDT 2008</td>\n",
              "      <td>400000</td>\n",
              "      <td>38.904869</td>\n",
              "      <td>-121.320750</td>\n",
              "    </tr>\n",
              "    <tr>\n",
              "      <th>836</th>\n",
              "      <td>1536 STONEY CROSS LN</td>\n",
              "      <td>LINCOLN</td>\n",
              "      <td>95648</td>\n",
              "      <td>CA</td>\n",
              "      <td>0</td>\n",
              "      <td>0</td>\n",
              "      <td>0</td>\n",
              "      <td>Residential</td>\n",
              "      <td>Fri May 16 00:00:00 EDT 2008</td>\n",
              "      <td>433500</td>\n",
              "      <td>38.860007</td>\n",
              "      <td>-121.310946</td>\n",
              "    </tr>\n",
              "    <tr>\n",
              "      <th>848</th>\n",
              "      <td>200 HILLSFORD CT</td>\n",
              "      <td>ROSEVILLE</td>\n",
              "      <td>95747</td>\n",
              "      <td>CA</td>\n",
              "      <td>0</td>\n",
              "      <td>0</td>\n",
              "      <td>0</td>\n",
              "      <td>Residential</td>\n",
              "      <td>Fri May 16 00:00:00 EDT 2008</td>\n",
              "      <td>511000</td>\n",
              "      <td>38.780051</td>\n",
              "      <td>-121.378718</td>\n",
              "    </tr>\n",
              "    <tr>\n",
              "      <th>859</th>\n",
              "      <td>4478 GREENBRAE RD</td>\n",
              "      <td>ROCKLIN</td>\n",
              "      <td>95677</td>\n",
              "      <td>CA</td>\n",
              "      <td>0</td>\n",
              "      <td>0</td>\n",
              "      <td>0</td>\n",
              "      <td>Residential</td>\n",
              "      <td>Fri May 16 00:00:00 EDT 2008</td>\n",
              "      <td>600000</td>\n",
              "      <td>38.781134</td>\n",
              "      <td>-121.222801</td>\n",
              "    </tr>\n",
              "    <tr>\n",
              "      <th>861</th>\n",
              "      <td>200 CRADLE MOUNTAIN CT</td>\n",
              "      <td>EL DORADO HILLS</td>\n",
              "      <td>95762</td>\n",
              "      <td>CA</td>\n",
              "      <td>0</td>\n",
              "      <td>0</td>\n",
              "      <td>0</td>\n",
              "      <td>Residential</td>\n",
              "      <td>Fri May 16 00:00:00 EDT 2008</td>\n",
              "      <td>622500</td>\n",
              "      <td>38.647800</td>\n",
              "      <td>-121.030900</td>\n",
              "    </tr>\n",
              "    <tr>\n",
              "      <th>862</th>\n",
              "      <td>2065 IMPRESSIONIST WAY</td>\n",
              "      <td>EL DORADO HILLS</td>\n",
              "      <td>95762</td>\n",
              "      <td>CA</td>\n",
              "      <td>0</td>\n",
              "      <td>0</td>\n",
              "      <td>0</td>\n",
              "      <td>Residential</td>\n",
              "      <td>Fri May 16 00:00:00 EDT 2008</td>\n",
              "      <td>680000</td>\n",
              "      <td>38.682961</td>\n",
              "      <td>-121.033253</td>\n",
              "    </tr>\n",
              "    <tr>\n",
              "      <th>888</th>\n",
              "      <td>3035 ESTEPA DR Unit 5C</td>\n",
              "      <td>CAMERON PARK</td>\n",
              "      <td>95682</td>\n",
              "      <td>CA</td>\n",
              "      <td>0</td>\n",
              "      <td>0</td>\n",
              "      <td>0</td>\n",
              "      <td>Condo</td>\n",
              "      <td>Thu May 15 00:00:00 EDT 2008</td>\n",
              "      <td>119000</td>\n",
              "      <td>38.681393</td>\n",
              "      <td>-120.996713</td>\n",
              "    </tr>\n",
              "    <tr>\n",
              "      <th>901</th>\n",
              "      <td>1530 TOPANGA LN Unit 204</td>\n",
              "      <td>LINCOLN</td>\n",
              "      <td>95648</td>\n",
              "      <td>CA</td>\n",
              "      <td>0</td>\n",
              "      <td>0</td>\n",
              "      <td>0</td>\n",
              "      <td>Condo</td>\n",
              "      <td>Thu May 15 00:00:00 EDT 2008</td>\n",
              "      <td>138000</td>\n",
              "      <td>38.884150</td>\n",
              "      <td>-121.270277</td>\n",
              "    </tr>\n",
              "    <tr>\n",
              "      <th>917</th>\n",
              "      <td>501 POPLAR AVE</td>\n",
              "      <td>WEST SACRAMENTO</td>\n",
              "      <td>95691</td>\n",
              "      <td>CA</td>\n",
              "      <td>0</td>\n",
              "      <td>0</td>\n",
              "      <td>0</td>\n",
              "      <td>Residential</td>\n",
              "      <td>Thu May 15 00:00:00 EDT 2008</td>\n",
              "      <td>165000</td>\n",
              "      <td>38.584526</td>\n",
              "      <td>-121.534609</td>\n",
              "    </tr>\n",
              "    <tr>\n",
              "      <th>934</th>\n",
              "      <td>1550 TOPANGA LN Unit 207</td>\n",
              "      <td>LINCOLN</td>\n",
              "      <td>95648</td>\n",
              "      <td>CA</td>\n",
              "      <td>0</td>\n",
              "      <td>0</td>\n",
              "      <td>0</td>\n",
              "      <td>Condo</td>\n",
              "      <td>Thu May 15 00:00:00 EDT 2008</td>\n",
              "      <td>188000</td>\n",
              "      <td>38.884170</td>\n",
              "      <td>-121.270222</td>\n",
              "    </tr>\n",
              "    <tr>\n",
              "      <th>947</th>\n",
              "      <td>1525 PENNSYLVANIA AVE</td>\n",
              "      <td>WEST SACRAMENTO</td>\n",
              "      <td>95691</td>\n",
              "      <td>CA</td>\n",
              "      <td>0</td>\n",
              "      <td>0</td>\n",
              "      <td>0</td>\n",
              "      <td>Residential</td>\n",
              "      <td>Thu May 15 00:00:00 EDT 2008</td>\n",
              "      <td>200100</td>\n",
              "      <td>38.569943</td>\n",
              "      <td>-121.527539</td>\n",
              "    </tr>\n",
              "    <tr>\n",
              "      <th>970</th>\n",
              "      <td>3557 SODA WAY</td>\n",
              "      <td>SACRAMENTO</td>\n",
              "      <td>95834</td>\n",
              "      <td>CA</td>\n",
              "      <td>0</td>\n",
              "      <td>0</td>\n",
              "      <td>0</td>\n",
              "      <td>Residential</td>\n",
              "      <td>Thu May 15 00:00:00 EDT 2008</td>\n",
              "      <td>224000</td>\n",
              "      <td>38.631026</td>\n",
              "      <td>-121.501879</td>\n",
              "    </tr>\n",
              "  </tbody>\n",
              "</table>\n",
              "<p>108 rows × 12 columns</p>\n",
              "</div>"
            ],
            "text/plain": [
              "                               street             city    zip state  beds  \\\n",
              "73                      17 SERASPI CT       SACRAMENTO  95834    CA     0   \n",
              "89                   2866 KARITSA AVE       SACRAMENTO  95833    CA     0   \n",
              "100             12209 CONSERVANCY WAY   RANCHO CORDOVA  95742    CA     0   \n",
              "121               5337 DUSTY ROSE WAY   RANCHO CORDOVA  95742    CA     0   \n",
              "126               2115 SMOKESTACK WAY       SACRAMENTO  95833    CA     0   \n",
              "133                8082 LINDA ISLE LN       SACRAMENTO  95831    CA     0   \n",
              "147                     9278 DAIRY CT        ELK GROVE  95624    CA     0   \n",
              "153                868 HILDEBRAND CIR           FOLSOM  95630    CA     0   \n",
              "169                  14788 NATCHEZ CT   RANCHO MURIETA  95683    CA     0   \n",
              "192      5201 LAGUNA OAKS DR Unit 126        ELK GROVE  95758    CA     0   \n",
              "234         3139 SPOONWOOD WAY Unit 1       SACRAMENTO  95833    CA     0   \n",
              "236                   2340 HURLEY WAY       SACRAMENTO  95825    CA     0   \n",
              "248               611 BLOSSOM ROCK LN           FOLSOM  95630    CA     0   \n",
              "249                      8830 ADUR RD        ELK GROVE  95624    CA     0   \n",
              "253                   221 PICASSO CIR       SACRAMENTO  95835    CA     0   \n",
              "265                  230 BANKSIDE WAY       SACRAMENTO  95835    CA     0   \n",
              "268             4236 ADRIATIC SEA WAY       SACRAMENTO  95834    CA     0   \n",
              "279  11281 STANFORD COURT LN Unit 604       GOLD RIVER  95670    CA     0   \n",
              "285                   3224 PARKHAM DR        ROSEVILLE  95747    CA     0   \n",
              "286                     15 VANESSA PL       SACRAMENTO  95835    CA     0   \n",
              "308             5404 ALMOND FALLS WAY   RANCHO CORDOVA  95742    CA     0   \n",
              "310                 14 CASA VATONI PL       SACRAMENTO  95834    CA     0   \n",
              "324                  201 FIRESTONE DR        ROSEVILLE  95678    CA     0   \n",
              "326                    2733 DANA LOOP  EL DORADO HILLS  95762    CA     0   \n",
              "327                9741 SADDLEBRED CT           WILTON  95693    CA     0   \n",
              "469             8491 CRYSTAL WALK CIR        ELK GROVE  95758    CA     0   \n",
              "477                6286 LONETREE BLVD          ROCKLIN  95765    CA     0   \n",
              "494             3072 VILLAGE PLAZA DR        ROSEVILLE  95747    CA     0   \n",
              "503              12241 CANYONLANDS DR   RANCHO CORDOVA  95742    CA     0   \n",
              "505                907 RIO ROBLES AVE       SACRAMENTO  95838    CA     0   \n",
              "..                                ...              ...    ...   ...   ...   \n",
              "600                 7 CRYSTALWOOD CIR          LINCOLN  95648    CA     0   \n",
              "601                 7 CRYSTALWOOD CIR          LINCOLN  95648    CA     0   \n",
              "602                 3 CRYSTALWOOD CIR          LINCOLN  95648    CA     0   \n",
              "604                   113 RINETTI WAY        RIO LINDA  95673    CA     0   \n",
              "686                      5890 TT TRAK       FORESTHILL  95631    CA     0   \n",
              "718                9967 HATHERTON WAY        ELK GROVE  95757    CA     0   \n",
              "737                     3569 SODA WAY       SACRAMENTO  95834    CA     0   \n",
              "743                6288 LONETREE BLVD          ROCKLIN  95765    CA     0   \n",
              "754                  6001 SHOO FLY RD      PLACERVILLE  95667    CA     0   \n",
              "755                   3040 PARKHAM DR        ROSEVILLE  95747    CA     0   \n",
              "757                 6007 MARYBELLE LN  SHINGLE SPRINGS  95682    CA     0   \n",
              "774                   8253 KEEGAN WAY        ELK GROVE  95624    CA     0   \n",
              "789            5222 COPPER SUNSET WAY   RANCHO CORDOVA  95742    CA     0   \n",
              "798                   3232 PARKHAM DR        ROSEVILLE  95747    CA     0   \n",
              "819                2274 IVY BRIDGE DR        ROSEVILLE  95747    CA     0   \n",
              "823                   201 KIRKLAND CT          LINCOLN  95648    CA     0   \n",
              "824               12075 APPLESBURY CT   RANCHO CORDOVA  95742    CA     0   \n",
              "826             5420 ALMOND FALLS WAY   RANCHO CORDOVA  95742    CA     0   \n",
              "828           1515 EL CAMINO VERDE DR          LINCOLN  95648    CA     0   \n",
              "836              1536 STONEY CROSS LN          LINCOLN  95648    CA     0   \n",
              "848                  200 HILLSFORD CT        ROSEVILLE  95747    CA     0   \n",
              "859                 4478 GREENBRAE RD          ROCKLIN  95677    CA     0   \n",
              "861            200 CRADLE MOUNTAIN CT  EL DORADO HILLS  95762    CA     0   \n",
              "862            2065 IMPRESSIONIST WAY  EL DORADO HILLS  95762    CA     0   \n",
              "888            3035 ESTEPA DR Unit 5C     CAMERON PARK  95682    CA     0   \n",
              "901          1530 TOPANGA LN Unit 204          LINCOLN  95648    CA     0   \n",
              "917                    501 POPLAR AVE  WEST SACRAMENTO  95691    CA     0   \n",
              "934          1550 TOPANGA LN Unit 207          LINCOLN  95648    CA     0   \n",
              "947             1525 PENNSYLVANIA AVE  WEST SACRAMENTO  95691    CA     0   \n",
              "970                     3557 SODA WAY       SACRAMENTO  95834    CA     0   \n",
              "\n",
              "     baths  sq__ft         type                     sale_date   price  \\\n",
              "73       0       0  Residential  Wed May 21 00:00:00 EDT 2008  206000   \n",
              "89       0       0  Residential  Wed May 21 00:00:00 EDT 2008  244500   \n",
              "100      0       0  Residential  Wed May 21 00:00:00 EDT 2008  263500   \n",
              "121      0       0  Residential  Wed May 21 00:00:00 EDT 2008  320000   \n",
              "126      0       0  Residential  Wed May 21 00:00:00 EDT 2008  339500   \n",
              "133      0       0  Residential  Wed May 21 00:00:00 EDT 2008  370000   \n",
              "147      0       0  Residential  Wed May 21 00:00:00 EDT 2008  445000   \n",
              "153      0       0  Residential  Wed May 21 00:00:00 EDT 2008  585000   \n",
              "169      0       0  Residential  Tue May 20 00:00:00 EDT 2008   97750   \n",
              "192      0       0        Condo  Tue May 20 00:00:00 EDT 2008  145000   \n",
              "234      0       0  Residential  Tue May 20 00:00:00 EDT 2008  215500   \n",
              "236      0       0        Condo  Tue May 20 00:00:00 EDT 2008  225000   \n",
              "248      0       0        Condo  Tue May 20 00:00:00 EDT 2008  240000   \n",
              "249      0       0  Residential  Tue May 20 00:00:00 EDT 2008  242000   \n",
              "253      0       0  Residential  Tue May 20 00:00:00 EDT 2008  250000   \n",
              "265      0       0  Residential  Tue May 20 00:00:00 EDT 2008  270000   \n",
              "268      0       0  Residential  Tue May 20 00:00:00 EDT 2008  270000   \n",
              "279      0       0        Condo  Tue May 20 00:00:00 EDT 2008  300000   \n",
              "285      0       0  Residential  Tue May 20 00:00:00 EDT 2008  306500   \n",
              "286      0       0  Residential  Tue May 20 00:00:00 EDT 2008  312500   \n",
              "308      0       0  Residential  Tue May 20 00:00:00 EDT 2008  425000   \n",
              "310      0       0  Residential  Tue May 20 00:00:00 EDT 2008  433500   \n",
              "324      0       0  Residential  Tue May 20 00:00:00 EDT 2008  500500   \n",
              "326      0       0  Residential  Tue May 20 00:00:00 EDT 2008  541000   \n",
              "327      0       0  Residential  Tue May 20 00:00:00 EDT 2008  560000   \n",
              "469      0       0  Residential  Mon May 19 00:00:00 EDT 2008  261000   \n",
              "477      0       0  Residential  Mon May 19 00:00:00 EDT 2008  274500   \n",
              "494      0       0  Residential  Mon May 19 00:00:00 EDT 2008  307000   \n",
              "503      0       0  Residential  Mon May 19 00:00:00 EDT 2008  331500   \n",
              "505      0       0  Residential  Mon May 19 00:00:00 EDT 2008  344755   \n",
              "..     ...     ...          ...                           ...     ...   \n",
              "600      0       0  Residential  Mon May 19 00:00:00 EDT 2008    4897   \n",
              "601      0       0  Residential  Mon May 19 00:00:00 EDT 2008    4897   \n",
              "602      0       0  Residential  Mon May 19 00:00:00 EDT 2008    4897   \n",
              "604      0       0  Residential  Fri May 16 00:00:00 EDT 2008   30000   \n",
              "686      0       0  Residential  Fri May 16 00:00:00 EDT 2008  194818   \n",
              "718      0       0  Residential  Fri May 16 00:00:00 EDT 2008  222500   \n",
              "737      0       0  Residential  Fri May 16 00:00:00 EDT 2008  247000   \n",
              "743      0       0  Residential  Fri May 16 00:00:00 EDT 2008  250000   \n",
              "754      0       0  Residential  Fri May 16 00:00:00 EDT 2008  270000   \n",
              "755      0       0  Residential  Fri May 16 00:00:00 EDT 2008  271000   \n",
              "757      0       0       Unkown  Fri May 16 00:00:00 EDT 2008  275000   \n",
              "774      0       0  Residential  Fri May 16 00:00:00 EDT 2008  298000   \n",
              "789      0       0  Residential  Fri May 16 00:00:00 EDT 2008  313000   \n",
              "798      0       0  Residential  Fri May 16 00:00:00 EDT 2008  325500   \n",
              "819      0       0  Residential  Fri May 16 00:00:00 EDT 2008  375000   \n",
              "823      0       0  Residential  Fri May 16 00:00:00 EDT 2008  389000   \n",
              "824      0       0  Residential  Fri May 16 00:00:00 EDT 2008  390000   \n",
              "826      0       0  Residential  Fri May 16 00:00:00 EDT 2008  396000   \n",
              "828      0       0  Residential  Fri May 16 00:00:00 EDT 2008  400000   \n",
              "836      0       0  Residential  Fri May 16 00:00:00 EDT 2008  433500   \n",
              "848      0       0  Residential  Fri May 16 00:00:00 EDT 2008  511000   \n",
              "859      0       0  Residential  Fri May 16 00:00:00 EDT 2008  600000   \n",
              "861      0       0  Residential  Fri May 16 00:00:00 EDT 2008  622500   \n",
              "862      0       0  Residential  Fri May 16 00:00:00 EDT 2008  680000   \n",
              "888      0       0        Condo  Thu May 15 00:00:00 EDT 2008  119000   \n",
              "901      0       0        Condo  Thu May 15 00:00:00 EDT 2008  138000   \n",
              "917      0       0  Residential  Thu May 15 00:00:00 EDT 2008  165000   \n",
              "934      0       0        Condo  Thu May 15 00:00:00 EDT 2008  188000   \n",
              "947      0       0  Residential  Thu May 15 00:00:00 EDT 2008  200100   \n",
              "970      0       0  Residential  Thu May 15 00:00:00 EDT 2008  224000   \n",
              "\n",
              "      latitude   longitude  \n",
              "73   38.631481 -121.501880  \n",
              "89   38.626671 -121.525970  \n",
              "100  38.553867 -121.219141  \n",
              "121  38.528575 -121.228600  \n",
              "126  38.602416 -121.542965  \n",
              "133  38.477200 -121.521500  \n",
              "147  38.420338 -121.363757  \n",
              "153  38.670947 -121.097727  \n",
              "169  38.492287 -121.100032  \n",
              "192  38.423251 -121.444489  \n",
              "234  38.626582 -121.521510  \n",
              "236  38.588816 -121.408549  \n",
              "248  38.645700 -121.119700  \n",
              "249  38.437420 -121.372876  \n",
              "253  38.676658 -121.528128  \n",
              "265  38.676937 -121.529244  \n",
              "268  38.647961 -121.543162  \n",
              "279  38.625289 -121.260286  \n",
              "285  38.772771 -121.364877  \n",
              "286  38.668692 -121.545490  \n",
              "308  38.527502 -121.233492  \n",
              "310  38.650221 -121.551704  \n",
              "324  38.770153 -121.300039  \n",
              "326  38.628459 -121.055078  \n",
              "327  38.408841 -121.198039  \n",
              "469  38.416916 -121.407554  \n",
              "477  38.805036 -121.293608  \n",
              "494  38.773094 -121.365905  \n",
              "503  38.557293 -121.217611  \n",
              "505  38.664765 -121.445006  \n",
              "..         ...         ...  \n",
              "600  38.885962 -121.289436  \n",
              "601  38.885962 -121.289436  \n",
              "602  38.886093 -121.289584  \n",
              "604  38.687172 -121.463933  \n",
              "686  39.020808 -120.821518  \n",
              "718  38.305200 -121.403300  \n",
              "737  38.631139 -121.501879  \n",
              "743  38.804993 -121.293609  \n",
              "754  38.813546 -120.809254  \n",
              "755  38.770835 -121.366996  \n",
              "757  38.643470 -120.888183  \n",
              "774  38.446286 -121.400817  \n",
              "789  38.529181 -121.224755  \n",
              "798  38.772821 -121.364821  \n",
              "819  38.778561 -121.362008  \n",
              "823  38.867125 -121.319085  \n",
              "824  38.535700 -121.224900  \n",
              "826  38.527384 -121.233531  \n",
              "828  38.904869 -121.320750  \n",
              "836  38.860007 -121.310946  \n",
              "848  38.780051 -121.378718  \n",
              "859  38.781134 -121.222801  \n",
              "861  38.647800 -121.030900  \n",
              "862  38.682961 -121.033253  \n",
              "888  38.681393 -120.996713  \n",
              "901  38.884150 -121.270277  \n",
              "917  38.584526 -121.534609  \n",
              "934  38.884170 -121.270222  \n",
              "947  38.569943 -121.527539  \n",
              "970  38.631026 -121.501879  \n",
              "\n",
              "[108 rows x 12 columns]"
            ]
          },
          "metadata": {
            "tags": []
          },
          "execution_count": 30
        }
      ]
    },
    {
      "cell_type": "markdown",
      "metadata": {
        "id": "EtcKqXHZhXSC",
        "colab_type": "text"
      },
      "source": [
        "**In above data, we can see both bedrooms and bathrooms are 0. Since there are over 100 houses which don't have bedroom and bathroom, it is too many to be data entry mistake. I assume they are just land and haven't been built anything yet. So I will keep these data**"
      ]
    },
    {
      "cell_type": "markdown",
      "metadata": {
        "id": "YfYZdJjPj1N2",
        "colab_type": "text"
      },
      "source": [
        "**Then I will check all the negative values for price and square feet**"
      ]
    },
    {
      "cell_type": "code",
      "metadata": {
        "id": "6CdEqQFHhQIf",
        "colab_type": "code",
        "outputId": "5d381e0d-8a3f-4d7f-bae2-3be1023476fa",
        "colab": {
          "base_uri": "https://localhost:8080/",
          "height": 80
        }
      },
      "source": [
        "housing[housing['price']<0]"
      ],
      "execution_count": 0,
      "outputs": [
        {
          "output_type": "execute_result",
          "data": {
            "text/html": [
              "<div>\n",
              "<style scoped>\n",
              "    .dataframe tbody tr th:only-of-type {\n",
              "        vertical-align: middle;\n",
              "    }\n",
              "\n",
              "    .dataframe tbody tr th {\n",
              "        vertical-align: top;\n",
              "    }\n",
              "\n",
              "    .dataframe thead th {\n",
              "        text-align: right;\n",
              "    }\n",
              "</style>\n",
              "<table border=\"1\" class=\"dataframe\">\n",
              "  <thead>\n",
              "    <tr style=\"text-align: right;\">\n",
              "      <th></th>\n",
              "      <th>street</th>\n",
              "      <th>city</th>\n",
              "      <th>zip</th>\n",
              "      <th>state</th>\n",
              "      <th>beds</th>\n",
              "      <th>baths</th>\n",
              "      <th>sq__ft</th>\n",
              "      <th>type</th>\n",
              "      <th>sale_date</th>\n",
              "      <th>price</th>\n",
              "      <th>latitude</th>\n",
              "      <th>longitude</th>\n",
              "    </tr>\n",
              "  </thead>\n",
              "  <tbody>\n",
              "    <tr>\n",
              "      <th>703</th>\n",
              "      <td>1900 DANBROOK DR</td>\n",
              "      <td>SACRAMENTO</td>\n",
              "      <td>95835</td>\n",
              "      <td>AC</td>\n",
              "      <td>1</td>\n",
              "      <td>1</td>\n",
              "      <td>-984</td>\n",
              "      <td>Condo</td>\n",
              "      <td>Fri May 16 00:00:00 EDT 2008</td>\n",
              "      <td>-210944</td>\n",
              "      <td>-121.503471</td>\n",
              "      <td>38.668433</td>\n",
              "    </tr>\n",
              "  </tbody>\n",
              "</table>\n",
              "</div>"
            ],
            "text/plain": [
              "               street        city    zip state  beds  baths  sq__ft   type  \\\n",
              "703  1900 DANBROOK DR  SACRAMENTO  95835    AC     1      1    -984  Condo   \n",
              "\n",
              "                        sale_date   price    latitude  longitude  \n",
              "703  Fri May 16 00:00:00 EDT 2008 -210944 -121.503471  38.668433  "
            ]
          },
          "metadata": {
            "tags": []
          },
          "execution_count": 9
        }
      ]
    },
    {
      "cell_type": "code",
      "metadata": {
        "id": "GA0xwVxLkDgp",
        "colab_type": "code",
        "outputId": "49be2852-dcaf-487f-861c-d2a81c0451af",
        "colab": {
          "base_uri": "https://localhost:8080/",
          "height": 80
        }
      },
      "source": [
        "housing[housing['sq__ft']<0]"
      ],
      "execution_count": 0,
      "outputs": [
        {
          "output_type": "execute_result",
          "data": {
            "text/html": [
              "<div>\n",
              "<style scoped>\n",
              "    .dataframe tbody tr th:only-of-type {\n",
              "        vertical-align: middle;\n",
              "    }\n",
              "\n",
              "    .dataframe tbody tr th {\n",
              "        vertical-align: top;\n",
              "    }\n",
              "\n",
              "    .dataframe thead th {\n",
              "        text-align: right;\n",
              "    }\n",
              "</style>\n",
              "<table border=\"1\" class=\"dataframe\">\n",
              "  <thead>\n",
              "    <tr style=\"text-align: right;\">\n",
              "      <th></th>\n",
              "      <th>street</th>\n",
              "      <th>city</th>\n",
              "      <th>zip</th>\n",
              "      <th>state</th>\n",
              "      <th>beds</th>\n",
              "      <th>baths</th>\n",
              "      <th>sq__ft</th>\n",
              "      <th>type</th>\n",
              "      <th>sale_date</th>\n",
              "      <th>price</th>\n",
              "      <th>latitude</th>\n",
              "      <th>longitude</th>\n",
              "    </tr>\n",
              "  </thead>\n",
              "  <tbody>\n",
              "    <tr>\n",
              "      <th>703</th>\n",
              "      <td>1900 DANBROOK DR</td>\n",
              "      <td>SACRAMENTO</td>\n",
              "      <td>95835</td>\n",
              "      <td>AC</td>\n",
              "      <td>1</td>\n",
              "      <td>1</td>\n",
              "      <td>-984</td>\n",
              "      <td>Condo</td>\n",
              "      <td>Fri May 16 00:00:00 EDT 2008</td>\n",
              "      <td>-210944</td>\n",
              "      <td>-121.503471</td>\n",
              "      <td>38.668433</td>\n",
              "    </tr>\n",
              "  </tbody>\n",
              "</table>\n",
              "</div>"
            ],
            "text/plain": [
              "               street        city    zip state  beds  baths  sq__ft   type  \\\n",
              "703  1900 DANBROOK DR  SACRAMENTO  95835    AC     1      1    -984  Condo   \n",
              "\n",
              "                        sale_date   price    latitude  longitude  \n",
              "703  Fri May 16 00:00:00 EDT 2008 -210944 -121.503471  38.668433  "
            ]
          },
          "metadata": {
            "tags": []
          },
          "execution_count": 10
        }
      ]
    },
    {
      "cell_type": "markdown",
      "metadata": {
        "id": "z0ngNh4fkT0L",
        "colab_type": "text"
      },
      "source": [
        "**I found a data entry issue. The state was entered improperly as \"AC\". Thus, I decide to drop this data.**"
      ]
    },
    {
      "cell_type": "code",
      "metadata": {
        "id": "jOudEy51k6K9",
        "colab_type": "code",
        "colab": {}
      },
      "source": [
        "housing.drop(703, inplace=True)"
      ],
      "execution_count": 0,
      "outputs": []
    },
    {
      "cell_type": "markdown",
      "metadata": {
        "id": "TUaPRMIagyGF",
        "colab_type": "text"
      },
      "source": [
        "### 3. Our goal will be to predict the price. List variables that you think qualify as predictors of price in a SLR model. \n",
        "\n",
        "**For EACH of these variables you believe to be valid potential predictors in an SLR model, generate a sns.lmplot showing the relationship between the the feature variable and target variable.**"
      ]
    },
    {
      "cell_type": "markdown",
      "metadata": {
        "id": "M_FSxGQvm1qP",
        "colab_type": "text"
      },
      "source": [
        "** Potential predictors in an SLR model are:  **\n",
        "\n",
        "\n",
        "\n",
        "*   Beds\n",
        "*   Baths\n",
        "*   Sq__ft\n",
        "\n"
      ]
    },
    {
      "cell_type": "markdown",
      "metadata": {
        "id": "VGehmYMupb3a",
        "colab_type": "text"
      },
      "source": [
        "**Sns plot for the relationship between Beds and Price:**\n",
        "\n"
      ]
    },
    {
      "cell_type": "code",
      "metadata": {
        "id": "Z_J39pKnqrLO",
        "colab_type": "code",
        "colab": {}
      },
      "source": [
        "# A price is the target, others are features. Our goal is to find the best feature\n",
        "import seaborn as sns\n",
        "import matplotlib.pyplot as plt\n",
        "% matplotlib inline"
      ],
      "execution_count": 0,
      "outputs": []
    },
    {
      "cell_type": "code",
      "metadata": {
        "id": "E58mRhl4pceA",
        "colab_type": "code",
        "outputId": "c51e6442-7046-4c46-ce82-5d203275980c",
        "colab": {
          "base_uri": "https://localhost:8080/",
          "height": 369
        }
      },
      "source": [
        "sns.lmplot(x='beds', y='price', data=housing)\n",
        "plt.show()"
      ],
      "execution_count": 0,
      "outputs": [
        {
          "output_type": "display_data",
          "data": {
            "image/png": "[encoded data removed]",
            "text/plain": [
              "<Figure size 360x360 with 1 Axes>"
            ]
          },
          "metadata": {
            "tags": []
          }
        }
      ]
    },
    {
      "cell_type": "markdown",
      "metadata": {
        "id": "DNA6bUpfBJjC",
        "colab_type": "text"
      },
      "source": [
        "**Housing price increases as the number of beds increases. Note: number of beds is a discrete number**"
      ]
    },
    {
      "cell_type": "markdown",
      "metadata": {
        "id": "NZJNHz0OpfgO",
        "colab_type": "text"
      },
      "source": [
        "**Sns plot for the relationship between Baths and Price:**"
      ]
    },
    {
      "cell_type": "code",
      "metadata": {
        "id": "mv19RPOypf6d",
        "colab_type": "code",
        "outputId": "3ca2c086-2ca4-4f93-e5e0-2c01a696b439",
        "colab": {
          "base_uri": "https://localhost:8080/",
          "height": 369
        }
      },
      "source": [
        "sns.lmplot(x='baths', y='price', data=housing)\n",
        "plt.show()"
      ],
      "execution_count": 0,
      "outputs": [
        {
          "output_type": "display_data",
          "data": {
            "image/png": "[encoded data removed]",
            "text/plain": [
              "<Figure size 360x360 with 1 Axes>"
            ]
          },
          "metadata": {
            "tags": []
          }
        }
      ]
    },
    {
      "cell_type": "markdown",
      "metadata": {
        "id": "7ZM3E75mB1fw",
        "colab_type": "text"
      },
      "source": [
        "**Housing price increases as the number of baths increases. Note: number of baths is a discrete number**"
      ]
    },
    {
      "cell_type": "markdown",
      "metadata": {
        "id": "pr82rAJnplqq",
        "colab_type": "text"
      },
      "source": [
        "**Sns plot for the  relationship between Sq__ft and Price:**"
      ]
    },
    {
      "cell_type": "code",
      "metadata": {
        "id": "IYUKlOrIgyGG",
        "colab_type": "code",
        "outputId": "c82f2663-9093-4db5-d147-e0272f3aa78f",
        "colab": {
          "base_uri": "https://localhost:8080/",
          "height": 369
        }
      },
      "source": [
        "sns.lmplot(x='sq__ft', y='price', data=housing)\n",
        "plt.show()"
      ],
      "execution_count": 0,
      "outputs": [
        {
          "output_type": "display_data",
          "data": {
            "image/png": "[encoded data removed]",
            "text/plain": [
              "<Figure size 360x360 with 1 Axes>"
            ]
          },
          "metadata": {
            "tags": []
          }
        }
      ]
    },
    {
      "cell_type": "markdown",
      "metadata": {
        "id": "_fAJ7Cq7COBa",
        "colab_type": "text"
      },
      "source": [
        "**Not counting the unfinished housing (square feet =0), price increases when square feet increases.**"
      ]
    },
    {
      "cell_type": "markdown",
      "metadata": {
        "id": "QW6lgBXagyGI",
        "colab_type": "text"
      },
      "source": [
        "### 4. Which SINGLE variable would be the best predictor of Y in a SLR model? Why?"
      ]
    },
    {
      "cell_type": "markdown",
      "metadata": {
        "id": "OxHKV88tFtWk",
        "colab_type": "text"
      },
      "source": [
        "Sq__ft is a better predictor than beds and baths because sq__ft is continuous while beds and baths are discrete values. Nevertheless, there is probably strong correlation between beds/ baths and sqr_ft. This trend will be stronger if we remove the 0 value data in beds and baths."
      ]
    },
    {
      "cell_type": "markdown",
      "metadata": {
        "id": "gV51xEZegyGL",
        "colab_type": "text"
      },
      "source": [
        "### 5. Build a function that will take in two lists `Y` and `X` and returns the intercept and slope coefficients that minimize SSE. \n",
        "\n",
        "`Y` is the target variable and `X` is the predictor variable.\n",
        "\n",
        "- **Test your function on price and the variable you determined was the best predictor in Problem 4.**\n",
        "- **Report the slope and intercept.**\n",
        "- **Report its score.**"
      ]
    },
    {
      "cell_type": "code",
      "metadata": {
        "id": "YYZM3t7QgyGL",
        "colab_type": "code",
        "colab": {}
      },
      "source": [
        "# Test your function on price and the variable you determined was the best predictor in Problem 4.\n",
        "#create X and y\n",
        "featyre_col = ['sq__ft']\n",
        "X = housing[featyre_col]\n",
        "y=housing.price"
      ],
      "execution_count": 0,
      "outputs": []
    },
    {
      "cell_type": "markdown",
      "metadata": {
        "id": "Ty7ey3LHKJ10",
        "colab_type": "text"
      },
      "source": [
        "Check X's shape:"
      ]
    },
    {
      "cell_type": "code",
      "metadata": {
        "id": "lgD_Jl-GKN6w",
        "colab_type": "code",
        "outputId": "f5d29c12-830a-4f87-91e6-617125fa0a6b",
        "colab": {
          "base_uri": "https://localhost:8080/",
          "height": 34
        }
      },
      "source": [
        "print(X.shape)"
      ],
      "execution_count": 0,
      "outputs": [
        {
          "output_type": "stream",
          "text": [
            "(984, 1)\n"
          ],
          "name": "stdout"
        }
      ]
    },
    {
      "cell_type": "markdown",
      "metadata": {
        "id": "VtOC0upOKTHZ",
        "colab_type": "text"
      },
      "source": [
        "Check y's shape:"
      ]
    },
    {
      "cell_type": "code",
      "metadata": {
        "id": "PJ-CkrnwKWPK",
        "colab_type": "code",
        "outputId": "36f5e854-b568-422f-e0be-135428250a41",
        "colab": {
          "base_uri": "https://localhost:8080/",
          "height": 34
        }
      },
      "source": [
        "print(y.shape)"
      ],
      "execution_count": 0,
      "outputs": [
        {
          "output_type": "stream",
          "text": [
            "(984,)\n"
          ],
          "name": "stdout"
        }
      ]
    },
    {
      "cell_type": "markdown",
      "metadata": {
        "id": "VR6NGcXhIftq",
        "colab_type": "text"
      },
      "source": [
        "<a id=\"scikit-learns--step-modeling-pattern\"></a>\n",
        "### scikit-learn's Five-Step Modeling Pattern"
      ]
    },
    {
      "cell_type": "markdown",
      "metadata": {
        "id": "W2Tdk5jsIo-9",
        "colab_type": "text"
      },
      "source": [
        "**Step 1:** Import the class."
      ]
    },
    {
      "cell_type": "code",
      "metadata": {
        "id": "x7HxVCKeF8d8",
        "colab_type": "code",
        "colab": {}
      },
      "source": [
        "from sklearn.linear_model import LinearRegression"
      ],
      "execution_count": 0,
      "outputs": []
    },
    {
      "cell_type": "markdown",
      "metadata": {
        "id": "rnsPAEONIvIC",
        "colab_type": "text"
      },
      "source": [
        "**Step 2:** \"Instantiate\" the \"estimator.\""
      ]
    },
    {
      "cell_type": "code",
      "metadata": {
        "id": "34AUPJl_Ix6Y",
        "colab_type": "code",
        "outputId": "35c4cc38-00e5-4627-b82b-6966064203af",
        "colab": {
          "base_uri": "https://localhost:8080/",
          "height": 34
        }
      },
      "source": [
        "lr = LinearRegression()\n",
        "type(lr)"
      ],
      "execution_count": 0,
      "outputs": [
        {
          "output_type": "execute_result",
          "data": {
            "text/plain": [
              "sklearn.linear_model.base.LinearRegression"
            ]
          },
          "metadata": {
            "tags": []
          },
          "execution_count": 23
        }
      ]
    },
    {
      "cell_type": "markdown",
      "metadata": {
        "id": "lXfFgGMPJIYc",
        "colab_type": "text"
      },
      "source": [
        "**Step 3:** Fit the model with data (aka \"model training\")."
      ]
    },
    {
      "cell_type": "code",
      "metadata": {
        "id": "9QauBucQJMK-",
        "colab_type": "code",
        "outputId": "1b88a957-d63e-4c87-fea5-bdc53ebf75b1",
        "colab": {
          "base_uri": "https://localhost:8080/",
          "height": 51
        }
      },
      "source": [
        "lr.fit(X, y)"
      ],
      "execution_count": 0,
      "outputs": [
        {
          "output_type": "execute_result",
          "data": {
            "text/plain": [
              "LinearRegression(copy_X=True, fit_intercept=True, n_jobs=None,\n",
              "         normalize=False)"
            ]
          },
          "metadata": {
            "tags": []
          },
          "execution_count": 24
        }
      ]
    },
    {
      "cell_type": "markdown",
      "metadata": {
        "id": "p7AAC6Y0JQYR",
        "colab_type": "text"
      },
      "source": [
        "**Step 4:** Predict the response for a new observation."
      ]
    },
    {
      "cell_type": "code",
      "metadata": {
        "id": "HNuDTgn-JQ6F",
        "colab_type": "code",
        "outputId": "078d6f49-5ec9-4735-9a8a-1d9c4317bd0b",
        "colab": {
          "base_uri": "https://localhost:8080/",
          "height": 34
        }
      },
      "source": [
        "lr.predict(np.array([836]).reshape(1,-1))"
      ],
      "execution_count": 0,
      "outputs": [
        {
          "output_type": "execute_result",
          "data": {
            "text/plain": [
              "array([208213.31869018])"
            ]
          },
          "metadata": {
            "tags": []
          },
          "execution_count": 25
        }
      ]
    },
    {
      "cell_type": "markdown",
      "metadata": {
        "id": "-x3-Aw2XLCLI",
        "colab_type": "text"
      },
      "source": [
        "**Step 5:** Evaluate the trained model."
      ]
    },
    {
      "cell_type": "code",
      "metadata": {
        "id": "FEq4MO-eLErg",
        "colab_type": "code",
        "outputId": "c143b984-8753-47fb-bcda-1be567de2fd0",
        "colab": {
          "base_uri": "https://localhost:8080/",
          "height": 34
        }
      },
      "source": [
        "lr.score(X,y)"
      ],
      "execution_count": 0,
      "outputs": [
        {
          "output_type": "execute_result",
          "data": {
            "text/plain": [
              "0.11146324480165415"
            ]
          },
          "metadata": {
            "tags": []
          },
          "execution_count": 26
        }
      ]
    },
    {
      "cell_type": "markdown",
      "metadata": {
        "id": "3nwv5s24MwH4",
        "colab_type": "text"
      },
      "source": [
        "**This score is close to 0, so this trained model is not accurate.**"
      ]
    },
    {
      "cell_type": "markdown",
      "metadata": {
        "id": "YmaqUZ_AL7CI",
        "colab_type": "text"
      },
      "source": [
        "\n",
        "\n",
        " **Report the slope and intercept**\n"
      ]
    },
    {
      "cell_type": "code",
      "metadata": {
        "id": "5NGNBi6TMEn1",
        "colab_type": "code",
        "outputId": "ab553dda-b5da-487c-b38e-7cba6dc87ca7",
        "colab": {
          "base_uri": "https://localhost:8080/",
          "height": 51
        }
      },
      "source": [
        "print('The optimal Y intercept is ',lr.intercept_)\n",
        "print('The optimal slope is ',lr.coef_)"
      ],
      "execution_count": 0,
      "outputs": [
        {
          "output_type": "stream",
          "text": [
            "The optimal Y intercept is  162938.7375609862\n",
            "The optimal slope is  [54.15619752]\n"
          ],
          "name": "stdout"
        }
      ]
    },
    {
      "cell_type": "markdown",
      "metadata": {
        "id": "AvOWkxpZgyGO",
        "colab_type": "text"
      },
      "source": [
        "### 6. Interpret the intercept. Interpret the slope."
      ]
    },
    {
      "cell_type": "markdown",
      "metadata": {
        "id": "rX1sdl1BMCbu",
        "colab_type": "text"
      },
      "source": [
        "\n",
        "Intercept is the value of y when all independent variables are 0.  The estimated price is $162938.74when the square feet is 0 "
      ]
    },
    {
      "cell_type": "markdown",
      "metadata": {
        "id": "rIvWeJA9OviR",
        "colab_type": "text"
      },
      "source": [
        "Slope is an increase of 1 sq__ft is associated with increasing the housing price by $54.16"
      ]
    },
    {
      "cell_type": "markdown",
      "metadata": {
        "id": "h0w3DFrkgyGS",
        "colab_type": "text"
      },
      "source": [
        "### 7. Give a real life example of how this model could help people in prediction. Also give an example that the model can be used for inference purpose. You should consider non-technical people as users in your example.\n",
        "\n",
        "**Be sure to make it clear which example is associated with prediction and which is associated with inference.**"
      ]
    },
    {
      "cell_type": "markdown",
      "metadata": {
        "id": "fe2icaefP0VU",
        "colab_type": "text"
      },
      "source": [
        "**Real life example**\n",
        "\n",
        "A real estate agent wants to estimate how the square feet affect the housing price in Sacramento area based on this model using this data"
      ]
    },
    {
      "cell_type": "markdown",
      "metadata": {
        "id": "nEcL-tRGQrpH",
        "colab_type": "text"
      },
      "source": [
        "**What can we infer:**\n",
        "\n",
        "A family want to buy a house. They want to understand what characteristics of a house and what areas are associated with perceived value. They have some hypothesis and they can use the model to test their hypothesis."
      ]
    },
    {
      "cell_type": "markdown",
      "metadata": {
        "id": "bSvS34TsgyGU",
        "colab_type": "text"
      },
      "source": [
        "### 8: Using the model you came up with in Problem 5, calculate the residuals (MSE) and plot the targets vs. the prediction with the linear regression line."
      ]
    },
    {
      "cell_type": "code",
      "metadata": {
        "id": "r8GBzp1fgyGV",
        "colab_type": "code",
        "outputId": "d97e99aa-d69c-45e1-8df9-a459db0a4b9d",
        "colab": {
          "base_uri": "https://localhost:8080/",
          "height": 68
        }
      },
      "source": [
        "# A::MSE, RMSE\n",
        "from sklearn import metrics\n",
        "import numpy as np\n",
        "print('MAE:', metrics.mean_absolute_error(y, lr.predict(X)))\n",
        "print('MSE:', metrics.mean_squared_error(y, lr.predict(X)))\n",
        "print('RMSE:', np.sqrt(metrics.mean_squared_error(y, lr.predict(X))))"
      ],
      "execution_count": 0,
      "outputs": [
        {
          "output_type": "stream",
          "text": [
            "MAE: 95953.50544511034\n",
            "MSE: 17010643325.483362\n",
            "RMSE: 130424.85700771675\n"
          ],
          "name": "stdout"
        }
      ]
    },
    {
      "cell_type": "markdown",
      "metadata": {
        "id": "RI1AvZNAV-mX",
        "colab_type": "text"
      },
      "source": [
        "Since MSE is so large, this is not good"
      ]
    },
    {
      "cell_type": "markdown",
      "metadata": {
        "id": "IUxAglNDVB__",
        "colab_type": "text"
      },
      "source": [
        "**Plot the target vs. the prediction with the linear regression line**"
      ]
    },
    {
      "cell_type": "code",
      "metadata": {
        "id": "dSkrOdNgQ-oI",
        "colab_type": "code",
        "outputId": "15bca06a-da67-421b-b1ac-8b6b178b99d5",
        "colab": {
          "base_uri": "https://localhost:8080/",
          "height": 296
        }
      },
      "source": [
        "predictions  =  lr.predict(X)\n",
        "score        =  lr.score(X,y)\n",
        "housing['predictions'] = predictions\n",
        "\n",
        "ax1 = housing.plot(kind='scatter',x='sq__ft', y='price', color='black')\n",
        "housing.plot(kind='line',x='sq__ft', y='predictions', color='red',ax=ax1)"
      ],
      "execution_count": 0,
      "outputs": [
        {
          "output_type": "execute_result",
          "data": {
            "text/plain": [
              "<matplotlib.axes._subplots.AxesSubplot at 0x7f5b9df8da58>"
            ]
          },
          "metadata": {
            "tags": []
          },
          "execution_count": 29
        },
        {
          "output_type": "display_data",
          "data": {
            "image/png": "[encoded data removed]",
            "text/plain": [
              "<Figure size 432x288 with 1 Axes>"
            ]
          },
          "metadata": {
            "tags": []
          }
        }
      ]
    },
    {
      "cell_type": "markdown",
      "metadata": {
        "id": "UYbsDkAwKS5a",
        "colab_type": "text"
      },
      "source": [
        "**The scatter plot is actual values and the line is predictions. The vertical distance from the line is the error. The 0 square feet data are houses that were not built**"
      ]
    },
    {
      "cell_type": "code",
      "metadata": {
        "id": "VHAnhSw1XBAs",
        "colab_type": "code",
        "outputId": "caf46299-1f18-477b-eb28-aad100f799fc",
        "colab": {
          "base_uri": "https://localhost:8080/",
          "height": 592
        }
      },
      "source": [
        "# Plot with residuals\n",
        "fig = plt.figure(figsize=(10,10))\n",
        "\n",
        "# get the axis of that figure\n",
        "ax = plt.gca()\n",
        "\n",
        "# plot a scatter plot on it with our data\n",
        "ax.scatter(x= housing['sq__ft'], y=housing['price'], c='k')\n",
        "ax.plot(housing['sq__ft'], housing['predictions'], color='r');\n",
        "\n",
        "# iterate over predictions\n",
        "for _, row in housing.iterrows():\n",
        "    plt.plot((row['sq__ft'], row['sq__ft']), (row['price'], row['predictions']), 'b-')"
      ],
      "execution_count": 0,
      "outputs": [
        {
          "output_type": "display_data",
          "data": {
            "image/png": "[encoded data removed]",
            "text/plain": [
              "<Figure size 720x720 with 1 Axes>"
            ]
          },
          "metadata": {
            "tags": []
          }
        }
      ]
    },
    {
      "cell_type": "markdown",
      "metadata": {
        "id": "07KU2ZNEMYfh",
        "colab_type": "text"
      },
      "source": [
        "**Above is residuals plot. **"
      ]
    },
    {
      "cell_type": "markdown",
      "metadata": {
        "id": "r7dVeIWAMxc3",
        "colab_type": "text"
      },
      "source": [
        "**Predictions VS True target value**"
      ]
    },
    {
      "cell_type": "code",
      "metadata": {
        "id": "M2C7un4EZSrH",
        "colab_type": "code",
        "outputId": "a0211f3b-2229-4527-ede0-eca63964906c",
        "colab": {
          "base_uri": "https://localhost:8080/",
          "height": 386
        }
      },
      "source": [
        "sns.lmplot(x='price', y='predictions', data=housing)"
      ],
      "execution_count": 0,
      "outputs": [
        {
          "output_type": "execute_result",
          "data": {
            "text/plain": [
              "<seaborn.axisgrid.FacetGrid at 0x7f5b9e465b70>"
            ]
          },
          "metadata": {
            "tags": []
          },
          "execution_count": 31
        },
        {
          "output_type": "display_data",
          "data": {
            "image/png": "[encoded data removed]",
            "text/plain": [
              "<Figure size 360x360 with 1 Axes>"
            ]
          },
          "metadata": {
            "tags": []
          }
        }
      ]
    },
    {
      "cell_type": "markdown",
      "metadata": {
        "id": "k42-71hkNDuB",
        "colab_type": "text"
      },
      "source": [
        "The x-axis shows the actual housing price, while the y-axis is the predicted housing price. As the actual price get larger, the prediction error get larger. The error is mainly due to including houses that were not built (sq__ft = 0). "
      ]
    }
  ]
}